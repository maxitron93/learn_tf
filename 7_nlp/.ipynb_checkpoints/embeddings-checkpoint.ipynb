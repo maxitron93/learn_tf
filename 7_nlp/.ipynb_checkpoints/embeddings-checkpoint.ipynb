{
 "cells": [
  {
   "cell_type": "code",
   "execution_count": 1,
   "metadata": {},
   "outputs": [],
   "source": [
    "# Import the libraries\n",
    "import tensorflow as tf\n",
    "import pandas as pd\n",
    "import numpy as np\n",
    "from tensorflow.keras.preprocessing.text import Tokenizer\n",
    "from tensorflow.keras.preprocessing.sequence import pad_sequences\n",
    "from tensorflow.keras.layers import Input, Embedding, LSTM, Dense, GlobalMaxPooling1D\n",
    "from tensorflow.keras.models import Model\n",
    "from sklearn.model_selection import train_test_split\n",
    "import matplotlib.pyplot as plt\n",
    "from sklearn.metrics import confusion_matrix\n",
    "import itertools"
   ]
  },
  {
   "cell_type": "code",
   "execution_count": 2,
   "metadata": {},
   "outputs": [],
   "source": [
    "# Create function for confusion matrix\n",
    "def plot_confusion_matrix(cm, classes, normalize=False,title='Confusion Matrix', cmap=plt.cm.Blues):\n",
    "    \"\"\"\n",
    "    This function prints and plots the confusion matrix.\n",
    "    Normazilation can be apploed by setting 'normalize=True'\n",
    "    \"\"\"\n",
    "    if normalize:\n",
    "        cm = cm.astype('float') / cm.sum(axis=1)[:, np.newaxis]\n",
    "        print('Normalized confusion matrix')\n",
    "    else:\n",
    "        print('Confusion matrix, without Normalization')\n",
    "    \n",
    "    print(cm)\n",
    "    \n",
    "    plt.imshow(cm, interpolation='nearest', cmap=cmap)\n",
    "    plt.title(title)\n",
    "    plt.colorbar()\n",
    "    tick_marks = np.arange(len(classes))\n",
    "    plt.xticks(tick_marks, classes, rotation=45)\n",
    "    plt.yticks(tick_marks, classes)\n",
    "    \n",
    "    fmt = '.2f' if normalize else 'd'\n",
    "    thresh = cm.max() / 2.0\n",
    "    for i, j in itertools.product(range(cm.shape[0]), range(cm.shape[1])):\n",
    "        plt.text(j, i, format(cm[i, j], fmt),\n",
    "                 horizontalalignment='center',\n",
    "                 color='white' if cm[i, j] > thresh else 'black')\n",
    "    \n",
    "    plt.tight_layout()\n",
    "    plt.ylabel('True label')\n",
    "    plt.xlabel('Predicted label')\n",
    "    plt.show()"
   ]
  },
  {
   "cell_type": "markdown",
   "metadata": {},
   "source": [
    "### Import and process the data"
   ]
  },
  {
   "cell_type": "code",
   "execution_count": 3,
   "metadata": {},
   "outputs": [
    {
     "data": {
      "text/plain": [
       "50000"
      ]
     },
     "execution_count": 3,
     "metadata": {},
     "output_type": "execute_result"
    }
   ],
   "source": [
    "# Import the data\n",
    "# labeled_data = pd.read_csv('../../labeled_data.csv')[0:1000]\n",
    "labeled_data = pd.read_csv('../../labeled_data.csv')\n",
    "unlabeled_data_text = pd.read_csv('../../unlabeled_data.csv')[0:1000]\n",
    "test_data_text = pd.read_csv('../../test_data.csv')[0:1000]\n",
    "\n",
    "# Get just the text data from the labeled data\n",
    "labeled_data_text = labeled_data[['text']]\n",
    "labeled_data_text.head(n=5)\n",
    "\n",
    "# Concatenate all the text data\n",
    "data_to_use = [labeled_data_text, unlabeled_data_text, test_data_text]\n",
    "data_to_use = [labeled_data_text]\n",
    "text_df = pd.concat(data_to_use)\n",
    "\n",
    "# Convert from df to list\n",
    "text = text_df['text'].tolist()\n",
    "\n",
    "# Confirm the length\n",
    "len(text)"
   ]
  },
  {
   "cell_type": "code",
   "execution_count": 4,
   "metadata": {},
   "outputs": [],
   "source": [
    "# Tokenize the text\n",
    "tokenizer = Tokenizer(num_words=10000)\n",
    "tokenizer.fit_on_texts(text)\n",
    "\n",
    "# Create a squence from the tokens\n",
    "sequences = tokenizer.texts_to_sequences(text)"
   ]
  },
  {
   "cell_type": "code",
   "execution_count": 5,
   "metadata": {},
   "outputs": [
    {
     "name": "stdout",
     "output_type": "stream",
     "text": [
      "[1, 155, 3815, 12, 6, 36, 22, 29, 291, 10, 5, 157, 65, 22, 338, 122, 29, 22, 1982, 144, 318, 6, 15, 40, 1729, 5, 667, 5492, 14, 9, 9043, 72, 2336, 10, 1, 480, 1433, 6, 117, 804, 12, 14, 6, 6, 3, 41, 14, 15, 1032, 1, 2050, 714, 19, 414, 156, 11, 1, 371, 6, 6, 1662, 1290, 22, 82, 113, 1256, 11, 1020, 4, 3537, 5, 157, 16, 2183, 69, 36, 1, 291, 688, 12, 533, 1065, 22, 23, 4, 408, 50, 4, 3537, 6, 6, 6, 18, 34, 100, 83, 56, 370, 11, 13, 1439, 238, 22, 2829, 6698, 441, 10, 5, 225, 2514, 6, 6, 467, 927, 3, 159, 6203, 19, 2252, 6, 6, 1573]\n"
     ]
    }
   ],
   "source": [
    "# Have a look at the first sequence\n",
    "print(sequences[0])"
   ]
  },
  {
   "cell_type": "code",
   "execution_count": 6,
   "metadata": {},
   "outputs": [],
   "source": [
    "# Have a look at the word to index mapping\n",
    "# tokenizer.word_index"
   ]
  },
  {
   "cell_type": "code",
   "execution_count": 7,
   "metadata": {},
   "outputs": [
    {
     "name": "stdout",
     "output_type": "stream",
     "text": [
      "Vocab size: 64249\n"
     ]
    }
   ],
   "source": [
    "# Have a look at the vocab size\n",
    "VOCAB_SIZE = len(tokenizer.word_index)\n",
    "print(f'Vocab size: {VOCAB_SIZE}')"
   ]
  },
  {
   "cell_type": "code",
   "execution_count": 8,
   "metadata": {},
   "outputs": [],
   "source": [
    "# Add padding to the sequences\n",
    "MAX_SEQUENCE_LENGTH = 100\n",
    "processed_data = pad_sequences(sequences,\n",
    "                               maxlen=MAX_SEQUENCE_LENGTH,\n",
    "                               padding='pre') # Add padding to the start if needs padding"
   ]
  },
  {
   "cell_type": "code",
   "execution_count": 9,
   "metadata": {},
   "outputs": [
    {
     "name": "stdout",
     "output_type": "stream",
     "text": [
      "[   0    0    0    0    0    0    0    0    0    0    0    0    0    0\n",
      "    0    0    0    0    0    0    0    0    0    0    0    0    0    0\n",
      "    0    0    0    0    0    0    0    0    0    0    0    0    0    0\n",
      "    0    0    0    0    0    0    0    0    0    0    0    0    0    0\n",
      "    0    0    0    0    0    0    0    0    0    0    0    0    0    0\n",
      "    0    0  308 1212 1478  766    2   28    7   20   31    3   24    1\n",
      "  105 1801    2    1 5674  179   19 3334  334    4 1106   14   50   16\n",
      "   15   90]\n"
     ]
    }
   ],
   "source": [
    "# Have a look at the tenth processed sequence\n",
    "print(processed_data[10])"
   ]
  },
  {
   "cell_type": "markdown",
   "metadata": {},
   "source": [
    "### Create the embedding layer"
   ]
  },
  {
   "cell_type": "code",
   "execution_count": 10,
   "metadata": {},
   "outputs": [],
   "source": [
    "# Have a look at the shape of the data\n",
    "# print(processed_data.shape)"
   ]
  },
  {
   "cell_type": "code",
   "execution_count": 11,
   "metadata": {},
   "outputs": [],
   "source": [
    "# Set the embedding dimensionality\n",
    "# D = 100"
   ]
  },
  {
   "cell_type": "code",
   "execution_count": 12,
   "metadata": {},
   "outputs": [],
   "source": [
    "# Create the embedding layer\n",
    "# embedding_setup = Embedding(VOCAB_SIZE + 1, D)\n",
    "# embedding_layer = embedding_setup(processed_data)"
   ]
  },
  {
   "cell_type": "code",
   "execution_count": 13,
   "metadata": {},
   "outputs": [],
   "source": [
    "# model = Sequential()\n",
    "# embedding_array = model.add(Embedding(VOCAB_SIZE + 1, D))\n",
    "# model.compile('rmsprop', 'mse')\n",
    "# embedding_array = model.predict(processed_data)"
   ]
  },
  {
   "cell_type": "code",
   "execution_count": 14,
   "metadata": {},
   "outputs": [],
   "source": [
    "# Confirm the shape\n",
    "# print(embedding_layer.shape)"
   ]
  },
  {
   "cell_type": "markdown",
   "metadata": {},
   "source": [
    "### Build the LSTM model"
   ]
  },
  {
   "cell_type": "code",
   "execution_count": 15,
   "metadata": {},
   "outputs": [],
   "source": [
    "# Get the data\n",
    "X = processed_data\n",
    "y = np.array(labeled_data['label'] - 1)\n",
    "\n",
    "# Create the train-test split\n",
    "X_train, X_test, y_train, y_test = train_test_split(X, y, test_size=0.25, random_state=100)"
   ]
  },
  {
   "cell_type": "code",
   "execution_count": 16,
   "metadata": {},
   "outputs": [],
   "source": [
    "# Define the size of the embedding matrix\n",
    "D = 100"
   ]
  },
  {
   "cell_type": "code",
   "execution_count": 17,
   "metadata": {},
   "outputs": [],
   "source": [
    "# Define the layers of the embedding matrix\n",
    "i = Input(shape=(MAX_SEQUENCE_LENGTH,))\n",
    "x = Embedding(VOCAB_SIZE + 1, D)(i)\n",
    "x = LSTM(128, return_sequences=True)(x)\n",
    "x = GlobalMaxPooling1D()(x)\n",
    "x = Dense(5, activation='softmax')(x)"
   ]
  },
  {
   "cell_type": "code",
   "execution_count": 18,
   "metadata": {},
   "outputs": [],
   "source": [
    "# Build the model\n",
    "model = Model(i, x)"
   ]
  },
  {
   "cell_type": "code",
   "execution_count": 19,
   "metadata": {},
   "outputs": [],
   "source": [
    "# Define how the model should be trained\n",
    "model.compile(optimizer=tf.keras.optimizers.Adam(learning_rate=0.0001),\n",
    "              loss='sparse_categorical_crossentropy',\n",
    "              metrics=['accuracy'])"
   ]
  },
  {
   "cell_type": "code",
   "execution_count": 20,
   "metadata": {
    "scrolled": true
   },
   "outputs": [
    {
     "name": "stdout",
     "output_type": "stream",
     "text": [
      "Train on 37500 samples, validate on 12500 samples\n",
      "Epoch 1/10\n",
      "37500/37500 [==============================] - 86s 2ms/sample - loss: 1.4373 - accuracy: 0.3451 - val_loss: 1.2438 - val_accuracy: 0.4543\n",
      "Epoch 2/10\n",
      "37500/37500 [==============================] - 84s 2ms/sample - loss: 1.1117 - accuracy: 0.5142 - val_loss: 1.0710 - val_accuracy: 0.5377\n",
      "Epoch 3/10\n",
      "37500/37500 [==============================] - 84s 2ms/sample - loss: 0.9887 - accuracy: 0.5711 - val_loss: 1.0385 - val_accuracy: 0.5533\n",
      "Epoch 4/10\n",
      "37500/37500 [==============================] - 84s 2ms/sample - loss: 0.9256 - accuracy: 0.6055 - val_loss: 1.0176 - val_accuracy: 0.5654\n",
      "Epoch 5/10\n",
      "37500/37500 [==============================] - 84s 2ms/sample - loss: 0.8817 - accuracy: 0.6244 - val_loss: 1.0217 - val_accuracy: 0.5659\n",
      "Epoch 6/10\n",
      "37500/37500 [==============================] - 85s 2ms/sample - loss: 0.8476 - accuracy: 0.6437 - val_loss: 1.0589 - val_accuracy: 0.5553\n",
      "Epoch 7/10\n",
      "37500/37500 [==============================] - 85s 2ms/sample - loss: 0.8206 - accuracy: 0.6589 - val_loss: 1.0519 - val_accuracy: 0.5590\n",
      "Epoch 8/10\n",
      "37500/37500 [==============================] - 85s 2ms/sample - loss: 0.7962 - accuracy: 0.6703 - val_loss: 1.0654 - val_accuracy: 0.5582\n",
      "Epoch 9/10\n",
      "37500/37500 [==============================] - 85s 2ms/sample - loss: 0.7726 - accuracy: 0.6811 - val_loss: 1.1500 - val_accuracy: 0.5557\n",
      "Epoch 10/10\n",
      "37500/37500 [==============================] - 85s 2ms/sample - loss: 0.7542 - accuracy: 0.6926 - val_loss: 1.1082 - val_accuracy: 0.5532\n"
     ]
    }
   ],
   "source": [
    "# Train the model\n",
    "result = model.fit(X_train, y_train, \n",
    "                   validation_data=(X_test, y_test),\n",
    "                   epochs=10)"
   ]
  },
  {
   "cell_type": "code",
   "execution_count": 21,
   "metadata": {},
   "outputs": [
    {
     "data": {
      "image/png": "[encoded data removed]",
      "text/plain": [
       "<Figure size 432x288 with 1 Axes>"
      ]
     },
     "metadata": {
      "needs_background": "light"
     },
     "output_type": "display_data"
    }
   ],
   "source": [
    "# Plot the cost function at each itteration\n",
    "plt.plot(result.history['accuracy'], label='train_accuracy');\n",
    "plt.plot(result.history['val_accuracy'], label='val_accuracy');\n",
    "plt.legend();"
   ]
  },
  {
   "cell_type": "code",
   "execution_count": 22,
   "metadata": {},
   "outputs": [
    {
     "name": "stdout",
     "output_type": "stream",
     "text": [
      "Confusion matrix, without Normalization\n",
      "[[1886  471   96   25   72]\n",
      " [ 719 1110  491   94   69]\n",
      " [ 186  571 1160  466  124]\n",
      " [  60  135  575 1093  607]\n",
      " [  69   47  131  577 1666]]\n"
     ]
    },
    {
     "data": {
      "image/png": "[encoded data removed]",
      "text/plain": [
       "<Figure size 432x288 with 2 Axes>"
      ]
     },
     "metadata": {
      "needs_background": "light"
     },
     "output_type": "display_data"
    }
   ],
   "source": [
    "# Plot confusion matrix\n",
    "p_test = model.predict(X_test).argmax(axis=1)\n",
    "cm = confusion_matrix(y_test, p_test)\n",
    "plot_confusion_matrix(cm, list(range(5)))"
   ]
  },
  {
   "cell_type": "code",
   "execution_count": null,
   "metadata": {},
   "outputs": [],
   "source": []
  }
 ],
 "metadata": {
  "kernelspec": {
   "display_name": "Python 3",
   "language": "python",
   "name": "python3"
  },
  "language_info": {
   "codemirror_mode": {
    "name": "ipython",
    "version": 3
   },
   "file_extension": ".py",
   "mimetype": "text/x-python",
   "name": "python",
   "nbconvert_exporter": "python",
   "pygments_lexer": "ipython3",
   "version": "3.7.4"
  }
 },
 "nbformat": 4,
 "nbformat_minor": 2
}
