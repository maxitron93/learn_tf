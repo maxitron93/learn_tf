{
 "cells": [
  {
   "cell_type": "code",
   "execution_count": 1,
   "metadata": {},
   "outputs": [],
   "source": [
    "# Import the libraries\n",
    "import tensorflow as tf\n",
    "import pandas as pd\n",
    "import numpy as np\n",
    "from tensorflow.keras.preprocessing.text import Tokenizer\n",
    "from tensorflow.keras.preprocessing.sequence import pad_sequences\n",
    "from tensorflow.keras.layers import Input, Embedding, Conv1D, MaxPooling1D, Dense, GlobalMaxPooling1D\n",
    "from tensorflow.keras.models import Model\n",
    "from sklearn.model_selection import train_test_split\n",
    "import matplotlib.pyplot as plt\n",
    "from sklearn.metrics import confusion_matrix\n",
    "import itertools"
   ]
  },
  {
   "cell_type": "code",
   "execution_count": 2,
   "metadata": {},
   "outputs": [],
   "source": [
    "# Create function for confusion matrix\n",
    "def plot_confusion_matrix(cm, classes, normalize=False,title='Confusion Matrix', cmap=plt.cm.Blues):\n",
    "    \"\"\"\n",
    "    This function prints and plots the confusion matrix.\n",
    "    Normazilation can be apploed by setting 'normalize=True'\n",
    "    \"\"\"\n",
    "    if normalize:\n",
    "        cm = cm.astype('float') / cm.sum(axis=1)[:, np.newaxis]\n",
    "        print('Normalized confusion matrix')\n",
    "    else:\n",
    "        print('Confusion matrix, without Normalization')\n",
    "    \n",
    "    print(cm)\n",
    "    \n",
    "    plt.imshow(cm, interpolation='nearest', cmap=cmap)\n",
    "    plt.title(title)\n",
    "    plt.colorbar()\n",
    "    tick_marks = np.arange(len(classes))\n",
    "    plt.xticks(tick_marks, classes, rotation=45)\n",
    "    plt.yticks(tick_marks, classes)\n",
    "    \n",
    "    fmt = '.2f' if normalize else 'd'\n",
    "    thresh = cm.max() / 2.0\n",
    "    for i, j in itertools.product(range(cm.shape[0]), range(cm.shape[1])):\n",
    "        plt.text(j, i, format(cm[i, j], fmt),\n",
    "                 horizontalalignment='center',\n",
    "                 color='white' if cm[i, j] > thresh else 'black')\n",
    "    \n",
    "    plt.tight_layout()\n",
    "    plt.ylabel('True label')\n",
    "    plt.xlabel('Predicted label')\n",
    "    plt.show()"
   ]
  },
  {
   "cell_type": "code",
   "execution_count": 3,
   "metadata": {},
   "outputs": [
    {
     "data": {
      "text/plain": [
       "50000"
      ]
     },
     "execution_count": 3,
     "metadata": {},
     "output_type": "execute_result"
    }
   ],
   "source": [
    "# Import the data\n",
    "labeled_data = pd.read_csv('../../labeled_data.csv')\n",
    "\n",
    "# Convert from df to list\n",
    "text = labeled_data['text'].tolist()\n",
    "\n",
    "# Confirm the length\n",
    "len(text)"
   ]
  },
  {
   "cell_type": "code",
   "execution_count": 4,
   "metadata": {},
   "outputs": [],
   "source": [
    "# Tokenize the text\n",
    "VOCAB_SIZE = 10000\n",
    "tokenizer = Tokenizer(num_words=VOCAB_SIZE)\n",
    "tokenizer.fit_on_texts(text)\n",
    "\n",
    "# Create a squence from the tokens\n",
    "sequences = tokenizer.texts_to_sequences(text)"
   ]
  },
  {
   "cell_type": "code",
   "execution_count": 5,
   "metadata": {},
   "outputs": [
    {
     "name": "stdout",
     "output_type": "stream",
     "text": [
      "[1, 155, 3815, 12, 6, 36, 22, 29, 291, 10, 5, 157, 65, 22, 338, 122, 29, 22, 1982, 144, 318, 6, 15, 40, 1729, 5, 667, 5492, 14, 9, 9043, 72, 2336, 10, 1, 480, 1433, 6, 117, 804, 12, 14, 6, 6, 3, 41, 14, 15, 1032, 1, 2050, 714, 19, 414, 156, 11, 1, 371, 6, 6, 1662, 1290, 22, 82, 113, 1256, 11, 1020, 4, 3537, 5, 157, 16, 2183, 69, 36, 1, 291, 688, 12, 533, 1065, 22, 23, 4, 408, 50, 4, 3537, 6, 6, 6, 18, 34, 100, 83, 56, 370, 11, 13, 1439, 238, 22, 2829, 6698, 441, 10, 5, 225, 2514, 6, 6, 467, 927, 3, 159, 6203, 19, 2252, 6, 6, 1573]\n"
     ]
    }
   ],
   "source": [
    "# Have a look at the first sequence\n",
    "print(sequences[0])"
   ]
  },
  {
   "cell_type": "code",
   "execution_count": 6,
   "metadata": {},
   "outputs": [],
   "source": [
    "# Add padding to the sequences\n",
    "MAX_SEQUENCE_LENGTH = 100\n",
    "processed_data = pad_sequences(sequences,\n",
    "                               maxlen=MAX_SEQUENCE_LENGTH,\n",
    "                               padding='pre') # Add padding to the start if needs padding"
   ]
  },
  {
   "cell_type": "code",
   "execution_count": 7,
   "metadata": {},
   "outputs": [
    {
     "name": "stdout",
     "output_type": "stream",
     "text": [
      "[   0    0    0    0    0    0    0    0    0    0    0    0    0    0\n",
      "    0    0    0    0    0    0    0    0    0    0    0    0    0    0\n",
      "    0    0    0    0    0    0    0    0    0    0    0    0    0    0\n",
      "    0    0    0    0    0    0    0    0    0    0    0    0    0    0\n",
      "    0    0    0    0    0    0    0    0    0    0    0    0    0    0\n",
      "    0    0  308 1212 1478  766    2   28    7   20   31    3   24    1\n",
      "  105 1801    2    1 5674  179   19 3334  334    4 1106   14   50   16\n",
      "   15   90]\n"
     ]
    }
   ],
   "source": [
    "# Have a look at the tenth processed sequence\n",
    "print(processed_data[10])"
   ]
  },
  {
   "cell_type": "code",
   "execution_count": 8,
   "metadata": {},
   "outputs": [],
   "source": [
    "# Get the data\n",
    "X = processed_data\n",
    "y = np.array(labeled_data['label'] - 1)\n",
    "\n",
    "# Create the train-test split\n",
    "X_train, X_test, y_train, y_test = train_test_split(X, y, test_size=0.25, random_state=100)"
   ]
  },
  {
   "cell_type": "code",
   "execution_count": 9,
   "metadata": {},
   "outputs": [],
   "source": [
    "# Define the size of the embedding matrix\n",
    "D = 100"
   ]
  },
  {
   "cell_type": "code",
   "execution_count": 10,
   "metadata": {},
   "outputs": [],
   "source": [
    "# Define the layers of the embedding matrix\n",
    "i = Input(shape=(MAX_SEQUENCE_LENGTH,))\n",
    "x = Embedding(VOCAB_SIZE + 1, D)(i)\n",
    "x = Conv1D(32, 3, activation='relu')(x)\n",
    "x = MaxPooling1D(3)(x)\n",
    "x = Conv1D(64, 3, activation='relu')(x)\n",
    "x = MaxPooling1D(3)(x)\n",
    "x = Conv1D(128, 3, activation='relu')(x)\n",
    "x = GlobalMaxPooling1D()(x)\n",
    "x = Dense(5, activation='softmax')(x)"
   ]
  },
  {
   "cell_type": "code",
   "execution_count": 11,
   "metadata": {},
   "outputs": [],
   "source": [
    "# Build the model\n",
    "model = Model(i, x)"
   ]
  },
  {
   "cell_type": "code",
   "execution_count": 12,
   "metadata": {},
   "outputs": [],
   "source": [
    "# Define how the model should be trained\n",
    "model.compile(optimizer=tf.keras.optimizers.Adam(learning_rate=0.0001),\n",
    "              loss='sparse_categorical_crossentropy',\n",
    "              metrics=['accuracy'])"
   ]
  },
  {
   "cell_type": "code",
   "execution_count": 13,
   "metadata": {},
   "outputs": [
    {
     "name": "stdout",
     "output_type": "stream",
     "text": [
      "Train on 37500 samples, validate on 12500 samples\n",
      "Epoch 1/10\n",
      "37500/37500 [==============================] - 18s 471us/sample - loss: 1.5508 - accuracy: 0.2837 - val_loss: 1.3270 - val_accuracy: 0.4461\n",
      "Epoch 2/10\n",
      "37500/37500 [==============================] - 15s 412us/sample - loss: 1.0874 - accuracy: 0.5302 - val_loss: 1.0458 - val_accuracy: 0.5461\n",
      "Epoch 3/10\n",
      "37500/37500 [==============================] - 17s 442us/sample - loss: 0.9454 - accuracy: 0.5947 - val_loss: 1.0254 - val_accuracy: 0.5575\n",
      "Epoch 4/10\n",
      "37500/37500 [==============================] - 19s 504us/sample - loss: 0.8788 - accuracy: 0.6251 - val_loss: 1.0332 - val_accuracy: 0.5532\n",
      "Epoch 5/10\n",
      "37500/37500 [==============================] - 19s 494us/sample - loss: 0.8250 - accuracy: 0.6511 - val_loss: 1.0457 - val_accuracy: 0.5550\n",
      "Epoch 6/10\n",
      "37500/37500 [==============================] - 19s 500us/sample - loss: 0.7756 - accuracy: 0.6753 - val_loss: 1.0760 - val_accuracy: 0.5525\n",
      "Epoch 7/10\n",
      "37500/37500 [==============================] - 16s 424us/sample - loss: 0.7289 - accuracy: 0.7007 - val_loss: 1.1058 - val_accuracy: 0.5519\n",
      "Epoch 8/10\n",
      "37500/37500 [==============================] - 15s 407us/sample - loss: 0.6831 - accuracy: 0.7233 - val_loss: 1.1570 - val_accuracy: 0.5450\n",
      "Epoch 9/10\n",
      "37500/37500 [==============================] - 15s 412us/sample - loss: 0.6378 - accuracy: 0.7482 - val_loss: 1.2122 - val_accuracy: 0.5395\n",
      "Epoch 10/10\n",
      "37500/37500 [==============================] - 17s 457us/sample - loss: 0.5924 - accuracy: 0.7696 - val_loss: 1.2660 - val_accuracy: 0.5370\n"
     ]
    }
   ],
   "source": [
    "# Train the model\n",
    "result = model.fit(X_train, y_train, \n",
    "                   validation_data=(X_test, y_test),\n",
    "                   epochs=10)"
   ]
  },
  {
   "cell_type": "code",
   "execution_count": 14,
   "metadata": {},
   "outputs": [
    {
     "data": {
      "image/png": "[encoded data removed]",
      "text/plain": [
       "<Figure size 432x288 with 1 Axes>"
      ]
     },
     "metadata": {
      "needs_background": "light"
     },
     "output_type": "display_data"
    }
   ],
   "source": [
    "# Plot the cost function at each itteration\n",
    "plt.plot(result.history['accuracy'], label='train_accuracy');\n",
    "plt.plot(result.history['val_accuracy'], label='val_accuracy');\n",
    "plt.legend();"
   ]
  },
  {
   "cell_type": "code",
   "execution_count": 15,
   "metadata": {},
   "outputs": [
    {
     "name": "stdout",
     "output_type": "stream",
     "text": [
      "Confusion matrix, without Normalization\n",
      "[[1716  582  120   36   96]\n",
      " [ 596 1084  596  134   73]\n",
      " [ 175  496 1103  570  163]\n",
      " [  55  119  507 1129  660]\n",
      " [  78   49  121  561 1681]]\n"
     ]
    },
    {
     "data": {
      "image/png": "[encoded data removed]",
      "text/plain": [
       "<Figure size 432x288 with 2 Axes>"
      ]
     },
     "metadata": {
      "needs_background": "light"
     },
     "output_type": "display_data"
    }
   ],
   "source": [
    "# Plot confusion matrix\n",
    "p_test = model.predict(X_test).argmax(axis=1)\n",
    "cm = confusion_matrix(y_test, p_test)\n",
    "plot_confusion_matrix(cm, list(range(5)))"
   ]
  },
  {
   "cell_type": "code",
   "execution_count": null,
   "metadata": {},
   "outputs": [],
   "source": []
  },
  {
   "cell_type": "code",
   "execution_count": null,
   "metadata": {},
   "outputs": [],
   "source": []
  },
  {
   "cell_type": "code",
   "execution_count": null,
   "metadata": {},
   "outputs": [],
   "source": []
  },
  {
   "cell_type": "code",
   "execution_count": null,
   "metadata": {},
   "outputs": [],
   "source": []
  },
  {
   "cell_type": "code",
   "execution_count": null,
   "metadata": {},
   "outputs": [],
   "source": []
  }
 ],
 "metadata": {
  "kernelspec": {
   "display_name": "Python 3",
   "language": "python",
   "name": "python3"
  },
  "language_info": {
   "codemirror_mode": {
    "name": "ipython",
    "version": 3
   },
   "file_extension": ".py",
   "mimetype": "text/x-python",
   "name": "python",
   "nbconvert_exporter": "python",
   "pygments_lexer": "ipython3",
   "version": "3.7.4"
  }
 },
 "nbformat": 4,
 "nbformat_minor": 2
}
