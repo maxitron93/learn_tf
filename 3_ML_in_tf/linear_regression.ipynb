{
 "cells": [
  {
   "cell_type": "code",
   "execution_count": 1,
   "metadata": {},
   "outputs": [],
   "source": [
    "# Import the libraries\n",
    "import tensorflow as tf\n",
    "import pandas as pd\n",
    "import numpy as np\n",
    "import matplotlib.pyplot as plt\n",
    "from sklearn.model_selection import train_test_split"
   ]
  },
  {
   "cell_type": "markdown",
   "metadata": {},
   "source": [
    "### Get the data"
   ]
  },
  {
   "cell_type": "code",
   "execution_count": 2,
   "metadata": {},
   "outputs": [
    {
     "name": "stdout",
     "output_type": "stream",
     "text": [
      "[[1971]\n",
      " [1972]\n",
      " [1973]\n",
      " [1973]\n",
      " [1974]]\n",
      "[2300 3500 2500 2500 4100]\n"
     ]
    }
   ],
   "source": [
    "# Get the data\n",
    "data = pd.read_csv('moore.csv', header=None).values\n",
    "\n",
    "# Reshape the data to become a 2D array\n",
    "X = data[:, 0].reshape(-1, 1)\n",
    "y= data[:, 1]\n",
    "\n",
    "# Have a look\n",
    "print(X[0:5])\n",
    "print(y[0:5])"
   ]
  },
  {
   "cell_type": "code",
   "execution_count": 3,
   "metadata": {},
   "outputs": [
    {
     "data": {
      "image/png": "[encoded data removed]",
      "text/plain": [
       "<Figure size 432x288 with 1 Axes>"
      ]
     },
     "metadata": {
      "needs_background": "light"
     },
     "output_type": "display_data"
    }
   ],
   "source": [
    "# Plot the data\n",
    "plt.scatter(X, y);"
   ]
  },
  {
   "cell_type": "code",
   "execution_count": 4,
   "metadata": {},
   "outputs": [
    {
     "data": {
      "text/plain": [
       "<matplotlib.collections.PathCollection at 0x214977b2ec8>"
      ]
     },
     "execution_count": 4,
     "metadata": {},
     "output_type": "execute_result"
    },
    {
     "data": {
      "image/png": "[encoded data removed]",
      "text/plain": [
       "<Figure size 432x288 with 1 Axes>"
      ]
     },
     "metadata": {
      "needs_background": "light"
     },
     "output_type": "display_data"
    }
   ],
   "source": [
    "# Perform log transformation\n",
    "log_y = np.log(y)\n",
    "\n",
    "# Plot the data\n",
    "plt.scatter(X, log_y)"
   ]
  },
  {
   "cell_type": "code",
   "execution_count": 5,
   "metadata": {},
   "outputs": [
    {
     "data": {
      "text/plain": [
       "<matplotlib.collections.PathCollection at 0x2149786ea48>"
      ]
     },
     "execution_count": 5,
     "metadata": {},
     "output_type": "execute_result"
    },
    {
     "data": {
      "image/png": "[encoded data removed]",
      "text/plain": [
       "<Figure size 432x288 with 1 Axes>"
      ]
     },
     "metadata": {
      "needs_background": "light"
     },
     "output_type": "display_data"
    }
   ],
   "source": [
    "# We need to center X around 0\n",
    "X_centered =  X - np.mean(X)\n",
    "\n",
    "# Plot the data\n",
    "plt.scatter(X_centered, log_y)"
   ]
  },
  {
   "cell_type": "code",
   "execution_count": 6,
   "metadata": {},
   "outputs": [],
   "source": [
    "# Create the train-test split\n",
    "X_train, X_test, y_train, y_test = train_test_split(X_centered, log_y, test_size=0.25, random_state=100)"
   ]
  },
  {
   "cell_type": "markdown",
   "metadata": {},
   "source": [
    "### Create and train the model"
   ]
  },
  {
   "cell_type": "code",
   "execution_count": 7,
   "metadata": {},
   "outputs": [],
   "source": [
    "# Define the layers\n",
    "input_layer = tf.keras.layers.Input(shape=(1,))\n",
    "dense_layer = tf.keras.layers.Dense(1) # The default is activation=None"
   ]
  },
  {
   "cell_type": "code",
   "execution_count": 8,
   "metadata": {},
   "outputs": [],
   "source": [
    "# Define the model\n",
    "model = tf.keras.models.Sequential([input_layer, dense_layer])"
   ]
  },
  {
   "cell_type": "code",
   "execution_count": 9,
   "metadata": {},
   "outputs": [],
   "source": [
    "# Define how the model will be trained/fit\n",
    "model.compile(optimizer=tf.keras.optimizers.SGD(learning_rate=0.001, momentum=0.9), # define the optimizer \n",
    "              loss='mse') # define the cost function"
   ]
  },
  {
   "cell_type": "code",
   "execution_count": 10,
   "metadata": {},
   "outputs": [],
   "source": [
    "# Create a learning rate scheduler\n",
    "# The model works better if the learning rate decreases as the itteration increases\n",
    "def schedule(epoch, lr):\n",
    "    if epoch >= 50:\n",
    "        return 0.0001\n",
    "    else:\n",
    "        return 0.001\n",
    "    \n",
    "# Use the scheduler\n",
    "scheduler = tf.keras.callbacks.LearningRateScheduler(schedule)"
   ]
  },
  {
   "cell_type": "code",
   "execution_count": 11,
   "metadata": {
    "scrolled": true
   },
   "outputs": [
    {
     "name": "stdout",
     "output_type": "stream",
     "text": [
      "Train on 121 samples, validate on 41 samples\n",
      "Epoch 1/200\n",
      "121/121 [==============================] - 1s 4ms/sample - loss: 589.7966 - val_loss: 825.9587\n",
      "Epoch 2/200\n",
      "121/121 [==============================] - 0s 146us/sample - loss: 550.1064 - val_loss: 282.9771\n",
      "Epoch 3/200\n",
      "121/121 [==============================] - 0s 157us/sample - loss: 460.6473 - val_loss: 257.5353\n",
      "Epoch 4/200\n",
      "121/121 [==============================] - 0s 157us/sample - loss: 332.6181 - val_loss: 340.2324\n",
      "Epoch 5/200\n",
      "121/121 [==============================] - 0s 141us/sample - loss: 264.5157 - val_loss: 260.3066\n",
      "Epoch 6/200\n",
      "121/121 [==============================] - 0s 132us/sample - loss: 224.5149 - val_loss: 236.5684\n",
      "Epoch 7/200\n",
      "121/121 [==============================] - 0s 140us/sample - loss: 190.6750 - val_loss: 137.9915\n",
      "Epoch 8/200\n",
      "121/121 [==============================] - 0s 141us/sample - loss: 138.7017 - val_loss: 123.4831\n",
      "Epoch 9/200\n",
      "121/121 [==============================] - 0s 148us/sample - loss: 116.4319 - val_loss: 94.1906\n",
      "Epoch 10/200\n",
      "121/121 [==============================] - 0s 141us/sample - loss: 99.2233 - val_loss: 78.0035\n",
      "Epoch 11/200\n",
      "121/121 [==============================] - 0s 149us/sample - loss: 77.1447 - val_loss: 90.7031\n",
      "Epoch 12/200\n",
      "121/121 [==============================] - 0s 140us/sample - loss: 66.8605 - val_loss: 54.8092\n",
      "Epoch 13/200\n",
      "121/121 [==============================] - 0s 125us/sample - loss: 53.8066 - val_loss: 48.2938\n",
      "Epoch 14/200\n",
      "121/121 [==============================] - 0s 124us/sample - loss: 43.7108 - val_loss: 33.7114\n",
      "Epoch 15/200\n",
      "121/121 [==============================] - 0s 124us/sample - loss: 34.7399 - val_loss: 27.0453\n",
      "Epoch 16/200\n",
      "121/121 [==============================] - 0s 140us/sample - loss: 29.2008 - val_loss: 26.5991\n",
      "Epoch 17/200\n",
      "121/121 [==============================] - 0s 140us/sample - loss: 27.3484 - val_loss: 19.5062\n",
      "Epoch 18/200\n",
      "121/121 [==============================] - 0s 140us/sample - loss: 20.6529 - val_loss: 23.8361\n",
      "Epoch 19/200\n",
      "121/121 [==============================] - 0s 144us/sample - loss: 14.5270 - val_loss: 13.5439\n",
      "Epoch 20/200\n",
      "121/121 [==============================] - 0s 149us/sample - loss: 14.0558 - val_loss: 10.4825\n",
      "Epoch 21/200\n",
      "121/121 [==============================] - 0s 140us/sample - loss: 12.1214 - val_loss: 8.6136\n",
      "Epoch 22/200\n",
      "121/121 [==============================] - 0s 149us/sample - loss: 9.5484 - val_loss: 7.3523\n",
      "Epoch 23/200\n",
      "121/121 [==============================] - 0s 133us/sample - loss: 7.0707 - val_loss: 8.2506\n",
      "Epoch 24/200\n",
      "121/121 [==============================] - 0s 144us/sample - loss: 5.9035 - val_loss: 4.9226\n",
      "Epoch 25/200\n",
      "121/121 [==============================] - 0s 145us/sample - loss: 4.8373 - val_loss: 4.3138\n",
      "Epoch 26/200\n",
      "121/121 [==============================] - 0s 149us/sample - loss: 4.6544 - val_loss: 3.3913\n",
      "Epoch 27/200\n",
      "121/121 [==============================] - 0s 140us/sample - loss: 3.4895 - val_loss: 2.8732\n",
      "Epoch 28/200\n",
      "121/121 [==============================] - 0s 140us/sample - loss: 2.9048 - val_loss: 3.3722\n",
      "Epoch 29/200\n",
      "121/121 [==============================] - 0s 140us/sample - loss: 2.4991 - val_loss: 2.2357\n",
      "Epoch 30/200\n",
      "121/121 [==============================] - 0s 140us/sample - loss: 2.2024 - val_loss: 2.0228\n",
      "Epoch 31/200\n",
      "121/121 [==============================] - 0s 140us/sample - loss: 1.8366 - val_loss: 1.7377\n",
      "Epoch 32/200\n",
      "121/121 [==============================] - 0s 141us/sample - loss: 1.6317 - val_loss: 1.5720\n",
      "Epoch 33/200\n",
      "121/121 [==============================] - 0s 140us/sample - loss: 1.4743 - val_loss: 1.5318\n",
      "Epoch 34/200\n",
      "121/121 [==============================] - 0s 146us/sample - loss: 1.3773 - val_loss: 1.3592\n",
      "Epoch 35/200\n",
      "121/121 [==============================] - 0s 149us/sample - loss: 1.2571 - val_loss: 1.2737\n",
      "Epoch 36/200\n",
      "121/121 [==============================] - 0s 149us/sample - loss: 1.2142 - val_loss: 1.2380\n",
      "Epoch 37/200\n",
      "121/121 [==============================] - 0s 140us/sample - loss: 1.1443 - val_loss: 1.1680\n",
      "Epoch 38/200\n",
      "121/121 [==============================] - 0s 124us/sample - loss: 1.0557 - val_loss: 1.1361\n",
      "Epoch 39/200\n",
      "121/121 [==============================] - 0s 131us/sample - loss: 1.0671 - val_loss: 1.0935\n",
      "Epoch 40/200\n",
      "121/121 [==============================] - 0s 139us/sample - loss: 1.0820 - val_loss: 1.0605\n",
      "Epoch 41/200\n",
      "121/121 [==============================] - 0s 142us/sample - loss: 0.9509 - val_loss: 1.0401\n",
      "Epoch 42/200\n",
      "121/121 [==============================] - 0s 141us/sample - loss: 0.9297 - val_loss: 1.0426\n",
      "Epoch 43/200\n",
      "121/121 [==============================] - 0s 149us/sample - loss: 0.9192 - val_loss: 1.0188\n",
      "Epoch 44/200\n",
      "121/121 [==============================] - 0s 140us/sample - loss: 0.9140 - val_loss: 1.0054\n",
      "Epoch 45/200\n",
      "121/121 [==============================] - 0s 132us/sample - loss: 0.9098 - val_loss: 1.0137\n",
      "Epoch 46/200\n",
      "121/121 [==============================] - 0s 141us/sample - loss: 0.8753 - val_loss: 1.0018\n",
      "Epoch 47/200\n",
      "121/121 [==============================] - 0s 140us/sample - loss: 0.8815 - val_loss: 1.0034\n",
      "Epoch 48/200\n",
      "121/121 [==============================] - 0s 140us/sample - loss: 0.8833 - val_loss: 0.9799\n",
      "Epoch 49/200\n",
      "121/121 [==============================] - 0s 144us/sample - loss: 0.8611 - val_loss: 0.9891\n",
      "Epoch 50/200\n",
      "121/121 [==============================] - 0s 140us/sample - loss: 0.8667 - val_loss: 0.9802\n",
      "Epoch 51/200\n",
      "121/121 [==============================] - 0s 141us/sample - loss: 0.8778 - val_loss: 1.0551\n",
      "Epoch 52/200\n",
      "121/121 [==============================] - 0s 141us/sample - loss: 0.9038 - val_loss: 1.0581\n",
      "Epoch 53/200\n",
      "121/121 [==============================] - 0s 149us/sample - loss: 0.8881 - val_loss: 1.0079\n",
      "Epoch 54/200\n",
      "121/121 [==============================] - 0s 132us/sample - loss: 0.8598 - val_loss: 0.9728\n",
      "Epoch 55/200\n",
      "121/121 [==============================] - 0s 140us/sample - loss: 0.8458 - val_loss: 0.9751\n",
      "Epoch 56/200\n",
      "121/121 [==============================] - 0s 149us/sample - loss: 0.8556 - val_loss: 0.9782\n",
      "Epoch 57/200\n",
      "121/121 [==============================] - 0s 149us/sample - loss: 0.8529 - val_loss: 0.9730\n",
      "Epoch 58/200\n",
      "121/121 [==============================] - 0s 149us/sample - loss: 0.8439 - val_loss: 0.9715\n",
      "Epoch 59/200\n",
      "121/121 [==============================] - 0s 149us/sample - loss: 0.8476 - val_loss: 0.9789\n",
      "Epoch 60/200\n",
      "121/121 [==============================] - 0s 149us/sample - loss: 0.8460 - val_loss: 0.9797\n",
      "Epoch 61/200\n",
      "121/121 [==============================] - 0s 149us/sample - loss: 0.8459 - val_loss: 0.9761\n",
      "Epoch 62/200\n",
      "121/121 [==============================] - 0s 140us/sample - loss: 0.8437 - val_loss: 0.9726\n",
      "Epoch 63/200\n",
      "121/121 [==============================] - 0s 132us/sample - loss: 0.8423 - val_loss: 0.9713\n",
      "Epoch 64/200\n",
      "121/121 [==============================] - 0s 132us/sample - loss: 0.8458 - val_loss: 0.9708\n",
      "Epoch 65/200\n",
      "121/121 [==============================] - 0s 149us/sample - loss: 0.8442 - val_loss: 0.9708\n",
      "Epoch 66/200\n",
      "121/121 [==============================] - 0s 141us/sample - loss: 0.8434 - val_loss: 0.9717\n",
      "Epoch 67/200\n",
      "121/121 [==============================] - 0s 141us/sample - loss: 0.8427 - val_loss: 0.9723\n",
      "Epoch 68/200\n",
      "121/121 [==============================] - 0s 132us/sample - loss: 0.8423 - val_loss: 0.9724\n",
      "Epoch 69/200\n",
      "121/121 [==============================] - 0s 149us/sample - loss: 0.8429 - val_loss: 0.9719\n",
      "Epoch 70/200\n",
      "121/121 [==============================] - 0s 140us/sample - loss: 0.8443 - val_loss: 0.9709\n",
      "Epoch 71/200\n",
      "121/121 [==============================] - 0s 132us/sample - loss: 0.8424 - val_loss: 0.9708\n",
      "Epoch 72/200\n",
      "121/121 [==============================] - 0s 153us/sample - loss: 0.8420 - val_loss: 0.9717\n",
      "Epoch 73/200\n",
      "121/121 [==============================] - 0s 157us/sample - loss: 0.8418 - val_loss: 0.9723\n",
      "Epoch 74/200\n",
      "121/121 [==============================] - 0s 140us/sample - loss: 0.8419 - val_loss: 0.9719\n",
      "Epoch 75/200\n",
      "121/121 [==============================] - 0s 149us/sample - loss: 0.8422 - val_loss: 0.9711\n",
      "Epoch 76/200\n",
      "121/121 [==============================] - 0s 132us/sample - loss: 0.8420 - val_loss: 0.9714\n",
      "Epoch 77/200\n"
     ]
    },
    {
     "name": "stdout",
     "output_type": "stream",
     "text": [
      "121/121 [==============================] - 0s 132us/sample - loss: 0.8414 - val_loss: 0.9714\n",
      "Epoch 78/200\n",
      "121/121 [==============================] - 0s 134us/sample - loss: 0.8414 - val_loss: 0.9713\n",
      "Epoch 79/200\n",
      "121/121 [==============================] - 0s 140us/sample - loss: 0.8414 - val_loss: 0.9713\n",
      "Epoch 80/200\n",
      "121/121 [==============================] - 0s 149us/sample - loss: 0.8415 - val_loss: 0.9711\n",
      "Epoch 81/200\n",
      "121/121 [==============================] - 0s 149us/sample - loss: 0.8412 - val_loss: 0.9720\n",
      "Epoch 82/200\n",
      "121/121 [==============================] - 0s 149us/sample - loss: 0.8420 - val_loss: 0.9712\n",
      "Epoch 83/200\n",
      "121/121 [==============================] - 0s 132us/sample - loss: 0.8412 - val_loss: 0.9720\n",
      "Epoch 84/200\n",
      "121/121 [==============================] - 0s 140us/sample - loss: 0.8412 - val_loss: 0.9720\n",
      "Epoch 85/200\n",
      "121/121 [==============================] - 0s 135us/sample - loss: 0.8408 - val_loss: 0.9713\n",
      "Epoch 86/200\n",
      "121/121 [==============================] - 0s 144us/sample - loss: 0.8419 - val_loss: 0.9702\n",
      "Epoch 87/200\n",
      "121/121 [==============================] - 0s 140us/sample - loss: 0.8410 - val_loss: 0.9703\n",
      "Epoch 88/200\n",
      "121/121 [==============================] - 0s 174us/sample - loss: 0.8426 - val_loss: 0.9714\n",
      "Epoch 89/200\n",
      "121/121 [==============================] - 0s 140us/sample - loss: 0.8409 - val_loss: 0.9712\n",
      "Epoch 90/200\n",
      "121/121 [==============================] - 0s 140us/sample - loss: 0.8404 - val_loss: 0.9705\n",
      "Epoch 91/200\n",
      "121/121 [==============================] - 0s 124us/sample - loss: 0.8407 - val_loss: 0.9701\n",
      "Epoch 92/200\n",
      "121/121 [==============================] - 0s 124us/sample - loss: 0.8414 - val_loss: 0.9699\n",
      "Epoch 93/200\n",
      "121/121 [==============================] - 0s 140us/sample - loss: 0.8404 - val_loss: 0.9704\n",
      "Epoch 94/200\n",
      "121/121 [==============================] - 0s 130us/sample - loss: 0.8440 - val_loss: 0.9729\n",
      "Epoch 95/200\n",
      "121/121 [==============================] - 0s 140us/sample - loss: 0.8409 - val_loss: 0.9719\n",
      "Epoch 96/200\n",
      "121/121 [==============================] - 0s 140us/sample - loss: 0.8400 - val_loss: 0.9707\n",
      "Epoch 97/200\n",
      "121/121 [==============================] - 0s 140us/sample - loss: 0.8398 - val_loss: 0.9703\n",
      "Epoch 98/200\n",
      "121/121 [==============================] - 0s 147us/sample - loss: 0.8413 - val_loss: 0.9699\n",
      "Epoch 99/200\n",
      "121/121 [==============================] - 0s 140us/sample - loss: 0.8400 - val_loss: 0.9701\n",
      "Epoch 100/200\n",
      "121/121 [==============================] - 0s 149us/sample - loss: 0.8413 - val_loss: 0.9721\n",
      "Epoch 101/200\n",
      "121/121 [==============================] - 0s 149us/sample - loss: 0.8412 - val_loss: 0.9713\n",
      "Epoch 102/200\n",
      "121/121 [==============================] - 0s 140us/sample - loss: 0.8396 - val_loss: 0.9719\n",
      "Epoch 103/200\n",
      "121/121 [==============================] - 0s 132us/sample - loss: 0.8401 - val_loss: 0.9723\n",
      "Epoch 104/200\n",
      "121/121 [==============================] - 0s 130us/sample - loss: 0.8403 - val_loss: 0.9719\n",
      "Epoch 105/200\n",
      "121/121 [==============================] - 0s 139us/sample - loss: 0.8392 - val_loss: 0.9704\n",
      "Epoch 106/200\n",
      "121/121 [==============================] - 0s 140us/sample - loss: 0.8393 - val_loss: 0.9698\n",
      "Epoch 107/200\n",
      "121/121 [==============================] - 0s 149us/sample - loss: 0.8409 - val_loss: 0.9697\n",
      "Epoch 108/200\n",
      "121/121 [==============================] - 0s 140us/sample - loss: 0.8405 - val_loss: 0.9700\n",
      "Epoch 109/200\n",
      "121/121 [==============================] - 0s 140us/sample - loss: 0.8393 - val_loss: 0.9704\n",
      "Epoch 110/200\n",
      "121/121 [==============================] - 0s 147us/sample - loss: 0.8394 - val_loss: 0.9709\n",
      "Epoch 111/200\n",
      "121/121 [==============================] - 0s 131us/sample - loss: 0.8394 - val_loss: 0.9708\n",
      "Epoch 112/200\n",
      "121/121 [==============================] - 0s 122us/sample - loss: 0.8397 - val_loss: 0.9703\n",
      "Epoch 113/200\n",
      "121/121 [==============================] - 0s 137us/sample - loss: 0.8392 - val_loss: 0.9704\n",
      "Epoch 114/200\n",
      "121/121 [==============================] - 0s 140us/sample - loss: 0.8389 - val_loss: 0.9704\n",
      "Epoch 115/200\n",
      "121/121 [==============================] - 0s 140us/sample - loss: 0.8390 - val_loss: 0.9703\n",
      "Epoch 116/200\n",
      "121/121 [==============================] - 0s 140us/sample - loss: 0.8398 - val_loss: 0.9706\n",
      "Epoch 117/200\n",
      "121/121 [==============================] - 0s 141us/sample - loss: 0.8399 - val_loss: 0.9711\n",
      "Epoch 118/200\n",
      "121/121 [==============================] - 0s 140us/sample - loss: 0.8396 - val_loss: 0.9706\n",
      "Epoch 119/200\n",
      "121/121 [==============================] - 0s 132us/sample - loss: 0.8398 - val_loss: 0.9697\n",
      "Epoch 120/200\n",
      "121/121 [==============================] - 0s 132us/sample - loss: 0.8398 - val_loss: 0.9696\n",
      "Epoch 121/200\n",
      "121/121 [==============================] - 0s 132us/sample - loss: 0.8392 - val_loss: 0.9702\n",
      "Epoch 122/200\n",
      "121/121 [==============================] - 0s 132us/sample - loss: 0.8391 - val_loss: 0.9714\n",
      "Epoch 123/200\n",
      "121/121 [==============================] - 0s 133us/sample - loss: 0.8391 - val_loss: 0.9709\n",
      "Epoch 124/200\n",
      "121/121 [==============================] - 0s 140us/sample - loss: 0.8388 - val_loss: 0.9705\n",
      "Epoch 125/200\n",
      "121/121 [==============================] - 0s 141us/sample - loss: 0.8393 - val_loss: 0.9711\n",
      "Epoch 126/200\n",
      "121/121 [==============================] - 0s 140us/sample - loss: 0.8390 - val_loss: 0.9712\n",
      "Epoch 127/200\n",
      "121/121 [==============================] - 0s 140us/sample - loss: 0.8383 - val_loss: 0.9704\n",
      "Epoch 128/200\n",
      "121/121 [==============================] - 0s 140us/sample - loss: 0.8383 - val_loss: 0.9700\n",
      "Epoch 129/200\n",
      "121/121 [==============================] - 0s 141us/sample - loss: 0.8411 - val_loss: 0.9696\n",
      "Epoch 130/200\n",
      "121/121 [==============================] - 0s 140us/sample - loss: 0.8395 - val_loss: 0.9701\n",
      "Epoch 131/200\n",
      "121/121 [==============================] - 0s 141us/sample - loss: 0.8387 - val_loss: 0.9708\n",
      "Epoch 132/200\n",
      "121/121 [==============================] - 0s 140us/sample - loss: 0.8384 - val_loss: 0.9708\n",
      "Epoch 133/200\n",
      "121/121 [==============================] - 0s 149us/sample - loss: 0.8380 - val_loss: 0.9702\n",
      "Epoch 134/200\n",
      "121/121 [==============================] - 0s 140us/sample - loss: 0.8398 - val_loss: 0.9704\n",
      "Epoch 135/200\n",
      "121/121 [==============================] - 0s 147us/sample - loss: 0.8378 - val_loss: 0.9697\n",
      "Epoch 136/200\n",
      "121/121 [==============================] - 0s 140us/sample - loss: 0.8384 - val_loss: 0.9696\n",
      "Epoch 137/200\n",
      "121/121 [==============================] - 0s 143us/sample - loss: 0.8387 - val_loss: 0.9697\n",
      "Epoch 138/200\n",
      "121/121 [==============================] - 0s 140us/sample - loss: 0.8383 - val_loss: 0.9701\n",
      "Epoch 139/200\n",
      "121/121 [==============================] - 0s 140us/sample - loss: 0.8385 - val_loss: 0.9699\n",
      "Epoch 140/200\n",
      "121/121 [==============================] - 0s 132us/sample - loss: 0.8395 - val_loss: 0.9715\n",
      "Epoch 141/200\n",
      "121/121 [==============================] - 0s 140us/sample - loss: 0.8381 - val_loss: 0.9712\n",
      "Epoch 142/200\n",
      "121/121 [==============================] - 0s 140us/sample - loss: 0.8386 - val_loss: 0.9703\n",
      "Epoch 143/200\n",
      "121/121 [==============================] - 0s 132us/sample - loss: 0.8381 - val_loss: 0.9700\n",
      "Epoch 144/200\n",
      "121/121 [==============================] - 0s 140us/sample - loss: 0.8387 - val_loss: 0.9706\n",
      "Epoch 145/200\n",
      "121/121 [==============================] - ETA: 0s - loss: 0.651 - 0s 140us/sample - loss: 0.8396 - val_loss: 0.9699\n",
      "Epoch 146/200\n",
      "121/121 [==============================] - 0s 140us/sample - loss: 0.8378 - val_loss: 0.9709\n",
      "Epoch 147/200\n",
      "121/121 [==============================] - 0s 140us/sample - loss: 0.8377 - val_loss: 0.9713\n",
      "Epoch 148/200\n",
      "121/121 [==============================] - 0s 149us/sample - loss: 0.8389 - val_loss: 0.9705\n",
      "Epoch 149/200\n",
      "121/121 [==============================] - 0s 140us/sample - loss: 0.8377 - val_loss: 0.9705\n",
      "Epoch 150/200\n",
      "121/121 [==============================] - 0s 140us/sample - loss: 0.8396 - val_loss: 0.9700\n",
      "Epoch 151/200\n",
      "121/121 [==============================] - 0s 140us/sample - loss: 0.8378 - val_loss: 0.9701\n",
      "Epoch 152/200\n",
      "121/121 [==============================] - 0s 137us/sample - loss: 0.8392 - val_loss: 0.9719\n",
      "Epoch 153/200\n"
     ]
    },
    {
     "name": "stdout",
     "output_type": "stream",
     "text": [
      "121/121 [==============================] - 0s 139us/sample - loss: 0.8383 - val_loss: 0.9717\n",
      "Epoch 154/200\n",
      "121/121 [==============================] - 0s 138us/sample - loss: 0.8395 - val_loss: 0.9699\n",
      "Epoch 155/200\n",
      "121/121 [==============================] - 0s 140us/sample - loss: 0.8382 - val_loss: 0.9702\n",
      "Epoch 156/200\n",
      "121/121 [==============================] - 0s 140us/sample - loss: 0.8386 - val_loss: 0.9700\n",
      "Epoch 157/200\n",
      "121/121 [==============================] - 0s 157us/sample - loss: 0.8391 - val_loss: 0.9697\n",
      "Epoch 158/200\n",
      "121/121 [==============================] - 0s 132us/sample - loss: 0.8381 - val_loss: 0.9704\n",
      "Epoch 159/200\n",
      "121/121 [==============================] - 0s 140us/sample - loss: 0.8404 - val_loss: 0.9722\n",
      "Epoch 160/200\n",
      "121/121 [==============================] - 0s 124us/sample - loss: 0.8383 - val_loss: 0.9710\n",
      "Epoch 161/200\n",
      "121/121 [==============================] - 0s 132us/sample - loss: 0.8394 - val_loss: 0.9699\n",
      "Epoch 162/200\n",
      "121/121 [==============================] - 0s 127us/sample - loss: 0.8374 - val_loss: 0.9699\n",
      "Epoch 163/200\n",
      "121/121 [==============================] - 0s 132us/sample - loss: 0.8377 - val_loss: 0.9704\n",
      "Epoch 164/200\n",
      "121/121 [==============================] - 0s 140us/sample - loss: 0.8374 - val_loss: 0.9708\n",
      "Epoch 165/200\n",
      "121/121 [==============================] - 0s 141us/sample - loss: 0.8375 - val_loss: 0.9705\n",
      "Epoch 166/200\n",
      "121/121 [==============================] - 0s 141us/sample - loss: 0.8375 - val_loss: 0.9708\n",
      "Epoch 167/200\n",
      "121/121 [==============================] - 0s 144us/sample - loss: 0.8377 - val_loss: 0.9703\n",
      "Epoch 168/200\n",
      "121/121 [==============================] - 0s 140us/sample - loss: 0.8372 - val_loss: 0.9704\n",
      "Epoch 169/200\n",
      "121/121 [==============================] - 0s 149us/sample - loss: 0.8372 - val_loss: 0.9709\n",
      "Epoch 170/200\n",
      "121/121 [==============================] - 0s 140us/sample - loss: 0.8372 - val_loss: 0.9711\n",
      "Epoch 171/200\n",
      "121/121 [==============================] - 0s 143us/sample - loss: 0.8376 - val_loss: 0.9710\n",
      "Epoch 172/200\n",
      "121/121 [==============================] - 0s 132us/sample - loss: 0.8375 - val_loss: 0.9702\n",
      "Epoch 173/200\n",
      "121/121 [==============================] - 0s 131us/sample - loss: 0.8371 - val_loss: 0.9701\n",
      "Epoch 174/200\n",
      "121/121 [==============================] - 0s 128us/sample - loss: 0.8374 - val_loss: 0.9700\n",
      "Epoch 175/200\n",
      "121/121 [==============================] - 0s 124us/sample - loss: 0.8384 - val_loss: 0.9709\n",
      "Epoch 176/200\n",
      "121/121 [==============================] - 0s 129us/sample - loss: 0.8384 - val_loss: 0.9704\n",
      "Epoch 177/200\n",
      "121/121 [==============================] - 0s 132us/sample - loss: 0.8370 - val_loss: 0.9710\n",
      "Epoch 178/200\n",
      "121/121 [==============================] - 0s 138us/sample - loss: 0.8370 - val_loss: 0.9711\n",
      "Epoch 179/200\n",
      "121/121 [==============================] - 0s 141us/sample - loss: 0.8374 - val_loss: 0.9711\n",
      "Epoch 180/200\n",
      "121/121 [==============================] - 0s 143us/sample - loss: 0.8395 - val_loss: 0.9702\n",
      "Epoch 181/200\n",
      "121/121 [==============================] - 0s 140us/sample - loss: 0.8374 - val_loss: 0.9711\n",
      "Epoch 182/200\n",
      "121/121 [==============================] - 0s 132us/sample - loss: 0.8389 - val_loss: 0.9704\n",
      "Epoch 183/200\n",
      "121/121 [==============================] - 0s 134us/sample - loss: 0.8369 - val_loss: 0.9709\n",
      "Epoch 184/200\n",
      "121/121 [==============================] - 0s 140us/sample - loss: 0.8369 - val_loss: 0.9709\n",
      "Epoch 185/200\n",
      "121/121 [==============================] - 0s 132us/sample - loss: 0.8370 - val_loss: 0.9711\n",
      "Epoch 186/200\n",
      "121/121 [==============================] - 0s 140us/sample - loss: 0.8373 - val_loss: 0.9704\n",
      "Epoch 187/200\n",
      "121/121 [==============================] - 0s 140us/sample - loss: 0.8374 - val_loss: 0.9703\n",
      "Epoch 188/200\n",
      "121/121 [==============================] - 0s 135us/sample - loss: 0.8370 - val_loss: 0.9706\n",
      "Epoch 189/200\n",
      "121/121 [==============================] - 0s 140us/sample - loss: 0.8373 - val_loss: 0.9704\n",
      "Epoch 190/200\n",
      "121/121 [==============================] - 0s 132us/sample - loss: 0.8370 - val_loss: 0.9703\n",
      "Epoch 191/200\n",
      "121/121 [==============================] - 0s 149us/sample - loss: 0.8369 - val_loss: 0.9708\n",
      "Epoch 192/200\n",
      "121/121 [==============================] - 0s 140us/sample - loss: 0.8373 - val_loss: 0.9707\n",
      "Epoch 193/200\n",
      "121/121 [==============================] - 0s 149us/sample - loss: 0.8370 - val_loss: 0.9709\n",
      "Epoch 194/200\n",
      "121/121 [==============================] - 0s 141us/sample - loss: 0.8368 - val_loss: 0.9708\n",
      "Epoch 195/200\n",
      "121/121 [==============================] - 0s 140us/sample - loss: 0.8368 - val_loss: 0.9706\n",
      "Epoch 196/200\n",
      "121/121 [==============================] - 0s 149us/sample - loss: 0.8371 - val_loss: 0.9705\n",
      "Epoch 197/200\n",
      "121/121 [==============================] - 0s 141us/sample - loss: 0.8369 - val_loss: 0.9701\n",
      "Epoch 198/200\n",
      "121/121 [==============================] - 0s 135us/sample - loss: 0.8373 - val_loss: 0.9700\n",
      "Epoch 199/200\n",
      "121/121 [==============================] - 0s 140us/sample - loss: 0.8384 - val_loss: 0.9702\n",
      "Epoch 200/200\n",
      "121/121 [==============================] - 0s 144us/sample - loss: 0.8372 - val_loss: 0.9701\n"
     ]
    }
   ],
   "source": [
    "# Train the model\n",
    "result = model.fit(x=X_train, y=y_train, \n",
    "                   validation_data=(X_test, y_test),\n",
    "                   epochs=200, callbacks=[scheduler])"
   ]
  },
  {
   "cell_type": "code",
   "execution_count": 12,
   "metadata": {},
   "outputs": [
    {
     "name": "stdout",
     "output_type": "stream",
     "text": [
      "Train loss: 0.8368173975589847\n",
      "Test loss: 0.9700737799086222\n"
     ]
    }
   ],
   "source": [
    "# Print the results\n",
    "print(\"Train loss:\", model.evaluate(x=X_train, y=y_train, verbose=0))\n",
    "print(\"Test loss:\", model.evaluate(x=X_test, y=y_test, verbose=0))"
   ]
  },
  {
   "cell_type": "code",
   "execution_count": 13,
   "metadata": {},
   "outputs": [
    {
     "data": {
      "image/png": "[encoded data removed]",
      "text/plain": [
       "<Figure size 432x288 with 1 Axes>"
      ]
     },
     "metadata": {
      "needs_background": "light"
     },
     "output_type": "display_data"
    }
   ],
   "source": [
    "# Plot the cost function at each itteration\n",
    "# Note: model.fit() returns an object that contains the history of the training process\n",
    "plt.plot(result.history['loss'], label='loss');\n",
    "plt.plot(result.history['val_loss'], label='val_loss');\n",
    "plt.legend();"
   ]
  },
  {
   "cell_type": "code",
   "execution_count": 14,
   "metadata": {},
   "outputs": [
    {
     "name": "stdout",
     "output_type": "stream",
     "text": [
      "[array([[0.34110093]], dtype=float32), array([17.749422], dtype=float32)]\n"
     ]
    }
   ],
   "source": [
    "# Get the trained parameters of the model\n",
    "print(model.layers[0].get_weights())"
   ]
  },
  {
   "cell_type": "markdown",
   "metadata": {},
   "source": [
    "w1 is 0.34284508 and b (intercept) is 17.750555"
   ]
  },
  {
   "cell_type": "code",
   "execution_count": 15,
   "metadata": {},
   "outputs": [
    {
     "name": "stdout",
     "output_type": "stream",
     "text": [
      "[[0.34110093]]\n"
     ]
    }
   ],
   "source": [
    "# Get weights\n",
    "print(model.layers[0].get_weights()[0])"
   ]
  },
  {
   "cell_type": "code",
   "execution_count": 16,
   "metadata": {},
   "outputs": [
    {
     "name": "stdout",
     "output_type": "stream",
     "text": [
      "[17.749422]\n"
     ]
    }
   ],
   "source": [
    "# Get intercept\n",
    "print(model.layers[0].get_weights()[1])"
   ]
  },
  {
   "cell_type": "code",
   "execution_count": null,
   "metadata": {},
   "outputs": [],
   "source": []
  }
 ],
 "metadata": {
  "kernelspec": {
   "display_name": "Python 3",
   "language": "python",
   "name": "python3"
  },
  "language_info": {
   "codemirror_mode": {
    "name": "ipython",
    "version": 3
   },
   "file_extension": ".py",
   "mimetype": "text/x-python",
   "name": "python",
   "nbconvert_exporter": "python",
   "pygments_lexer": "ipython3",
   "version": "3.7.4"
  }
 },
 "nbformat": 4,
 "nbformat_minor": 2
}
