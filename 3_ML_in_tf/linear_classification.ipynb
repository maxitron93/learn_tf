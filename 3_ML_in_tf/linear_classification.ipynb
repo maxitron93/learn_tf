{
 "cells": [
  {
   "cell_type": "code",
   "execution_count": 1,
   "metadata": {},
   "outputs": [],
   "source": [
    "# Import the libraries\n",
    "import tensorflow as tf\n",
    "from tensorflow.python.client import device_lib\n",
    "import matplotlib.pyplot as plt\n",
    "import pandas as pd\n",
    "from sklearn.model_selection import train_test_split\n",
    "from sklearn.datasets import load_breast_cancer\n",
    "from sklearn.preprocessing import StandardScaler"
   ]
  },
  {
   "cell_type": "code",
   "execution_count": 2,
   "metadata": {},
   "outputs": [
    {
     "data": {
      "text/plain": [
       "True"
      ]
     },
     "execution_count": 2,
     "metadata": {},
     "output_type": "execute_result"
    }
   ],
   "source": [
    "# Check that a GPU is available\n",
    "tf.test.is_gpu_available(\n",
    "    cuda_only=False,\n",
    "    min_cuda_compute_capability=None\n",
    ")"
   ]
  },
  {
   "cell_type": "code",
   "execution_count": 3,
   "metadata": {},
   "outputs": [
    {
     "name": "stdout",
     "output_type": "stream",
     "text": [
      "Num GPUs Available:  1\n"
     ]
    }
   ],
   "source": [
    "# Check the number of GPUs available\n",
    "print(\"Num GPUs Available: \", len(tf.config.experimental.list_physical_devices('GPU')))"
   ]
  },
  {
   "cell_type": "code",
   "execution_count": 4,
   "metadata": {},
   "outputs": [
    {
     "data": {
      "text/plain": [
       "[name: \"/device:CPU:0\"\n",
       " device_type: \"CPU\"\n",
       " memory_limit: 268435456\n",
       " locality {\n",
       " }\n",
       " incarnation: 5079590472719646034, name: \"/device:GPU:0\"\n",
       " device_type: \"GPU\"\n",
       " memory_limit: 4937233203\n",
       " locality {\n",
       "   bus_id: 1\n",
       "   links {\n",
       "   }\n",
       " }\n",
       " incarnation: 12305164786368392159\n",
       " physical_device_desc: \"device: 0, name: GeForce GTX 1060, pci bus id: 0000:01:00.0, compute capability: 6.1\"]"
      ]
     },
     "execution_count": 4,
     "metadata": {},
     "output_type": "execute_result"
    }
   ],
   "source": [
    "# Get device details\n",
    "device_lib.list_local_devices()"
   ]
  },
  {
   "cell_type": "markdown",
   "metadata": {},
   "source": [
    "### Simple logistic regression model"
   ]
  },
  {
   "cell_type": "code",
   "execution_count": 5,
   "metadata": {},
   "outputs": [
    {
     "data": {
      "text/html": [
       "<div>\n",
       "<style scoped>\n",
       "    .dataframe tbody tr th:only-of-type {\n",
       "        vertical-align: middle;\n",
       "    }\n",
       "\n",
       "    .dataframe tbody tr th {\n",
       "        vertical-align: top;\n",
       "    }\n",
       "\n",
       "    .dataframe thead th {\n",
       "        text-align: right;\n",
       "    }\n",
       "</style>\n",
       "<table border=\"1\" class=\"dataframe\">\n",
       "  <thead>\n",
       "    <tr style=\"text-align: right;\">\n",
       "      <th></th>\n",
       "      <th>x1</th>\n",
       "      <th>x2</th>\n",
       "      <th>x3</th>\n",
       "      <th>x4</th>\n",
       "      <th>y</th>\n",
       "    </tr>\n",
       "  </thead>\n",
       "  <tbody>\n",
       "    <tr>\n",
       "      <td>0</td>\n",
       "      <td>3.62160</td>\n",
       "      <td>8.6661</td>\n",
       "      <td>-2.8073</td>\n",
       "      <td>-0.44699</td>\n",
       "      <td>0</td>\n",
       "    </tr>\n",
       "    <tr>\n",
       "      <td>1</td>\n",
       "      <td>4.54590</td>\n",
       "      <td>8.1674</td>\n",
       "      <td>-2.4586</td>\n",
       "      <td>-1.46210</td>\n",
       "      <td>0</td>\n",
       "    </tr>\n",
       "    <tr>\n",
       "      <td>2</td>\n",
       "      <td>3.86600</td>\n",
       "      <td>-2.6383</td>\n",
       "      <td>1.9242</td>\n",
       "      <td>0.10645</td>\n",
       "      <td>0</td>\n",
       "    </tr>\n",
       "    <tr>\n",
       "      <td>3</td>\n",
       "      <td>3.45660</td>\n",
       "      <td>9.5228</td>\n",
       "      <td>-4.0112</td>\n",
       "      <td>-3.59440</td>\n",
       "      <td>0</td>\n",
       "    </tr>\n",
       "    <tr>\n",
       "      <td>4</td>\n",
       "      <td>0.32924</td>\n",
       "      <td>-4.4552</td>\n",
       "      <td>4.5718</td>\n",
       "      <td>-0.98880</td>\n",
       "      <td>0</td>\n",
       "    </tr>\n",
       "  </tbody>\n",
       "</table>\n",
       "</div>"
      ],
      "text/plain": [
       "        x1      x2      x3       x4  y\n",
       "0  3.62160  8.6661 -2.8073 -0.44699  0\n",
       "1  4.54590  8.1674 -2.4586 -1.46210  0\n",
       "2  3.86600 -2.6383  1.9242  0.10645  0\n",
       "3  3.45660  9.5228 -4.0112 -3.59440  0\n",
       "4  0.32924 -4.4552  4.5718 -0.98880  0"
      ]
     },
     "execution_count": 5,
     "metadata": {},
     "output_type": "execute_result"
    }
   ],
   "source": [
    "# Import the data\n",
    "data = pd.read_csv('banknote_data.csv')\n",
    "data.head(n=5)"
   ]
  },
  {
   "cell_type": "code",
   "execution_count": 6,
   "metadata": {},
   "outputs": [],
   "source": [
    "# Prepare the data\n",
    "X = data.iloc[:,0:4]\n",
    "y = data[['y']]\n",
    "\n",
    "# Create the train-test split\n",
    "X_train, X_test, y_train, y_test = train_test_split(X, y, test_size=0.25, random_state=100)"
   ]
  },
  {
   "cell_type": "code",
   "execution_count": 7,
   "metadata": {},
   "outputs": [],
   "source": [
    "# Define the model layers\n",
    "D = X.shape[1] # Size of input vector\n",
    "input_layer = tf.keras.layers.Input(shape=(D,))\n",
    "dense_layer = tf.keras.layers.Dense(1, activation='sigmoid')"
   ]
  },
  {
   "cell_type": "code",
   "execution_count": 8,
   "metadata": {},
   "outputs": [],
   "source": [
    "# Create the model\n",
    "model = tf.keras.Sequential([input_layer, dense_layer])"
   ]
  },
  {
   "cell_type": "code",
   "execution_count": 9,
   "metadata": {},
   "outputs": [],
   "source": [
    "# Define how the model will be trained/fit\n",
    "model.compile(optimizer='adam', # define the optimizer (adam is one way of doing gradient descent)\n",
    "              loss='binary_crossentropy', # define the cost function\n",
    "              metrics=['accuracy']) # define the metrics that tensorflow should keep track of"
   ]
  },
  {
   "cell_type": "code",
   "execution_count": 10,
   "metadata": {
    "scrolled": true
   },
   "outputs": [
    {
     "name": "stdout",
     "output_type": "stream",
     "text": [
      "WARNING:tensorflow:Falling back from v2 loop because of error: Failed to find data adapter that can handle input: <class 'pandas.core.frame.DataFrame'>, <class 'NoneType'>\n",
      "Train on 1029 samples, validate on 343 samples\n",
      "Epoch 1/150\n",
      "1029/1029 [==============================] - 1s 666us/sample - loss: 0.5474 - accuracy: 0.7716 - val_loss: 0.5206 - val_accuracy: 0.7843\n",
      "Epoch 2/150\n",
      "1029/1029 [==============================] - 0s 75us/sample - loss: 0.4799 - accuracy: 0.8017 - val_loss: 0.4578 - val_accuracy: 0.8017\n",
      "Epoch 3/150\n",
      "1029/1029 [==============================] - 0s 79us/sample - loss: 0.4198 - accuracy: 0.8124 - val_loss: 0.4007 - val_accuracy: 0.8076\n",
      "Epoch 4/150\n",
      "1029/1029 [==============================] - 0s 75us/sample - loss: 0.3677 - accuracy: 0.8222 - val_loss: 0.3524 - val_accuracy: 0.8338\n",
      "Epoch 5/150\n",
      "1029/1029 [==============================] - 0s 77us/sample - loss: 0.3238 - accuracy: 0.8426 - val_loss: 0.3111 - val_accuracy: 0.8455\n",
      "Epoch 6/150\n",
      "1029/1029 [==============================] - 0s 71us/sample - loss: 0.2887 - accuracy: 0.8649 - val_loss: 0.2820 - val_accuracy: 0.8688\n",
      "Epoch 7/150\n",
      "1029/1029 [==============================] - 0s 107us/sample - loss: 0.2629 - accuracy: 0.8892 - val_loss: 0.2573 - val_accuracy: 0.8863\n",
      "Epoch 8/150\n",
      "1029/1029 [==============================] - 0s 70us/sample - loss: 0.2425 - accuracy: 0.9057 - val_loss: 0.2375 - val_accuracy: 0.9009\n",
      "Epoch 9/150\n",
      "1029/1029 [==============================] - 0s 68us/sample - loss: 0.2260 - accuracy: 0.9281 - val_loss: 0.2228 - val_accuracy: 0.9300\n",
      "Epoch 10/150\n",
      "1029/1029 [==============================] - 0s 70us/sample - loss: 0.2134 - accuracy: 0.9417 - val_loss: 0.2108 - val_accuracy: 0.9446\n",
      "Epoch 11/150\n",
      "1029/1029 [==============================] - 0s 69us/sample - loss: 0.2031 - accuracy: 0.9475 - val_loss: 0.2013 - val_accuracy: 0.9504\n",
      "Epoch 12/150\n",
      "1029/1029 [==============================] - 0s 72us/sample - loss: 0.1946 - accuracy: 0.9524 - val_loss: 0.1931 - val_accuracy: 0.9534\n",
      "Epoch 13/150\n",
      "1029/1029 [==============================] - 0s 70us/sample - loss: 0.1874 - accuracy: 0.9553 - val_loss: 0.1857 - val_accuracy: 0.9592\n",
      "Epoch 14/150\n",
      "1029/1029 [==============================] - 0s 75us/sample - loss: 0.1808 - accuracy: 0.9592 - val_loss: 0.1799 - val_accuracy: 0.9592\n",
      "Epoch 15/150\n",
      "1029/1029 [==============================] - 0s 73us/sample - loss: 0.1751 - accuracy: 0.9602 - val_loss: 0.1744 - val_accuracy: 0.9621\n",
      "Epoch 16/150\n",
      "1029/1029 [==============================] - 0s 78us/sample - loss: 0.1701 - accuracy: 0.9602 - val_loss: 0.1694 - val_accuracy: 0.9679\n",
      "Epoch 17/150\n",
      "1029/1029 [==============================] - 0s 71us/sample - loss: 0.1655 - accuracy: 0.9611 - val_loss: 0.1650 - val_accuracy: 0.9679\n",
      "Epoch 18/150\n",
      "1029/1029 [==============================] - 0s 68us/sample - loss: 0.1611 - accuracy: 0.9640 - val_loss: 0.1607 - val_accuracy: 0.9679\n",
      "Epoch 19/150\n",
      "1029/1029 [==============================] - 0s 72us/sample - loss: 0.1571 - accuracy: 0.9679 - val_loss: 0.1568 - val_accuracy: 0.9738\n",
      "Epoch 20/150\n",
      "1029/1029 [==============================] - 0s 69us/sample - loss: 0.1533 - accuracy: 0.9689 - val_loss: 0.1533 - val_accuracy: 0.9738\n",
      "Epoch 21/150\n",
      "1029/1029 [==============================] - 0s 71us/sample - loss: 0.1498 - accuracy: 0.9699 - val_loss: 0.1500 - val_accuracy: 0.9767\n",
      "Epoch 22/150\n",
      "1029/1029 [==============================] - 0s 74us/sample - loss: 0.1465 - accuracy: 0.9718 - val_loss: 0.1468 - val_accuracy: 0.9767\n",
      "Epoch 23/150\n",
      "1029/1029 [==============================] - 0s 76us/sample - loss: 0.1433 - accuracy: 0.9728 - val_loss: 0.1436 - val_accuracy: 0.9767\n",
      "Epoch 24/150\n",
      "1029/1029 [==============================] - 0s 75us/sample - loss: 0.1403 - accuracy: 0.9757 - val_loss: 0.1407 - val_accuracy: 0.9796\n",
      "Epoch 25/150\n",
      "1029/1029 [==============================] - 0s 72us/sample - loss: 0.1375 - accuracy: 0.9757 - val_loss: 0.1380 - val_accuracy: 0.9708\n",
      "Epoch 26/150\n",
      "1029/1029 [==============================] - 0s 72us/sample - loss: 0.1348 - accuracy: 0.9699 - val_loss: 0.1354 - val_accuracy: 0.9708\n",
      "Epoch 27/150\n",
      "1029/1029 [==============================] - 0s 69us/sample - loss: 0.1321 - accuracy: 0.9718 - val_loss: 0.1330 - val_accuracy: 0.9708\n",
      "Epoch 28/150\n",
      "1029/1029 [==============================] - 0s 71us/sample - loss: 0.1296 - accuracy: 0.9738 - val_loss: 0.1305 - val_accuracy: 0.9708\n",
      "Epoch 29/150\n",
      "1029/1029 [==============================] - 0s 70us/sample - loss: 0.1273 - accuracy: 0.9738 - val_loss: 0.1283 - val_accuracy: 0.9738\n",
      "Epoch 30/150\n",
      "1029/1029 [==============================] - 0s 71us/sample - loss: 0.1250 - accuracy: 0.9747 - val_loss: 0.1259 - val_accuracy: 0.9738\n",
      "Epoch 31/150\n",
      "1029/1029 [==============================] - 0s 77us/sample - loss: 0.1226 - accuracy: 0.9767 - val_loss: 0.1238 - val_accuracy: 0.9738\n",
      "Epoch 32/150\n",
      "1029/1029 [==============================] - 0s 125us/sample - loss: 0.1204 - accuracy: 0.9776 - val_loss: 0.1217 - val_accuracy: 0.9738\n",
      "Epoch 33/150\n",
      "1029/1029 [==============================] - 0s 260us/sample - loss: 0.1183 - accuracy: 0.9776 - val_loss: 0.1198 - val_accuracy: 0.9738\n",
      "Epoch 34/150\n",
      "1029/1029 [==============================] - 0s 315us/sample - loss: 0.1162 - accuracy: 0.9796 - val_loss: 0.1178 - val_accuracy: 0.9738\n",
      "Epoch 35/150\n",
      "1029/1029 [==============================] - 0s 401us/sample - loss: 0.1143 - accuracy: 0.9806 - val_loss: 0.1159 - val_accuracy: 0.9767\n",
      "Epoch 36/150\n",
      "1029/1029 [==============================] - 0s 141us/sample - loss: 0.1123 - accuracy: 0.9796 - val_loss: 0.1141 - val_accuracy: 0.9767\n",
      "Epoch 37/150\n",
      "1029/1029 [==============================] - 0s 94us/sample - loss: 0.1105 - accuracy: 0.9806 - val_loss: 0.1124 - val_accuracy: 0.9767\n",
      "Epoch 38/150\n",
      "1029/1029 [==============================] - 0s 69us/sample - loss: 0.1087 - accuracy: 0.9815 - val_loss: 0.1106 - val_accuracy: 0.9679\n",
      "Epoch 39/150\n",
      "1029/1029 [==============================] - 0s 69us/sample - loss: 0.1070 - accuracy: 0.9815 - val_loss: 0.1090 - val_accuracy: 0.9679\n",
      "Epoch 40/150\n",
      "1029/1029 [==============================] - 0s 69us/sample - loss: 0.1053 - accuracy: 0.9815 - val_loss: 0.1073 - val_accuracy: 0.9679\n",
      "Epoch 41/150\n",
      "1029/1029 [==============================] - 0s 75us/sample - loss: 0.1036 - accuracy: 0.9815 - val_loss: 0.1059 - val_accuracy: 0.9679\n",
      "Epoch 42/150\n",
      "1029/1029 [==============================] - 0s 75us/sample - loss: 0.1021 - accuracy: 0.9825 - val_loss: 0.1044 - val_accuracy: 0.9679\n",
      "Epoch 43/150\n",
      "1029/1029 [==============================] - 0s 71us/sample - loss: 0.1006 - accuracy: 0.9825 - val_loss: 0.1030 - val_accuracy: 0.9767\n",
      "Epoch 44/150\n",
      "1029/1029 [==============================] - 0s 72us/sample - loss: 0.0991 - accuracy: 0.9825 - val_loss: 0.1016 - val_accuracy: 0.9679\n",
      "Epoch 45/150\n",
      "1029/1029 [==============================] - 0s 68us/sample - loss: 0.0977 - accuracy: 0.9825 - val_loss: 0.1002 - val_accuracy: 0.9679\n",
      "Epoch 46/150\n",
      "1029/1029 [==============================] - 0s 69us/sample - loss: 0.0962 - accuracy: 0.9825 - val_loss: 0.0990 - val_accuracy: 0.9767\n",
      "Epoch 47/150\n",
      "1029/1029 [==============================] - 0s 70us/sample - loss: 0.0949 - accuracy: 0.9825 - val_loss: 0.0977 - val_accuracy: 0.9767\n",
      "Epoch 48/150\n",
      "1029/1029 [==============================] - 0s 74us/sample - loss: 0.0935 - accuracy: 0.9835 - val_loss: 0.0964 - val_accuracy: 0.9767\n",
      "Epoch 49/150\n",
      "1029/1029 [==============================] - 0s 70us/sample - loss: 0.0923 - accuracy: 0.9845 - val_loss: 0.0953 - val_accuracy: 0.9767\n",
      "Epoch 50/150\n",
      "1029/1029 [==============================] - 0s 72us/sample - loss: 0.0910 - accuracy: 0.9845 - val_loss: 0.0941 - val_accuracy: 0.9767\n",
      "Epoch 51/150\n",
      "1029/1029 [==============================] - 0s 73us/sample - loss: 0.0899 - accuracy: 0.9845 - val_loss: 0.0930 - val_accuracy: 0.9767\n",
      "Epoch 52/150\n",
      "1029/1029 [==============================] - 0s 73us/sample - loss: 0.0887 - accuracy: 0.9845 - val_loss: 0.0919 - val_accuracy: 0.9767\n",
      "Epoch 53/150\n",
      "1029/1029 [==============================] - 0s 72us/sample - loss: 0.0875 - accuracy: 0.9845 - val_loss: 0.0908 - val_accuracy: 0.9767\n",
      "Epoch 54/150\n"
     ]
    },
    {
     "name": "stdout",
     "output_type": "stream",
     "text": [
      "1029/1029 [==============================] - 0s 68us/sample - loss: 0.0864 - accuracy: 0.9854 - val_loss: 0.0898 - val_accuracy: 0.9767\n",
      "Epoch 55/150\n",
      "1029/1029 [==============================] - 0s 71us/sample - loss: 0.0853 - accuracy: 0.9854 - val_loss: 0.0888 - val_accuracy: 0.9767\n",
      "Epoch 56/150\n",
      "1029/1029 [==============================] - 0s 71us/sample - loss: 0.0842 - accuracy: 0.9864 - val_loss: 0.0877 - val_accuracy: 0.9767\n",
      "Epoch 57/150\n",
      "1029/1029 [==============================] - 0s 72us/sample - loss: 0.0831 - accuracy: 0.9874 - val_loss: 0.0867 - val_accuracy: 0.9796\n",
      "Epoch 58/150\n",
      "1029/1029 [==============================] - 0s 70us/sample - loss: 0.0821 - accuracy: 0.9874 - val_loss: 0.0858 - val_accuracy: 0.9796\n",
      "Epoch 59/150\n",
      "1029/1029 [==============================] - 0s 71us/sample - loss: 0.0811 - accuracy: 0.9874 - val_loss: 0.0848 - val_accuracy: 0.9796\n",
      "Epoch 60/150\n",
      "1029/1029 [==============================] - 0s 69us/sample - loss: 0.0801 - accuracy: 0.9874 - val_loss: 0.0839 - val_accuracy: 0.9796\n",
      "Epoch 61/150\n",
      "1029/1029 [==============================] - 0s 70us/sample - loss: 0.0792 - accuracy: 0.9874 - val_loss: 0.0831 - val_accuracy: 0.9796\n",
      "Epoch 62/150\n",
      "1029/1029 [==============================] - 0s 70us/sample - loss: 0.0782 - accuracy: 0.9874 - val_loss: 0.0822 - val_accuracy: 0.9796\n",
      "Epoch 63/150\n",
      "1029/1029 [==============================] - 0s 69us/sample - loss: 0.0774 - accuracy: 0.9874 - val_loss: 0.0814 - val_accuracy: 0.9796\n",
      "Epoch 64/150\n",
      "1029/1029 [==============================] - 0s 74us/sample - loss: 0.0765 - accuracy: 0.9874 - val_loss: 0.0806 - val_accuracy: 0.9796\n",
      "Epoch 65/150\n",
      "1029/1029 [==============================] - 0s 70us/sample - loss: 0.0756 - accuracy: 0.9883 - val_loss: 0.0798 - val_accuracy: 0.9796\n",
      "Epoch 66/150\n",
      "1029/1029 [==============================] - 0s 69us/sample - loss: 0.0748 - accuracy: 0.9883 - val_loss: 0.0790 - val_accuracy: 0.9825\n",
      "Epoch 67/150\n",
      "1029/1029 [==============================] - 0s 72us/sample - loss: 0.0740 - accuracy: 0.9883 - val_loss: 0.0782 - val_accuracy: 0.9825\n",
      "Epoch 68/150\n",
      "1029/1029 [==============================] - 0s 71us/sample - loss: 0.0732 - accuracy: 0.9883 - val_loss: 0.0775 - val_accuracy: 0.9825\n",
      "Epoch 69/150\n",
      "1029/1029 [==============================] - 0s 73us/sample - loss: 0.0724 - accuracy: 0.9883 - val_loss: 0.0768 - val_accuracy: 0.9825\n",
      "Epoch 70/150\n",
      "1029/1029 [==============================] - 0s 70us/sample - loss: 0.0716 - accuracy: 0.9883 - val_loss: 0.0761 - val_accuracy: 0.9825\n",
      "Epoch 71/150\n",
      "1029/1029 [==============================] - 0s 69us/sample - loss: 0.0709 - accuracy: 0.9883 - val_loss: 0.0754 - val_accuracy: 0.9825\n",
      "Epoch 72/150\n",
      "1029/1029 [==============================] - 0s 67us/sample - loss: 0.0702 - accuracy: 0.9883 - val_loss: 0.0748 - val_accuracy: 0.9825\n",
      "Epoch 73/150\n",
      "1029/1029 [==============================] - 0s 69us/sample - loss: 0.0694 - accuracy: 0.9883 - val_loss: 0.0741 - val_accuracy: 0.9825\n",
      "Epoch 74/150\n",
      "1029/1029 [==============================] - 0s 73us/sample - loss: 0.0687 - accuracy: 0.9883 - val_loss: 0.0734 - val_accuracy: 0.9825\n",
      "Epoch 75/150\n",
      "1029/1029 [==============================] - 0s 72us/sample - loss: 0.0681 - accuracy: 0.9893 - val_loss: 0.0727 - val_accuracy: 0.9825\n",
      "Epoch 76/150\n",
      "1029/1029 [==============================] - 0s 69us/sample - loss: 0.0674 - accuracy: 0.9893 - val_loss: 0.0721 - val_accuracy: 0.9825\n",
      "Epoch 77/150\n",
      "1029/1029 [==============================] - 0s 68us/sample - loss: 0.0667 - accuracy: 0.9883 - val_loss: 0.0716 - val_accuracy: 0.9825\n",
      "Epoch 78/150\n",
      "1029/1029 [==============================] - 0s 70us/sample - loss: 0.0661 - accuracy: 0.9883 - val_loss: 0.0710 - val_accuracy: 0.9825\n",
      "Epoch 79/150\n",
      "1029/1029 [==============================] - 0s 71us/sample - loss: 0.0654 - accuracy: 0.9893 - val_loss: 0.0704 - val_accuracy: 0.9825\n",
      "Epoch 80/150\n",
      "1029/1029 [==============================] - 0s 70us/sample - loss: 0.0649 - accuracy: 0.9903 - val_loss: 0.0698 - val_accuracy: 0.9825\n",
      "Epoch 81/150\n",
      "1029/1029 [==============================] - 0s 67us/sample - loss: 0.0642 - accuracy: 0.9903 - val_loss: 0.0693 - val_accuracy: 0.9825\n",
      "Epoch 82/150\n",
      "1029/1029 [==============================] - 0s 131us/sample - loss: 0.0636 - accuracy: 0.9903 - val_loss: 0.0688 - val_accuracy: 0.9825\n",
      "Epoch 83/150\n",
      "1029/1029 [==============================] - 0s 76us/sample - loss: 0.0631 - accuracy: 0.9903 - val_loss: 0.0682 - val_accuracy: 0.9825\n",
      "Epoch 84/150\n",
      "1029/1029 [==============================] - 0s 68us/sample - loss: 0.0625 - accuracy: 0.9903 - val_loss: 0.0677 - val_accuracy: 0.9825\n",
      "Epoch 85/150\n",
      "1029/1029 [==============================] - 0s 72us/sample - loss: 0.0619 - accuracy: 0.9903 - val_loss: 0.0671 - val_accuracy: 0.9825\n",
      "Epoch 86/150\n",
      "1029/1029 [==============================] - 0s 79us/sample - loss: 0.0614 - accuracy: 0.9903 - val_loss: 0.0666 - val_accuracy: 0.9825\n",
      "Epoch 87/150\n",
      "1029/1029 [==============================] - 0s 80us/sample - loss: 0.0609 - accuracy: 0.9903 - val_loss: 0.0661 - val_accuracy: 0.9825\n",
      "Epoch 88/150\n",
      "1029/1029 [==============================] - 0s 72us/sample - loss: 0.0603 - accuracy: 0.9903 - val_loss: 0.0656 - val_accuracy: 0.9825\n",
      "Epoch 89/150\n",
      "1029/1029 [==============================] - 0s 71us/sample - loss: 0.0597 - accuracy: 0.9903 - val_loss: 0.0652 - val_accuracy: 0.9825\n",
      "Epoch 90/150\n",
      "1029/1029 [==============================] - 0s 68us/sample - loss: 0.0593 - accuracy: 0.9903 - val_loss: 0.0647 - val_accuracy: 0.9825\n",
      "Epoch 91/150\n",
      "1029/1029 [==============================] - 0s 70us/sample - loss: 0.0587 - accuracy: 0.9903 - val_loss: 0.0642 - val_accuracy: 0.9825\n",
      "Epoch 92/150\n",
      "1029/1029 [==============================] - 0s 70us/sample - loss: 0.0583 - accuracy: 0.9903 - val_loss: 0.0637 - val_accuracy: 0.9825\n",
      "Epoch 93/150\n",
      "1029/1029 [==============================] - 0s 68us/sample - loss: 0.0578 - accuracy: 0.9903 - val_loss: 0.0633 - val_accuracy: 0.9825\n",
      "Epoch 94/150\n",
      "1029/1029 [==============================] - 0s 70us/sample - loss: 0.0573 - accuracy: 0.9903 - val_loss: 0.0629 - val_accuracy: 0.9825\n",
      "Epoch 95/150\n",
      "1029/1029 [==============================] - 0s 132us/sample - loss: 0.0568 - accuracy: 0.9903 - val_loss: 0.0625 - val_accuracy: 0.9825\n",
      "Epoch 96/150\n",
      "1029/1029 [==============================] - 0s 317us/sample - loss: 0.0564 - accuracy: 0.9903 - val_loss: 0.0621 - val_accuracy: 0.9825\n",
      "Epoch 97/150\n",
      "1029/1029 [==============================] - 0s 254us/sample - loss: 0.0559 - accuracy: 0.9903 - val_loss: 0.0618 - val_accuracy: 0.9825\n",
      "Epoch 98/150\n",
      "1029/1029 [==============================] - 0s 348us/sample - loss: 0.0555 - accuracy: 0.9903 - val_loss: 0.0614 - val_accuracy: 0.9825\n",
      "Epoch 99/150\n",
      "1029/1029 [==============================] - 0s 206us/sample - loss: 0.0550 - accuracy: 0.9903 - val_loss: 0.0609 - val_accuracy: 0.9825\n",
      "Epoch 100/150\n",
      "1029/1029 [==============================] - 0s 70us/sample - loss: 0.0546 - accuracy: 0.9903 - val_loss: 0.0605 - val_accuracy: 0.9825\n",
      "Epoch 101/150\n",
      "1029/1029 [==============================] - 0s 63us/sample - loss: 0.0542 - accuracy: 0.9903 - val_loss: 0.0601 - val_accuracy: 0.9825\n",
      "Epoch 102/150\n",
      "1029/1029 [==============================] - 0s 65us/sample - loss: 0.0538 - accuracy: 0.9903 - val_loss: 0.0597 - val_accuracy: 0.9825\n",
      "Epoch 103/150\n",
      "1029/1029 [==============================] - 0s 67us/sample - loss: 0.0534 - accuracy: 0.9903 - val_loss: 0.0594 - val_accuracy: 0.9825\n",
      "Epoch 104/150\n",
      "1029/1029 [==============================] - 0s 70us/sample - loss: 0.0530 - accuracy: 0.9903 - val_loss: 0.0591 - val_accuracy: 0.9825\n",
      "Epoch 105/150\n",
      "1029/1029 [==============================] - 0s 67us/sample - loss: 0.0526 - accuracy: 0.9903 - val_loss: 0.0587 - val_accuracy: 0.9825\n",
      "Epoch 106/150\n",
      "1029/1029 [==============================] - 0s 62us/sample - loss: 0.0522 - accuracy: 0.9903 - val_loss: 0.0584 - val_accuracy: 0.9825\n",
      "Epoch 107/150\n",
      "1029/1029 [==============================] - 0s 62us/sample - loss: 0.0518 - accuracy: 0.9903 - val_loss: 0.0580 - val_accuracy: 0.9825\n",
      "Epoch 108/150\n",
      "1029/1029 [==============================] - 0s 66us/sample - loss: 0.0515 - accuracy: 0.9903 - val_loss: 0.0577 - val_accuracy: 0.9854\n"
     ]
    },
    {
     "name": "stdout",
     "output_type": "stream",
     "text": [
      "Epoch 109/150\n",
      "1029/1029 [==============================] - 0s 66us/sample - loss: 0.0511 - accuracy: 0.9903 - val_loss: 0.0573 - val_accuracy: 0.9854\n",
      "Epoch 110/150\n",
      "1029/1029 [==============================] - 0s 64us/sample - loss: 0.0507 - accuracy: 0.9903 - val_loss: 0.0570 - val_accuracy: 0.9854\n",
      "Epoch 111/150\n",
      "1029/1029 [==============================] - 0s 68us/sample - loss: 0.0504 - accuracy: 0.9903 - val_loss: 0.0567 - val_accuracy: 0.9854\n",
      "Epoch 112/150\n",
      "1029/1029 [==============================] - 0s 70us/sample - loss: 0.0500 - accuracy: 0.9903 - val_loss: 0.0564 - val_accuracy: 0.9854\n",
      "Epoch 113/150\n",
      "1029/1029 [==============================] - 0s 63us/sample - loss: 0.0498 - accuracy: 0.9903 - val_loss: 0.0561 - val_accuracy: 0.9854\n",
      "Epoch 114/150\n",
      "1029/1029 [==============================] - 0s 68us/sample - loss: 0.0494 - accuracy: 0.9903 - val_loss: 0.0558 - val_accuracy: 0.9854\n",
      "Epoch 115/150\n",
      "1029/1029 [==============================] - 0s 67us/sample - loss: 0.0491 - accuracy: 0.9903 - val_loss: 0.0555 - val_accuracy: 0.9825\n",
      "Epoch 116/150\n",
      "1029/1029 [==============================] - 0s 68us/sample - loss: 0.0488 - accuracy: 0.9903 - val_loss: 0.0552 - val_accuracy: 0.9854\n",
      "Epoch 117/150\n",
      "1029/1029 [==============================] - 0s 67us/sample - loss: 0.0484 - accuracy: 0.9903 - val_loss: 0.0548 - val_accuracy: 0.9854\n",
      "Epoch 118/150\n",
      "1029/1029 [==============================] - 0s 67us/sample - loss: 0.0482 - accuracy: 0.9913 - val_loss: 0.0546 - val_accuracy: 0.9883\n",
      "Epoch 119/150\n",
      "1029/1029 [==============================] - 0s 66us/sample - loss: 0.0479 - accuracy: 0.9903 - val_loss: 0.0543 - val_accuracy: 0.9854\n",
      "Epoch 120/150\n",
      "1029/1029 [==============================] - 0s 63us/sample - loss: 0.0475 - accuracy: 0.9903 - val_loss: 0.0540 - val_accuracy: 0.9883\n",
      "Epoch 121/150\n",
      "1029/1029 [==============================] - 0s 65us/sample - loss: 0.0472 - accuracy: 0.9913 - val_loss: 0.0537 - val_accuracy: 0.9883\n",
      "Epoch 122/150\n",
      "1029/1029 [==============================] - 0s 63us/sample - loss: 0.0469 - accuracy: 0.9913 - val_loss: 0.0535 - val_accuracy: 0.9883\n",
      "Epoch 123/150\n",
      "1029/1029 [==============================] - 0s 61us/sample - loss: 0.0466 - accuracy: 0.9913 - val_loss: 0.0532 - val_accuracy: 0.9883\n",
      "Epoch 124/150\n",
      "1029/1029 [==============================] - 0s 65us/sample - loss: 0.0463 - accuracy: 0.9913 - val_loss: 0.0530 - val_accuracy: 0.9883\n",
      "Epoch 125/150\n",
      "1029/1029 [==============================] - 0s 67us/sample - loss: 0.0461 - accuracy: 0.9913 - val_loss: 0.0528 - val_accuracy: 0.9883\n",
      "Epoch 126/150\n",
      "1029/1029 [==============================] - 0s 66us/sample - loss: 0.0458 - accuracy: 0.9913 - val_loss: 0.0525 - val_accuracy: 0.9883\n",
      "Epoch 127/150\n",
      "1029/1029 [==============================] - 0s 62us/sample - loss: 0.0455 - accuracy: 0.9913 - val_loss: 0.0523 - val_accuracy: 0.9883\n",
      "Epoch 128/150\n",
      "1029/1029 [==============================] - 0s 65us/sample - loss: 0.0453 - accuracy: 0.9913 - val_loss: 0.0520 - val_accuracy: 0.9883\n",
      "Epoch 129/150\n",
      "1029/1029 [==============================] - 0s 63us/sample - loss: 0.0450 - accuracy: 0.9913 - val_loss: 0.0517 - val_accuracy: 0.9883\n",
      "Epoch 130/150\n",
      "1029/1029 [==============================] - 0s 64us/sample - loss: 0.0448 - accuracy: 0.9913 - val_loss: 0.0516 - val_accuracy: 0.9883\n",
      "Epoch 131/150\n",
      "1029/1029 [==============================] - 0s 65us/sample - loss: 0.0445 - accuracy: 0.9913 - val_loss: 0.0514 - val_accuracy: 0.9883\n",
      "Epoch 132/150\n",
      "1029/1029 [==============================] - 0s 69us/sample - loss: 0.0442 - accuracy: 0.9913 - val_loss: 0.0511 - val_accuracy: 0.9883\n",
      "Epoch 133/150\n",
      "1029/1029 [==============================] - 0s 77us/sample - loss: 0.0440 - accuracy: 0.9913 - val_loss: 0.0509 - val_accuracy: 0.9883\n",
      "Epoch 134/150\n",
      "1029/1029 [==============================] - 0s 74us/sample - loss: 0.0437 - accuracy: 0.9913 - val_loss: 0.0507 - val_accuracy: 0.9883\n",
      "Epoch 135/150\n",
      "1029/1029 [==============================] - 0s 68us/sample - loss: 0.0435 - accuracy: 0.9913 - val_loss: 0.0504 - val_accuracy: 0.9883\n",
      "Epoch 136/150\n",
      "1029/1029 [==============================] - 0s 70us/sample - loss: 0.0433 - accuracy: 0.9913 - val_loss: 0.0503 - val_accuracy: 0.9883\n",
      "Epoch 137/150\n",
      "1029/1029 [==============================] - 0s 73us/sample - loss: 0.0431 - accuracy: 0.9913 - val_loss: 0.0500 - val_accuracy: 0.9883\n",
      "Epoch 138/150\n",
      "1029/1029 [==============================] - 0s 72us/sample - loss: 0.0428 - accuracy: 0.9913 - val_loss: 0.0498 - val_accuracy: 0.9883\n",
      "Epoch 139/150\n",
      "1029/1029 [==============================] - 0s 73us/sample - loss: 0.0426 - accuracy: 0.9913 - val_loss: 0.0496 - val_accuracy: 0.9883\n",
      "Epoch 140/150\n",
      "1029/1029 [==============================] - 0s 77us/sample - loss: 0.0424 - accuracy: 0.9913 - val_loss: 0.0494 - val_accuracy: 0.9883\n",
      "Epoch 141/150\n",
      "1029/1029 [==============================] - 0s 81us/sample - loss: 0.0422 - accuracy: 0.9913 - val_loss: 0.0492 - val_accuracy: 0.9883\n",
      "Epoch 142/150\n",
      "1029/1029 [==============================] - 0s 76us/sample - loss: 0.0419 - accuracy: 0.9913 - val_loss: 0.0490 - val_accuracy: 0.9883\n",
      "Epoch 143/150\n",
      "1029/1029 [==============================] - 0s 73us/sample - loss: 0.0418 - accuracy: 0.9913 - val_loss: 0.0487 - val_accuracy: 0.9883\n",
      "Epoch 144/150\n",
      "1029/1029 [==============================] - 0s 68us/sample - loss: 0.0415 - accuracy: 0.9913 - val_loss: 0.0485 - val_accuracy: 0.9883\n",
      "Epoch 145/150\n",
      "1029/1029 [==============================] - 0s 67us/sample - loss: 0.0413 - accuracy: 0.9913 - val_loss: 0.0484 - val_accuracy: 0.9883\n",
      "Epoch 146/150\n",
      "1029/1029 [==============================] - 0s 72us/sample - loss: 0.0411 - accuracy: 0.9913 - val_loss: 0.0482 - val_accuracy: 0.9883\n",
      "Epoch 147/150\n",
      "1029/1029 [==============================] - 0s 73us/sample - loss: 0.0409 - accuracy: 0.9913 - val_loss: 0.0481 - val_accuracy: 0.9883\n",
      "Epoch 148/150\n",
      "1029/1029 [==============================] - 0s 77us/sample - loss: 0.0407 - accuracy: 0.9913 - val_loss: 0.0479 - val_accuracy: 0.9883\n",
      "Epoch 149/150\n",
      "1029/1029 [==============================] - 0s 75us/sample - loss: 0.0406 - accuracy: 0.9913 - val_loss: 0.0477 - val_accuracy: 0.9883\n",
      "Epoch 150/150\n",
      "1029/1029 [==============================] - 0s 81us/sample - loss: 0.0405 - accuracy: 0.9913 - val_loss: 0.0475 - val_accuracy: 0.9883\n"
     ]
    }
   ],
   "source": [
    "# Train/fit the model\n",
    "result = model.fit(X_train, y_train,\n",
    "                   validation_data=(X_test, y_test),\n",
    "                   epochs=150);"
   ]
  },
  {
   "cell_type": "code",
   "execution_count": 11,
   "metadata": {},
   "outputs": [
    {
     "name": "stdout",
     "output_type": "stream",
     "text": [
      "WARNING:tensorflow:Falling back from v2 loop because of error: Failed to find data adapter that can handle input: <class 'pandas.core.frame.DataFrame'>, <class 'NoneType'>\n",
      "Train score: 0.9912537\n",
      "WARNING:tensorflow:Falling back from v2 loop because of error: Failed to find data adapter that can handle input: <class 'pandas.core.frame.DataFrame'>, <class 'NoneType'>\n",
      "Test score: 0.9883382\n"
     ]
    }
   ],
   "source": [
    "# Print the results\n",
    "print(\"Train score:\", model.evaluate(x=X_train, y=y_train, verbose=0)[1]);\n",
    "print(\"Test score:\", model.evaluate(x=X_test, y=y_test, verbose=0)[1]);"
   ]
  },
  {
   "cell_type": "code",
   "execution_count": 12,
   "metadata": {},
   "outputs": [
    {
     "data": {
      "image/png": "[encoded data removed]",
      "text/plain": [
       "<Figure size 432x288 with 1 Axes>"
      ]
     },
     "metadata": {
      "needs_background": "light"
     },
     "output_type": "display_data"
    }
   ],
   "source": [
    "# Plot the cost function at each itteration\n",
    "# Note: model.fit() returns an object that contains the history of the training process\n",
    "plt.plot(result.history['loss'], label='loss');\n",
    "plt.plot(result.history['val_loss'], label='val_loss');\n",
    "plt.legend();"
   ]
  },
  {
   "cell_type": "code",
   "execution_count": 13,
   "metadata": {},
   "outputs": [
    {
     "data": {
      "image/png": "[encoded data removed]",
      "text/plain": [
       "<Figure size 432x288 with 1 Axes>"
      ]
     },
     "metadata": {
      "needs_background": "light"
     },
     "output_type": "display_data"
    }
   ],
   "source": [
    "# Plot the cost function at each itteration\n",
    "# Note: model.fit() returns an object that contains the history of the training process\n",
    "plt.plot(result.history['accuracy'], label='loss');\n",
    "plt.plot(result.history['val_accuracy'], label='val_loss');\n",
    "plt.legend();"
   ]
  },
  {
   "cell_type": "code",
   "execution_count": 14,
   "metadata": {},
   "outputs": [],
   "source": [
    "# Save the model\n",
    "model.save('linear_classifier_banknotes.h5')"
   ]
  },
  {
   "cell_type": "markdown",
   "metadata": {},
   "source": [
    "### Try another example"
   ]
  },
  {
   "cell_type": "code",
   "execution_count": 15,
   "metadata": {},
   "outputs": [],
   "source": [
    "# Import the dataset\n",
    "data = load_breast_cancer()"
   ]
  },
  {
   "cell_type": "code",
   "execution_count": 16,
   "metadata": {},
   "outputs": [
    {
     "data": {
      "text/plain": [
       "sklearn.utils.Bunch"
      ]
     },
     "execution_count": 16,
     "metadata": {},
     "output_type": "execute_result"
    }
   ],
   "source": [
    "# Check data type\n",
    "type(data)"
   ]
  },
  {
   "cell_type": "code",
   "execution_count": 17,
   "metadata": {},
   "outputs": [
    {
     "data": {
      "text/plain": [
       "dict_keys(['data', 'target', 'target_names', 'DESCR', 'feature_names', 'filename'])"
      ]
     },
     "execution_count": 17,
     "metadata": {},
     "output_type": "execute_result"
    }
   ],
   "source": [
    "# Bunch is like a dict, so we can have a look at the keys\n",
    "data.keys()"
   ]
  },
  {
   "cell_type": "code",
   "execution_count": 18,
   "metadata": {},
   "outputs": [
    {
     "data": {
      "text/plain": [
       "(569, 30)"
      ]
     },
     "execution_count": 18,
     "metadata": {},
     "output_type": "execute_result"
    }
   ],
   "source": [
    "# Inspect the data shape\n",
    "data.data.shape"
   ]
  },
  {
   "cell_type": "code",
   "execution_count": 19,
   "metadata": {},
   "outputs": [
    {
     "data": {
      "text/plain": [
       "(569,)"
      ]
     },
     "execution_count": 19,
     "metadata": {},
     "output_type": "execute_result"
    }
   ],
   "source": [
    "# Inpect the target shape\n",
    "data.target.shape"
   ]
  },
  {
   "cell_type": "code",
   "execution_count": 20,
   "metadata": {},
   "outputs": [
    {
     "data": {
      "text/plain": [
       "array(['malignant', 'benign'], dtype='<U9')"
      ]
     },
     "execution_count": 20,
     "metadata": {},
     "output_type": "execute_result"
    }
   ],
   "source": [
    "# See what the 1s and 0s mean\n",
    "data.target_names"
   ]
  },
  {
   "cell_type": "code",
   "execution_count": 21,
   "metadata": {},
   "outputs": [],
   "source": [
    "# Scale the data\n",
    "scaler = StandardScaler()\n",
    "data_scaled = scaler.fit_transform(data.data)"
   ]
  },
  {
   "cell_type": "code",
   "execution_count": 22,
   "metadata": {},
   "outputs": [],
   "source": [
    "# Create the train-test split\n",
    "X_train, X_test, y_train, y_test = train_test_split(data_scaled, data.target, test_size=0.25, random_state=100)"
   ]
  },
  {
   "cell_type": "code",
   "execution_count": 23,
   "metadata": {},
   "outputs": [],
   "source": [
    "# Define the model layers\n",
    "D = data_scaled.shape[1] # Size of input vector\n",
    "input_layer = tf.keras.layers.Input(shape=(D,))\n",
    "dense_layer = tf.keras.layers.Dense(1, activation='sigmoid')"
   ]
  },
  {
   "cell_type": "code",
   "execution_count": 24,
   "metadata": {},
   "outputs": [],
   "source": [
    "# Create the model\n",
    "model = tf.keras.Sequential([input_layer, dense_layer])"
   ]
  },
  {
   "cell_type": "code",
   "execution_count": 25,
   "metadata": {},
   "outputs": [],
   "source": [
    "# Define how the model will be trained/fit\n",
    "model.compile(optimizer='adam', # define the optimizer (adam is one way of doing gradient descent)\n",
    "              loss='binary_crossentropy', # define the cost function\n",
    "              metrics=['accuracy']) # define the metrics that tensorflow should keep track of"
   ]
  },
  {
   "cell_type": "code",
   "execution_count": 26,
   "metadata": {
    "scrolled": true
   },
   "outputs": [
    {
     "name": "stdout",
     "output_type": "stream",
     "text": [
      "Train on 426 samples, validate on 143 samples\n",
      "Epoch 1/150\n",
      "426/426 [==============================] - 1s 1ms/sample - loss: 1.3989 - accuracy: 0.1948 - val_loss: 1.4524 - val_accuracy: 0.1888\n",
      "Epoch 2/150\n",
      "426/426 [==============================] - 0s 122us/sample - loss: 1.2646 - accuracy: 0.2300 - val_loss: 1.2977 - val_accuracy: 0.1958\n",
      "Epoch 3/150\n",
      "426/426 [==============================] - 0s 116us/sample - loss: 1.1420 - accuracy: 0.2793 - val_loss: 1.1617 - val_accuracy: 0.2098\n",
      "Epoch 4/150\n",
      "426/426 [==============================] - 0s 114us/sample - loss: 1.0298 - accuracy: 0.3216 - val_loss: 1.0365 - val_accuracy: 0.2727\n",
      "Epoch 5/150\n",
      "426/426 [==============================] - 0s 106us/sample - loss: 0.9305 - accuracy: 0.3944 - val_loss: 0.9271 - val_accuracy: 0.3566\n",
      "Epoch 6/150\n",
      "426/426 [==============================] - 0s 113us/sample - loss: 0.8429 - accuracy: 0.4390 - val_loss: 0.8347 - val_accuracy: 0.4545\n",
      "Epoch 7/150\n",
      "426/426 [==============================] - 0s 105us/sample - loss: 0.7672 - accuracy: 0.5211 - val_loss: 0.7544 - val_accuracy: 0.5594\n",
      "Epoch 8/150\n",
      "426/426 [==============================] - 0s 110us/sample - loss: 0.7008 - accuracy: 0.5751 - val_loss: 0.6857 - val_accuracy: 0.6503\n",
      "Epoch 9/150\n",
      "426/426 [==============================] - 0s 113us/sample - loss: 0.6452 - accuracy: 0.6502 - val_loss: 0.6261 - val_accuracy: 0.6923\n",
      "Epoch 10/150\n",
      "426/426 [==============================] - 0s 111us/sample - loss: 0.5950 - accuracy: 0.6972 - val_loss: 0.5772 - val_accuracy: 0.7343\n",
      "Epoch 11/150\n",
      "426/426 [==============================] - 0s 115us/sample - loss: 0.5534 - accuracy: 0.7324 - val_loss: 0.5345 - val_accuracy: 0.7762\n",
      "Epoch 12/150\n",
      "426/426 [==============================] - 0s 117us/sample - loss: 0.5173 - accuracy: 0.7606 - val_loss: 0.4970 - val_accuracy: 0.8182\n",
      "Epoch 13/150\n",
      "426/426 [==============================] - 0s 113us/sample - loss: 0.4848 - accuracy: 0.7934 - val_loss: 0.4649 - val_accuracy: 0.8531\n",
      "Epoch 14/150\n",
      "426/426 [==============================] - 0s 106us/sample - loss: 0.4564 - accuracy: 0.8099 - val_loss: 0.4369 - val_accuracy: 0.8601\n",
      "Epoch 15/150\n",
      "426/426 [==============================] - 0s 106us/sample - loss: 0.4313 - accuracy: 0.8333 - val_loss: 0.4124 - val_accuracy: 0.8811\n",
      "Epoch 16/150\n",
      "426/426 [==============================] - 0s 103us/sample - loss: 0.4090 - accuracy: 0.8451 - val_loss: 0.3903 - val_accuracy: 0.8811\n",
      "Epoch 17/150\n",
      "426/426 [==============================] - 0s 117us/sample - loss: 0.3888 - accuracy: 0.8615 - val_loss: 0.3707 - val_accuracy: 0.8881\n",
      "Epoch 18/150\n",
      "426/426 [==============================] - 0s 108us/sample - loss: 0.3706 - accuracy: 0.8732 - val_loss: 0.3537 - val_accuracy: 0.8881\n",
      "Epoch 19/150\n",
      "426/426 [==============================] - 0s 113us/sample - loss: 0.3543 - accuracy: 0.8850 - val_loss: 0.3381 - val_accuracy: 0.8951\n",
      "Epoch 20/150\n",
      "426/426 [==============================] - 0s 106us/sample - loss: 0.3396 - accuracy: 0.8897 - val_loss: 0.3235 - val_accuracy: 0.8951\n",
      "Epoch 21/150\n",
      "426/426 [==============================] - 0s 103us/sample - loss: 0.3257 - accuracy: 0.9038 - val_loss: 0.3105 - val_accuracy: 0.9021\n",
      "Epoch 22/150\n",
      "426/426 [==============================] - 0s 110us/sample - loss: 0.3132 - accuracy: 0.9085 - val_loss: 0.2988 - val_accuracy: 0.9091\n",
      "Epoch 23/150\n",
      "426/426 [==============================] - 0s 110us/sample - loss: 0.3015 - accuracy: 0.9131 - val_loss: 0.2878 - val_accuracy: 0.9091\n",
      "Epoch 24/150\n",
      "426/426 [==============================] - 0s 110us/sample - loss: 0.2912 - accuracy: 0.9178 - val_loss: 0.2775 - val_accuracy: 0.9091\n",
      "Epoch 25/150\n",
      "426/426 [==============================] - 0s 110us/sample - loss: 0.2812 - accuracy: 0.9202 - val_loss: 0.2686 - val_accuracy: 0.9091\n",
      "Epoch 26/150\n",
      "426/426 [==============================] - 0s 106us/sample - loss: 0.2724 - accuracy: 0.9225 - val_loss: 0.2601 - val_accuracy: 0.9161\n",
      "Epoch 27/150\n",
      "426/426 [==============================] - 0s 101us/sample - loss: 0.2639 - accuracy: 0.9249 - val_loss: 0.2523 - val_accuracy: 0.9161\n",
      "Epoch 28/150\n",
      "426/426 [==============================] - 0s 117us/sample - loss: 0.2563 - accuracy: 0.9272 - val_loss: 0.2449 - val_accuracy: 0.9161\n",
      "Epoch 29/150\n",
      "426/426 [==============================] - 0s 117us/sample - loss: 0.2491 - accuracy: 0.9272 - val_loss: 0.2381 - val_accuracy: 0.9161\n",
      "Epoch 30/150\n",
      "426/426 [==============================] - 0s 110us/sample - loss: 0.2424 - accuracy: 0.9319 - val_loss: 0.2316 - val_accuracy: 0.9161\n",
      "Epoch 31/150\n",
      "426/426 [==============================] - 0s 110us/sample - loss: 0.2361 - accuracy: 0.9319 - val_loss: 0.2258 - val_accuracy: 0.9161\n",
      "Epoch 32/150\n",
      "426/426 [==============================] - 0s 117us/sample - loss: 0.2301 - accuracy: 0.9343 - val_loss: 0.2200 - val_accuracy: 0.9301\n",
      "Epoch 33/150\n",
      "426/426 [==============================] - 0s 113us/sample - loss: 0.2244 - accuracy: 0.9343 - val_loss: 0.2149 - val_accuracy: 0.9301\n",
      "Epoch 34/150\n",
      "426/426 [==============================] - 0s 113us/sample - loss: 0.2190 - accuracy: 0.9390 - val_loss: 0.2098 - val_accuracy: 0.9301\n",
      "Epoch 35/150\n",
      "426/426 [==============================] - 0s 110us/sample - loss: 0.2141 - accuracy: 0.9390 - val_loss: 0.2047 - val_accuracy: 0.9301\n",
      "Epoch 36/150\n",
      "426/426 [==============================] - 0s 115us/sample - loss: 0.2093 - accuracy: 0.9413 - val_loss: 0.2003 - val_accuracy: 0.9301\n",
      "Epoch 37/150\n",
      "426/426 [==============================] - 0s 113us/sample - loss: 0.2048 - accuracy: 0.9413 - val_loss: 0.1961 - val_accuracy: 0.9371\n",
      "Epoch 38/150\n",
      "426/426 [==============================] - 0s 115us/sample - loss: 0.2006 - accuracy: 0.9437 - val_loss: 0.1920 - val_accuracy: 0.9371\n",
      "Epoch 39/150\n",
      "426/426 [==============================] - 0s 129us/sample - loss: 0.1965 - accuracy: 0.9437 - val_loss: 0.1882 - val_accuracy: 0.9371\n",
      "Epoch 40/150\n",
      "426/426 [==============================] - 0s 120us/sample - loss: 0.1926 - accuracy: 0.9460 - val_loss: 0.1844 - val_accuracy: 0.9371\n",
      "Epoch 41/150\n",
      "426/426 [==============================] - 0s 113us/sample - loss: 0.1890 - accuracy: 0.9484 - val_loss: 0.1810 - val_accuracy: 0.9371\n",
      "Epoch 42/150\n",
      "426/426 [==============================] - 0s 122us/sample - loss: 0.1857 - accuracy: 0.9507 - val_loss: 0.1779 - val_accuracy: 0.9371\n",
      "Epoch 43/150\n",
      "426/426 [==============================] - 0s 116us/sample - loss: 0.1823 - accuracy: 0.9507 - val_loss: 0.1749 - val_accuracy: 0.9371\n",
      "Epoch 44/150\n",
      "426/426 [==============================] - 0s 108us/sample - loss: 0.1792 - accuracy: 0.9531 - val_loss: 0.1720 - val_accuracy: 0.9441\n",
      "Epoch 45/150\n",
      "426/426 [==============================] - 0s 114us/sample - loss: 0.1763 - accuracy: 0.9554 - val_loss: 0.1691 - val_accuracy: 0.9441\n",
      "Epoch 46/150\n",
      "426/426 [==============================] - 0s 113us/sample - loss: 0.1734 - accuracy: 0.9554 - val_loss: 0.1662 - val_accuracy: 0.9441\n",
      "Epoch 47/150\n",
      "426/426 [==============================] - 0s 110us/sample - loss: 0.1705 - accuracy: 0.9554 - val_loss: 0.1637 - val_accuracy: 0.9441\n",
      "Epoch 48/150\n",
      "426/426 [==============================] - 0s 120us/sample - loss: 0.1679 - accuracy: 0.9577 - val_loss: 0.1613 - val_accuracy: 0.9441\n",
      "Epoch 49/150\n",
      "426/426 [==============================] - 0s 115us/sample - loss: 0.1654 - accuracy: 0.9577 - val_loss: 0.1590 - val_accuracy: 0.9441\n",
      "Epoch 50/150\n",
      "426/426 [==============================] - 0s 110us/sample - loss: 0.1629 - accuracy: 0.9577 - val_loss: 0.1570 - val_accuracy: 0.9441\n",
      "Epoch 51/150\n",
      "426/426 [==============================] - 0s 113us/sample - loss: 0.1606 - accuracy: 0.9601 - val_loss: 0.1548 - val_accuracy: 0.9441\n",
      "Epoch 52/150\n",
      "426/426 [==============================] - 0s 106us/sample - loss: 0.1583 - accuracy: 0.9601 - val_loss: 0.1528 - val_accuracy: 0.9441\n",
      "Epoch 53/150\n",
      "426/426 [==============================] - 0s 108us/sample - loss: 0.1562 - accuracy: 0.9601 - val_loss: 0.1509 - val_accuracy: 0.9441\n",
      "Epoch 54/150\n",
      "426/426 [==============================] - 0s 110us/sample - loss: 0.1542 - accuracy: 0.9601 - val_loss: 0.1491 - val_accuracy: 0.9441\n",
      "Epoch 55/150\n",
      "426/426 [==============================] - 0s 106us/sample - loss: 0.1522 - accuracy: 0.9601 - val_loss: 0.1472 - val_accuracy: 0.9441\n",
      "Epoch 56/150\n"
     ]
    },
    {
     "name": "stdout",
     "output_type": "stream",
     "text": [
      "426/426 [==============================] - 0s 108us/sample - loss: 0.1502 - accuracy: 0.9601 - val_loss: 0.1456 - val_accuracy: 0.9441\n",
      "Epoch 57/150\n",
      "426/426 [==============================] - 0s 113us/sample - loss: 0.1484 - accuracy: 0.9624 - val_loss: 0.1442 - val_accuracy: 0.9441\n",
      "Epoch 58/150\n",
      "426/426 [==============================] - 0s 110us/sample - loss: 0.1465 - accuracy: 0.9624 - val_loss: 0.1426 - val_accuracy: 0.9510\n",
      "Epoch 59/150\n",
      "426/426 [==============================] - 0s 106us/sample - loss: 0.1448 - accuracy: 0.9624 - val_loss: 0.1410 - val_accuracy: 0.9580\n",
      "Epoch 60/150\n",
      "426/426 [==============================] - 0s 117us/sample - loss: 0.1431 - accuracy: 0.9624 - val_loss: 0.1396 - val_accuracy: 0.9580\n",
      "Epoch 61/150\n",
      "426/426 [==============================] - 0s 113us/sample - loss: 0.1415 - accuracy: 0.9648 - val_loss: 0.1383 - val_accuracy: 0.9580\n",
      "Epoch 62/150\n",
      "426/426 [==============================] - 0s 99us/sample - loss: 0.1399 - accuracy: 0.9648 - val_loss: 0.1369 - val_accuracy: 0.9580\n",
      "Epoch 63/150\n",
      "426/426 [==============================] - 0s 103us/sample - loss: 0.1384 - accuracy: 0.9648 - val_loss: 0.1356 - val_accuracy: 0.9580\n",
      "Epoch 64/150\n",
      "426/426 [==============================] - 0s 103us/sample - loss: 0.1369 - accuracy: 0.9695 - val_loss: 0.1343 - val_accuracy: 0.9650\n",
      "Epoch 65/150\n",
      "426/426 [==============================] - 0s 110us/sample - loss: 0.1355 - accuracy: 0.9695 - val_loss: 0.1332 - val_accuracy: 0.9650\n",
      "Epoch 66/150\n",
      "426/426 [==============================] - 0s 108us/sample - loss: 0.1342 - accuracy: 0.9695 - val_loss: 0.1322 - val_accuracy: 0.9650\n",
      "Epoch 67/150\n",
      "426/426 [==============================] - 0s 108us/sample - loss: 0.1328 - accuracy: 0.9695 - val_loss: 0.1310 - val_accuracy: 0.9650\n",
      "Epoch 68/150\n",
      "426/426 [==============================] - 0s 108us/sample - loss: 0.1315 - accuracy: 0.9695 - val_loss: 0.1298 - val_accuracy: 0.9650\n",
      "Epoch 69/150\n",
      "426/426 [==============================] - 0s 103us/sample - loss: 0.1302 - accuracy: 0.9695 - val_loss: 0.1288 - val_accuracy: 0.9650\n",
      "Epoch 70/150\n",
      "426/426 [==============================] - 0s 99us/sample - loss: 0.1290 - accuracy: 0.9695 - val_loss: 0.1279 - val_accuracy: 0.9650\n",
      "Epoch 71/150\n",
      "426/426 [==============================] - 0s 103us/sample - loss: 0.1277 - accuracy: 0.9695 - val_loss: 0.1269 - val_accuracy: 0.9650\n",
      "Epoch 72/150\n",
      "426/426 [==============================] - 0s 106us/sample - loss: 0.1266 - accuracy: 0.9695 - val_loss: 0.1258 - val_accuracy: 0.9650\n",
      "Epoch 73/150\n",
      "426/426 [==============================] - 0s 108us/sample - loss: 0.1254 - accuracy: 0.9695 - val_loss: 0.1249 - val_accuracy: 0.9650\n",
      "Epoch 74/150\n",
      "426/426 [==============================] - 0s 120us/sample - loss: 0.1243 - accuracy: 0.9695 - val_loss: 0.1240 - val_accuracy: 0.9650\n",
      "Epoch 75/150\n",
      "426/426 [==============================] - 0s 113us/sample - loss: 0.1232 - accuracy: 0.9695 - val_loss: 0.1230 - val_accuracy: 0.9650\n",
      "Epoch 76/150\n",
      "426/426 [==============================] - 0s 103us/sample - loss: 0.1221 - accuracy: 0.9695 - val_loss: 0.1222 - val_accuracy: 0.9650\n",
      "Epoch 77/150\n",
      "426/426 [==============================] - 0s 106us/sample - loss: 0.1211 - accuracy: 0.9695 - val_loss: 0.1214 - val_accuracy: 0.9650\n",
      "Epoch 78/150\n",
      "426/426 [==============================] - 0s 114us/sample - loss: 0.1200 - accuracy: 0.9695 - val_loss: 0.1206 - val_accuracy: 0.9650\n",
      "Epoch 79/150\n",
      "426/426 [==============================] - 0s 115us/sample - loss: 0.1191 - accuracy: 0.9695 - val_loss: 0.1197 - val_accuracy: 0.9650\n",
      "Epoch 80/150\n",
      "426/426 [==============================] - 0s 117us/sample - loss: 0.1181 - accuracy: 0.9695 - val_loss: 0.1190 - val_accuracy: 0.9650\n",
      "Epoch 81/150\n",
      "426/426 [==============================] - 0s 120us/sample - loss: 0.1172 - accuracy: 0.9695 - val_loss: 0.1182 - val_accuracy: 0.9650\n",
      "Epoch 82/150\n",
      "426/426 [==============================] - 0s 113us/sample - loss: 0.1163 - accuracy: 0.9695 - val_loss: 0.1176 - val_accuracy: 0.9650\n",
      "Epoch 83/150\n",
      "426/426 [==============================] - 0s 106us/sample - loss: 0.1153 - accuracy: 0.9695 - val_loss: 0.1168 - val_accuracy: 0.9650\n",
      "Epoch 84/150\n",
      "426/426 [==============================] - 0s 99us/sample - loss: 0.1145 - accuracy: 0.9695 - val_loss: 0.1161 - val_accuracy: 0.9650\n",
      "Epoch 85/150\n",
      "426/426 [==============================] - 0s 108us/sample - loss: 0.1136 - accuracy: 0.9695 - val_loss: 0.1154 - val_accuracy: 0.9650\n",
      "Epoch 86/150\n",
      "426/426 [==============================] - 0s 114us/sample - loss: 0.1128 - accuracy: 0.9695 - val_loss: 0.1147 - val_accuracy: 0.9650\n",
      "Epoch 87/150\n",
      "426/426 [==============================] - 0s 115us/sample - loss: 0.1120 - accuracy: 0.9718 - val_loss: 0.1141 - val_accuracy: 0.9650\n",
      "Epoch 88/150\n",
      "426/426 [==============================] - 0s 115us/sample - loss: 0.1111 - accuracy: 0.9718 - val_loss: 0.1135 - val_accuracy: 0.9650\n",
      "Epoch 89/150\n",
      "426/426 [==============================] - 0s 127us/sample - loss: 0.1104 - accuracy: 0.9718 - val_loss: 0.1129 - val_accuracy: 0.9650\n",
      "Epoch 90/150\n",
      "426/426 [==============================] - 0s 110us/sample - loss: 0.1096 - accuracy: 0.9718 - val_loss: 0.1123 - val_accuracy: 0.9650\n",
      "Epoch 91/150\n",
      "426/426 [==============================] - 0s 108us/sample - loss: 0.1089 - accuracy: 0.9718 - val_loss: 0.1117 - val_accuracy: 0.9650\n",
      "Epoch 92/150\n",
      "426/426 [==============================] - 0s 108us/sample - loss: 0.1081 - accuracy: 0.9718 - val_loss: 0.1111 - val_accuracy: 0.9650\n",
      "Epoch 93/150\n",
      "426/426 [==============================] - 0s 108us/sample - loss: 0.1074 - accuracy: 0.9718 - val_loss: 0.1107 - val_accuracy: 0.9650\n",
      "Epoch 94/150\n",
      "426/426 [==============================] - 0s 97us/sample - loss: 0.1067 - accuracy: 0.9718 - val_loss: 0.1101 - val_accuracy: 0.9650\n",
      "Epoch 95/150\n",
      "426/426 [==============================] - 0s 108us/sample - loss: 0.1060 - accuracy: 0.9718 - val_loss: 0.1097 - val_accuracy: 0.9650\n",
      "Epoch 96/150\n",
      "426/426 [==============================] - 0s 110us/sample - loss: 0.1053 - accuracy: 0.9718 - val_loss: 0.1091 - val_accuracy: 0.9650\n",
      "Epoch 97/150\n",
      "426/426 [==============================] - 0s 103us/sample - loss: 0.1047 - accuracy: 0.9718 - val_loss: 0.1087 - val_accuracy: 0.9650\n",
      "Epoch 98/150\n",
      "426/426 [==============================] - 0s 101us/sample - loss: 0.1041 - accuracy: 0.9718 - val_loss: 0.1080 - val_accuracy: 0.9650\n",
      "Epoch 99/150\n",
      "426/426 [==============================] - 0s 103us/sample - loss: 0.1034 - accuracy: 0.9765 - val_loss: 0.1076 - val_accuracy: 0.9650\n",
      "Epoch 100/150\n",
      "426/426 [==============================] - 0s 108us/sample - loss: 0.1028 - accuracy: 0.9765 - val_loss: 0.1072 - val_accuracy: 0.9650\n",
      "Epoch 101/150\n",
      "426/426 [==============================] - 0s 106us/sample - loss: 0.1022 - accuracy: 0.9765 - val_loss: 0.1068 - val_accuracy: 0.9650\n",
      "Epoch 102/150\n",
      "426/426 [==============================] - 0s 96us/sample - loss: 0.1016 - accuracy: 0.9789 - val_loss: 0.1064 - val_accuracy: 0.9650\n",
      "Epoch 103/150\n",
      "426/426 [==============================] - 0s 104us/sample - loss: 0.1010 - accuracy: 0.9789 - val_loss: 0.1060 - val_accuracy: 0.9650\n",
      "Epoch 104/150\n",
      "426/426 [==============================] - 0s 108us/sample - loss: 0.1005 - accuracy: 0.9789 - val_loss: 0.1057 - val_accuracy: 0.9650\n",
      "Epoch 105/150\n",
      "426/426 [==============================] - 0s 101us/sample - loss: 0.0999 - accuracy: 0.9789 - val_loss: 0.1053 - val_accuracy: 0.9650\n",
      "Epoch 106/150\n",
      "426/426 [==============================] - 0s 106us/sample - loss: 0.0993 - accuracy: 0.9836 - val_loss: 0.1050 - val_accuracy: 0.9650\n",
      "Epoch 107/150\n",
      "426/426 [==============================] - 0s 108us/sample - loss: 0.0988 - accuracy: 0.9836 - val_loss: 0.1046 - val_accuracy: 0.9650\n",
      "Epoch 108/150\n",
      "426/426 [==============================] - 0s 106us/sample - loss: 0.0982 - accuracy: 0.9836 - val_loss: 0.1041 - val_accuracy: 0.9650\n",
      "Epoch 109/150\n",
      "426/426 [==============================] - 0s 108us/sample - loss: 0.0977 - accuracy: 0.9836 - val_loss: 0.1038 - val_accuracy: 0.9650\n",
      "Epoch 110/150\n",
      "426/426 [==============================] - 0s 108us/sample - loss: 0.0972 - accuracy: 0.9836 - val_loss: 0.1035 - val_accuracy: 0.9650\n",
      "Epoch 111/150\n"
     ]
    },
    {
     "name": "stdout",
     "output_type": "stream",
     "text": [
      "426/426 [==============================] - 0s 108us/sample - loss: 0.0967 - accuracy: 0.9836 - val_loss: 0.1030 - val_accuracy: 0.9650\n",
      "Epoch 112/150\n",
      "426/426 [==============================] - 0s 110us/sample - loss: 0.0962 - accuracy: 0.9836 - val_loss: 0.1028 - val_accuracy: 0.9650\n",
      "Epoch 113/150\n",
      "426/426 [==============================] - 0s 110us/sample - loss: 0.0957 - accuracy: 0.9836 - val_loss: 0.1024 - val_accuracy: 0.9650\n",
      "Epoch 114/150\n",
      "426/426 [==============================] - 0s 113us/sample - loss: 0.0952 - accuracy: 0.9836 - val_loss: 0.1021 - val_accuracy: 0.9650\n",
      "Epoch 115/150\n",
      "426/426 [==============================] - 0s 115us/sample - loss: 0.0947 - accuracy: 0.9836 - val_loss: 0.1019 - val_accuracy: 0.9650\n",
      "Epoch 116/150\n",
      "426/426 [==============================] - 0s 113us/sample - loss: 0.0943 - accuracy: 0.9836 - val_loss: 0.1015 - val_accuracy: 0.9650\n",
      "Epoch 117/150\n",
      "426/426 [==============================] - 0s 120us/sample - loss: 0.0938 - accuracy: 0.9836 - val_loss: 0.1013 - val_accuracy: 0.9650\n",
      "Epoch 118/150\n",
      "426/426 [==============================] - 0s 108us/sample - loss: 0.0934 - accuracy: 0.9836 - val_loss: 0.1010 - val_accuracy: 0.9650\n",
      "Epoch 119/150\n",
      "426/426 [==============================] - 0s 103us/sample - loss: 0.0930 - accuracy: 0.9836 - val_loss: 0.1006 - val_accuracy: 0.9650\n",
      "Epoch 120/150\n",
      "426/426 [==============================] - 0s 113us/sample - loss: 0.0925 - accuracy: 0.9836 - val_loss: 0.1005 - val_accuracy: 0.9650\n",
      "Epoch 121/150\n",
      "426/426 [==============================] - 0s 110us/sample - loss: 0.0921 - accuracy: 0.9836 - val_loss: 0.1003 - val_accuracy: 0.9650\n",
      "Epoch 122/150\n",
      "426/426 [==============================] - 0s 106us/sample - loss: 0.0917 - accuracy: 0.9836 - val_loss: 0.0999 - val_accuracy: 0.9650\n",
      "Epoch 123/150\n",
      "426/426 [==============================] - 0s 113us/sample - loss: 0.0912 - accuracy: 0.9836 - val_loss: 0.0998 - val_accuracy: 0.9650\n",
      "Epoch 124/150\n",
      "426/426 [==============================] - 0s 110us/sample - loss: 0.0908 - accuracy: 0.9836 - val_loss: 0.0995 - val_accuracy: 0.9650\n",
      "Epoch 125/150\n",
      "426/426 [==============================] - 0s 103us/sample - loss: 0.0904 - accuracy: 0.9836 - val_loss: 0.0992 - val_accuracy: 0.9650\n",
      "Epoch 126/150\n",
      "426/426 [==============================] - 0s 104us/sample - loss: 0.0900 - accuracy: 0.9836 - val_loss: 0.0990 - val_accuracy: 0.9650\n",
      "Epoch 127/150\n",
      "426/426 [==============================] - 0s 100us/sample - loss: 0.0897 - accuracy: 0.9836 - val_loss: 0.0987 - val_accuracy: 0.9650\n",
      "Epoch 128/150\n",
      "426/426 [==============================] - 0s 96us/sample - loss: 0.0893 - accuracy: 0.9836 - val_loss: 0.0985 - val_accuracy: 0.9650\n",
      "Epoch 129/150\n",
      "426/426 [==============================] - 0s 108us/sample - loss: 0.0889 - accuracy: 0.9836 - val_loss: 0.0983 - val_accuracy: 0.9650\n",
      "Epoch 130/150\n",
      "426/426 [==============================] - 0s 108us/sample - loss: 0.0885 - accuracy: 0.9836 - val_loss: 0.0980 - val_accuracy: 0.9650\n",
      "Epoch 131/150\n",
      "426/426 [==============================] - 0s 108us/sample - loss: 0.0881 - accuracy: 0.9859 - val_loss: 0.0978 - val_accuracy: 0.9650\n",
      "Epoch 132/150\n",
      "426/426 [==============================] - 0s 101us/sample - loss: 0.0877 - accuracy: 0.9859 - val_loss: 0.0976 - val_accuracy: 0.9650\n",
      "Epoch 133/150\n",
      "426/426 [==============================] - 0s 106us/sample - loss: 0.0874 - accuracy: 0.9859 - val_loss: 0.0973 - val_accuracy: 0.9650\n",
      "Epoch 134/150\n",
      "426/426 [==============================] - 0s 113us/sample - loss: 0.0871 - accuracy: 0.9859 - val_loss: 0.0970 - val_accuracy: 0.9650\n",
      "Epoch 135/150\n",
      "426/426 [==============================] - 0s 117us/sample - loss: 0.0867 - accuracy: 0.9859 - val_loss: 0.0969 - val_accuracy: 0.9650\n",
      "Epoch 136/150\n",
      "426/426 [==============================] - 0s 124us/sample - loss: 0.0863 - accuracy: 0.9859 - val_loss: 0.0967 - val_accuracy: 0.9650\n",
      "Epoch 137/150\n",
      "426/426 [==============================] - 0s 115us/sample - loss: 0.0860 - accuracy: 0.9859 - val_loss: 0.0965 - val_accuracy: 0.9650\n",
      "Epoch 138/150\n",
      "426/426 [==============================] - 0s 108us/sample - loss: 0.0857 - accuracy: 0.9859 - val_loss: 0.0963 - val_accuracy: 0.9650\n",
      "Epoch 139/150\n",
      "426/426 [==============================] - 0s 103us/sample - loss: 0.0853 - accuracy: 0.9859 - val_loss: 0.0961 - val_accuracy: 0.9650\n",
      "Epoch 140/150\n",
      "426/426 [==============================] - 0s 108us/sample - loss: 0.0850 - accuracy: 0.9859 - val_loss: 0.0957 - val_accuracy: 0.9650\n",
      "Epoch 141/150\n",
      "426/426 [==============================] - 0s 113us/sample - loss: 0.0847 - accuracy: 0.9859 - val_loss: 0.0954 - val_accuracy: 0.9650\n",
      "Epoch 142/150\n",
      "426/426 [==============================] - 0s 117us/sample - loss: 0.0844 - accuracy: 0.9859 - val_loss: 0.0953 - val_accuracy: 0.9650\n",
      "Epoch 143/150\n",
      "426/426 [==============================] - 0s 110us/sample - loss: 0.0841 - accuracy: 0.9859 - val_loss: 0.0951 - val_accuracy: 0.9650\n",
      "Epoch 144/150\n",
      "426/426 [==============================] - 0s 113us/sample - loss: 0.0838 - accuracy: 0.9859 - val_loss: 0.0948 - val_accuracy: 0.9650\n",
      "Epoch 145/150\n",
      "426/426 [==============================] - 0s 110us/sample - loss: 0.0834 - accuracy: 0.9859 - val_loss: 0.0947 - val_accuracy: 0.9650\n",
      "Epoch 146/150\n",
      "426/426 [==============================] - 0s 108us/sample - loss: 0.0831 - accuracy: 0.9859 - val_loss: 0.0946 - val_accuracy: 0.9650\n",
      "Epoch 147/150\n",
      "426/426 [==============================] - 0s 103us/sample - loss: 0.0828 - accuracy: 0.9859 - val_loss: 0.0943 - val_accuracy: 0.9650\n",
      "Epoch 148/150\n",
      "426/426 [==============================] - 0s 108us/sample - loss: 0.0826 - accuracy: 0.9859 - val_loss: 0.0941 - val_accuracy: 0.9650\n",
      "Epoch 149/150\n",
      "426/426 [==============================] - 0s 117us/sample - loss: 0.0823 - accuracy: 0.9859 - val_loss: 0.0939 - val_accuracy: 0.9650\n",
      "Epoch 150/150\n",
      "426/426 [==============================] - 0s 116us/sample - loss: 0.0819 - accuracy: 0.9859 - val_loss: 0.0937 - val_accuracy: 0.9650\n"
     ]
    }
   ],
   "source": [
    "# Train/fit the model\n",
    "result = model.fit(X_train, y_train,\n",
    "                   validation_data=(X_test, y_test),\n",
    "                   epochs=150);"
   ]
  },
  {
   "cell_type": "code",
   "execution_count": 27,
   "metadata": {},
   "outputs": [
    {
     "name": "stdout",
     "output_type": "stream",
     "text": [
      "Train score: 0.9859155\n",
      "Test score: 0.96503496\n"
     ]
    }
   ],
   "source": [
    "# Print the results\n",
    "print(\"Train score:\", model.evaluate(x=X_train, y=y_train, verbose=0)[1]);\n",
    "print(\"Test score:\", model.evaluate(x=X_test, y=y_test, verbose=0)[1]);"
   ]
  },
  {
   "cell_type": "code",
   "execution_count": 28,
   "metadata": {},
   "outputs": [
    {
     "data": {
      "image/png": "[encoded data removed]",
      "text/plain": [
       "<Figure size 432x288 with 1 Axes>"
      ]
     },
     "metadata": {
      "needs_background": "light"
     },
     "output_type": "display_data"
    }
   ],
   "source": [
    "# Plot the cost function at each itteration\n",
    "# Note: model.fit() returns an object that contains the history of the training process\n",
    "plt.plot(result.history['loss'], label='loss');\n",
    "plt.plot(result.history['val_loss'], label='val_loss');\n",
    "plt.legend();"
   ]
  },
  {
   "cell_type": "code",
   "execution_count": 29,
   "metadata": {},
   "outputs": [
    {
     "data": {
      "image/png": "[encoded data removed]",
      "text/plain": [
       "<Figure size 432x288 with 1 Axes>"
      ]
     },
     "metadata": {
      "needs_background": "light"
     },
     "output_type": "display_data"
    }
   ],
   "source": [
    "# Plot the cost function at each itteration\n",
    "# Note: model.fit() returns an object that contains the history of the training process\n",
    "plt.plot(result.history['accuracy'], label='loss');\n",
    "plt.plot(result.history['val_accuracy'], label='val_loss');\n",
    "plt.legend();"
   ]
  },
  {
   "cell_type": "code",
   "execution_count": 30,
   "metadata": {},
   "outputs": [],
   "source": [
    "# Save the model\n",
    "model.save('linear_classifier_breast_cancer.h5')"
   ]
  },
  {
   "cell_type": "code",
   "execution_count": 31,
   "metadata": {},
   "outputs": [
    {
     "name": "stdout",
     "output_type": "stream",
     "text": [
      "[<tensorflow.python.keras.layers.core.Dense object at 0x0000020BED0F5C08>]\n"
     ]
    }
   ],
   "source": [
    "# Load the model\n",
    "model = tf.keras.models.load_model('linear_classifier_breast_cancer.h5')\n",
    "print(model.layers)"
   ]
  },
  {
   "cell_type": "code",
   "execution_count": 32,
   "metadata": {},
   "outputs": [
    {
     "name": "stdout",
     "output_type": "stream",
     "text": [
      "Train score: 0.9859155\n",
      "Test score: 0.96503496\n"
     ]
    }
   ],
   "source": [
    "# Print the results\n",
    "print(\"Train score:\", model.evaluate(x=X_train, y=y_train, verbose=0)[1]);\n",
    "print(\"Test score:\", model.evaluate(x=X_test, y=y_test, verbose=0)[1]);"
   ]
  },
  {
   "cell_type": "markdown",
   "metadata": {},
   "source": [
    "It worked! :D"
   ]
  },
  {
   "cell_type": "code",
   "execution_count": null,
   "metadata": {},
   "outputs": [],
   "source": []
  },
  {
   "cell_type": "code",
   "execution_count": null,
   "metadata": {},
   "outputs": [],
   "source": []
  },
  {
   "cell_type": "code",
   "execution_count": null,
   "metadata": {},
   "outputs": [],
   "source": []
  }
 ],
 "metadata": {
  "kernelspec": {
   "display_name": "Python 3",
   "language": "python",
   "name": "python3"
  },
  "language_info": {
   "codemirror_mode": {
    "name": "ipython",
    "version": 3
   },
   "file_extension": ".py",
   "mimetype": "text/x-python",
   "name": "python",
   "nbconvert_exporter": "python",
   "pygments_lexer": "ipython3",
   "version": "3.7.4"
  }
 },
 "nbformat": 4,
 "nbformat_minor": 2
}
