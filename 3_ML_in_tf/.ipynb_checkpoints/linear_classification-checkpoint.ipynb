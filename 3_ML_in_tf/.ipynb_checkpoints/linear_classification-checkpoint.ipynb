{
 "cells": [
  {
   "cell_type": "code",
   "execution_count": 1,
   "metadata": {},
   "outputs": [],
   "source": [
    "# Import the libraries\n",
    "import tensorflow as tf\n",
    "from tensorflow.python.client import device_lib\n",
    "import matplotlib.pyplot as plt\n",
    "import pandas as pd\n",
    "from sklearn.model_selection import train_test_split\n",
    "from sklearn.datasets import load_breast_cancer\n",
    "from sklearn.preprocessing import StandardScaler"
   ]
  },
  {
   "cell_type": "code",
   "execution_count": 2,
   "metadata": {},
   "outputs": [
    {
     "data": {
      "text/plain": [
       "True"
      ]
     },
     "execution_count": 2,
     "metadata": {},
     "output_type": "execute_result"
    }
   ],
   "source": [
    "# Check that a GPU is available\n",
    "tf.test.is_gpu_available(\n",
    "    cuda_only=False,\n",
    "    min_cuda_compute_capability=None\n",
    ")"
   ]
  },
  {
   "cell_type": "code",
   "execution_count": 3,
   "metadata": {},
   "outputs": [
    {
     "name": "stdout",
     "output_type": "stream",
     "text": [
      "Num GPUs Available:  1\n"
     ]
    }
   ],
   "source": [
    "# Check the number of GPUs available\n",
    "print(\"Num GPUs Available: \", len(tf.config.experimental.list_physical_devices('GPU')))"
   ]
  },
  {
   "cell_type": "code",
   "execution_count": 4,
   "metadata": {},
   "outputs": [
    {
     "data": {
      "text/plain": [
       "[name: \"/device:CPU:0\"\n",
       " device_type: \"CPU\"\n",
       " memory_limit: 268435456\n",
       " locality {\n",
       " }\n",
       " incarnation: 4619965414584359703, name: \"/device:GPU:0\"\n",
       " device_type: \"GPU\"\n",
       " memory_limit: 4937233203\n",
       " locality {\n",
       "   bus_id: 1\n",
       "   links {\n",
       "   }\n",
       " }\n",
       " incarnation: 10946558795709127065\n",
       " physical_device_desc: \"device: 0, name: GeForce GTX 1060, pci bus id: 0000:01:00.0, compute capability: 6.1\"]"
      ]
     },
     "execution_count": 4,
     "metadata": {},
     "output_type": "execute_result"
    }
   ],
   "source": [
    "# Get device details\n",
    "device_lib.list_local_devices()"
   ]
  },
  {
   "cell_type": "markdown",
   "metadata": {},
   "source": [
    "### Simple logistic regression model"
   ]
  },
  {
   "cell_type": "code",
   "execution_count": 5,
   "metadata": {},
   "outputs": [
    {
     "data": {
      "text/html": [
       "<div>\n",
       "<style scoped>\n",
       "    .dataframe tbody tr th:only-of-type {\n",
       "        vertical-align: middle;\n",
       "    }\n",
       "\n",
       "    .dataframe tbody tr th {\n",
       "        vertical-align: top;\n",
       "    }\n",
       "\n",
       "    .dataframe thead th {\n",
       "        text-align: right;\n",
       "    }\n",
       "</style>\n",
       "<table border=\"1\" class=\"dataframe\">\n",
       "  <thead>\n",
       "    <tr style=\"text-align: right;\">\n",
       "      <th></th>\n",
       "      <th>x1</th>\n",
       "      <th>x2</th>\n",
       "      <th>x3</th>\n",
       "      <th>x4</th>\n",
       "      <th>y</th>\n",
       "    </tr>\n",
       "  </thead>\n",
       "  <tbody>\n",
       "    <tr>\n",
       "      <td>0</td>\n",
       "      <td>3.62160</td>\n",
       "      <td>8.6661</td>\n",
       "      <td>-2.8073</td>\n",
       "      <td>-0.44699</td>\n",
       "      <td>0</td>\n",
       "    </tr>\n",
       "    <tr>\n",
       "      <td>1</td>\n",
       "      <td>4.54590</td>\n",
       "      <td>8.1674</td>\n",
       "      <td>-2.4586</td>\n",
       "      <td>-1.46210</td>\n",
       "      <td>0</td>\n",
       "    </tr>\n",
       "    <tr>\n",
       "      <td>2</td>\n",
       "      <td>3.86600</td>\n",
       "      <td>-2.6383</td>\n",
       "      <td>1.9242</td>\n",
       "      <td>0.10645</td>\n",
       "      <td>0</td>\n",
       "    </tr>\n",
       "    <tr>\n",
       "      <td>3</td>\n",
       "      <td>3.45660</td>\n",
       "      <td>9.5228</td>\n",
       "      <td>-4.0112</td>\n",
       "      <td>-3.59440</td>\n",
       "      <td>0</td>\n",
       "    </tr>\n",
       "    <tr>\n",
       "      <td>4</td>\n",
       "      <td>0.32924</td>\n",
       "      <td>-4.4552</td>\n",
       "      <td>4.5718</td>\n",
       "      <td>-0.98880</td>\n",
       "      <td>0</td>\n",
       "    </tr>\n",
       "  </tbody>\n",
       "</table>\n",
       "</div>"
      ],
      "text/plain": [
       "        x1      x2      x3       x4  y\n",
       "0  3.62160  8.6661 -2.8073 -0.44699  0\n",
       "1  4.54590  8.1674 -2.4586 -1.46210  0\n",
       "2  3.86600 -2.6383  1.9242  0.10645  0\n",
       "3  3.45660  9.5228 -4.0112 -3.59440  0\n",
       "4  0.32924 -4.4552  4.5718 -0.98880  0"
      ]
     },
     "execution_count": 5,
     "metadata": {},
     "output_type": "execute_result"
    }
   ],
   "source": [
    "# Import the data\n",
    "data = pd.read_csv('banknote_data.csv')\n",
    "data.head(n=5)"
   ]
  },
  {
   "cell_type": "code",
   "execution_count": 6,
   "metadata": {},
   "outputs": [],
   "source": [
    "# Prepare the data\n",
    "X = data.iloc[:,0:4]\n",
    "y = data[['y']]\n",
    "\n",
    "# Create the train-test split\n",
    "X_train, X_test, y_train, y_test = train_test_split(X, y, test_size=0.25, random_state=100)"
   ]
  },
  {
   "cell_type": "code",
   "execution_count": 7,
   "metadata": {},
   "outputs": [],
   "source": [
    "# Define the model layers\n",
    "D = X.shape[1] # Size of input vector\n",
    "input_layer = tf.keras.layers.Input(shape=(D,))\n",
    "dense_layer = tf.keras.layers.Dense(1, activation='sigmoid')"
   ]
  },
  {
   "cell_type": "code",
   "execution_count": 8,
   "metadata": {},
   "outputs": [],
   "source": [
    "# Create the model\n",
    "model = tf.keras.Sequential([input_layer, dense_layer])"
   ]
  },
  {
   "cell_type": "code",
   "execution_count": 9,
   "metadata": {},
   "outputs": [],
   "source": [
    "# Define how the model will be trained/fit\n",
    "model.compile(optimizer='adam', # define the optimizer (adam is one way of doing gradient descent)\n",
    "              loss='binary_crossentropy', # define the cost function\n",
    "              metrics=['accuracy']) # define the metrics that tensorflow should keep track of"
   ]
  },
  {
   "cell_type": "code",
   "execution_count": 10,
   "metadata": {
    "scrolled": true
   },
   "outputs": [
    {
     "name": "stdout",
     "output_type": "stream",
     "text": [
      "WARNING:tensorflow:Falling back from v2 loop because of error: Failed to find data adapter that can handle input: <class 'pandas.core.frame.DataFrame'>, <class 'NoneType'>\n",
      "Train on 1029 samples, validate on 343 samples\n",
      "Epoch 1/150\n",
      "1029/1029 [==============================] - 0s 336us/sample - loss: 0.7716 - accuracy: 0.4742 - val_loss: 0.7087 - val_accuracy: 0.5598\n",
      "Epoch 2/150\n",
      "1029/1029 [==============================] - 0s 58us/sample - loss: 0.6833 - accuracy: 0.5909 - val_loss: 0.6362 - val_accuracy: 0.6676\n",
      "Epoch 3/150\n",
      "1029/1029 [==============================] - 0s 100us/sample - loss: 0.6211 - accuracy: 0.6754 - val_loss: 0.5847 - val_accuracy: 0.7114\n",
      "Epoch 4/150\n",
      "1029/1029 [==============================] - 0s 72us/sample - loss: 0.5741 - accuracy: 0.7240 - val_loss: 0.5431 - val_accuracy: 0.7434\n",
      "Epoch 5/150\n",
      "1029/1029 [==============================] - 0s 72us/sample - loss: 0.5351 - accuracy: 0.7648 - val_loss: 0.5086 - val_accuracy: 0.7872\n",
      "Epoch 6/150\n",
      "1029/1029 [==============================] - 0s 72us/sample - loss: 0.5019 - accuracy: 0.7969 - val_loss: 0.4787 - val_accuracy: 0.8222\n",
      "Epoch 7/150\n",
      "1029/1029 [==============================] - 0s 204us/sample - loss: 0.4738 - accuracy: 0.8241 - val_loss: 0.4531 - val_accuracy: 0.8309\n",
      "Epoch 8/150\n",
      "1029/1029 [==============================] - 0s 335us/sample - loss: 0.4487 - accuracy: 0.8367 - val_loss: 0.4291 - val_accuracy: 0.8484\n",
      "Epoch 9/150\n",
      "1029/1029 [==============================] - 0s 356us/sample - loss: 0.4255 - accuracy: 0.8542 - val_loss: 0.4078 - val_accuracy: 0.8601\n",
      "Epoch 10/150\n",
      "1029/1029 [==============================] - 0s 216us/sample - loss: 0.4047 - accuracy: 0.8659 - val_loss: 0.3885 - val_accuracy: 0.8688\n",
      "Epoch 11/150\n",
      "1029/1029 [==============================] - 0s 77us/sample - loss: 0.3855 - accuracy: 0.8737 - val_loss: 0.3706 - val_accuracy: 0.8805\n",
      "Epoch 12/150\n",
      "1029/1029 [==============================] - 0s 103us/sample - loss: 0.3677 - accuracy: 0.8785 - val_loss: 0.3542 - val_accuracy: 0.8921\n",
      "Epoch 13/150\n",
      "1029/1029 [==============================] - 0s 75us/sample - loss: 0.3516 - accuracy: 0.8844 - val_loss: 0.3391 - val_accuracy: 0.8950\n",
      "Epoch 14/150\n",
      "1029/1029 [==============================] - 0s 67us/sample - loss: 0.3365 - accuracy: 0.8931 - val_loss: 0.3251 - val_accuracy: 0.9096\n",
      "Epoch 15/150\n",
      "1029/1029 [==============================] - 0s 63us/sample - loss: 0.3225 - accuracy: 0.8989 - val_loss: 0.3116 - val_accuracy: 0.9155\n",
      "Epoch 16/150\n",
      "1029/1029 [==============================] - 0s 106us/sample - loss: 0.3094 - accuracy: 0.9077 - val_loss: 0.2997 - val_accuracy: 0.9184\n",
      "Epoch 17/150\n",
      "1029/1029 [==============================] - 0s 214us/sample - loss: 0.2976 - accuracy: 0.9116 - val_loss: 0.2884 - val_accuracy: 0.9213\n",
      "Epoch 18/150\n",
      "1029/1029 [==============================] - 0s 251us/sample - loss: 0.2864 - accuracy: 0.9184 - val_loss: 0.2777 - val_accuracy: 0.9242\n",
      "Epoch 19/150\n",
      "1029/1029 [==============================] - 0s 291us/sample - loss: 0.2758 - accuracy: 0.9281 - val_loss: 0.2681 - val_accuracy: 0.9242\n",
      "Epoch 20/150\n",
      "1029/1029 [==============================] - 0s 304us/sample - loss: 0.2660 - accuracy: 0.9291 - val_loss: 0.2589 - val_accuracy: 0.9271\n",
      "Epoch 21/150\n",
      "1029/1029 [==============================] - 0s 278us/sample - loss: 0.2568 - accuracy: 0.9320 - val_loss: 0.2502 - val_accuracy: 0.9329\n",
      "Epoch 22/150\n",
      "1029/1029 [==============================] - 0s 110us/sample - loss: 0.2483 - accuracy: 0.9339 - val_loss: 0.2423 - val_accuracy: 0.9388\n",
      "Epoch 23/150\n",
      "1029/1029 [==============================] - 0s 64us/sample - loss: 0.2404 - accuracy: 0.9359 - val_loss: 0.2348 - val_accuracy: 0.9417\n",
      "Epoch 24/150\n",
      "1029/1029 [==============================] - 0s 69us/sample - loss: 0.2327 - accuracy: 0.9407 - val_loss: 0.2276 - val_accuracy: 0.9417\n",
      "Epoch 25/150\n",
      "1029/1029 [==============================] - 0s 68us/sample - loss: 0.2255 - accuracy: 0.9436 - val_loss: 0.2208 - val_accuracy: 0.9475\n",
      "Epoch 26/150\n",
      "1029/1029 [==============================] - 0s 57us/sample - loss: 0.2188 - accuracy: 0.9475 - val_loss: 0.2145 - val_accuracy: 0.9534\n",
      "Epoch 27/150\n",
      "1029/1029 [==============================] - 0s 71us/sample - loss: 0.2125 - accuracy: 0.9514 - val_loss: 0.2086 - val_accuracy: 0.9534\n",
      "Epoch 28/150\n",
      "1029/1029 [==============================] - 0s 56us/sample - loss: 0.2064 - accuracy: 0.9534 - val_loss: 0.2029 - val_accuracy: 0.9592\n",
      "Epoch 29/150\n",
      "1029/1029 [==============================] - 0s 63us/sample - loss: 0.2007 - accuracy: 0.9553 - val_loss: 0.1975 - val_accuracy: 0.9563\n",
      "Epoch 30/150\n",
      "1029/1029 [==============================] - 0s 65us/sample - loss: 0.1953 - accuracy: 0.9553 - val_loss: 0.1925 - val_accuracy: 0.9592\n",
      "Epoch 31/150\n",
      "1029/1029 [==============================] - 0s 65us/sample - loss: 0.1900 - accuracy: 0.9572 - val_loss: 0.1875 - val_accuracy: 0.9592\n",
      "Epoch 32/150\n",
      "1029/1029 [==============================] - 0s 73us/sample - loss: 0.1851 - accuracy: 0.9602 - val_loss: 0.1829 - val_accuracy: 0.9534\n",
      "Epoch 33/150\n",
      "1029/1029 [==============================] - 0s 55us/sample - loss: 0.1803 - accuracy: 0.9592 - val_loss: 0.1785 - val_accuracy: 0.9534\n",
      "Epoch 34/150\n",
      "1029/1029 [==============================] - 0s 64us/sample - loss: 0.1759 - accuracy: 0.9602 - val_loss: 0.1743 - val_accuracy: 0.9534\n",
      "Epoch 35/150\n",
      "1029/1029 [==============================] - 0s 65us/sample - loss: 0.1717 - accuracy: 0.9621 - val_loss: 0.1702 - val_accuracy: 0.9563\n",
      "Epoch 36/150\n",
      "1029/1029 [==============================] - 0s 73us/sample - loss: 0.1676 - accuracy: 0.9640 - val_loss: 0.1665 - val_accuracy: 0.9621\n",
      "Epoch 37/150\n",
      "1029/1029 [==============================] - 0s 54us/sample - loss: 0.1638 - accuracy: 0.9640 - val_loss: 0.1631 - val_accuracy: 0.9621\n",
      "Epoch 38/150\n",
      "1029/1029 [==============================] - 0s 66us/sample - loss: 0.1601 - accuracy: 0.9650 - val_loss: 0.1595 - val_accuracy: 0.9621\n",
      "Epoch 39/150\n",
      "1029/1029 [==============================] - 0s 64us/sample - loss: 0.1566 - accuracy: 0.9660 - val_loss: 0.1562 - val_accuracy: 0.9650\n",
      "Epoch 40/150\n",
      "1029/1029 [==============================] - 0s 65us/sample - loss: 0.1532 - accuracy: 0.9660 - val_loss: 0.1530 - val_accuracy: 0.9650\n",
      "Epoch 41/150\n",
      "1029/1029 [==============================] - 0s 65us/sample - loss: 0.1499 - accuracy: 0.9679 - val_loss: 0.1499 - val_accuracy: 0.9650\n",
      "Epoch 42/150\n",
      "1029/1029 [==============================] - 0s 72us/sample - loss: 0.1467 - accuracy: 0.9699 - val_loss: 0.1470 - val_accuracy: 0.9650\n",
      "Epoch 43/150\n",
      "1029/1029 [==============================] - 0s 55us/sample - loss: 0.1437 - accuracy: 0.9728 - val_loss: 0.1441 - val_accuracy: 0.9650\n",
      "Epoch 44/150\n",
      "1029/1029 [==============================] - 0s 64us/sample - loss: 0.1408 - accuracy: 0.9728 - val_loss: 0.1415 - val_accuracy: 0.9650\n",
      "Epoch 45/150\n",
      "1029/1029 [==============================] - 0s 65us/sample - loss: 0.1381 - accuracy: 0.9728 - val_loss: 0.1388 - val_accuracy: 0.9679\n",
      "Epoch 46/150\n",
      "1029/1029 [==============================] - 0s 66us/sample - loss: 0.1354 - accuracy: 0.9747 - val_loss: 0.1364 - val_accuracy: 0.9679\n",
      "Epoch 47/150\n",
      "1029/1029 [==============================] - 0s 65us/sample - loss: 0.1328 - accuracy: 0.9757 - val_loss: 0.1338 - val_accuracy: 0.9679\n",
      "Epoch 48/150\n",
      "1029/1029 [==============================] - 0s 64us/sample - loss: 0.1302 - accuracy: 0.9757 - val_loss: 0.1314 - val_accuracy: 0.9679\n",
      "Epoch 49/150\n",
      "1029/1029 [==============================] - 0s 67us/sample - loss: 0.1278 - accuracy: 0.9776 - val_loss: 0.1293 - val_accuracy: 0.9679\n",
      "Epoch 50/150\n",
      "1029/1029 [==============================] - 0s 192us/sample - loss: 0.1254 - accuracy: 0.9786 - val_loss: 0.1271 - val_accuracy: 0.9679\n",
      "Epoch 51/150\n",
      "1029/1029 [==============================] - 0s 329us/sample - loss: 0.1232 - accuracy: 0.9786 - val_loss: 0.1250 - val_accuracy: 0.9679\n",
      "Epoch 52/150\n",
      "1029/1029 [==============================] - 0s 306us/sample - loss: 0.1211 - accuracy: 0.9786 - val_loss: 0.1230 - val_accuracy: 0.9679\n",
      "Epoch 53/150\n",
      "1029/1029 [==============================] - 0s 243us/sample - loss: 0.1191 - accuracy: 0.9815 - val_loss: 0.1212 - val_accuracy: 0.9679\n",
      "Epoch 54/150\n"
     ]
    },
    {
     "name": "stdout",
     "output_type": "stream",
     "text": [
      "1029/1029 [==============================] - 0s 99us/sample - loss: 0.1171 - accuracy: 0.9815 - val_loss: 0.1192 - val_accuracy: 0.9679\n",
      "Epoch 55/150\n",
      "1029/1029 [==============================] - 0s 92us/sample - loss: 0.1150 - accuracy: 0.9815 - val_loss: 0.1174 - val_accuracy: 0.9679\n",
      "Epoch 56/150\n",
      "1029/1029 [==============================] - 0s 67us/sample - loss: 0.1132 - accuracy: 0.9825 - val_loss: 0.1157 - val_accuracy: 0.9679\n",
      "Epoch 57/150\n",
      "1029/1029 [==============================] - 0s 68us/sample - loss: 0.1115 - accuracy: 0.9825 - val_loss: 0.1140 - val_accuracy: 0.9679\n",
      "Epoch 58/150\n",
      "1029/1029 [==============================] - 0s 67us/sample - loss: 0.1096 - accuracy: 0.9825 - val_loss: 0.1123 - val_accuracy: 0.9679\n",
      "Epoch 59/150\n",
      "1029/1029 [==============================] - 0s 68us/sample - loss: 0.1079 - accuracy: 0.9825 - val_loss: 0.1107 - val_accuracy: 0.9679\n",
      "Epoch 60/150\n",
      "1029/1029 [==============================] - 0s 66us/sample - loss: 0.1062 - accuracy: 0.9835 - val_loss: 0.1092 - val_accuracy: 0.9679\n",
      "Epoch 61/150\n",
      "1029/1029 [==============================] - 0s 63us/sample - loss: 0.1046 - accuracy: 0.9835 - val_loss: 0.1077 - val_accuracy: 0.9679\n",
      "Epoch 62/150\n",
      "1029/1029 [==============================] - 0s 63us/sample - loss: 0.1030 - accuracy: 0.9845 - val_loss: 0.1062 - val_accuracy: 0.9679\n",
      "Epoch 63/150\n",
      "1029/1029 [==============================] - 0s 64us/sample - loss: 0.1015 - accuracy: 0.9845 - val_loss: 0.1047 - val_accuracy: 0.9679\n",
      "Epoch 64/150\n",
      "1029/1029 [==============================] - 0s 64us/sample - loss: 0.1000 - accuracy: 0.9874 - val_loss: 0.1033 - val_accuracy: 0.9679\n",
      "Epoch 65/150\n",
      "1029/1029 [==============================] - 0s 63us/sample - loss: 0.0986 - accuracy: 0.9874 - val_loss: 0.1020 - val_accuracy: 0.9679\n",
      "Epoch 66/150\n",
      "1029/1029 [==============================] - 0s 68us/sample - loss: 0.0972 - accuracy: 0.9874 - val_loss: 0.1008 - val_accuracy: 0.9679\n",
      "Epoch 67/150\n",
      "1029/1029 [==============================] - 0s 63us/sample - loss: 0.0958 - accuracy: 0.9874 - val_loss: 0.0995 - val_accuracy: 0.9679\n",
      "Epoch 68/150\n",
      "1029/1029 [==============================] - 0s 63us/sample - loss: 0.0945 - accuracy: 0.9874 - val_loss: 0.0983 - val_accuracy: 0.9708\n",
      "Epoch 69/150\n",
      "1029/1029 [==============================] - 0s 63us/sample - loss: 0.0932 - accuracy: 0.9874 - val_loss: 0.0970 - val_accuracy: 0.9708\n",
      "Epoch 70/150\n",
      "1029/1029 [==============================] - 0s 61us/sample - loss: 0.0919 - accuracy: 0.9874 - val_loss: 0.0959 - val_accuracy: 0.9708\n",
      "Epoch 71/150\n",
      "1029/1029 [==============================] - 0s 65us/sample - loss: 0.0908 - accuracy: 0.9874 - val_loss: 0.0948 - val_accuracy: 0.9708\n",
      "Epoch 72/150\n",
      "1029/1029 [==============================] - 0s 65us/sample - loss: 0.0896 - accuracy: 0.9874 - val_loss: 0.0937 - val_accuracy: 0.9708\n",
      "Epoch 73/150\n",
      "1029/1029 [==============================] - 0s 64us/sample - loss: 0.0884 - accuracy: 0.9883 - val_loss: 0.0927 - val_accuracy: 0.9708\n",
      "Epoch 74/150\n",
      "1029/1029 [==============================] - 0s 61us/sample - loss: 0.0873 - accuracy: 0.9883 - val_loss: 0.0917 - val_accuracy: 0.9708\n",
      "Epoch 75/150\n",
      "1029/1029 [==============================] - 0s 61us/sample - loss: 0.0862 - accuracy: 0.9883 - val_loss: 0.0906 - val_accuracy: 0.9738\n",
      "Epoch 76/150\n",
      "1029/1029 [==============================] - 0s 64us/sample - loss: 0.0851 - accuracy: 0.9883 - val_loss: 0.0896 - val_accuracy: 0.9738\n",
      "Epoch 77/150\n",
      "1029/1029 [==============================] - 0s 64us/sample - loss: 0.0840 - accuracy: 0.9883 - val_loss: 0.0886 - val_accuracy: 0.9738\n",
      "Epoch 78/150\n",
      "1029/1029 [==============================] - 0s 63us/sample - loss: 0.0830 - accuracy: 0.9883 - val_loss: 0.0876 - val_accuracy: 0.9738\n",
      "Epoch 79/150\n",
      "1029/1029 [==============================] - 0s 61us/sample - loss: 0.0820 - accuracy: 0.9883 - val_loss: 0.0867 - val_accuracy: 0.9738\n",
      "Epoch 80/150\n",
      "1029/1029 [==============================] - 0s 66us/sample - loss: 0.0810 - accuracy: 0.9883 - val_loss: 0.0858 - val_accuracy: 0.9738\n",
      "Epoch 81/150\n",
      "1029/1029 [==============================] - 0s 66us/sample - loss: 0.0800 - accuracy: 0.9883 - val_loss: 0.0849 - val_accuracy: 0.9738\n",
      "Epoch 82/150\n",
      "1029/1029 [==============================] - 0s 82us/sample - loss: 0.0791 - accuracy: 0.9883 - val_loss: 0.0841 - val_accuracy: 0.9738\n",
      "Epoch 83/150\n",
      "1029/1029 [==============================] - 0s 95us/sample - loss: 0.0783 - accuracy: 0.9883 - val_loss: 0.0832 - val_accuracy: 0.9738\n",
      "Epoch 84/150\n",
      "1029/1029 [==============================] - 0s 77us/sample - loss: 0.0774 - accuracy: 0.9883 - val_loss: 0.0825 - val_accuracy: 0.9738\n",
      "Epoch 85/150\n",
      "1029/1029 [==============================] - 0s 60us/sample - loss: 0.0765 - accuracy: 0.9883 - val_loss: 0.0817 - val_accuracy: 0.9738\n",
      "Epoch 86/150\n",
      "1029/1029 [==============================] - 0s 74us/sample - loss: 0.0757 - accuracy: 0.9883 - val_loss: 0.0809 - val_accuracy: 0.9738\n",
      "Epoch 87/150\n",
      "1029/1029 [==============================] - 0s 67us/sample - loss: 0.0749 - accuracy: 0.9883 - val_loss: 0.0801 - val_accuracy: 0.9738\n",
      "Epoch 88/150\n",
      "1029/1029 [==============================] - 0s 70us/sample - loss: 0.0740 - accuracy: 0.9903 - val_loss: 0.0793 - val_accuracy: 0.9738\n",
      "Epoch 89/150\n",
      "1029/1029 [==============================] - 0s 67us/sample - loss: 0.0732 - accuracy: 0.9903 - val_loss: 0.0786 - val_accuracy: 0.9738\n",
      "Epoch 90/150\n",
      "1029/1029 [==============================] - 0s 66us/sample - loss: 0.0725 - accuracy: 0.9903 - val_loss: 0.0780 - val_accuracy: 0.9738\n",
      "Epoch 91/150\n",
      "1029/1029 [==============================] - 0s 64us/sample - loss: 0.0718 - accuracy: 0.9903 - val_loss: 0.0773 - val_accuracy: 0.9738\n",
      "Epoch 92/150\n",
      "1029/1029 [==============================] - 0s 63us/sample - loss: 0.0710 - accuracy: 0.9903 - val_loss: 0.0766 - val_accuracy: 0.9738\n",
      "Epoch 93/150\n",
      "1029/1029 [==============================] - 0s 64us/sample - loss: 0.0703 - accuracy: 0.9903 - val_loss: 0.0759 - val_accuracy: 0.9738\n",
      "Epoch 94/150\n",
      "1029/1029 [==============================] - 0s 64us/sample - loss: 0.0696 - accuracy: 0.9903 - val_loss: 0.0753 - val_accuracy: 0.9738\n",
      "Epoch 95/150\n",
      "1029/1029 [==============================] - 0s 67us/sample - loss: 0.0689 - accuracy: 0.9903 - val_loss: 0.0746 - val_accuracy: 0.9738\n",
      "Epoch 96/150\n",
      "1029/1029 [==============================] - 0s 68us/sample - loss: 0.0682 - accuracy: 0.9903 - val_loss: 0.0739 - val_accuracy: 0.9738\n",
      "Epoch 97/150\n",
      "1029/1029 [==============================] - 0s 67us/sample - loss: 0.0676 - accuracy: 0.9903 - val_loss: 0.0734 - val_accuracy: 0.9738\n",
      "Epoch 98/150\n",
      "1029/1029 [==============================] - 0s 68us/sample - loss: 0.0669 - accuracy: 0.9903 - val_loss: 0.0728 - val_accuracy: 0.9738\n",
      "Epoch 99/150\n",
      "1029/1029 [==============================] - 0s 65us/sample - loss: 0.0663 - accuracy: 0.9903 - val_loss: 0.0722 - val_accuracy: 0.9738\n",
      "Epoch 100/150\n",
      "1029/1029 [==============================] - 0s 69us/sample - loss: 0.0656 - accuracy: 0.9903 - val_loss: 0.0717 - val_accuracy: 0.9738\n",
      "Epoch 101/150\n",
      "1029/1029 [==============================] - 0s 65us/sample - loss: 0.0650 - accuracy: 0.9903 - val_loss: 0.0711 - val_accuracy: 0.9738\n",
      "Epoch 102/150\n",
      "1029/1029 [==============================] - 0s 66us/sample - loss: 0.0645 - accuracy: 0.9903 - val_loss: 0.0706 - val_accuracy: 0.9738\n",
      "Epoch 103/150\n",
      "1029/1029 [==============================] - 0s 68us/sample - loss: 0.0639 - accuracy: 0.9903 - val_loss: 0.0700 - val_accuracy: 0.9738\n",
      "Epoch 104/150\n",
      "1029/1029 [==============================] - 0s 67us/sample - loss: 0.0633 - accuracy: 0.9903 - val_loss: 0.0695 - val_accuracy: 0.9738\n",
      "Epoch 105/150\n",
      "1029/1029 [==============================] - 0s 67us/sample - loss: 0.0627 - accuracy: 0.9903 - val_loss: 0.0689 - val_accuracy: 0.9738\n",
      "Epoch 106/150\n",
      "1029/1029 [==============================] - 0s 59us/sample - loss: 0.0622 - accuracy: 0.9903 - val_loss: 0.0684 - val_accuracy: 0.9738\n",
      "Epoch 107/150\n",
      "1029/1029 [==============================] - 0s 72us/sample - loss: 0.0616 - accuracy: 0.9903 - val_loss: 0.0679 - val_accuracy: 0.9738\n",
      "Epoch 108/150\n",
      "1029/1029 [==============================] - 0s 67us/sample - loss: 0.0611 - accuracy: 0.9903 - val_loss: 0.0674 - val_accuracy: 0.9738\n",
      "Epoch 109/150\n"
     ]
    },
    {
     "name": "stdout",
     "output_type": "stream",
     "text": [
      "1029/1029 [==============================] - 0s 65us/sample - loss: 0.0606 - accuracy: 0.9903 - val_loss: 0.0669 - val_accuracy: 0.9738\n",
      "Epoch 110/150\n",
      "1029/1029 [==============================] - 0s 69us/sample - loss: 0.0601 - accuracy: 0.9903 - val_loss: 0.0665 - val_accuracy: 0.9738\n",
      "Epoch 111/150\n",
      "1029/1029 [==============================] - 0s 60us/sample - loss: 0.0596 - accuracy: 0.9903 - val_loss: 0.0660 - val_accuracy: 0.9738\n",
      "Epoch 112/150\n",
      "1029/1029 [==============================] - 0s 70us/sample - loss: 0.0591 - accuracy: 0.9903 - val_loss: 0.0655 - val_accuracy: 0.9738\n",
      "Epoch 113/150\n",
      "1029/1029 [==============================] - 0s 59us/sample - loss: 0.0586 - accuracy: 0.9903 - val_loss: 0.0651 - val_accuracy: 0.9738\n",
      "Epoch 114/150\n",
      "1029/1029 [==============================] - 0s 72us/sample - loss: 0.0581 - accuracy: 0.9903 - val_loss: 0.0647 - val_accuracy: 0.9738\n",
      "Epoch 115/150\n",
      "1029/1029 [==============================] - 0s 67us/sample - loss: 0.0576 - accuracy: 0.9903 - val_loss: 0.0643 - val_accuracy: 0.9738\n",
      "Epoch 116/150\n",
      "1029/1029 [==============================] - 0s 65us/sample - loss: 0.0572 - accuracy: 0.9903 - val_loss: 0.0638 - val_accuracy: 0.9738\n",
      "Epoch 117/150\n",
      "1029/1029 [==============================] - 0s 76us/sample - loss: 0.0568 - accuracy: 0.9903 - val_loss: 0.0634 - val_accuracy: 0.9767\n",
      "Epoch 118/150\n",
      "1029/1029 [==============================] - 0s 74us/sample - loss: 0.0563 - accuracy: 0.9903 - val_loss: 0.0630 - val_accuracy: 0.9767\n",
      "Epoch 119/150\n",
      "1029/1029 [==============================] - 0s 71us/sample - loss: 0.0558 - accuracy: 0.9903 - val_loss: 0.0626 - val_accuracy: 0.9767\n",
      "Epoch 120/150\n",
      "1029/1029 [==============================] - 0s 68us/sample - loss: 0.0554 - accuracy: 0.9913 - val_loss: 0.0622 - val_accuracy: 0.9796\n",
      "Epoch 121/150\n",
      "1029/1029 [==============================] - 0s 89us/sample - loss: 0.0550 - accuracy: 0.9913 - val_loss: 0.0618 - val_accuracy: 0.9796\n",
      "Epoch 122/150\n",
      "1029/1029 [==============================] - 0s 105us/sample - loss: 0.0546 - accuracy: 0.9913 - val_loss: 0.0614 - val_accuracy: 0.9796\n",
      "Epoch 123/150\n",
      "1029/1029 [==============================] - 0s 103us/sample - loss: 0.0542 - accuracy: 0.9913 - val_loss: 0.0611 - val_accuracy: 0.9796\n",
      "Epoch 124/150\n",
      "1029/1029 [==============================] - 0s 95us/sample - loss: 0.0538 - accuracy: 0.9913 - val_loss: 0.0608 - val_accuracy: 0.9796\n",
      "Epoch 125/150\n",
      "1029/1029 [==============================] - 0s 91us/sample - loss: 0.0535 - accuracy: 0.9913 - val_loss: 0.0605 - val_accuracy: 0.9854\n",
      "Epoch 126/150\n",
      "1029/1029 [==============================] - 0s 112us/sample - loss: 0.0531 - accuracy: 0.9913 - val_loss: 0.0601 - val_accuracy: 0.9883\n",
      "Epoch 127/150\n",
      "1029/1029 [==============================] - 0s 119us/sample - loss: 0.0527 - accuracy: 0.9913 - val_loss: 0.0597 - val_accuracy: 0.9796\n",
      "Epoch 128/150\n",
      "1029/1029 [==============================] - 0s 98us/sample - loss: 0.0523 - accuracy: 0.9913 - val_loss: 0.0594 - val_accuracy: 0.9796\n",
      "Epoch 129/150\n",
      "1029/1029 [==============================] - 0s 107us/sample - loss: 0.0519 - accuracy: 0.9913 - val_loss: 0.0590 - val_accuracy: 0.9796\n",
      "Epoch 130/150\n",
      "1029/1029 [==============================] - 0s 111us/sample - loss: 0.0516 - accuracy: 0.9913 - val_loss: 0.0587 - val_accuracy: 0.9796\n",
      "Epoch 131/150\n",
      "1029/1029 [==============================] - 0s 79us/sample - loss: 0.0512 - accuracy: 0.9913 - val_loss: 0.0585 - val_accuracy: 0.9796\n",
      "Epoch 132/150\n",
      "1029/1029 [==============================] - 0s 84us/sample - loss: 0.0509 - accuracy: 0.9913 - val_loss: 0.0581 - val_accuracy: 0.9796\n",
      "Epoch 133/150\n",
      "1029/1029 [==============================] - 0s 91us/sample - loss: 0.0505 - accuracy: 0.9913 - val_loss: 0.0578 - val_accuracy: 0.9796\n",
      "Epoch 134/150\n",
      "1029/1029 [==============================] - 0s 79us/sample - loss: 0.0504 - accuracy: 0.9913 - val_loss: 0.0576 - val_accuracy: 0.9883\n",
      "Epoch 135/150\n",
      "1029/1029 [==============================] - 0s 75us/sample - loss: 0.0499 - accuracy: 0.9913 - val_loss: 0.0572 - val_accuracy: 0.9796\n",
      "Epoch 136/150\n",
      "1029/1029 [==============================] - 0s 75us/sample - loss: 0.0496 - accuracy: 0.9883 - val_loss: 0.0569 - val_accuracy: 0.9796\n",
      "Epoch 137/150\n",
      "1029/1029 [==============================] - 0s 83us/sample - loss: 0.0493 - accuracy: 0.9913 - val_loss: 0.0565 - val_accuracy: 0.9796\n",
      "Epoch 138/150\n",
      "1029/1029 [==============================] - 0s 81us/sample - loss: 0.0490 - accuracy: 0.9913 - val_loss: 0.0563 - val_accuracy: 0.9796\n",
      "Epoch 139/150\n",
      "1029/1029 [==============================] - 0s 81us/sample - loss: 0.0486 - accuracy: 0.9913 - val_loss: 0.0560 - val_accuracy: 0.9796\n",
      "Epoch 140/150\n",
      "1029/1029 [==============================] - 0s 80us/sample - loss: 0.0484 - accuracy: 0.9913 - val_loss: 0.0557 - val_accuracy: 0.9796\n",
      "Epoch 141/150\n",
      "1029/1029 [==============================] - 0s 86us/sample - loss: 0.0481 - accuracy: 0.9883 - val_loss: 0.0554 - val_accuracy: 0.9796\n",
      "Epoch 142/150\n",
      "1029/1029 [==============================] - 0s 87us/sample - loss: 0.0478 - accuracy: 0.9883 - val_loss: 0.0552 - val_accuracy: 0.9767\n",
      "Epoch 143/150\n",
      "1029/1029 [==============================] - 0s 84us/sample - loss: 0.0475 - accuracy: 0.9874 - val_loss: 0.0549 - val_accuracy: 0.9767\n",
      "Epoch 144/150\n",
      "1029/1029 [==============================] - 0s 76us/sample - loss: 0.0472 - accuracy: 0.9874 - val_loss: 0.0546 - val_accuracy: 0.9767\n",
      "Epoch 145/150\n",
      "1029/1029 [==============================] - 0s 83us/sample - loss: 0.0469 - accuracy: 0.9874 - val_loss: 0.0544 - val_accuracy: 0.9767\n",
      "Epoch 146/150\n",
      "1029/1029 [==============================] - 0s 85us/sample - loss: 0.0467 - accuracy: 0.9874 - val_loss: 0.0541 - val_accuracy: 0.9767\n",
      "Epoch 147/150\n",
      "1029/1029 [==============================] - 0s 79us/sample - loss: 0.0465 - accuracy: 0.9874 - val_loss: 0.0539 - val_accuracy: 0.9767\n",
      "Epoch 148/150\n",
      "1029/1029 [==============================] - 0s 74us/sample - loss: 0.0461 - accuracy: 0.9874 - val_loss: 0.0536 - val_accuracy: 0.9767\n",
      "Epoch 149/150\n",
      "1029/1029 [==============================] - 0s 81us/sample - loss: 0.0458 - accuracy: 0.9874 - val_loss: 0.0535 - val_accuracy: 0.9767\n",
      "Epoch 150/150\n",
      "1029/1029 [==============================] - 0s 86us/sample - loss: 0.0456 - accuracy: 0.9874 - val_loss: 0.0532 - val_accuracy: 0.9767\n"
     ]
    }
   ],
   "source": [
    "# Train/fit the model\n",
    "result = model.fit(X_train, y_train,\n",
    "                   validation_data=(X_test, y_test),\n",
    "                   epochs=150);"
   ]
  },
  {
   "cell_type": "code",
   "execution_count": 11,
   "metadata": {},
   "outputs": [
    {
     "name": "stdout",
     "output_type": "stream",
     "text": [
      "WARNING:tensorflow:Falling back from v2 loop because of error: Failed to find data adapter that can handle input: <class 'pandas.core.frame.DataFrame'>, <class 'NoneType'>\n",
      "Train score: 0.9873664\n",
      "WARNING:tensorflow:Falling back from v2 loop because of error: Failed to find data adapter that can handle input: <class 'pandas.core.frame.DataFrame'>, <class 'NoneType'>\n",
      "Test score: 0.9766764\n"
     ]
    }
   ],
   "source": [
    "# Print the results\n",
    "print(\"Train score:\", model.evaluate(x=X_train, y=y_train, verbose=0)[1])\n",
    "print(\"Test score:\", model.evaluate(x=X_test, y=y_test, verbose=0)[1])"
   ]
  },
  {
   "cell_type": "code",
   "execution_count": 12,
   "metadata": {},
   "outputs": [
    {
     "data": {
      "image/png": "[encoded data removed]",
      "text/plain": [
       "<Figure size 432x288 with 1 Axes>"
      ]
     },
     "metadata": {
      "needs_background": "light"
     },
     "output_type": "display_data"
    }
   ],
   "source": [
    "# Plot the cost function at each itteration\n",
    "# Note: model.fit() returns an object that contains the history of the training process\n",
    "plt.plot(result.history['loss'], label='loss');\n",
    "plt.plot(result.history['val_loss'], label='val_loss');\n",
    "plt.legend();"
   ]
  },
  {
   "cell_type": "code",
   "execution_count": 13,
   "metadata": {},
   "outputs": [
    {
     "data": {
      "image/png": "[encoded data removed]",
      "text/plain": [
       "<Figure size 432x288 with 1 Axes>"
      ]
     },
     "metadata": {
      "needs_background": "light"
     },
     "output_type": "display_data"
    }
   ],
   "source": [
    "# Plot the cost function at each itteration\n",
    "# Note: model.fit() returns an object that contains the history of the training process\n",
    "plt.plot(result.history['accuracy'], label='loss');\n",
    "plt.plot(result.history['val_accuracy'], label='val_loss');\n",
    "plt.legend();"
   ]
  },
  {
   "cell_type": "markdown",
   "metadata": {},
   "source": [
    "### Try another example"
   ]
  },
  {
   "cell_type": "code",
   "execution_count": 14,
   "metadata": {},
   "outputs": [],
   "source": [
    "# Import the dataset\n",
    "data = load_breast_cancer()"
   ]
  },
  {
   "cell_type": "code",
   "execution_count": 15,
   "metadata": {},
   "outputs": [
    {
     "data": {
      "text/plain": [
       "sklearn.utils.Bunch"
      ]
     },
     "execution_count": 15,
     "metadata": {},
     "output_type": "execute_result"
    }
   ],
   "source": [
    "# Check data type\n",
    "type(data)"
   ]
  },
  {
   "cell_type": "code",
   "execution_count": 16,
   "metadata": {},
   "outputs": [
    {
     "data": {
      "text/plain": [
       "dict_keys(['data', 'target', 'target_names', 'DESCR', 'feature_names', 'filename'])"
      ]
     },
     "execution_count": 16,
     "metadata": {},
     "output_type": "execute_result"
    }
   ],
   "source": [
    "# Bunch is like a dict, so we can have a look at the keys\n",
    "data.keys()"
   ]
  },
  {
   "cell_type": "code",
   "execution_count": 17,
   "metadata": {},
   "outputs": [
    {
     "data": {
      "text/plain": [
       "(569, 30)"
      ]
     },
     "execution_count": 17,
     "metadata": {},
     "output_type": "execute_result"
    }
   ],
   "source": [
    "# Inspect the data shape\n",
    "data.data.shape"
   ]
  },
  {
   "cell_type": "code",
   "execution_count": 18,
   "metadata": {},
   "outputs": [
    {
     "data": {
      "text/plain": [
       "(569,)"
      ]
     },
     "execution_count": 18,
     "metadata": {},
     "output_type": "execute_result"
    }
   ],
   "source": [
    "# Inpect the target shape\n",
    "data.target.shape"
   ]
  },
  {
   "cell_type": "code",
   "execution_count": 19,
   "metadata": {},
   "outputs": [
    {
     "data": {
      "text/plain": [
       "array(['malignant', 'benign'], dtype='<U9')"
      ]
     },
     "execution_count": 19,
     "metadata": {},
     "output_type": "execute_result"
    }
   ],
   "source": [
    "# See what the 1s and 0s mean\n",
    "data.target_names"
   ]
  },
  {
   "cell_type": "code",
   "execution_count": 20,
   "metadata": {},
   "outputs": [],
   "source": [
    "# Scale the data\n",
    "scaler = StandardScaler()\n",
    "data_scaled = scaler.fit_transform(data.data)"
   ]
  },
  {
   "cell_type": "code",
   "execution_count": 21,
   "metadata": {},
   "outputs": [],
   "source": [
    "# Create the train-test split\n",
    "X_train, X_test, y_train, y_test = train_test_split(data_scaled, data.target, test_size=0.25, random_state=100)"
   ]
  },
  {
   "cell_type": "code",
   "execution_count": 22,
   "metadata": {},
   "outputs": [],
   "source": [
    "# Define the model layers\n",
    "D = data_scaled.shape[1] # Size of input vector\n",
    "input_layer = tf.keras.layers.Input(shape=(D,))\n",
    "dense_layer = tf.keras.layers.Dense(1, activation='sigmoid')"
   ]
  },
  {
   "cell_type": "code",
   "execution_count": 23,
   "metadata": {},
   "outputs": [],
   "source": [
    "# Create the model\n",
    "model = tf.keras.Sequential([input_layer, dense_layer])"
   ]
  },
  {
   "cell_type": "code",
   "execution_count": 24,
   "metadata": {},
   "outputs": [],
   "source": [
    "# Define how the model will be trained/fit\n",
    "model.compile(optimizer='adam', # define the optimizer (adam is one way of doing gradient descent)\n",
    "              loss='binary_crossentropy', # define the cost function\n",
    "              metrics=['accuracy']) # define the metrics that tensorflow should keep track of"
   ]
  },
  {
   "cell_type": "code",
   "execution_count": 25,
   "metadata": {
    "scrolled": true
   },
   "outputs": [
    {
     "name": "stdout",
     "output_type": "stream",
     "text": [
      "Train on 426 samples, validate on 143 samples\n",
      "Epoch 1/150\n",
      "426/426 [==============================] - 1s 1ms/sample - loss: 0.7639 - accuracy: 0.5446 - val_loss: 0.6466 - val_accuracy: 0.6224\n",
      "Epoch 2/150\n",
      "426/426 [==============================] - 0s 120us/sample - loss: 0.6901 - accuracy: 0.6056 - val_loss: 0.5794 - val_accuracy: 0.6993\n",
      "Epoch 3/150\n",
      "426/426 [==============================] - 0s 120us/sample - loss: 0.6269 - accuracy: 0.6643 - val_loss: 0.5210 - val_accuracy: 0.7343\n",
      "Epoch 4/150\n",
      "426/426 [==============================] - 0s 117us/sample - loss: 0.5701 - accuracy: 0.7066 - val_loss: 0.4731 - val_accuracy: 0.7832\n",
      "Epoch 5/150\n",
      "426/426 [==============================] - 0s 103us/sample - loss: 0.5222 - accuracy: 0.7371 - val_loss: 0.4333 - val_accuracy: 0.8252\n",
      "Epoch 6/150\n",
      "426/426 [==============================] - 0s 110us/sample - loss: 0.4816 - accuracy: 0.7770 - val_loss: 0.4002 - val_accuracy: 0.8392\n",
      "Epoch 7/150\n",
      "426/426 [==============================] - 0s 115us/sample - loss: 0.4460 - accuracy: 0.8099 - val_loss: 0.3719 - val_accuracy: 0.8462\n",
      "Epoch 8/150\n",
      "426/426 [==============================] - 0s 106us/sample - loss: 0.4162 - accuracy: 0.8333 - val_loss: 0.3476 - val_accuracy: 0.8741\n",
      "Epoch 9/150\n",
      "426/426 [==============================] - 0s 115us/sample - loss: 0.3898 - accuracy: 0.8545 - val_loss: 0.3267 - val_accuracy: 0.8881\n",
      "Epoch 10/150\n",
      "426/426 [==============================] - 0s 124us/sample - loss: 0.3675 - accuracy: 0.8662 - val_loss: 0.3087 - val_accuracy: 0.8951\n",
      "Epoch 11/150\n",
      "426/426 [==============================] - 0s 122us/sample - loss: 0.3475 - accuracy: 0.8779 - val_loss: 0.2936 - val_accuracy: 0.9161\n",
      "Epoch 12/150\n",
      "426/426 [==============================] - 0s 110us/sample - loss: 0.3307 - accuracy: 0.8897 - val_loss: 0.2799 - val_accuracy: 0.9161\n",
      "Epoch 13/150\n",
      "426/426 [==============================] - 0s 115us/sample - loss: 0.3151 - accuracy: 0.8991 - val_loss: 0.2673 - val_accuracy: 0.9301\n",
      "Epoch 14/150\n",
      "426/426 [==============================] - 0s 113us/sample - loss: 0.3014 - accuracy: 0.9038 - val_loss: 0.2559 - val_accuracy: 0.9371\n",
      "Epoch 15/150\n",
      "426/426 [==============================] - 0s 113us/sample - loss: 0.2884 - accuracy: 0.9085 - val_loss: 0.2458 - val_accuracy: 0.9441\n",
      "Epoch 16/150\n",
      "426/426 [==============================] - 0s 113us/sample - loss: 0.2770 - accuracy: 0.9085 - val_loss: 0.2369 - val_accuracy: 0.9441\n",
      "Epoch 17/150\n",
      "426/426 [==============================] - 0s 101us/sample - loss: 0.2666 - accuracy: 0.9155 - val_loss: 0.2287 - val_accuracy: 0.9441\n",
      "Epoch 18/150\n",
      "426/426 [==============================] - 0s 108us/sample - loss: 0.2571 - accuracy: 0.9225 - val_loss: 0.2212 - val_accuracy: 0.9441\n",
      "Epoch 19/150\n",
      "426/426 [==============================] - 0s 120us/sample - loss: 0.2483 - accuracy: 0.9225 - val_loss: 0.2144 - val_accuracy: 0.9510\n",
      "Epoch 20/150\n",
      "426/426 [==============================] - 0s 124us/sample - loss: 0.2404 - accuracy: 0.9272 - val_loss: 0.2080 - val_accuracy: 0.9510\n",
      "Epoch 21/150\n",
      "426/426 [==============================] - 0s 120us/sample - loss: 0.2329 - accuracy: 0.9296 - val_loss: 0.2022 - val_accuracy: 0.9510\n",
      "Epoch 22/150\n",
      "426/426 [==============================] - 0s 143us/sample - loss: 0.2261 - accuracy: 0.9343 - val_loss: 0.1971 - val_accuracy: 0.9510\n",
      "Epoch 23/150\n",
      "426/426 [==============================] - 0s 129us/sample - loss: 0.2196 - accuracy: 0.9366 - val_loss: 0.1922 - val_accuracy: 0.9650\n",
      "Epoch 24/150\n",
      "426/426 [==============================] - 0s 112us/sample - loss: 0.2137 - accuracy: 0.9390 - val_loss: 0.1878 - val_accuracy: 0.9650\n",
      "Epoch 25/150\n",
      "426/426 [==============================] - 0s 115us/sample - loss: 0.2082 - accuracy: 0.9413 - val_loss: 0.1837 - val_accuracy: 0.9650\n",
      "Epoch 26/150\n",
      "426/426 [==============================] - 0s 113us/sample - loss: 0.2030 - accuracy: 0.9437 - val_loss: 0.1795 - val_accuracy: 0.9650\n",
      "Epoch 27/150\n",
      "426/426 [==============================] - 0s 108us/sample - loss: 0.1981 - accuracy: 0.9507 - val_loss: 0.1757 - val_accuracy: 0.9650\n",
      "Epoch 28/150\n",
      "426/426 [==============================] - 0s 120us/sample - loss: 0.1934 - accuracy: 0.9507 - val_loss: 0.1722 - val_accuracy: 0.9650\n",
      "Epoch 29/150\n",
      "426/426 [==============================] - 0s 122us/sample - loss: 0.1892 - accuracy: 0.9531 - val_loss: 0.1690 - val_accuracy: 0.9650\n",
      "Epoch 30/150\n",
      "426/426 [==============================] - 0s 141us/sample - loss: 0.1850 - accuracy: 0.9554 - val_loss: 0.1657 - val_accuracy: 0.9650\n",
      "Epoch 31/150\n",
      "426/426 [==============================] - 0s 138us/sample - loss: 0.1811 - accuracy: 0.9554 - val_loss: 0.1628 - val_accuracy: 0.9650\n",
      "Epoch 32/150\n",
      "426/426 [==============================] - 0s 124us/sample - loss: 0.1774 - accuracy: 0.9554 - val_loss: 0.1600 - val_accuracy: 0.9650\n",
      "Epoch 33/150\n",
      "426/426 [==============================] - 0s 129us/sample - loss: 0.1739 - accuracy: 0.9577 - val_loss: 0.1574 - val_accuracy: 0.9650\n",
      "Epoch 34/150\n",
      "426/426 [==============================] - 0s 129us/sample - loss: 0.1706 - accuracy: 0.9577 - val_loss: 0.1549 - val_accuracy: 0.9650\n",
      "Epoch 35/150\n",
      "426/426 [==============================] - 0s 115us/sample - loss: 0.1676 - accuracy: 0.9577 - val_loss: 0.1526 - val_accuracy: 0.9650\n",
      "Epoch 36/150\n",
      "426/426 [==============================] - 0s 99us/sample - loss: 0.1645 - accuracy: 0.9577 - val_loss: 0.1504 - val_accuracy: 0.9720\n",
      "Epoch 37/150\n",
      "426/426 [==============================] - 0s 108us/sample - loss: 0.1617 - accuracy: 0.9624 - val_loss: 0.1484 - val_accuracy: 0.9720\n",
      "Epoch 38/150\n",
      "426/426 [==============================] - 0s 108us/sample - loss: 0.1591 - accuracy: 0.9624 - val_loss: 0.1464 - val_accuracy: 0.9720\n",
      "Epoch 39/150\n",
      "426/426 [==============================] - 0s 113us/sample - loss: 0.1566 - accuracy: 0.9624 - val_loss: 0.1445 - val_accuracy: 0.9720\n",
      "Epoch 40/150\n",
      "426/426 [==============================] - 0s 160us/sample - loss: 0.1541 - accuracy: 0.9624 - val_loss: 0.1429 - val_accuracy: 0.9720\n",
      "Epoch 41/150\n",
      "426/426 [==============================] - 0s 110us/sample - loss: 0.1518 - accuracy: 0.9624 - val_loss: 0.1412 - val_accuracy: 0.9720\n",
      "Epoch 42/150\n",
      "426/426 [==============================] - 0s 105us/sample - loss: 0.1495 - accuracy: 0.9624 - val_loss: 0.1395 - val_accuracy: 0.9720\n",
      "Epoch 43/150\n",
      "426/426 [==============================] - 0s 108us/sample - loss: 0.1474 - accuracy: 0.9648 - val_loss: 0.1380 - val_accuracy: 0.9720\n",
      "Epoch 44/150\n",
      "426/426 [==============================] - 0s 113us/sample - loss: 0.1452 - accuracy: 0.9648 - val_loss: 0.1365 - val_accuracy: 0.9720\n",
      "Epoch 45/150\n",
      "426/426 [==============================] - 0s 111us/sample - loss: 0.1432 - accuracy: 0.9648 - val_loss: 0.1352 - val_accuracy: 0.9720\n",
      "Epoch 46/150\n",
      "426/426 [==============================] - 0s 115us/sample - loss: 0.1412 - accuracy: 0.9648 - val_loss: 0.1338 - val_accuracy: 0.9720\n",
      "Epoch 47/150\n",
      "426/426 [==============================] - 0s 106us/sample - loss: 0.1393 - accuracy: 0.9648 - val_loss: 0.1324 - val_accuracy: 0.9720\n",
      "Epoch 48/150\n",
      "426/426 [==============================] - 0s 103us/sample - loss: 0.1375 - accuracy: 0.9648 - val_loss: 0.1311 - val_accuracy: 0.9790\n",
      "Epoch 49/150\n",
      "426/426 [==============================] - 0s 103us/sample - loss: 0.1358 - accuracy: 0.9671 - val_loss: 0.1298 - val_accuracy: 0.9790\n",
      "Epoch 50/150\n",
      "426/426 [==============================] - 0s 113us/sample - loss: 0.1342 - accuracy: 0.9671 - val_loss: 0.1288 - val_accuracy: 0.9790\n",
      "Epoch 51/150\n",
      "426/426 [==============================] - 0s 106us/sample - loss: 0.1326 - accuracy: 0.9671 - val_loss: 0.1277 - val_accuracy: 0.9720\n",
      "Epoch 52/150\n",
      "426/426 [==============================] - 0s 108us/sample - loss: 0.1310 - accuracy: 0.9671 - val_loss: 0.1266 - val_accuracy: 0.9720\n",
      "Epoch 53/150\n",
      "426/426 [==============================] - 0s 107us/sample - loss: 0.1296 - accuracy: 0.9695 - val_loss: 0.1256 - val_accuracy: 0.9720\n",
      "Epoch 54/150\n",
      "426/426 [==============================] - 0s 110us/sample - loss: 0.1282 - accuracy: 0.9718 - val_loss: 0.1246 - val_accuracy: 0.9720\n",
      "Epoch 55/150\n",
      "426/426 [==============================] - 0s 111us/sample - loss: 0.1268 - accuracy: 0.9718 - val_loss: 0.1236 - val_accuracy: 0.9720\n",
      "Epoch 56/150\n"
     ]
    },
    {
     "name": "stdout",
     "output_type": "stream",
     "text": [
      "426/426 [==============================] - 0s 110us/sample - loss: 0.1255 - accuracy: 0.9718 - val_loss: 0.1226 - val_accuracy: 0.9720\n",
      "Epoch 57/150\n",
      "426/426 [==============================] - 0s 113us/sample - loss: 0.1241 - accuracy: 0.9742 - val_loss: 0.1219 - val_accuracy: 0.9720\n",
      "Epoch 58/150\n",
      "426/426 [==============================] - 0s 103us/sample - loss: 0.1229 - accuracy: 0.9742 - val_loss: 0.1210 - val_accuracy: 0.9720\n",
      "Epoch 59/150\n",
      "426/426 [==============================] - 0s 98us/sample - loss: 0.1217 - accuracy: 0.9742 - val_loss: 0.1202 - val_accuracy: 0.9720\n",
      "Epoch 60/150\n",
      "426/426 [==============================] - 0s 110us/sample - loss: 0.1205 - accuracy: 0.9742 - val_loss: 0.1194 - val_accuracy: 0.9720\n",
      "Epoch 61/150\n",
      "426/426 [==============================] - 0s 134us/sample - loss: 0.1193 - accuracy: 0.9765 - val_loss: 0.1186 - val_accuracy: 0.9720\n",
      "Epoch 62/150\n",
      "426/426 [==============================] - 0s 100us/sample - loss: 0.1182 - accuracy: 0.9765 - val_loss: 0.1178 - val_accuracy: 0.9720\n",
      "Epoch 63/150\n",
      "426/426 [==============================] - 0s 108us/sample - loss: 0.1171 - accuracy: 0.9765 - val_loss: 0.1171 - val_accuracy: 0.9720\n",
      "Epoch 64/150\n",
      "426/426 [==============================] - 0s 108us/sample - loss: 0.1160 - accuracy: 0.9765 - val_loss: 0.1164 - val_accuracy: 0.9720\n",
      "Epoch 65/150\n",
      "426/426 [==============================] - 0s 105us/sample - loss: 0.1150 - accuracy: 0.9765 - val_loss: 0.1157 - val_accuracy: 0.9720\n",
      "Epoch 66/150\n",
      "426/426 [==============================] - 0s 103us/sample - loss: 0.1140 - accuracy: 0.9765 - val_loss: 0.1150 - val_accuracy: 0.9720\n",
      "Epoch 67/150\n",
      "426/426 [==============================] - 0s 110us/sample - loss: 0.1130 - accuracy: 0.9765 - val_loss: 0.1145 - val_accuracy: 0.9720\n",
      "Epoch 68/150\n",
      "426/426 [==============================] - 0s 108us/sample - loss: 0.1121 - accuracy: 0.9765 - val_loss: 0.1138 - val_accuracy: 0.9720\n",
      "Epoch 69/150\n",
      "426/426 [==============================] - 0s 98us/sample - loss: 0.1111 - accuracy: 0.9765 - val_loss: 0.1132 - val_accuracy: 0.9720\n",
      "Epoch 70/150\n",
      "426/426 [==============================] - 0s 102us/sample - loss: 0.1103 - accuracy: 0.9765 - val_loss: 0.1124 - val_accuracy: 0.9720\n",
      "Epoch 71/150\n",
      "426/426 [==============================] - 0s 114us/sample - loss: 0.1094 - accuracy: 0.9765 - val_loss: 0.1121 - val_accuracy: 0.9720\n",
      "Epoch 72/150\n",
      "426/426 [==============================] - 0s 116us/sample - loss: 0.1085 - accuracy: 0.9765 - val_loss: 0.1117 - val_accuracy: 0.9720\n",
      "Epoch 73/150\n",
      "426/426 [==============================] - 0s 120us/sample - loss: 0.1077 - accuracy: 0.9765 - val_loss: 0.1110 - val_accuracy: 0.9720\n",
      "Epoch 74/150\n",
      "426/426 [==============================] - 0s 117us/sample - loss: 0.1069 - accuracy: 0.9765 - val_loss: 0.1103 - val_accuracy: 0.9720\n",
      "Epoch 75/150\n",
      "426/426 [==============================] - 0s 108us/sample - loss: 0.1062 - accuracy: 0.9789 - val_loss: 0.1098 - val_accuracy: 0.9720\n",
      "Epoch 76/150\n",
      "426/426 [==============================] - 0s 108us/sample - loss: 0.1054 - accuracy: 0.9789 - val_loss: 0.1095 - val_accuracy: 0.9720\n",
      "Epoch 77/150\n",
      "426/426 [==============================] - 0s 103us/sample - loss: 0.1046 - accuracy: 0.9789 - val_loss: 0.1090 - val_accuracy: 0.9720\n",
      "Epoch 78/150\n",
      "426/426 [==============================] - 0s 100us/sample - loss: 0.1038 - accuracy: 0.9789 - val_loss: 0.1086 - val_accuracy: 0.9720\n",
      "Epoch 79/150\n",
      "426/426 [==============================] - 0s 110us/sample - loss: 0.1031 - accuracy: 0.9789 - val_loss: 0.1081 - val_accuracy: 0.9720\n",
      "Epoch 80/150\n",
      "426/426 [==============================] - 0s 106us/sample - loss: 0.1024 - accuracy: 0.9789 - val_loss: 0.1077 - val_accuracy: 0.9720\n",
      "Epoch 81/150\n",
      "426/426 [==============================] - 0s 99us/sample - loss: 0.1017 - accuracy: 0.9789 - val_loss: 0.1072 - val_accuracy: 0.9720\n",
      "Epoch 82/150\n",
      "426/426 [==============================] - 0s 103us/sample - loss: 0.1011 - accuracy: 0.9789 - val_loss: 0.1068 - val_accuracy: 0.9720\n",
      "Epoch 83/150\n",
      "426/426 [==============================] - 0s 110us/sample - loss: 0.1004 - accuracy: 0.9789 - val_loss: 0.1064 - val_accuracy: 0.9720\n",
      "Epoch 84/150\n",
      "426/426 [==============================] - 0s 111us/sample - loss: 0.0998 - accuracy: 0.9789 - val_loss: 0.1060 - val_accuracy: 0.9720\n",
      "Epoch 85/150\n",
      "426/426 [==============================] - 0s 107us/sample - loss: 0.0991 - accuracy: 0.9836 - val_loss: 0.1056 - val_accuracy: 0.9720\n",
      "Epoch 86/150\n",
      "426/426 [==============================] - 0s 103us/sample - loss: 0.0985 - accuracy: 0.9836 - val_loss: 0.1052 - val_accuracy: 0.9720\n",
      "Epoch 87/150\n",
      "426/426 [==============================] - 0s 105us/sample - loss: 0.0979 - accuracy: 0.9836 - val_loss: 0.1048 - val_accuracy: 0.9720\n",
      "Epoch 88/150\n",
      "426/426 [==============================] - 0s 106us/sample - loss: 0.0973 - accuracy: 0.9859 - val_loss: 0.1046 - val_accuracy: 0.9720\n",
      "Epoch 89/150\n",
      "426/426 [==============================] - 0s 108us/sample - loss: 0.0967 - accuracy: 0.9859 - val_loss: 0.1043 - val_accuracy: 0.9720\n",
      "Epoch 90/150\n",
      "426/426 [==============================] - 0s 101us/sample - loss: 0.0962 - accuracy: 0.9859 - val_loss: 0.1039 - val_accuracy: 0.9720\n",
      "Epoch 91/150\n",
      "426/426 [==============================] - 0s 108us/sample - loss: 0.0956 - accuracy: 0.9859 - val_loss: 0.1037 - val_accuracy: 0.9720\n",
      "Epoch 92/150\n",
      "426/426 [==============================] - 0s 108us/sample - loss: 0.0951 - accuracy: 0.9859 - val_loss: 0.1031 - val_accuracy: 0.9720\n",
      "Epoch 93/150\n",
      "426/426 [==============================] - 0s 100us/sample - loss: 0.0945 - accuracy: 0.9859 - val_loss: 0.1029 - val_accuracy: 0.9720\n",
      "Epoch 94/150\n",
      "426/426 [==============================] - 0s 103us/sample - loss: 0.0940 - accuracy: 0.9859 - val_loss: 0.1024 - val_accuracy: 0.9720\n",
      "Epoch 95/150\n",
      "426/426 [==============================] - 0s 108us/sample - loss: 0.0935 - accuracy: 0.9859 - val_loss: 0.1021 - val_accuracy: 0.9720\n",
      "Epoch 96/150\n",
      "426/426 [==============================] - 0s 108us/sample - loss: 0.0930 - accuracy: 0.9859 - val_loss: 0.1017 - val_accuracy: 0.9720\n",
      "Epoch 97/150\n",
      "426/426 [==============================] - 0s 102us/sample - loss: 0.0925 - accuracy: 0.9859 - val_loss: 0.1015 - val_accuracy: 0.9720\n",
      "Epoch 98/150\n",
      "426/426 [==============================] - 0s 100us/sample - loss: 0.0920 - accuracy: 0.9859 - val_loss: 0.1013 - val_accuracy: 0.9720\n",
      "Epoch 99/150\n",
      "426/426 [==============================] - 0s 103us/sample - loss: 0.0915 - accuracy: 0.9859 - val_loss: 0.1011 - val_accuracy: 0.9720\n",
      "Epoch 100/150\n",
      "426/426 [==============================] - 0s 106us/sample - loss: 0.0910 - accuracy: 0.9859 - val_loss: 0.1008 - val_accuracy: 0.9720\n",
      "Epoch 101/150\n",
      "426/426 [==============================] - 0s 101us/sample - loss: 0.0906 - accuracy: 0.9883 - val_loss: 0.1005 - val_accuracy: 0.9720\n",
      "Epoch 102/150\n",
      "426/426 [==============================] - 0s 106us/sample - loss: 0.0902 - accuracy: 0.9883 - val_loss: 0.0999 - val_accuracy: 0.9720\n",
      "Epoch 103/150\n",
      "426/426 [==============================] - 0s 101us/sample - loss: 0.0897 - accuracy: 0.9883 - val_loss: 0.0998 - val_accuracy: 0.9720\n",
      "Epoch 104/150\n",
      "426/426 [==============================] - 0s 102us/sample - loss: 0.0893 - accuracy: 0.9883 - val_loss: 0.0995 - val_accuracy: 0.9720\n",
      "Epoch 105/150\n",
      "426/426 [==============================] - 0s 117us/sample - loss: 0.0889 - accuracy: 0.9883 - val_loss: 0.0994 - val_accuracy: 0.9720\n",
      "Epoch 106/150\n",
      "426/426 [==============================] - 0s 124us/sample - loss: 0.0884 - accuracy: 0.9883 - val_loss: 0.0992 - val_accuracy: 0.9720\n",
      "Epoch 107/150\n",
      "426/426 [==============================] - 0s 115us/sample - loss: 0.0880 - accuracy: 0.9883 - val_loss: 0.0989 - val_accuracy: 0.9720\n",
      "Epoch 108/150\n",
      "426/426 [==============================] - 0s 117us/sample - loss: 0.0876 - accuracy: 0.9883 - val_loss: 0.0987 - val_accuracy: 0.9720\n",
      "Epoch 109/150\n",
      "426/426 [==============================] - 0s 110us/sample - loss: 0.0872 - accuracy: 0.9883 - val_loss: 0.0987 - val_accuracy: 0.9720\n",
      "Epoch 110/150\n",
      "426/426 [==============================] - 0s 110us/sample - loss: 0.0868 - accuracy: 0.9883 - val_loss: 0.0986 - val_accuracy: 0.9720\n",
      "Epoch 111/150\n"
     ]
    },
    {
     "name": "stdout",
     "output_type": "stream",
     "text": [
      "426/426 [==============================] - 0s 103us/sample - loss: 0.0865 - accuracy: 0.9883 - val_loss: 0.0985 - val_accuracy: 0.9720\n",
      "Epoch 112/150\n",
      "426/426 [==============================] - 0s 110us/sample - loss: 0.0861 - accuracy: 0.9883 - val_loss: 0.0984 - val_accuracy: 0.9720\n",
      "Epoch 113/150\n",
      "426/426 [==============================] - 0s 102us/sample - loss: 0.0857 - accuracy: 0.9883 - val_loss: 0.0980 - val_accuracy: 0.9720\n",
      "Epoch 114/150\n",
      "426/426 [==============================] - 0s 108us/sample - loss: 0.0853 - accuracy: 0.9883 - val_loss: 0.0978 - val_accuracy: 0.9720\n",
      "Epoch 115/150\n",
      "426/426 [==============================] - 0s 113us/sample - loss: 0.0849 - accuracy: 0.9883 - val_loss: 0.0975 - val_accuracy: 0.9720\n",
      "Epoch 116/150\n",
      "426/426 [==============================] - 0s 103us/sample - loss: 0.0845 - accuracy: 0.9883 - val_loss: 0.0973 - val_accuracy: 0.9720\n",
      "Epoch 117/150\n",
      "426/426 [==============================] - 0s 102us/sample - loss: 0.0842 - accuracy: 0.9883 - val_loss: 0.0973 - val_accuracy: 0.9720\n",
      "Epoch 118/150\n",
      "426/426 [==============================] - 0s 106us/sample - loss: 0.0838 - accuracy: 0.9883 - val_loss: 0.0970 - val_accuracy: 0.9720\n",
      "Epoch 119/150\n",
      "426/426 [==============================] - 0s 108us/sample - loss: 0.0835 - accuracy: 0.9883 - val_loss: 0.0968 - val_accuracy: 0.9720\n",
      "Epoch 120/150\n",
      "426/426 [==============================] - 0s 102us/sample - loss: 0.0831 - accuracy: 0.9883 - val_loss: 0.0970 - val_accuracy: 0.9720\n",
      "Epoch 121/150\n",
      "426/426 [==============================] - 0s 103us/sample - loss: 0.0828 - accuracy: 0.9883 - val_loss: 0.0966 - val_accuracy: 0.9720\n",
      "Epoch 122/150\n",
      "426/426 [==============================] - 0s 115us/sample - loss: 0.0825 - accuracy: 0.9883 - val_loss: 0.0963 - val_accuracy: 0.9720\n",
      "Epoch 123/150\n",
      "426/426 [==============================] - 0s 108us/sample - loss: 0.0822 - accuracy: 0.9883 - val_loss: 0.0962 - val_accuracy: 0.9720\n",
      "Epoch 124/150\n",
      "426/426 [==============================] - 0s 110us/sample - loss: 0.0818 - accuracy: 0.9883 - val_loss: 0.0961 - val_accuracy: 0.9720\n",
      "Epoch 125/150\n",
      "426/426 [==============================] - 0s 103us/sample - loss: 0.0815 - accuracy: 0.9883 - val_loss: 0.0959 - val_accuracy: 0.9720\n",
      "Epoch 126/150\n",
      "426/426 [==============================] - 0s 102us/sample - loss: 0.0812 - accuracy: 0.9883 - val_loss: 0.0958 - val_accuracy: 0.9720\n",
      "Epoch 127/150\n",
      "426/426 [==============================] - 0s 101us/sample - loss: 0.0809 - accuracy: 0.9883 - val_loss: 0.0957 - val_accuracy: 0.9720\n",
      "Epoch 128/150\n",
      "426/426 [==============================] - 0s 105us/sample - loss: 0.0806 - accuracy: 0.9883 - val_loss: 0.0956 - val_accuracy: 0.9720\n",
      "Epoch 129/150\n",
      "426/426 [==============================] - 0s 102us/sample - loss: 0.0803 - accuracy: 0.9883 - val_loss: 0.0954 - val_accuracy: 0.9720\n",
      "Epoch 130/150\n",
      "426/426 [==============================] - 0s 110us/sample - loss: 0.0800 - accuracy: 0.9883 - val_loss: 0.0953 - val_accuracy: 0.9720\n",
      "Epoch 131/150\n",
      "426/426 [==============================] - 0s 108us/sample - loss: 0.0797 - accuracy: 0.9883 - val_loss: 0.0950 - val_accuracy: 0.9720\n",
      "Epoch 132/150\n",
      "426/426 [==============================] - 0s 104us/sample - loss: 0.0794 - accuracy: 0.9883 - val_loss: 0.0949 - val_accuracy: 0.9720\n",
      "Epoch 133/150\n",
      "426/426 [==============================] - 0s 104us/sample - loss: 0.0791 - accuracy: 0.9883 - val_loss: 0.0948 - val_accuracy: 0.9720\n",
      "Epoch 134/150\n",
      "426/426 [==============================] - 0s 108us/sample - loss: 0.0788 - accuracy: 0.9883 - val_loss: 0.0946 - val_accuracy: 0.9720\n",
      "Epoch 135/150\n",
      "426/426 [==============================] - 0s 95us/sample - loss: 0.0785 - accuracy: 0.9883 - val_loss: 0.0945 - val_accuracy: 0.9720\n",
      "Epoch 136/150\n",
      "426/426 [==============================] - 0s 115us/sample - loss: 0.0783 - accuracy: 0.9883 - val_loss: 0.0942 - val_accuracy: 0.9720\n",
      "Epoch 137/150\n",
      "426/426 [==============================] - 0s 100us/sample - loss: 0.0780 - accuracy: 0.9883 - val_loss: 0.0940 - val_accuracy: 0.9720\n",
      "Epoch 138/150\n",
      "426/426 [==============================] - 0s 101us/sample - loss: 0.0777 - accuracy: 0.9883 - val_loss: 0.0940 - val_accuracy: 0.9720\n",
      "Epoch 139/150\n",
      "426/426 [==============================] - 0s 103us/sample - loss: 0.0775 - accuracy: 0.9883 - val_loss: 0.0937 - val_accuracy: 0.9720\n",
      "Epoch 140/150\n",
      "426/426 [==============================] - 0s 99us/sample - loss: 0.0772 - accuracy: 0.9883 - val_loss: 0.0937 - val_accuracy: 0.9720\n",
      "Epoch 141/150\n",
      "426/426 [==============================] - 0s 106us/sample - loss: 0.0769 - accuracy: 0.9883 - val_loss: 0.0936 - val_accuracy: 0.9720\n",
      "Epoch 142/150\n",
      "426/426 [==============================] - 0s 108us/sample - loss: 0.0767 - accuracy: 0.9883 - val_loss: 0.0934 - val_accuracy: 0.9720\n",
      "Epoch 143/150\n",
      "426/426 [==============================] - 0s 105us/sample - loss: 0.0764 - accuracy: 0.9883 - val_loss: 0.0932 - val_accuracy: 0.9720\n",
      "Epoch 144/150\n",
      "426/426 [==============================] - 0s 110us/sample - loss: 0.0762 - accuracy: 0.9883 - val_loss: 0.0929 - val_accuracy: 0.9720\n",
      "Epoch 145/150\n",
      "426/426 [==============================] - 0s 107us/sample - loss: 0.0760 - accuracy: 0.9883 - val_loss: 0.0928 - val_accuracy: 0.9720\n",
      "Epoch 146/150\n",
      "426/426 [==============================] - 0s 103us/sample - loss: 0.0757 - accuracy: 0.9883 - val_loss: 0.0927 - val_accuracy: 0.9720\n",
      "Epoch 147/150\n",
      "426/426 [==============================] - 0s 106us/sample - loss: 0.0755 - accuracy: 0.9883 - val_loss: 0.0926 - val_accuracy: 0.9720\n",
      "Epoch 148/150\n",
      "426/426 [==============================] - 0s 106us/sample - loss: 0.0752 - accuracy: 0.9883 - val_loss: 0.0926 - val_accuracy: 0.9720\n",
      "Epoch 149/150\n",
      "426/426 [==============================] - 0s 106us/sample - loss: 0.0750 - accuracy: 0.9883 - val_loss: 0.0923 - val_accuracy: 0.9720\n",
      "Epoch 150/150\n",
      "426/426 [==============================] - 0s 99us/sample - loss: 0.0748 - accuracy: 0.9883 - val_loss: 0.0922 - val_accuracy: 0.9720\n"
     ]
    }
   ],
   "source": [
    "# Train/fit the model\n",
    "result = model.fit(X_train, y_train,\n",
    "                   validation_data=(X_test, y_test),\n",
    "                   epochs=150);"
   ]
  },
  {
   "cell_type": "code",
   "execution_count": 26,
   "metadata": {},
   "outputs": [
    {
     "name": "stdout",
     "output_type": "stream",
     "text": [
      "Train score: 0.9882629\n",
      "Test score: 0.97202796\n"
     ]
    }
   ],
   "source": [
    "# Print the results\n",
    "print(\"Train score:\", model.evaluate(x=X_train, y=y_train, verbose=0)[1])\n",
    "print(\"Test score:\", model.evaluate(x=X_test, y=y_test, verbose=0)[1])"
   ]
  },
  {
   "cell_type": "code",
   "execution_count": 27,
   "metadata": {},
   "outputs": [
    {
     "data": {
      "image/png": "[encoded data removed]",
      "text/plain": [
       "<Figure size 432x288 with 1 Axes>"
      ]
     },
     "metadata": {
      "needs_background": "light"
     },
     "output_type": "display_data"
    }
   ],
   "source": [
    "# Plot the cost function at each itteration\n",
    "# Note: model.fit() returns an object that contains the history of the training process\n",
    "plt.plot(result.history['loss'], label='loss');\n",
    "plt.plot(result.history['val_loss'], label='val_loss');\n",
    "plt.legend();"
   ]
  },
  {
   "cell_type": "code",
   "execution_count": 28,
   "metadata": {},
   "outputs": [
    {
     "data": {
      "image/png": "[encoded data removed]",
      "text/plain": [
       "<Figure size 432x288 with 1 Axes>"
      ]
     },
     "metadata": {
      "needs_background": "light"
     },
     "output_type": "display_data"
    }
   ],
   "source": [
    "# Plot the cost function at each itteration\n",
    "# Note: model.fit() returns an object that contains the history of the training process\n",
    "plt.plot(result.history['accuracy'], label='loss');\n",
    "plt.plot(result.history['val_accuracy'], label='val_loss');\n",
    "plt.legend();"
   ]
  },
  {
   "cell_type": "code",
   "execution_count": null,
   "metadata": {},
   "outputs": [],
   "source": []
  }
 ],
 "metadata": {
  "kernelspec": {
   "display_name": "Python 3",
   "language": "python",
   "name": "python3"
  },
  "language_info": {
   "codemirror_mode": {
    "name": "ipython",
    "version": 3
   },
   "file_extension": ".py",
   "mimetype": "text/x-python",
   "name": "python",
   "nbconvert_exporter": "python",
   "pygments_lexer": "ipython3",
   "version": "3.7.4"
  }
 },
 "nbformat": 4,
 "nbformat_minor": 2
}
