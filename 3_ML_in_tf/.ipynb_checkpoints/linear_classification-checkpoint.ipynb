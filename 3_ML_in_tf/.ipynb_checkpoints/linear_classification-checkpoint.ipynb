{
 "cells": [
  {
   "cell_type": "code",
   "execution_count": 1,
   "metadata": {},
   "outputs": [],
   "source": [
    "# Import the libraries\n",
    "import tensorflow as tf\n",
    "from tensorflow.python.client import device_lib\n",
    "import matplotlib.pyplot as plt\n",
    "import pandas as pd\n",
    "from sklearn.model_selection import train_test_split\n",
    "from sklearn.datasets import load_breast_cancer\n",
    "from sklearn.preprocessing import StandardScaler"
   ]
  },
  {
   "cell_type": "code",
   "execution_count": 2,
   "metadata": {},
   "outputs": [
    {
     "data": {
      "text/plain": [
       "True"
      ]
     },
     "execution_count": 2,
     "metadata": {},
     "output_type": "execute_result"
    }
   ],
   "source": [
    "# Check that a GPU is available\n",
    "tf.test.is_gpu_available(\n",
    "    cuda_only=False,\n",
    "    min_cuda_compute_capability=None\n",
    ")"
   ]
  },
  {
   "cell_type": "code",
   "execution_count": 3,
   "metadata": {},
   "outputs": [
    {
     "name": "stdout",
     "output_type": "stream",
     "text": [
      "Num GPUs Available:  1\n"
     ]
    }
   ],
   "source": [
    "# Check the number of GPUs available\n",
    "print(\"Num GPUs Available: \", len(tf.config.experimental.list_physical_devices('GPU')))"
   ]
  },
  {
   "cell_type": "code",
   "execution_count": 4,
   "metadata": {},
   "outputs": [
    {
     "data": {
      "text/plain": [
       "[name: \"/device:CPU:0\"\n",
       " device_type: \"CPU\"\n",
       " memory_limit: 268435456\n",
       " locality {\n",
       " }\n",
       " incarnation: 14132497317218346231, name: \"/device:GPU:0\"\n",
       " device_type: \"GPU\"\n",
       " memory_limit: 4937233203\n",
       " locality {\n",
       "   bus_id: 1\n",
       "   links {\n",
       "   }\n",
       " }\n",
       " incarnation: 12449720175103349339\n",
       " physical_device_desc: \"device: 0, name: GeForce GTX 1060, pci bus id: 0000:01:00.0, compute capability: 6.1\"]"
      ]
     },
     "execution_count": 4,
     "metadata": {},
     "output_type": "execute_result"
    }
   ],
   "source": [
    "# Get device details\n",
    "device_lib.list_local_devices()"
   ]
  },
  {
   "cell_type": "markdown",
   "metadata": {},
   "source": [
    "### Simple logistic regression model"
   ]
  },
  {
   "cell_type": "code",
   "execution_count": 5,
   "metadata": {},
   "outputs": [
    {
     "data": {
      "text/html": [
       "<div>\n",
       "<style scoped>\n",
       "    .dataframe tbody tr th:only-of-type {\n",
       "        vertical-align: middle;\n",
       "    }\n",
       "\n",
       "    .dataframe tbody tr th {\n",
       "        vertical-align: top;\n",
       "    }\n",
       "\n",
       "    .dataframe thead th {\n",
       "        text-align: right;\n",
       "    }\n",
       "</style>\n",
       "<table border=\"1\" class=\"dataframe\">\n",
       "  <thead>\n",
       "    <tr style=\"text-align: right;\">\n",
       "      <th></th>\n",
       "      <th>x1</th>\n",
       "      <th>x2</th>\n",
       "      <th>x3</th>\n",
       "      <th>x4</th>\n",
       "      <th>y</th>\n",
       "    </tr>\n",
       "  </thead>\n",
       "  <tbody>\n",
       "    <tr>\n",
       "      <td>0</td>\n",
       "      <td>3.62160</td>\n",
       "      <td>8.6661</td>\n",
       "      <td>-2.8073</td>\n",
       "      <td>-0.44699</td>\n",
       "      <td>0</td>\n",
       "    </tr>\n",
       "    <tr>\n",
       "      <td>1</td>\n",
       "      <td>4.54590</td>\n",
       "      <td>8.1674</td>\n",
       "      <td>-2.4586</td>\n",
       "      <td>-1.46210</td>\n",
       "      <td>0</td>\n",
       "    </tr>\n",
       "    <tr>\n",
       "      <td>2</td>\n",
       "      <td>3.86600</td>\n",
       "      <td>-2.6383</td>\n",
       "      <td>1.9242</td>\n",
       "      <td>0.10645</td>\n",
       "      <td>0</td>\n",
       "    </tr>\n",
       "    <tr>\n",
       "      <td>3</td>\n",
       "      <td>3.45660</td>\n",
       "      <td>9.5228</td>\n",
       "      <td>-4.0112</td>\n",
       "      <td>-3.59440</td>\n",
       "      <td>0</td>\n",
       "    </tr>\n",
       "    <tr>\n",
       "      <td>4</td>\n",
       "      <td>0.32924</td>\n",
       "      <td>-4.4552</td>\n",
       "      <td>4.5718</td>\n",
       "      <td>-0.98880</td>\n",
       "      <td>0</td>\n",
       "    </tr>\n",
       "  </tbody>\n",
       "</table>\n",
       "</div>"
      ],
      "text/plain": [
       "        x1      x2      x3       x4  y\n",
       "0  3.62160  8.6661 -2.8073 -0.44699  0\n",
       "1  4.54590  8.1674 -2.4586 -1.46210  0\n",
       "2  3.86600 -2.6383  1.9242  0.10645  0\n",
       "3  3.45660  9.5228 -4.0112 -3.59440  0\n",
       "4  0.32924 -4.4552  4.5718 -0.98880  0"
      ]
     },
     "execution_count": 5,
     "metadata": {},
     "output_type": "execute_result"
    }
   ],
   "source": [
    "# Import the data\n",
    "data = pd.read_csv('banknote_data.csv')\n",
    "data.head(n=5)"
   ]
  },
  {
   "cell_type": "code",
   "execution_count": 6,
   "metadata": {},
   "outputs": [],
   "source": [
    "# Prepare the data\n",
    "X = data.iloc[:,0:4]\n",
    "y = data[['y']]\n",
    "\n",
    "# Create the train-test split\n",
    "X_train, X_test, y_train, y_test = train_test_split(X, y, test_size=0.25, random_state=100)"
   ]
  },
  {
   "cell_type": "code",
   "execution_count": 7,
   "metadata": {},
   "outputs": [],
   "source": [
    "# Define the model layers\n",
    "D = X.shape[1] # Size of input vector\n",
    "input_layer = tf.keras.layers.Input(shape=(D,))\n",
    "dense_layer = tf.keras.layers.Dense(1, activation='sigmoid')"
   ]
  },
  {
   "cell_type": "code",
   "execution_count": 8,
   "metadata": {},
   "outputs": [],
   "source": [
    "# Create the model\n",
    "model = tf.keras.Sequential([input_layer, dense_layer])"
   ]
  },
  {
   "cell_type": "code",
   "execution_count": 9,
   "metadata": {},
   "outputs": [],
   "source": [
    "# Define how the model will be trained/fit\n",
    "model.compile(optimizer='adam', # define the optimizer (adam is one way of doing gradient descent)\n",
    "              loss='binary_crossentropy', # define the cost function\n",
    "              metrics=['accuracy']) # define the metrics that tensorflow should keep track of"
   ]
  },
  {
   "cell_type": "code",
   "execution_count": 10,
   "metadata": {
    "scrolled": true
   },
   "outputs": [
    {
     "name": "stdout",
     "output_type": "stream",
     "text": [
      "WARNING:tensorflow:Falling back from v2 loop because of error: Failed to find data adapter that can handle input: <class 'pandas.core.frame.DataFrame'>, <class 'NoneType'>\n",
      "Train on 1029 samples, validate on 343 samples\n",
      "Epoch 1/150\n",
      "1029/1029 [==============================] - 0s 325us/sample - loss: 1.2629 - accuracy: 0.6997 - val_loss: 1.2947 - val_accuracy: 0.6851\n",
      "Epoch 2/150\n",
      "1029/1029 [==============================] - 0s 75us/sample - loss: 1.1849 - accuracy: 0.7162 - val_loss: 1.2115 - val_accuracy: 0.6910\n",
      "Epoch 3/150\n",
      "1029/1029 [==============================] - 0s 67us/sample - loss: 1.1139 - accuracy: 0.7328 - val_loss: 1.1353 - val_accuracy: 0.6997\n",
      "Epoch 4/150\n",
      "1029/1029 [==============================] - 0s 62us/sample - loss: 1.0482 - accuracy: 0.7444 - val_loss: 1.0645 - val_accuracy: 0.7055\n",
      "Epoch 5/150\n",
      "1029/1029 [==============================] - 0s 53us/sample - loss: 0.9837 - accuracy: 0.7541 - val_loss: 0.9981 - val_accuracy: 0.7259\n",
      "Epoch 6/150\n",
      "1029/1029 [==============================] - 0s 75us/sample - loss: 0.9268 - accuracy: 0.7609 - val_loss: 0.9378 - val_accuracy: 0.7376\n",
      "Epoch 7/150\n",
      "1029/1029 [==============================] - 0s 66us/sample - loss: 0.8732 - accuracy: 0.7697 - val_loss: 0.8795 - val_accuracy: 0.7434\n",
      "Epoch 8/150\n",
      "1029/1029 [==============================] - 0s 64us/sample - loss: 0.8224 - accuracy: 0.7726 - val_loss: 0.8261 - val_accuracy: 0.7609\n",
      "Epoch 9/150\n",
      "1029/1029 [==============================] - 0s 62us/sample - loss: 0.7755 - accuracy: 0.7784 - val_loss: 0.7759 - val_accuracy: 0.7726\n",
      "Epoch 10/150\n",
      "1029/1029 [==============================] - 0s 59us/sample - loss: 0.7297 - accuracy: 0.7852 - val_loss: 0.7281 - val_accuracy: 0.7813\n",
      "Epoch 11/150\n",
      "1029/1029 [==============================] - 0s 47us/sample - loss: 0.6893 - accuracy: 0.7920 - val_loss: 0.6838 - val_accuracy: 0.7843\n",
      "Epoch 12/150\n",
      "1029/1029 [==============================] - 0s 71us/sample - loss: 0.6504 - accuracy: 0.8017 - val_loss: 0.6441 - val_accuracy: 0.7901\n",
      "Epoch 13/150\n",
      "1029/1029 [==============================] - 0s 83us/sample - loss: 0.6147 - accuracy: 0.8076 - val_loss: 0.6068 - val_accuracy: 0.7959\n",
      "Epoch 14/150\n",
      "1029/1029 [==============================] - 0s 65us/sample - loss: 0.5804 - accuracy: 0.8124 - val_loss: 0.5691 - val_accuracy: 0.7988\n",
      "Epoch 15/150\n",
      "1029/1029 [==============================] - 0s 56us/sample - loss: 0.5488 - accuracy: 0.8183 - val_loss: 0.5378 - val_accuracy: 0.8076\n",
      "Epoch 16/150\n",
      "1029/1029 [==============================] - 0s 261us/sample - loss: 0.5206 - accuracy: 0.8222 - val_loss: 0.5080 - val_accuracy: 0.8280\n",
      "Epoch 17/150\n",
      "1029/1029 [==============================] - 0s 305us/sample - loss: 0.4928 - accuracy: 0.8270 - val_loss: 0.4789 - val_accuracy: 0.8426\n",
      "Epoch 18/150\n",
      "1029/1029 [==============================] - 0s 373us/sample - loss: 0.4680 - accuracy: 0.8319 - val_loss: 0.4526 - val_accuracy: 0.8426\n",
      "Epoch 19/150\n",
      "1029/1029 [==============================] - 0s 143us/sample - loss: 0.4457 - accuracy: 0.8299 - val_loss: 0.4290 - val_accuracy: 0.8455\n",
      "Epoch 20/150\n",
      "1029/1029 [==============================] - 0s 87us/sample - loss: 0.4247 - accuracy: 0.8319 - val_loss: 0.4073 - val_accuracy: 0.8513\n",
      "Epoch 21/150\n",
      "1029/1029 [==============================] - 0s 109us/sample - loss: 0.4054 - accuracy: 0.8397 - val_loss: 0.3878 - val_accuracy: 0.8601\n",
      "Epoch 22/150\n",
      "1029/1029 [==============================] - 0s 66us/sample - loss: 0.3876 - accuracy: 0.8426 - val_loss: 0.3702 - val_accuracy: 0.8601\n",
      "Epoch 23/150\n",
      "1029/1029 [==============================] - 0s 65us/sample - loss: 0.3712 - accuracy: 0.8494 - val_loss: 0.3537 - val_accuracy: 0.8630\n",
      "Epoch 24/150\n",
      "1029/1029 [==============================] - 0s 67us/sample - loss: 0.3558 - accuracy: 0.8542 - val_loss: 0.3374 - val_accuracy: 0.8717\n",
      "Epoch 25/150\n",
      "1029/1029 [==============================] - 0s 67us/sample - loss: 0.3408 - accuracy: 0.8601 - val_loss: 0.3236 - val_accuracy: 0.8805\n",
      "Epoch 26/150\n",
      "1029/1029 [==============================] - 0s 63us/sample - loss: 0.3260 - accuracy: 0.8591 - val_loss: 0.3071 - val_accuracy: 0.8805\n",
      "Epoch 27/150\n",
      "1029/1029 [==============================] - 0s 65us/sample - loss: 0.3118 - accuracy: 0.8620 - val_loss: 0.2937 - val_accuracy: 0.8834\n",
      "Epoch 28/150\n",
      "1029/1029 [==============================] - 0s 71us/sample - loss: 0.2996 - accuracy: 0.8639 - val_loss: 0.2817 - val_accuracy: 0.8834\n",
      "Epoch 29/150\n",
      "1029/1029 [==============================] - 0s 72us/sample - loss: 0.2879 - accuracy: 0.8688 - val_loss: 0.2710 - val_accuracy: 0.8863\n",
      "Epoch 30/150\n",
      "1029/1029 [==============================] - 0s 74us/sample - loss: 0.2769 - accuracy: 0.8727 - val_loss: 0.2608 - val_accuracy: 0.8863\n",
      "Epoch 31/150\n",
      "1029/1029 [==============================] - 0s 69us/sample - loss: 0.2666 - accuracy: 0.8756 - val_loss: 0.2506 - val_accuracy: 0.8921\n",
      "Epoch 32/150\n",
      "1029/1029 [==============================] - 0s 65us/sample - loss: 0.2562 - accuracy: 0.8795 - val_loss: 0.2410 - val_accuracy: 0.8950\n",
      "Epoch 33/150\n",
      "1029/1029 [==============================] - 0s 61us/sample - loss: 0.2470 - accuracy: 0.8834 - val_loss: 0.2319 - val_accuracy: 0.8950\n",
      "Epoch 34/150\n",
      "1029/1029 [==============================] - 0s 70us/sample - loss: 0.2382 - accuracy: 0.8873 - val_loss: 0.2238 - val_accuracy: 0.8950\n",
      "Epoch 35/150\n",
      "1029/1029 [==============================] - 0s 68us/sample - loss: 0.2295 - accuracy: 0.8912 - val_loss: 0.2160 - val_accuracy: 0.9038\n",
      "Epoch 36/150\n",
      "1029/1029 [==============================] - 0s 65us/sample - loss: 0.2209 - accuracy: 0.8970 - val_loss: 0.2079 - val_accuracy: 0.9125\n",
      "Epoch 37/150\n",
      "1029/1029 [==============================] - 0s 68us/sample - loss: 0.2134 - accuracy: 0.8999 - val_loss: 0.2010 - val_accuracy: 0.9213\n",
      "Epoch 38/150\n",
      "1029/1029 [==============================] - 0s 72us/sample - loss: 0.2063 - accuracy: 0.9048 - val_loss: 0.1947 - val_accuracy: 0.9213\n",
      "Epoch 39/150\n",
      "1029/1029 [==============================] - 0s 70us/sample - loss: 0.1998 - accuracy: 0.9057 - val_loss: 0.1888 - val_accuracy: 0.9242\n",
      "Epoch 40/150\n",
      "1029/1029 [==============================] - 0s 65us/sample - loss: 0.1935 - accuracy: 0.9116 - val_loss: 0.1831 - val_accuracy: 0.9242\n",
      "Epoch 41/150\n",
      "1029/1029 [==============================] - 0s 62us/sample - loss: 0.1873 - accuracy: 0.9174 - val_loss: 0.1776 - val_accuracy: 0.9300\n",
      "Epoch 42/150\n",
      "1029/1029 [==============================] - 0s 64us/sample - loss: 0.1818 - accuracy: 0.9203 - val_loss: 0.1727 - val_accuracy: 0.9388\n",
      "Epoch 43/150\n",
      "1029/1029 [==============================] - 0s 62us/sample - loss: 0.1765 - accuracy: 0.9213 - val_loss: 0.1681 - val_accuracy: 0.9388\n",
      "Epoch 44/150\n",
      "1029/1029 [==============================] - 0s 67us/sample - loss: 0.1718 - accuracy: 0.9232 - val_loss: 0.1634 - val_accuracy: 0.9417\n",
      "Epoch 45/150\n",
      "1029/1029 [==============================] - 0s 66us/sample - loss: 0.1668 - accuracy: 0.9261 - val_loss: 0.1595 - val_accuracy: 0.9475\n",
      "Epoch 46/150\n",
      "1029/1029 [==============================] - 0s 57us/sample - loss: 0.1626 - accuracy: 0.9281 - val_loss: 0.1558 - val_accuracy: 0.9475\n",
      "Epoch 47/150\n",
      "1029/1029 [==============================] - 0s 75us/sample - loss: 0.1583 - accuracy: 0.9300 - val_loss: 0.1519 - val_accuracy: 0.9475\n",
      "Epoch 48/150\n",
      "1029/1029 [==============================] - 0s 69us/sample - loss: 0.1543 - accuracy: 0.9329 - val_loss: 0.1485 - val_accuracy: 0.9475\n",
      "Epoch 49/150\n",
      "1029/1029 [==============================] - 0s 65us/sample - loss: 0.1505 - accuracy: 0.9349 - val_loss: 0.1453 - val_accuracy: 0.9534\n",
      "Epoch 50/150\n",
      "1029/1029 [==============================] - 0s 60us/sample - loss: 0.1469 - accuracy: 0.9378 - val_loss: 0.1421 - val_accuracy: 0.9563\n",
      "Epoch 51/150\n",
      "1029/1029 [==============================] - 0s 68us/sample - loss: 0.1433 - accuracy: 0.9417 - val_loss: 0.1391 - val_accuracy: 0.9621\n",
      "Epoch 52/150\n",
      "1029/1029 [==============================] - 0s 60us/sample - loss: 0.1401 - accuracy: 0.9466 - val_loss: 0.1363 - val_accuracy: 0.9621\n",
      "Epoch 53/150\n",
      "1029/1029 [==============================] - 0s 64us/sample - loss: 0.1370 - accuracy: 0.9475 - val_loss: 0.1336 - val_accuracy: 0.9621\n",
      "Epoch 54/150\n"
     ]
    },
    {
     "name": "stdout",
     "output_type": "stream",
     "text": [
      "1029/1029 [==============================] - 0s 66us/sample - loss: 0.1339 - accuracy: 0.9485 - val_loss: 0.1309 - val_accuracy: 0.9621\n",
      "Epoch 55/150\n",
      "1029/1029 [==============================] - 0s 64us/sample - loss: 0.1312 - accuracy: 0.9504 - val_loss: 0.1286 - val_accuracy: 0.9621\n",
      "Epoch 56/150\n",
      "1029/1029 [==============================] - 0s 65us/sample - loss: 0.1286 - accuracy: 0.9514 - val_loss: 0.1262 - val_accuracy: 0.9679\n",
      "Epoch 57/150\n",
      "1029/1029 [==============================] - 0s 80us/sample - loss: 0.1261 - accuracy: 0.9534 - val_loss: 0.1240 - val_accuracy: 0.9679\n",
      "Epoch 58/150\n",
      "1029/1029 [==============================] - 0s 66us/sample - loss: 0.1237 - accuracy: 0.9543 - val_loss: 0.1222 - val_accuracy: 0.9679\n",
      "Epoch 59/150\n",
      "1029/1029 [==============================] - 0s 61us/sample - loss: 0.1215 - accuracy: 0.9553 - val_loss: 0.1203 - val_accuracy: 0.9679\n",
      "Epoch 60/150\n",
      "1029/1029 [==============================] - 0s 64us/sample - loss: 0.1194 - accuracy: 0.9582 - val_loss: 0.1184 - val_accuracy: 0.9679\n",
      "Epoch 61/150\n",
      "1029/1029 [==============================] - 0s 62us/sample - loss: 0.1173 - accuracy: 0.9602 - val_loss: 0.1165 - val_accuracy: 0.9679\n",
      "Epoch 62/150\n",
      "1029/1029 [==============================] - 0s 63us/sample - loss: 0.1153 - accuracy: 0.9602 - val_loss: 0.1149 - val_accuracy: 0.9708\n",
      "Epoch 63/150\n",
      "1029/1029 [==============================] - 0s 63us/sample - loss: 0.1135 - accuracy: 0.9611 - val_loss: 0.1133 - val_accuracy: 0.9738\n",
      "Epoch 64/150\n",
      "1029/1029 [==============================] - 0s 62us/sample - loss: 0.1117 - accuracy: 0.9621 - val_loss: 0.1118 - val_accuracy: 0.9738\n",
      "Epoch 65/150\n",
      "1029/1029 [==============================] - 0s 62us/sample - loss: 0.1100 - accuracy: 0.9631 - val_loss: 0.1102 - val_accuracy: 0.9738\n",
      "Epoch 66/150\n",
      "1029/1029 [==============================] - 0s 64us/sample - loss: 0.1084 - accuracy: 0.9650 - val_loss: 0.1087 - val_accuracy: 0.9738\n",
      "Epoch 67/150\n",
      "1029/1029 [==============================] - 0s 74us/sample - loss: 0.1067 - accuracy: 0.9670 - val_loss: 0.1073 - val_accuracy: 0.9738\n",
      "Epoch 68/150\n",
      "1029/1029 [==============================] - 0s 65us/sample - loss: 0.1051 - accuracy: 0.9679 - val_loss: 0.1059 - val_accuracy: 0.9738\n",
      "Epoch 69/150\n",
      "1029/1029 [==============================] - 0s 56us/sample - loss: 0.1037 - accuracy: 0.9699 - val_loss: 0.1046 - val_accuracy: 0.9738\n",
      "Epoch 70/150\n",
      "1029/1029 [==============================] - 0s 65us/sample - loss: 0.1022 - accuracy: 0.9699 - val_loss: 0.1033 - val_accuracy: 0.9767\n",
      "Epoch 71/150\n",
      "1029/1029 [==============================] - 0s 66us/sample - loss: 0.1008 - accuracy: 0.9699 - val_loss: 0.1020 - val_accuracy: 0.9767\n",
      "Epoch 72/150\n",
      "1029/1029 [==============================] - 0s 64us/sample - loss: 0.0994 - accuracy: 0.9699 - val_loss: 0.1008 - val_accuracy: 0.9767\n",
      "Epoch 73/150\n",
      "1029/1029 [==============================] - 0s 64us/sample - loss: 0.0980 - accuracy: 0.9699 - val_loss: 0.0996 - val_accuracy: 0.9767\n",
      "Epoch 74/150\n",
      "1029/1029 [==============================] - 0s 66us/sample - loss: 0.0967 - accuracy: 0.9699 - val_loss: 0.0985 - val_accuracy: 0.9767\n",
      "Epoch 75/150\n",
      "1029/1029 [==============================] - 0s 64us/sample - loss: 0.0955 - accuracy: 0.9708 - val_loss: 0.0974 - val_accuracy: 0.9767\n",
      "Epoch 76/150\n",
      "1029/1029 [==============================] - 0s 78us/sample - loss: 0.0942 - accuracy: 0.9708 - val_loss: 0.0963 - val_accuracy: 0.9767\n",
      "Epoch 77/150\n",
      "1029/1029 [==============================] - 0s 67us/sample - loss: 0.0931 - accuracy: 0.9718 - val_loss: 0.0953 - val_accuracy: 0.9767\n",
      "Epoch 78/150\n",
      "1029/1029 [==============================] - 0s 63us/sample - loss: 0.0919 - accuracy: 0.9718 - val_loss: 0.0942 - val_accuracy: 0.9767\n",
      "Epoch 79/150\n",
      "1029/1029 [==============================] - 0s 64us/sample - loss: 0.0907 - accuracy: 0.9728 - val_loss: 0.0931 - val_accuracy: 0.9767\n",
      "Epoch 80/150\n",
      "1029/1029 [==============================] - 0s 63us/sample - loss: 0.0896 - accuracy: 0.9728 - val_loss: 0.0922 - val_accuracy: 0.9767\n",
      "Epoch 81/150\n",
      "1029/1029 [==============================] - 0s 66us/sample - loss: 0.0885 - accuracy: 0.9738 - val_loss: 0.0912 - val_accuracy: 0.9767\n",
      "Epoch 82/150\n",
      "1029/1029 [==============================] - 0s 62us/sample - loss: 0.0875 - accuracy: 0.9747 - val_loss: 0.0902 - val_accuracy: 0.9767\n",
      "Epoch 83/150\n",
      "1029/1029 [==============================] - 0s 66us/sample - loss: 0.0864 - accuracy: 0.9747 - val_loss: 0.0893 - val_accuracy: 0.9767\n",
      "Epoch 84/150\n",
      "1029/1029 [==============================] - 0s 71us/sample - loss: 0.0854 - accuracy: 0.9747 - val_loss: 0.0884 - val_accuracy: 0.9767\n",
      "Epoch 85/150\n",
      "1029/1029 [==============================] - 0s 70us/sample - loss: 0.0844 - accuracy: 0.9747 - val_loss: 0.0876 - val_accuracy: 0.9767\n",
      "Epoch 86/150\n",
      "1029/1029 [==============================] - 0s 66us/sample - loss: 0.0835 - accuracy: 0.9747 - val_loss: 0.0867 - val_accuracy: 0.9767\n",
      "Epoch 87/150\n",
      "1029/1029 [==============================] - 0s 63us/sample - loss: 0.0825 - accuracy: 0.9757 - val_loss: 0.0858 - val_accuracy: 0.9767\n",
      "Epoch 88/150\n",
      "1029/1029 [==============================] - 0s 64us/sample - loss: 0.0815 - accuracy: 0.9786 - val_loss: 0.0850 - val_accuracy: 0.9767\n",
      "Epoch 89/150\n",
      "1029/1029 [==============================] - 0s 64us/sample - loss: 0.0806 - accuracy: 0.9786 - val_loss: 0.0842 - val_accuracy: 0.9767\n",
      "Epoch 90/150\n",
      "1029/1029 [==============================] - 0s 63us/sample - loss: 0.0798 - accuracy: 0.9806 - val_loss: 0.0834 - val_accuracy: 0.9767\n",
      "Epoch 91/150\n",
      "1029/1029 [==============================] - 0s 64us/sample - loss: 0.0789 - accuracy: 0.9825 - val_loss: 0.0826 - val_accuracy: 0.9796\n",
      "Epoch 92/150\n",
      "1029/1029 [==============================] - 0s 67us/sample - loss: 0.0781 - accuracy: 0.9854 - val_loss: 0.0819 - val_accuracy: 0.9796\n",
      "Epoch 93/150\n",
      "1029/1029 [==============================] - 0s 61us/sample - loss: 0.0772 - accuracy: 0.9864 - val_loss: 0.0811 - val_accuracy: 0.9796\n",
      "Epoch 94/150\n",
      "1029/1029 [==============================] - 0s 74us/sample - loss: 0.0764 - accuracy: 0.9864 - val_loss: 0.0804 - val_accuracy: 0.9796\n",
      "Epoch 95/150\n",
      "1029/1029 [==============================] - 0s 66us/sample - loss: 0.0756 - accuracy: 0.9874 - val_loss: 0.0797 - val_accuracy: 0.9708\n",
      "Epoch 96/150\n",
      "1029/1029 [==============================] - 0s 64us/sample - loss: 0.0748 - accuracy: 0.9874 - val_loss: 0.0790 - val_accuracy: 0.9708\n",
      "Epoch 97/150\n",
      "1029/1029 [==============================] - 0s 64us/sample - loss: 0.0741 - accuracy: 0.9874 - val_loss: 0.0783 - val_accuracy: 0.9796\n",
      "Epoch 98/150\n",
      "1029/1029 [==============================] - 0s 65us/sample - loss: 0.0733 - accuracy: 0.9874 - val_loss: 0.0777 - val_accuracy: 0.9796\n",
      "Epoch 99/150\n",
      "1029/1029 [==============================] - 0s 66us/sample - loss: 0.0726 - accuracy: 0.9874 - val_loss: 0.0770 - val_accuracy: 0.9708\n",
      "Epoch 100/150\n",
      "1029/1029 [==============================] - 0s 61us/sample - loss: 0.0718 - accuracy: 0.9874 - val_loss: 0.0764 - val_accuracy: 0.9708\n",
      "Epoch 101/150\n",
      "1029/1029 [==============================] - 0s 67us/sample - loss: 0.0711 - accuracy: 0.9874 - val_loss: 0.0757 - val_accuracy: 0.9796\n",
      "Epoch 102/150\n",
      "1029/1029 [==============================] - 0s 92us/sample - loss: 0.0705 - accuracy: 0.9874 - val_loss: 0.0751 - val_accuracy: 0.9796\n",
      "Epoch 103/150\n",
      "1029/1029 [==============================] - 0s 70us/sample - loss: 0.0698 - accuracy: 0.9874 - val_loss: 0.0745 - val_accuracy: 0.9796\n",
      "Epoch 104/150\n",
      "1029/1029 [==============================] - 0s 293us/sample - loss: 0.0691 - accuracy: 0.9874 - val_loss: 0.0739 - val_accuracy: 0.9708\n",
      "Epoch 105/150\n",
      "1029/1029 [==============================] - 0s 351us/sample - loss: 0.0684 - accuracy: 0.9874 - val_loss: 0.0733 - val_accuracy: 0.9708\n",
      "Epoch 106/150\n",
      "1029/1029 [==============================] - 0s 384us/sample - loss: 0.0678 - accuracy: 0.9883 - val_loss: 0.0727 - val_accuracy: 0.9708\n",
      "Epoch 107/150\n",
      "1029/1029 [==============================] - 0s 90us/sample - loss: 0.0671 - accuracy: 0.9883 - val_loss: 0.0722 - val_accuracy: 0.9738\n",
      "Epoch 108/150\n",
      "1029/1029 [==============================] - 0s 91us/sample - loss: 0.0665 - accuracy: 0.9883 - val_loss: 0.0716 - val_accuracy: 0.9738\n"
     ]
    },
    {
     "name": "stdout",
     "output_type": "stream",
     "text": [
      "Epoch 109/150\n",
      "1029/1029 [==============================] - 0s 68us/sample - loss: 0.0659 - accuracy: 0.9883 - val_loss: 0.0711 - val_accuracy: 0.9738\n",
      "Epoch 110/150\n",
      "1029/1029 [==============================] - 0s 59us/sample - loss: 0.0653 - accuracy: 0.9883 - val_loss: 0.0706 - val_accuracy: 0.9738\n",
      "Epoch 111/150\n",
      "1029/1029 [==============================] - 0s 68us/sample - loss: 0.0647 - accuracy: 0.9883 - val_loss: 0.0700 - val_accuracy: 0.9738\n",
      "Epoch 112/150\n",
      "1029/1029 [==============================] - 0s 60us/sample - loss: 0.0641 - accuracy: 0.9883 - val_loss: 0.0695 - val_accuracy: 0.9738\n",
      "Epoch 113/150\n",
      "1029/1029 [==============================] - 0s 64us/sample - loss: 0.0636 - accuracy: 0.9883 - val_loss: 0.0690 - val_accuracy: 0.9738\n",
      "Epoch 114/150\n",
      "1029/1029 [==============================] - 0s 65us/sample - loss: 0.0630 - accuracy: 0.9883 - val_loss: 0.0685 - val_accuracy: 0.9738\n",
      "Epoch 115/150\n",
      "1029/1029 [==============================] - 0s 72us/sample - loss: 0.0625 - accuracy: 0.9883 - val_loss: 0.0680 - val_accuracy: 0.9825\n",
      "Epoch 116/150\n",
      "1029/1029 [==============================] - 0s 71us/sample - loss: 0.0619 - accuracy: 0.9883 - val_loss: 0.0675 - val_accuracy: 0.9738\n",
      "Epoch 117/150\n",
      "1029/1029 [==============================] - 0s 65us/sample - loss: 0.0613 - accuracy: 0.9883 - val_loss: 0.0670 - val_accuracy: 0.9825\n",
      "Epoch 118/150\n",
      "1029/1029 [==============================] - 0s 71us/sample - loss: 0.0608 - accuracy: 0.9883 - val_loss: 0.0665 - val_accuracy: 0.9738\n",
      "Epoch 119/150\n",
      "1029/1029 [==============================] - 0s 99us/sample - loss: 0.0603 - accuracy: 0.9903 - val_loss: 0.0660 - val_accuracy: 0.9738\n",
      "Epoch 120/150\n",
      "1029/1029 [==============================] - 0s 118us/sample - loss: 0.0599 - accuracy: 0.9903 - val_loss: 0.0656 - val_accuracy: 0.9738\n",
      "Epoch 121/150\n",
      "1029/1029 [==============================] - 0s 266us/sample - loss: 0.0594 - accuracy: 0.9903 - val_loss: 0.0652 - val_accuracy: 0.9738\n",
      "Epoch 122/150\n",
      "1029/1029 [==============================] - 0s 201us/sample - loss: 0.0589 - accuracy: 0.9903 - val_loss: 0.0647 - val_accuracy: 0.9738\n",
      "Epoch 123/150\n",
      "1029/1029 [==============================] - 0s 106us/sample - loss: 0.0584 - accuracy: 0.9903 - val_loss: 0.0643 - val_accuracy: 0.9738\n",
      "Epoch 124/150\n",
      "1029/1029 [==============================] - 0s 67us/sample - loss: 0.0580 - accuracy: 0.9903 - val_loss: 0.0639 - val_accuracy: 0.9738\n",
      "Epoch 125/150\n",
      "1029/1029 [==============================] - 0s 69us/sample - loss: 0.0575 - accuracy: 0.9903 - val_loss: 0.0634 - val_accuracy: 0.9738\n",
      "Epoch 126/150\n",
      "1029/1029 [==============================] - 0s 69us/sample - loss: 0.0570 - accuracy: 0.9903 - val_loss: 0.0631 - val_accuracy: 0.9738\n",
      "Epoch 127/150\n",
      "1029/1029 [==============================] - 0s 102us/sample - loss: 0.0566 - accuracy: 0.9903 - val_loss: 0.0627 - val_accuracy: 0.9738\n",
      "Epoch 128/150\n",
      "1029/1029 [==============================] - 0s 68us/sample - loss: 0.0562 - accuracy: 0.9903 - val_loss: 0.0623 - val_accuracy: 0.9738\n",
      "Epoch 129/150\n",
      "1029/1029 [==============================] - 0s 67us/sample - loss: 0.0558 - accuracy: 0.9903 - val_loss: 0.0619 - val_accuracy: 0.9738\n",
      "Epoch 130/150\n",
      "1029/1029 [==============================] - 0s 73us/sample - loss: 0.0554 - accuracy: 0.9903 - val_loss: 0.0615 - val_accuracy: 0.9738\n",
      "Epoch 131/150\n",
      "1029/1029 [==============================] - 0s 247us/sample - loss: 0.0550 - accuracy: 0.9903 - val_loss: 0.0612 - val_accuracy: 0.9738\n",
      "Epoch 132/150\n",
      "1029/1029 [==============================] - 0s 289us/sample - loss: 0.0545 - accuracy: 0.9903 - val_loss: 0.0608 - val_accuracy: 0.9738\n",
      "Epoch 133/150\n",
      "1029/1029 [==============================] - 0s 130us/sample - loss: 0.0542 - accuracy: 0.9903 - val_loss: 0.0604 - val_accuracy: 0.9738\n",
      "Epoch 134/150\n",
      "1029/1029 [==============================] - 0s 66us/sample - loss: 0.0538 - accuracy: 0.9903 - val_loss: 0.0601 - val_accuracy: 0.9738\n",
      "Epoch 135/150\n",
      "1029/1029 [==============================] - 0s 58us/sample - loss: 0.0534 - accuracy: 0.9903 - val_loss: 0.0598 - val_accuracy: 0.9738\n",
      "Epoch 136/150\n",
      "1029/1029 [==============================] - 0s 74us/sample - loss: 0.0530 - accuracy: 0.9903 - val_loss: 0.0595 - val_accuracy: 0.9738\n",
      "Epoch 137/150\n",
      "1029/1029 [==============================] - 0s 67us/sample - loss: 0.0526 - accuracy: 0.9903 - val_loss: 0.0591 - val_accuracy: 0.9738\n",
      "Epoch 138/150\n",
      "1029/1029 [==============================] - 0s 67us/sample - loss: 0.0522 - accuracy: 0.9903 - val_loss: 0.0588 - val_accuracy: 0.9738\n",
      "Epoch 139/150\n",
      "1029/1029 [==============================] - 0s 66us/sample - loss: 0.0519 - accuracy: 0.9903 - val_loss: 0.0585 - val_accuracy: 0.9738\n",
      "Epoch 140/150\n",
      "1029/1029 [==============================] - 0s 60us/sample - loss: 0.0516 - accuracy: 0.9903 - val_loss: 0.0581 - val_accuracy: 0.9738\n",
      "Epoch 141/150\n",
      "1029/1029 [==============================] - 0s 65us/sample - loss: 0.0512 - accuracy: 0.9903 - val_loss: 0.0578 - val_accuracy: 0.9738\n",
      "Epoch 142/150\n",
      "1029/1029 [==============================] - 0s 74us/sample - loss: 0.0508 - accuracy: 0.9903 - val_loss: 0.0575 - val_accuracy: 0.9738\n",
      "Epoch 143/150\n",
      "1029/1029 [==============================] - 0s 54us/sample - loss: 0.0505 - accuracy: 0.9903 - val_loss: 0.0572 - val_accuracy: 0.9738\n",
      "Epoch 144/150\n",
      "1029/1029 [==============================] - 0s 77us/sample - loss: 0.0501 - accuracy: 0.9903 - val_loss: 0.0570 - val_accuracy: 0.9738\n",
      "Epoch 145/150\n",
      "1029/1029 [==============================] - 0s 66us/sample - loss: 0.0498 - accuracy: 0.9903 - val_loss: 0.0567 - val_accuracy: 0.9738\n",
      "Epoch 146/150\n",
      "1029/1029 [==============================] - 0s 69us/sample - loss: 0.0495 - accuracy: 0.9903 - val_loss: 0.0564 - val_accuracy: 0.9738\n",
      "Epoch 147/150\n",
      "1029/1029 [==============================] - 0s 68us/sample - loss: 0.0491 - accuracy: 0.9903 - val_loss: 0.0561 - val_accuracy: 0.9738\n",
      "Epoch 148/150\n",
      "1029/1029 [==============================] - 0s 67us/sample - loss: 0.0488 - accuracy: 0.9903 - val_loss: 0.0558 - val_accuracy: 0.9738\n",
      "Epoch 149/150\n",
      "1029/1029 [==============================] - 0s 68us/sample - loss: 0.0486 - accuracy: 0.9903 - val_loss: 0.0555 - val_accuracy: 0.9738\n",
      "Epoch 150/150\n",
      "1029/1029 [==============================] - 0s 75us/sample - loss: 0.0483 - accuracy: 0.9903 - val_loss: 0.0553 - val_accuracy: 0.9738\n"
     ]
    }
   ],
   "source": [
    "# Train/fit the model\n",
    "result = model.fit(X_train, y_train,\n",
    "                   validation_data=(X_test, y_test),\n",
    "                   epochs=150);"
   ]
  },
  {
   "cell_type": "code",
   "execution_count": 11,
   "metadata": {},
   "outputs": [
    {
     "name": "stdout",
     "output_type": "stream",
     "text": [
      "WARNING:tensorflow:Falling back from v2 loop because of error: Failed to find data adapter that can handle input: <class 'pandas.core.frame.DataFrame'>, <class 'NoneType'>\n",
      "Train score: 0.9902818\n",
      "WARNING:tensorflow:Falling back from v2 loop because of error: Failed to find data adapter that can handle input: <class 'pandas.core.frame.DataFrame'>, <class 'NoneType'>\n",
      "Train score: 0.97376096\n"
     ]
    }
   ],
   "source": [
    "# Print the results\n",
    "print(\"Train score:\", model.evaluate(x=X_train, y=y_train, verbose=0)[1])\n",
    "print(\"Train score:\", model.evaluate(x=X_test, y=y_test, verbose=0)[1])"
   ]
  },
  {
   "cell_type": "code",
   "execution_count": 12,
   "metadata": {},
   "outputs": [
    {
     "data": {
      "text/plain": [
       "<matplotlib.legend.Legend at 0x246eb70c508>"
      ]
     },
     "execution_count": 12,
     "metadata": {},
     "output_type": "execute_result"
    },
    {
     "data": {
      "image/png": "[encoded data removed]",
      "text/plain": [
       "<Figure size 432x288 with 1 Axes>"
      ]
     },
     "metadata": {
      "needs_background": "light"
     },
     "output_type": "display_data"
    }
   ],
   "source": [
    "# Plot the cost function at each itteration\n",
    "# Note: model.fit() returns an object that contains the history of the training process\n",
    "plt.plot(result.history['loss'], label='loss');\n",
    "plt.plot(result.history['val_loss'], label='val_loss');\n",
    "plt.legend()"
   ]
  },
  {
   "cell_type": "code",
   "execution_count": 13,
   "metadata": {},
   "outputs": [
    {
     "data": {
      "text/plain": [
       "<matplotlib.legend.Legend at 0x246eb7c4b88>"
      ]
     },
     "execution_count": 13,
     "metadata": {},
     "output_type": "execute_result"
    },
    {
     "data": {
      "image/png": "[encoded data removed]",
      "text/plain": [
       "<Figure size 432x288 with 1 Axes>"
      ]
     },
     "metadata": {
      "needs_background": "light"
     },
     "output_type": "display_data"
    }
   ],
   "source": [
    "# Plot the cost function at each itteration\n",
    "# Note: model.fit() returns an object that contains the history of the training process\n",
    "plt.plot(result.history['accuracy'], label='loss');\n",
    "plt.plot(result.history['val_accuracy'], label='val_loss');\n",
    "plt.legend()"
   ]
  },
  {
   "cell_type": "markdown",
   "metadata": {},
   "source": [
    "### Try another example"
   ]
  },
  {
   "cell_type": "code",
   "execution_count": 14,
   "metadata": {},
   "outputs": [],
   "source": [
    "# Import the dataset\n",
    "data = load_breast_cancer()"
   ]
  },
  {
   "cell_type": "code",
   "execution_count": 15,
   "metadata": {},
   "outputs": [
    {
     "data": {
      "text/plain": [
       "sklearn.utils.Bunch"
      ]
     },
     "execution_count": 15,
     "metadata": {},
     "output_type": "execute_result"
    }
   ],
   "source": [
    "# Check data type\n",
    "type(data)"
   ]
  },
  {
   "cell_type": "code",
   "execution_count": 16,
   "metadata": {},
   "outputs": [
    {
     "data": {
      "text/plain": [
       "dict_keys(['data', 'target', 'target_names', 'DESCR', 'feature_names', 'filename'])"
      ]
     },
     "execution_count": 16,
     "metadata": {},
     "output_type": "execute_result"
    }
   ],
   "source": [
    "# Bunch is like a dict, so we can have a look at the keys\n",
    "data.keys()"
   ]
  },
  {
   "cell_type": "code",
   "execution_count": 17,
   "metadata": {},
   "outputs": [
    {
     "data": {
      "text/plain": [
       "(569, 30)"
      ]
     },
     "execution_count": 17,
     "metadata": {},
     "output_type": "execute_result"
    }
   ],
   "source": [
    "# Inspect the data shape\n",
    "data.data.shape"
   ]
  },
  {
   "cell_type": "code",
   "execution_count": 18,
   "metadata": {},
   "outputs": [
    {
     "data": {
      "text/plain": [
       "(569,)"
      ]
     },
     "execution_count": 18,
     "metadata": {},
     "output_type": "execute_result"
    }
   ],
   "source": [
    "# Inpect the target shape\n",
    "data.target.shape"
   ]
  },
  {
   "cell_type": "code",
   "execution_count": 19,
   "metadata": {},
   "outputs": [
    {
     "data": {
      "text/plain": [
       "array(['malignant', 'benign'], dtype='<U9')"
      ]
     },
     "execution_count": 19,
     "metadata": {},
     "output_type": "execute_result"
    }
   ],
   "source": [
    "# See what the 1s and 0s mean\n",
    "data.target_names"
   ]
  },
  {
   "cell_type": "code",
   "execution_count": 20,
   "metadata": {},
   "outputs": [],
   "source": [
    "# Scale the data\n",
    "scaler = StandardScaler()\n",
    "data_scaled = scaler.fit_transform(data.data)"
   ]
  },
  {
   "cell_type": "code",
   "execution_count": 21,
   "metadata": {},
   "outputs": [],
   "source": [
    "# Create the train-test split\n",
    "X_train, X_test, y_train, y_test = train_test_split(data_scaled, data.target, test_size=0.25, random_state=100)"
   ]
  },
  {
   "cell_type": "code",
   "execution_count": 22,
   "metadata": {},
   "outputs": [],
   "source": [
    "# Define the model layers\n",
    "D = data_scaled.shape[1] # Size of input vector\n",
    "input_layer = tf.keras.layers.Input(shape=(D,))\n",
    "dense_layer = tf.keras.layers.Dense(1, activation='sigmoid')"
   ]
  },
  {
   "cell_type": "code",
   "execution_count": 23,
   "metadata": {},
   "outputs": [],
   "source": [
    "# Create the model\n",
    "model = tf.keras.Sequential([input_layer, dense_layer])"
   ]
  },
  {
   "cell_type": "code",
   "execution_count": 24,
   "metadata": {},
   "outputs": [],
   "source": [
    "# Define how the model will be trained/fit\n",
    "model.compile(optimizer='adam', # define the optimizer (adam is one way of doing gradient descent)\n",
    "              loss='binary_crossentropy', # define the cost function\n",
    "              metrics=['accuracy']) # define the metrics that tensorflow should keep track of"
   ]
  },
  {
   "cell_type": "code",
   "execution_count": 25,
   "metadata": {
    "scrolled": true
   },
   "outputs": [
    {
     "name": "stdout",
     "output_type": "stream",
     "text": [
      "Train on 426 samples, validate on 143 samples\n",
      "Epoch 1/150\n",
      "426/426 [==============================] - 1s 1ms/sample - loss: 0.6030 - accuracy: 0.7089 - val_loss: 0.5204 - val_accuracy: 0.7902\n",
      "Epoch 2/150\n",
      "426/426 [==============================] - 0s 124us/sample - loss: 0.5477 - accuracy: 0.7488 - val_loss: 0.4692 - val_accuracy: 0.8252\n",
      "Epoch 3/150\n",
      "426/426 [==============================] - 0s 105us/sample - loss: 0.5020 - accuracy: 0.7817 - val_loss: 0.4268 - val_accuracy: 0.8462\n",
      "Epoch 4/150\n",
      "426/426 [==============================] - 0s 103us/sample - loss: 0.4608 - accuracy: 0.8075 - val_loss: 0.3936 - val_accuracy: 0.8671\n",
      "Epoch 5/150\n",
      "426/426 [==============================] - 0s 112us/sample - loss: 0.4291 - accuracy: 0.8333 - val_loss: 0.3646 - val_accuracy: 0.8811\n",
      "Epoch 6/150\n",
      "426/426 [==============================] - 0s 106us/sample - loss: 0.4008 - accuracy: 0.8451 - val_loss: 0.3405 - val_accuracy: 0.8881\n",
      "Epoch 7/150\n",
      "426/426 [==============================] - 0s 107us/sample - loss: 0.3769 - accuracy: 0.8568 - val_loss: 0.3198 - val_accuracy: 0.8881\n",
      "Epoch 8/150\n",
      "426/426 [==============================] - 0s 113us/sample - loss: 0.3560 - accuracy: 0.8732 - val_loss: 0.3017 - val_accuracy: 0.8951\n",
      "Epoch 9/150\n",
      "426/426 [==============================] - 0s 106us/sample - loss: 0.3379 - accuracy: 0.8826 - val_loss: 0.2862 - val_accuracy: 0.8951\n",
      "Epoch 10/150\n",
      "426/426 [==============================] - 0s 99us/sample - loss: 0.3218 - accuracy: 0.8920 - val_loss: 0.2718 - val_accuracy: 0.9091\n",
      "Epoch 11/150\n",
      "426/426 [==============================] - 0s 110us/sample - loss: 0.3074 - accuracy: 0.9038 - val_loss: 0.2592 - val_accuracy: 0.9091\n",
      "Epoch 12/150\n",
      "426/426 [==============================] - 0s 110us/sample - loss: 0.2948 - accuracy: 0.9108 - val_loss: 0.2475 - val_accuracy: 0.9161\n",
      "Epoch 13/150\n",
      "426/426 [==============================] - 0s 108us/sample - loss: 0.2830 - accuracy: 0.9155 - val_loss: 0.2372 - val_accuracy: 0.9161\n",
      "Epoch 14/150\n",
      "426/426 [==============================] - 0s 103us/sample - loss: 0.2725 - accuracy: 0.9225 - val_loss: 0.2282 - val_accuracy: 0.9231\n",
      "Epoch 15/150\n",
      "426/426 [==============================] - 0s 108us/sample - loss: 0.2630 - accuracy: 0.9249 - val_loss: 0.2194 - val_accuracy: 0.9231\n",
      "Epoch 16/150\n",
      "426/426 [==============================] - 0s 101us/sample - loss: 0.2543 - accuracy: 0.9249 - val_loss: 0.2109 - val_accuracy: 0.9301\n",
      "Epoch 17/150\n",
      "426/426 [==============================] - 0s 102us/sample - loss: 0.2458 - accuracy: 0.9272 - val_loss: 0.2038 - val_accuracy: 0.9301\n",
      "Epoch 18/150\n",
      "426/426 [==============================] - 0s 117us/sample - loss: 0.2382 - accuracy: 0.9296 - val_loss: 0.1964 - val_accuracy: 0.9371\n",
      "Epoch 19/150\n",
      "426/426 [==============================] - 0s 113us/sample - loss: 0.2310 - accuracy: 0.9296 - val_loss: 0.1898 - val_accuracy: 0.9441\n",
      "Epoch 20/150\n",
      "426/426 [==============================] - 0s 101us/sample - loss: 0.2245 - accuracy: 0.9319 - val_loss: 0.1835 - val_accuracy: 0.9441\n",
      "Epoch 21/150\n",
      "426/426 [==============================] - 0s 104us/sample - loss: 0.2180 - accuracy: 0.9319 - val_loss: 0.1780 - val_accuracy: 0.9580\n",
      "Epoch 22/150\n",
      "426/426 [==============================] - 0s 106us/sample - loss: 0.2123 - accuracy: 0.9343 - val_loss: 0.1724 - val_accuracy: 0.9580\n",
      "Epoch 23/150\n",
      "426/426 [==============================] - 0s 113us/sample - loss: 0.2068 - accuracy: 0.9343 - val_loss: 0.1676 - val_accuracy: 0.9580\n",
      "Epoch 24/150\n",
      "426/426 [==============================] - 0s 104us/sample - loss: 0.2017 - accuracy: 0.9390 - val_loss: 0.1629 - val_accuracy: 0.9580\n",
      "Epoch 25/150\n",
      "426/426 [==============================] - 0s 106us/sample - loss: 0.1969 - accuracy: 0.9460 - val_loss: 0.1586 - val_accuracy: 0.9650\n",
      "Epoch 26/150\n",
      "426/426 [==============================] - 0s 103us/sample - loss: 0.1925 - accuracy: 0.9484 - val_loss: 0.1544 - val_accuracy: 0.9650\n",
      "Epoch 27/150\n",
      "426/426 [==============================] - 0s 110us/sample - loss: 0.1881 - accuracy: 0.9484 - val_loss: 0.1503 - val_accuracy: 0.9650\n",
      "Epoch 28/150\n",
      "426/426 [==============================] - 0s 101us/sample - loss: 0.1839 - accuracy: 0.9484 - val_loss: 0.1468 - val_accuracy: 0.9650\n",
      "Epoch 29/150\n",
      "426/426 [==============================] - 0s 100us/sample - loss: 0.1801 - accuracy: 0.9484 - val_loss: 0.1431 - val_accuracy: 0.9650\n",
      "Epoch 30/150\n",
      "426/426 [==============================] - 0s 101us/sample - loss: 0.1764 - accuracy: 0.9484 - val_loss: 0.1397 - val_accuracy: 0.9580\n",
      "Epoch 31/150\n",
      "426/426 [==============================] - 0s 108us/sample - loss: 0.1729 - accuracy: 0.9507 - val_loss: 0.1367 - val_accuracy: 0.9580\n",
      "Epoch 32/150\n",
      "426/426 [==============================] - 0s 106us/sample - loss: 0.1694 - accuracy: 0.9507 - val_loss: 0.1341 - val_accuracy: 0.9580\n",
      "Epoch 33/150\n",
      "426/426 [==============================] - 0s 113us/sample - loss: 0.1662 - accuracy: 0.9531 - val_loss: 0.1312 - val_accuracy: 0.9580\n",
      "Epoch 34/150\n",
      "426/426 [==============================] - 0s 113us/sample - loss: 0.1631 - accuracy: 0.9554 - val_loss: 0.1285 - val_accuracy: 0.9580\n",
      "Epoch 35/150\n",
      "426/426 [==============================] - 0s 108us/sample - loss: 0.1602 - accuracy: 0.9554 - val_loss: 0.1260 - val_accuracy: 0.9580\n",
      "Epoch 36/150\n",
      "426/426 [==============================] - 0s 108us/sample - loss: 0.1573 - accuracy: 0.9577 - val_loss: 0.1237 - val_accuracy: 0.9580\n",
      "Epoch 37/150\n",
      "426/426 [==============================] - 0s 104us/sample - loss: 0.1546 - accuracy: 0.9601 - val_loss: 0.1215 - val_accuracy: 0.9580\n",
      "Epoch 38/150\n",
      "426/426 [==============================] - 0s 131us/sample - loss: 0.1520 - accuracy: 0.9601 - val_loss: 0.1192 - val_accuracy: 0.9580\n",
      "Epoch 39/150\n",
      "426/426 [==============================] - 0s 106us/sample - loss: 0.1495 - accuracy: 0.9624 - val_loss: 0.1173 - val_accuracy: 0.9650\n",
      "Epoch 40/150\n",
      "426/426 [==============================] - 0s 99us/sample - loss: 0.1471 - accuracy: 0.9648 - val_loss: 0.1152 - val_accuracy: 0.9650\n",
      "Epoch 41/150\n",
      "426/426 [==============================] - 0s 108us/sample - loss: 0.1448 - accuracy: 0.9648 - val_loss: 0.1135 - val_accuracy: 0.9650\n",
      "Epoch 42/150\n",
      "426/426 [==============================] - 0s 103us/sample - loss: 0.1428 - accuracy: 0.9648 - val_loss: 0.1118 - val_accuracy: 0.9650\n",
      "Epoch 43/150\n",
      "426/426 [==============================] - 0s 99us/sample - loss: 0.1404 - accuracy: 0.9648 - val_loss: 0.1104 - val_accuracy: 0.9650\n",
      "Epoch 44/150\n",
      "426/426 [==============================] - 0s 110us/sample - loss: 0.1384 - accuracy: 0.9648 - val_loss: 0.1091 - val_accuracy: 0.9650\n",
      "Epoch 45/150\n",
      "426/426 [==============================] - 0s 115us/sample - loss: 0.1365 - accuracy: 0.9648 - val_loss: 0.1075 - val_accuracy: 0.9650\n",
      "Epoch 46/150\n",
      "426/426 [==============================] - 0s 113us/sample - loss: 0.1346 - accuracy: 0.9648 - val_loss: 0.1062 - val_accuracy: 0.9650\n",
      "Epoch 47/150\n",
      "426/426 [==============================] - 0s 103us/sample - loss: 0.1329 - accuracy: 0.9648 - val_loss: 0.1049 - val_accuracy: 0.9650\n",
      "Epoch 48/150\n",
      "426/426 [==============================] - 0s 102us/sample - loss: 0.1310 - accuracy: 0.9648 - val_loss: 0.1036 - val_accuracy: 0.9650\n",
      "Epoch 49/150\n",
      "426/426 [==============================] - 0s 99us/sample - loss: 0.1293 - accuracy: 0.9648 - val_loss: 0.1027 - val_accuracy: 0.9650\n",
      "Epoch 50/150\n",
      "426/426 [==============================] - 0s 112us/sample - loss: 0.1277 - accuracy: 0.9648 - val_loss: 0.1016 - val_accuracy: 0.9650\n",
      "Epoch 51/150\n",
      "426/426 [==============================] - 0s 104us/sample - loss: 0.1261 - accuracy: 0.9648 - val_loss: 0.1005 - val_accuracy: 0.9650\n",
      "Epoch 52/150\n",
      "426/426 [==============================] - 0s 101us/sample - loss: 0.1246 - accuracy: 0.9648 - val_loss: 0.0996 - val_accuracy: 0.9650\n",
      "Epoch 53/150\n",
      "426/426 [==============================] - 0s 108us/sample - loss: 0.1230 - accuracy: 0.9648 - val_loss: 0.0984 - val_accuracy: 0.9650\n",
      "Epoch 54/150\n",
      "426/426 [==============================] - 0s 108us/sample - loss: 0.1216 - accuracy: 0.9648 - val_loss: 0.0975 - val_accuracy: 0.9650\n",
      "Epoch 55/150\n",
      "426/426 [==============================] - 0s 103us/sample - loss: 0.1202 - accuracy: 0.9648 - val_loss: 0.0968 - val_accuracy: 0.9650\n",
      "Epoch 56/150\n"
     ]
    },
    {
     "name": "stdout",
     "output_type": "stream",
     "text": [
      "426/426 [==============================] - 0s 105us/sample - loss: 0.1189 - accuracy: 0.9648 - val_loss: 0.0960 - val_accuracy: 0.9650\n",
      "Epoch 57/150\n",
      "426/426 [==============================] - 0s 122us/sample - loss: 0.1176 - accuracy: 0.9671 - val_loss: 0.0953 - val_accuracy: 0.9650\n",
      "Epoch 58/150\n",
      "426/426 [==============================] - 0s 110us/sample - loss: 0.1164 - accuracy: 0.9671 - val_loss: 0.0946 - val_accuracy: 0.9650\n",
      "Epoch 59/150\n",
      "426/426 [==============================] - 0s 103us/sample - loss: 0.1152 - accuracy: 0.9695 - val_loss: 0.0940 - val_accuracy: 0.9650\n",
      "Epoch 60/150\n",
      "426/426 [==============================] - 0s 103us/sample - loss: 0.1140 - accuracy: 0.9695 - val_loss: 0.0934 - val_accuracy: 0.9720\n",
      "Epoch 61/150\n",
      "426/426 [==============================] - 0s 100us/sample - loss: 0.1128 - accuracy: 0.9695 - val_loss: 0.0929 - val_accuracy: 0.9720\n",
      "Epoch 62/150\n",
      "426/426 [==============================] - 0s 106us/sample - loss: 0.1119 - accuracy: 0.9695 - val_loss: 0.0923 - val_accuracy: 0.9720\n",
      "Epoch 63/150\n",
      "426/426 [==============================] - 0s 101us/sample - loss: 0.1108 - accuracy: 0.9695 - val_loss: 0.0918 - val_accuracy: 0.9720\n",
      "Epoch 64/150\n",
      "426/426 [==============================] - 0s 99us/sample - loss: 0.1098 - accuracy: 0.9695 - val_loss: 0.0911 - val_accuracy: 0.9720\n",
      "Epoch 65/150\n",
      "426/426 [==============================] - 0s 105us/sample - loss: 0.1088 - accuracy: 0.9718 - val_loss: 0.0907 - val_accuracy: 0.9720\n",
      "Epoch 66/150\n",
      "426/426 [==============================] - 0s 106us/sample - loss: 0.1078 - accuracy: 0.9718 - val_loss: 0.0903 - val_accuracy: 0.9720\n",
      "Epoch 67/150\n",
      "426/426 [==============================] - 0s 99us/sample - loss: 0.1069 - accuracy: 0.9742 - val_loss: 0.0900 - val_accuracy: 0.9720\n",
      "Epoch 68/150\n",
      "426/426 [==============================] - 0s 101us/sample - loss: 0.1059 - accuracy: 0.9742 - val_loss: 0.0894 - val_accuracy: 0.9720\n",
      "Epoch 69/150\n",
      "426/426 [==============================] - 0s 99us/sample - loss: 0.1050 - accuracy: 0.9742 - val_loss: 0.0891 - val_accuracy: 0.9720\n",
      "Epoch 70/150\n",
      "426/426 [==============================] - 0s 106us/sample - loss: 0.1042 - accuracy: 0.9742 - val_loss: 0.0887 - val_accuracy: 0.9720\n",
      "Epoch 71/150\n",
      "426/426 [==============================] - 0s 115us/sample - loss: 0.1035 - accuracy: 0.9742 - val_loss: 0.0885 - val_accuracy: 0.9720\n",
      "Epoch 72/150\n",
      "426/426 [==============================] - 0s 109us/sample - loss: 0.1027 - accuracy: 0.9742 - val_loss: 0.0882 - val_accuracy: 0.9720\n",
      "Epoch 73/150\n",
      "426/426 [==============================] - 0s 106us/sample - loss: 0.1020 - accuracy: 0.9742 - val_loss: 0.0878 - val_accuracy: 0.9720\n",
      "Epoch 74/150\n",
      "426/426 [==============================] - 0s 100us/sample - loss: 0.1012 - accuracy: 0.9742 - val_loss: 0.0874 - val_accuracy: 0.9720\n",
      "Epoch 75/150\n",
      "426/426 [==============================] - 0s 101us/sample - loss: 0.1005 - accuracy: 0.9742 - val_loss: 0.0871 - val_accuracy: 0.9720\n",
      "Epoch 76/150\n",
      "426/426 [==============================] - 0s 101us/sample - loss: 0.0997 - accuracy: 0.9742 - val_loss: 0.0869 - val_accuracy: 0.9720\n",
      "Epoch 77/150\n",
      "426/426 [==============================] - 0s 102us/sample - loss: 0.0990 - accuracy: 0.9742 - val_loss: 0.0866 - val_accuracy: 0.9720\n",
      "Epoch 78/150\n",
      "426/426 [==============================] - 0s 103us/sample - loss: 0.0983 - accuracy: 0.9742 - val_loss: 0.0863 - val_accuracy: 0.9720\n",
      "Epoch 79/150\n",
      "426/426 [==============================] - 0s 110us/sample - loss: 0.0977 - accuracy: 0.9765 - val_loss: 0.0859 - val_accuracy: 0.9720\n",
      "Epoch 80/150\n",
      "426/426 [==============================] - 0s 102us/sample - loss: 0.0970 - accuracy: 0.9765 - val_loss: 0.0858 - val_accuracy: 0.9720\n",
      "Epoch 81/150\n",
      "426/426 [==============================] - 0s 102us/sample - loss: 0.0963 - accuracy: 0.9765 - val_loss: 0.0856 - val_accuracy: 0.9720\n",
      "Epoch 82/150\n",
      "426/426 [==============================] - 0s 110us/sample - loss: 0.0957 - accuracy: 0.9765 - val_loss: 0.0853 - val_accuracy: 0.9720\n",
      "Epoch 83/150\n",
      "426/426 [==============================] - 0s 115us/sample - loss: 0.0951 - accuracy: 0.9765 - val_loss: 0.0848 - val_accuracy: 0.9720\n",
      "Epoch 84/150\n",
      "426/426 [==============================] - 0s 103us/sample - loss: 0.0945 - accuracy: 0.9765 - val_loss: 0.0847 - val_accuracy: 0.9720\n",
      "Epoch 85/150\n",
      "426/426 [==============================] - 0s 104us/sample - loss: 0.0939 - accuracy: 0.9765 - val_loss: 0.0844 - val_accuracy: 0.9720\n",
      "Epoch 86/150\n",
      "426/426 [==============================] - 0s 103us/sample - loss: 0.0933 - accuracy: 0.9765 - val_loss: 0.0842 - val_accuracy: 0.9720\n",
      "Epoch 87/150\n",
      "426/426 [==============================] - 0s 108us/sample - loss: 0.0928 - accuracy: 0.9765 - val_loss: 0.0839 - val_accuracy: 0.9720\n",
      "Epoch 88/150\n",
      "426/426 [==============================] - 0s 102us/sample - loss: 0.0923 - accuracy: 0.9765 - val_loss: 0.0838 - val_accuracy: 0.9720\n",
      "Epoch 89/150\n",
      "426/426 [==============================] - 0s 99us/sample - loss: 0.0917 - accuracy: 0.9765 - val_loss: 0.0836 - val_accuracy: 0.9720\n",
      "Epoch 90/150\n",
      "426/426 [==============================] - 0s 106us/sample - loss: 0.0912 - accuracy: 0.9765 - val_loss: 0.0834 - val_accuracy: 0.9720\n",
      "Epoch 91/150\n",
      "426/426 [==============================] - 0s 102us/sample - loss: 0.0907 - accuracy: 0.9765 - val_loss: 0.0831 - val_accuracy: 0.9720\n",
      "Epoch 92/150\n",
      "426/426 [==============================] - 0s 102us/sample - loss: 0.0902 - accuracy: 0.9765 - val_loss: 0.0830 - val_accuracy: 0.9720\n",
      "Epoch 93/150\n",
      "426/426 [==============================] - 0s 106us/sample - loss: 0.0897 - accuracy: 0.9765 - val_loss: 0.0827 - val_accuracy: 0.9720\n",
      "Epoch 94/150\n",
      "426/426 [==============================] - 0s 109us/sample - loss: 0.0892 - accuracy: 0.9765 - val_loss: 0.0825 - val_accuracy: 0.9720\n",
      "Epoch 95/150\n",
      "426/426 [==============================] - 0s 107us/sample - loss: 0.0888 - accuracy: 0.9765 - val_loss: 0.0823 - val_accuracy: 0.9720\n",
      "Epoch 96/150\n",
      "426/426 [==============================] - 0s 107us/sample - loss: 0.0883 - accuracy: 0.9765 - val_loss: 0.0820 - val_accuracy: 0.9720\n",
      "Epoch 97/150\n",
      "426/426 [==============================] - 0s 110us/sample - loss: 0.0879 - accuracy: 0.9765 - val_loss: 0.0818 - val_accuracy: 0.9720\n",
      "Epoch 98/150\n",
      "426/426 [==============================] - 0s 106us/sample - loss: 0.0874 - accuracy: 0.9765 - val_loss: 0.0817 - val_accuracy: 0.9720\n",
      "Epoch 99/150\n",
      "426/426 [==============================] - 0s 108us/sample - loss: 0.0870 - accuracy: 0.9789 - val_loss: 0.0816 - val_accuracy: 0.9720\n",
      "Epoch 100/150\n",
      "426/426 [==============================] - 0s 101us/sample - loss: 0.0866 - accuracy: 0.9789 - val_loss: 0.0814 - val_accuracy: 0.9720\n",
      "Epoch 101/150\n",
      "426/426 [==============================] - 0s 106us/sample - loss: 0.0862 - accuracy: 0.9789 - val_loss: 0.0814 - val_accuracy: 0.9720\n",
      "Epoch 102/150\n",
      "426/426 [==============================] - 0s 109us/sample - loss: 0.0858 - accuracy: 0.9789 - val_loss: 0.0813 - val_accuracy: 0.9720\n",
      "Epoch 103/150\n",
      "426/426 [==============================] - 0s 102us/sample - loss: 0.0853 - accuracy: 0.9789 - val_loss: 0.0811 - val_accuracy: 0.9720\n",
      "Epoch 104/150\n",
      "426/426 [==============================] - 0s 99us/sample - loss: 0.0849 - accuracy: 0.9789 - val_loss: 0.0810 - val_accuracy: 0.9720\n",
      "Epoch 105/150\n",
      "426/426 [==============================] - 0s 103us/sample - loss: 0.0846 - accuracy: 0.9789 - val_loss: 0.0810 - val_accuracy: 0.9720\n",
      "Epoch 106/150\n",
      "426/426 [==============================] - 0s 99us/sample - loss: 0.0842 - accuracy: 0.9789 - val_loss: 0.0808 - val_accuracy: 0.9720\n",
      "Epoch 107/150\n",
      "426/426 [==============================] - 0s 108us/sample - loss: 0.0838 - accuracy: 0.9789 - val_loss: 0.0808 - val_accuracy: 0.9720\n",
      "Epoch 108/150\n",
      "426/426 [==============================] - 0s 113us/sample - loss: 0.0834 - accuracy: 0.9789 - val_loss: 0.0807 - val_accuracy: 0.9720\n",
      "Epoch 109/150\n",
      "426/426 [==============================] - 0s 106us/sample - loss: 0.0831 - accuracy: 0.9789 - val_loss: 0.0805 - val_accuracy: 0.9720\n",
      "Epoch 110/150\n",
      "426/426 [==============================] - 0s 103us/sample - loss: 0.0827 - accuracy: 0.9789 - val_loss: 0.0804 - val_accuracy: 0.9720\n",
      "Epoch 111/150\n"
     ]
    },
    {
     "name": "stdout",
     "output_type": "stream",
     "text": [
      "426/426 [==============================] - 0s 104us/sample - loss: 0.0824 - accuracy: 0.9789 - val_loss: 0.0801 - val_accuracy: 0.9720\n",
      "Epoch 112/150\n",
      "426/426 [==============================] - 0s 105us/sample - loss: 0.0820 - accuracy: 0.9789 - val_loss: 0.0800 - val_accuracy: 0.9720\n",
      "Epoch 113/150\n",
      "426/426 [==============================] - 0s 103us/sample - loss: 0.0817 - accuracy: 0.9789 - val_loss: 0.0799 - val_accuracy: 0.9720\n",
      "Epoch 114/150\n",
      "426/426 [==============================] - 0s 99us/sample - loss: 0.0813 - accuracy: 0.9789 - val_loss: 0.0800 - val_accuracy: 0.9720\n",
      "Epoch 115/150\n",
      "426/426 [==============================] - 0s 101us/sample - loss: 0.0810 - accuracy: 0.9789 - val_loss: 0.0800 - val_accuracy: 0.9720\n",
      "Epoch 116/150\n",
      "426/426 [==============================] - 0s 99us/sample - loss: 0.0807 - accuracy: 0.9789 - val_loss: 0.0799 - val_accuracy: 0.9720\n",
      "Epoch 117/150\n",
      "426/426 [==============================] - 0s 107us/sample - loss: 0.0803 - accuracy: 0.9789 - val_loss: 0.0799 - val_accuracy: 0.9720\n",
      "Epoch 118/150\n",
      "426/426 [==============================] - 0s 105us/sample - loss: 0.0801 - accuracy: 0.9789 - val_loss: 0.0799 - val_accuracy: 0.9720\n",
      "Epoch 119/150\n",
      "426/426 [==============================] - 0s 102us/sample - loss: 0.0797 - accuracy: 0.9812 - val_loss: 0.0799 - val_accuracy: 0.9720\n",
      "Epoch 120/150\n",
      "426/426 [==============================] - 0s 99us/sample - loss: 0.0794 - accuracy: 0.9812 - val_loss: 0.0798 - val_accuracy: 0.9720\n",
      "Epoch 121/150\n",
      "426/426 [==============================] - 0s 115us/sample - loss: 0.0791 - accuracy: 0.9812 - val_loss: 0.0797 - val_accuracy: 0.9720\n",
      "Epoch 122/150\n",
      "426/426 [==============================] - 0s 113us/sample - loss: 0.0788 - accuracy: 0.9812 - val_loss: 0.0797 - val_accuracy: 0.9720\n",
      "Epoch 123/150\n",
      "426/426 [==============================] - 0s 110us/sample - loss: 0.0786 - accuracy: 0.9812 - val_loss: 0.0797 - val_accuracy: 0.9650\n",
      "Epoch 124/150\n",
      "426/426 [==============================] - 0s 96us/sample - loss: 0.0782 - accuracy: 0.9812 - val_loss: 0.0795 - val_accuracy: 0.9720\n",
      "Epoch 125/150\n",
      "426/426 [==============================] - 0s 100us/sample - loss: 0.0779 - accuracy: 0.9812 - val_loss: 0.0796 - val_accuracy: 0.9720\n",
      "Epoch 126/150\n",
      "426/426 [==============================] - 0s 106us/sample - loss: 0.0777 - accuracy: 0.9812 - val_loss: 0.0798 - val_accuracy: 0.9720\n",
      "Epoch 127/150\n",
      "426/426 [==============================] - 0s 101us/sample - loss: 0.0775 - accuracy: 0.9812 - val_loss: 0.0799 - val_accuracy: 0.9720\n",
      "Epoch 128/150\n",
      "426/426 [==============================] - 0s 101us/sample - loss: 0.0772 - accuracy: 0.9812 - val_loss: 0.0799 - val_accuracy: 0.9720\n",
      "Epoch 129/150\n",
      "426/426 [==============================] - 0s 108us/sample - loss: 0.0769 - accuracy: 0.9812 - val_loss: 0.0799 - val_accuracy: 0.9720\n",
      "Epoch 130/150\n",
      "426/426 [==============================] - 0s 103us/sample - loss: 0.0767 - accuracy: 0.9812 - val_loss: 0.0798 - val_accuracy: 0.9720\n",
      "Epoch 131/150\n",
      "426/426 [==============================] - 0s 101us/sample - loss: 0.0764 - accuracy: 0.9812 - val_loss: 0.0797 - val_accuracy: 0.9720\n",
      "Epoch 132/150\n",
      "426/426 [==============================] - 0s 103us/sample - loss: 0.0761 - accuracy: 0.9812 - val_loss: 0.0797 - val_accuracy: 0.9720\n",
      "Epoch 133/150\n",
      "426/426 [==============================] - 0s 110us/sample - loss: 0.0759 - accuracy: 0.9812 - val_loss: 0.0795 - val_accuracy: 0.9720\n",
      "Epoch 134/150\n",
      "426/426 [==============================] - 0s 103us/sample - loss: 0.0756 - accuracy: 0.9812 - val_loss: 0.0795 - val_accuracy: 0.9720\n",
      "Epoch 135/150\n",
      "426/426 [==============================] - 0s 108us/sample - loss: 0.0754 - accuracy: 0.9812 - val_loss: 0.0794 - val_accuracy: 0.9720\n",
      "Epoch 136/150\n",
      "426/426 [==============================] - 0s 116us/sample - loss: 0.0752 - accuracy: 0.9812 - val_loss: 0.0793 - val_accuracy: 0.9720\n",
      "Epoch 137/150\n",
      "426/426 [==============================] - 0s 99us/sample - loss: 0.0749 - accuracy: 0.9812 - val_loss: 0.0794 - val_accuracy: 0.9720\n",
      "Epoch 138/150\n",
      "426/426 [==============================] - 0s 101us/sample - loss: 0.0746 - accuracy: 0.9812 - val_loss: 0.0794 - val_accuracy: 0.9720\n",
      "Epoch 139/150\n",
      "426/426 [==============================] - 0s 106us/sample - loss: 0.0744 - accuracy: 0.9812 - val_loss: 0.0793 - val_accuracy: 0.9720\n",
      "Epoch 140/150\n",
      "426/426 [==============================] - 0s 101us/sample - loss: 0.0741 - accuracy: 0.9812 - val_loss: 0.0794 - val_accuracy: 0.9720\n",
      "Epoch 141/150\n",
      "426/426 [==============================] - 0s 101us/sample - loss: 0.0739 - accuracy: 0.9812 - val_loss: 0.0796 - val_accuracy: 0.9720\n",
      "Epoch 142/150\n",
      "426/426 [==============================] - 0s 110us/sample - loss: 0.0737 - accuracy: 0.9812 - val_loss: 0.0795 - val_accuracy: 0.9720\n",
      "Epoch 143/150\n",
      "426/426 [==============================] - 0s 103us/sample - loss: 0.0735 - accuracy: 0.9812 - val_loss: 0.0796 - val_accuracy: 0.9720\n",
      "Epoch 144/150\n",
      "426/426 [==============================] - 0s 103us/sample - loss: 0.0733 - accuracy: 0.9812 - val_loss: 0.0794 - val_accuracy: 0.9720\n",
      "Epoch 145/150\n",
      "426/426 [==============================] - 0s 101us/sample - loss: 0.0730 - accuracy: 0.9812 - val_loss: 0.0794 - val_accuracy: 0.9720\n",
      "Epoch 146/150\n",
      "426/426 [==============================] - 0s 113us/sample - loss: 0.0728 - accuracy: 0.9812 - val_loss: 0.0793 - val_accuracy: 0.9720\n",
      "Epoch 147/150\n",
      "426/426 [==============================] - 0s 118us/sample - loss: 0.0726 - accuracy: 0.9812 - val_loss: 0.0792 - val_accuracy: 0.9720\n",
      "Epoch 148/150\n",
      "426/426 [==============================] - 0s 108us/sample - loss: 0.0724 - accuracy: 0.9812 - val_loss: 0.0792 - val_accuracy: 0.9720\n",
      "Epoch 149/150\n",
      "426/426 [==============================] - 0s 106us/sample - loss: 0.0722 - accuracy: 0.9812 - val_loss: 0.0793 - val_accuracy: 0.9720\n",
      "Epoch 150/150\n",
      "426/426 [==============================] - 0s 99us/sample - loss: 0.0720 - accuracy: 0.9812 - val_loss: 0.0794 - val_accuracy: 0.9720\n"
     ]
    }
   ],
   "source": [
    "# Train/fit the model\n",
    "result = model.fit(X_train, y_train,\n",
    "                   validation_data=(X_test, y_test),\n",
    "                   epochs=150);"
   ]
  },
  {
   "cell_type": "code",
   "execution_count": 26,
   "metadata": {},
   "outputs": [
    {
     "name": "stdout",
     "output_type": "stream",
     "text": [
      "Train score: 0.98122066\n",
      "Train score: 0.97202796\n"
     ]
    }
   ],
   "source": [
    "# Print the results\n",
    "print(\"Train score:\", model.evaluate(x=X_train, y=y_train, verbose=0)[1])\n",
    "print(\"Train score:\", model.evaluate(x=X_test, y=y_test, verbose=0)[1])"
   ]
  },
  {
   "cell_type": "code",
   "execution_count": 27,
   "metadata": {},
   "outputs": [
    {
     "data": {
      "text/plain": [
       "<matplotlib.legend.Legend at 0x247ed0eee88>"
      ]
     },
     "execution_count": 27,
     "metadata": {},
     "output_type": "execute_result"
    },
    {
     "data": {
      "image/png": "[encoded data removed]",
      "text/plain": [
       "<Figure size 432x288 with 1 Axes>"
      ]
     },
     "metadata": {
      "needs_background": "light"
     },
     "output_type": "display_data"
    }
   ],
   "source": [
    "# Plot the cost function at each itteration\n",
    "# Note: model.fit() returns an object that contains the history of the training process\n",
    "plt.plot(result.history['loss'], label='loss');\n",
    "plt.plot(result.history['val_loss'], label='val_loss');\n",
    "plt.legend()"
   ]
  },
  {
   "cell_type": "code",
   "execution_count": 28,
   "metadata": {},
   "outputs": [
    {
     "data": {
      "text/plain": [
       "<matplotlib.legend.Legend at 0x247ed161cc8>"
      ]
     },
     "execution_count": 28,
     "metadata": {},
     "output_type": "execute_result"
    },
    {
     "data": {
      "image/png": "[encoded data removed]",
      "text/plain": [
       "<Figure size 432x288 with 1 Axes>"
      ]
     },
     "metadata": {
      "needs_background": "light"
     },
     "output_type": "display_data"
    }
   ],
   "source": [
    "# Plot the cost function at each itteration\n",
    "# Note: model.fit() returns an object that contains the history of the training process\n",
    "plt.plot(result.history['accuracy'], label='loss');\n",
    "plt.plot(result.history['val_accuracy'], label='val_loss');\n",
    "plt.legend()"
   ]
  },
  {
   "cell_type": "code",
   "execution_count": null,
   "metadata": {},
   "outputs": [],
   "source": []
  }
 ],
 "metadata": {
  "kernelspec": {
   "display_name": "Python 3",
   "language": "python",
   "name": "python3"
  },
  "language_info": {
   "codemirror_mode": {
    "name": "ipython",
    "version": 3
   },
   "file_extension": ".py",
   "mimetype": "text/x-python",
   "name": "python",
   "nbconvert_exporter": "python",
   "pygments_lexer": "ipython3",
   "version": "3.7.4"
  }
 },
 "nbformat": 4,
 "nbformat_minor": 2
}
