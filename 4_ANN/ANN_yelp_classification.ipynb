{
 "cells": [
  {
   "cell_type": "code",
   "execution_count": 1,
   "metadata": {},
   "outputs": [],
   "source": [
    "# Import libraries\n",
    "import tensorflow as tf\n",
    "import pandas as pd\n",
    "import numpy as np\n",
    "from sklearn.model_selection import train_test_split\n",
    "import matplotlib.pyplot as plt"
   ]
  },
  {
   "cell_type": "code",
   "execution_count": 2,
   "metadata": {},
   "outputs": [],
   "source": [
    "# Load in the data\n",
    "X = pd.read_csv('representation_word2vec.csv').values\n",
    "y = np.array(pd.read_csv('labels.csv')['label'])"
   ]
  },
  {
   "cell_type": "code",
   "execution_count": 3,
   "metadata": {},
   "outputs": [
    {
     "data": {
      "text/plain": [
       "array([3, 2, 4, ..., 0, 3, 0])"
      ]
     },
     "execution_count": 3,
     "metadata": {},
     "output_type": "execute_result"
    }
   ],
   "source": [
    "y = y - 1\n",
    "y"
   ]
  },
  {
   "cell_type": "code",
   "execution_count": 4,
   "metadata": {},
   "outputs": [
    {
     "data": {
      "text/plain": [
       "(50000, 200)"
      ]
     },
     "execution_count": 4,
     "metadata": {},
     "output_type": "execute_result"
    }
   ],
   "source": [
    "X.shape"
   ]
  },
  {
   "cell_type": "code",
   "execution_count": 5,
   "metadata": {},
   "outputs": [
    {
     "data": {
      "text/plain": [
       "(50000,)"
      ]
     },
     "execution_count": 5,
     "metadata": {},
     "output_type": "execute_result"
    }
   ],
   "source": [
    "y.shape"
   ]
  },
  {
   "cell_type": "code",
   "execution_count": 6,
   "metadata": {},
   "outputs": [],
   "source": [
    "# Create the train-test split\n",
    "X_train, X_test, y_train, y_test = train_test_split(X, y, test_size=0.25, random_state=100)"
   ]
  },
  {
   "cell_type": "code",
   "execution_count": 7,
   "metadata": {},
   "outputs": [],
   "source": [
    "# Define the layers\n",
    "input_layer = tf.keras.layers.Input(shape=(200,))\n",
    "hidden_one = tf.keras.layers.Dense(20, activation='relu') # The first hidden layer with 128 neurons\n",
    "hidden_two = tf.keras.layers.Dense(20, activation='relu') # The first hidden layer with 128 neurons\n",
    "hidden_three = tf.keras.layers.Dense(20, activation='relu') # The first hidden layer with 128 neurons\n",
    "hidden_four = tf.keras.layers.Dense(20, activation='relu') # The first hidden layer with 128 neurons\n",
    "hidden_five = tf.keras.layers.Dense(20, activation='relu') # The first hidden layer with 128 neurons\n",
    "dropout = tf.keras.layers.Dropout(0.2) # Randomly sets 20% of the neurons to 0 during each forward pass\n",
    "output_layer = tf.keras.layers.Dense(5, activation='softmax')"
   ]
  },
  {
   "cell_type": "code",
   "execution_count": 8,
   "metadata": {},
   "outputs": [],
   "source": [
    "# Create the model\n",
    "model = tf.keras.models.Sequential([input_layer, \n",
    "                                    hidden_one,\n",
    "                                    hidden_two,\n",
    "                                    hidden_three,\n",
    "                                    hidden_four,\n",
    "                                    hidden_five,\n",
    "                                    dropout, \n",
    "                                    output_layer])"
   ]
  },
  {
   "cell_type": "code",
   "execution_count": 9,
   "metadata": {},
   "outputs": [],
   "source": [
    "# Define how the model should be trained\n",
    "model.compile(optimizer=tf.keras.optimizers.Adam(learning_rate=0.0001),\n",
    "              loss='sparse_categorical_crossentropy',\n",
    "              metrics=['accuracy'])"
   ]
  },
  {
   "cell_type": "code",
   "execution_count": 10,
   "metadata": {
    "scrolled": true
   },
   "outputs": [
    {
     "name": "stdout",
     "output_type": "stream",
     "text": [
      "Train on 37500 samples, validate on 12500 samples\n",
      "Epoch 1/15\n",
      "37500/37500 [==============================] - 3s 93us/sample - loss: 1.3978 - accuracy: 0.3754 - val_loss: 1.1662 - val_accuracy: 0.5014\n",
      "Epoch 2/15\n",
      "37500/37500 [==============================] - 2s 66us/sample - loss: 1.1389 - accuracy: 0.5047 - val_loss: 1.0631 - val_accuracy: 0.5454\n",
      "Epoch 3/15\n",
      "37500/37500 [==============================] - 2s 67us/sample - loss: 1.0879 - accuracy: 0.5261 - val_loss: 1.0379 - val_accuracy: 0.5565\n",
      "Epoch 4/15\n",
      "37500/37500 [==============================] - 2s 66us/sample - loss: 1.0648 - accuracy: 0.5412 - val_loss: 1.0256 - val_accuracy: 0.5623\n",
      "Epoch 5/15\n",
      "37500/37500 [==============================] - 3s 72us/sample - loss: 1.0466 - accuracy: 0.5495 - val_loss: 1.0161 - val_accuracy: 0.5677\n",
      "Epoch 6/15\n",
      "37500/37500 [==============================] - 3s 78us/sample - loss: 1.0401 - accuracy: 0.5533 - val_loss: 1.0121 - val_accuracy: 0.5694\n",
      "Epoch 7/15\n",
      "37500/37500 [==============================] - 3s 76us/sample - loss: 1.0318 - accuracy: 0.5588 - val_loss: 1.0077 - val_accuracy: 0.5686\n",
      "Epoch 8/15\n",
      "37500/37500 [==============================] - 3s 79us/sample - loss: 1.0249 - accuracy: 0.5631 - val_loss: 1.0036 - val_accuracy: 0.5724\n",
      "Epoch 9/15\n",
      "37500/37500 [==============================] - 3s 76us/sample - loss: 1.0171 - accuracy: 0.5645 - val_loss: 1.0005 - val_accuracy: 0.5718\n",
      "Epoch 10/15\n",
      "37500/37500 [==============================] - 2s 66us/sample - loss: 1.0133 - accuracy: 0.5662 - val_loss: 0.9986 - val_accuracy: 0.5730\n",
      "Epoch 11/15\n",
      "37500/37500 [==============================] - 2s 66us/sample - loss: 1.0108 - accuracy: 0.5685 - val_loss: 0.9968 - val_accuracy: 0.5731\n",
      "Epoch 12/15\n",
      "37500/37500 [==============================] - 3s 69us/sample - loss: 1.0057 - accuracy: 0.5698 - val_loss: 0.9950 - val_accuracy: 0.5717\n",
      "Epoch 13/15\n",
      "37500/37500 [==============================] - 2s 66us/sample - loss: 1.0010 - accuracy: 0.5721 - val_loss: 0.9940 - val_accuracy: 0.5734\n",
      "Epoch 14/15\n",
      "37500/37500 [==============================] - 3s 79us/sample - loss: 1.0005 - accuracy: 0.5715 - val_loss: 0.9940 - val_accuracy: 0.5719\n",
      "Epoch 15/15\n",
      "37500/37500 [==============================] - 3s 78us/sample - loss: 0.9957 - accuracy: 0.5748 - val_loss: 0.9935 - val_accuracy: 0.5703\n"
     ]
    }
   ],
   "source": [
    "# Train the model\n",
    "result = model.fit(X_train, y_train,\n",
    "                   validation_data=(X_test, y_test),\n",
    "                   epochs=15)"
   ]
  },
  {
   "cell_type": "code",
   "execution_count": 11,
   "metadata": {},
   "outputs": [
    {
     "name": "stdout",
     "output_type": "stream",
     "text": [
      "Train score: 0.58464\n",
      "Test score: 0.57032\n"
     ]
    }
   ],
   "source": [
    "# Print the results\n",
    "print(\"Train score:\", model.evaluate(x=X_train, y=y_train, verbose=0)[1]);\n",
    "print(\"Test score:\", model.evaluate(x=X_test, y=y_test, verbose=0)[1]);"
   ]
  },
  {
   "cell_type": "code",
   "execution_count": 12,
   "metadata": {},
   "outputs": [
    {
     "data": {
      "image/png": "[encoded data removed]",
      "text/plain": [
       "<Figure size 432x288 with 1 Axes>"
      ]
     },
     "metadata": {
      "needs_background": "light"
     },
     "output_type": "display_data"
    }
   ],
   "source": [
    "# Plot the cost function at each itteration\n",
    "# Note: model.fit() returns an object that contains the history of the training process\n",
    "plt.plot(result.history['loss'], label='train_loss');\n",
    "plt.plot(result.history['val_loss'], label='val_loss');\n",
    "plt.legend();"
   ]
  },
  {
   "cell_type": "code",
   "execution_count": 13,
   "metadata": {},
   "outputs": [
    {
     "data": {
      "image/png": "[encoded data removed]",
      "text/plain": [
       "<Figure size 432x288 with 1 Axes>"
      ]
     },
     "metadata": {
      "needs_background": "light"
     },
     "output_type": "display_data"
    }
   ],
   "source": [
    "# Plot the cost function at each itteration\n",
    "# Note: model.fit() returns an object that contains the history of the training process\n",
    "plt.plot(result.history['accuracy'], label='train_accuracy');\n",
    "plt.plot(result.history['val_accuracy'], label='val_accuracy');\n",
    "plt.legend();"
   ]
  },
  {
   "cell_type": "code",
   "execution_count": null,
   "metadata": {},
   "outputs": [],
   "source": []
  },
  {
   "cell_type": "code",
   "execution_count": null,
   "metadata": {},
   "outputs": [],
   "source": []
  }
 ],
 "metadata": {
  "kernelspec": {
   "display_name": "Python 3",
   "language": "python",
   "name": "python3"
  },
  "language_info": {
   "codemirror_mode": {
    "name": "ipython",
    "version": 3
   },
   "file_extension": ".py",
   "mimetype": "text/x-python",
   "name": "python",
   "nbconvert_exporter": "python",
   "pygments_lexer": "ipython3",
   "version": "3.7.4"
  }
 },
 "nbformat": 4,
 "nbformat_minor": 2
}
