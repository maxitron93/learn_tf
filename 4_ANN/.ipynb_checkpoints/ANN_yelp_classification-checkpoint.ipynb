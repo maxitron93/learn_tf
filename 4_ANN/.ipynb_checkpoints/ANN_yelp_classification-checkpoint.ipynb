{
 "cells": [
  {
   "cell_type": "code",
   "execution_count": 1,
   "metadata": {},
   "outputs": [],
   "source": [
    "# Import libraries\n",
    "import tensorflow as tf\n",
    "import pandas as pd\n",
    "import numpy as np\n",
    "from sklearn.model_selection import train_test_split\n",
    "import matplotlib.pyplot as plt"
   ]
  },
  {
   "cell_type": "code",
   "execution_count": 2,
   "metadata": {},
   "outputs": [],
   "source": [
    "# Load in the data\n",
    "X = pd.read_csv('../../representation_word2vec.csv').values\n",
    "y = np.array(pd.read_csv('../../labels.csv')['label'])"
   ]
  },
  {
   "cell_type": "code",
   "execution_count": 3,
   "metadata": {},
   "outputs": [
    {
     "data": {
      "text/plain": [
       "array([3, 2, 4, ..., 0, 3, 0], dtype=int64)"
      ]
     },
     "execution_count": 3,
     "metadata": {},
     "output_type": "execute_result"
    }
   ],
   "source": [
    "# Shift labels by 1 so the range becomes 0-4\n",
    "y = y - 1\n",
    "y"
   ]
  },
  {
   "cell_type": "code",
   "execution_count": 4,
   "metadata": {},
   "outputs": [
    {
     "data": {
      "text/plain": [
       "(50000, 200)"
      ]
     },
     "execution_count": 4,
     "metadata": {},
     "output_type": "execute_result"
    }
   ],
   "source": [
    "X.shape"
   ]
  },
  {
   "cell_type": "code",
   "execution_count": 5,
   "metadata": {},
   "outputs": [
    {
     "data": {
      "text/plain": [
       "(50000,)"
      ]
     },
     "execution_count": 5,
     "metadata": {},
     "output_type": "execute_result"
    }
   ],
   "source": [
    "y.shape"
   ]
  },
  {
   "cell_type": "code",
   "execution_count": 6,
   "metadata": {},
   "outputs": [],
   "source": [
    "# Create the train-test split\n",
    "X_train, X_test, y_train, y_test = train_test_split(X, y, test_size=0.25, random_state=100)"
   ]
  },
  {
   "cell_type": "code",
   "execution_count": 7,
   "metadata": {},
   "outputs": [],
   "source": [
    "# Define the layers\n",
    "input_layer = tf.keras.layers.Input(shape=(200,))\n",
    "hidden_one = tf.keras.layers.Dense(20, activation='relu') # The first hidden layer with 128 neurons\n",
    "hidden_two = tf.keras.layers.Dense(20, activation='relu') # The first hidden layer with 128 neurons\n",
    "hidden_three = tf.keras.layers.Dense(20, activation='relu') # The first hidden layer with 128 neurons\n",
    "hidden_four = tf.keras.layers.Dense(20, activation='relu') # The first hidden layer with 128 neurons\n",
    "hidden_five = tf.keras.layers.Dense(20, activation='relu') # The first hidden layer with 128 neurons\n",
    "dropout = tf.keras.layers.Dropout(0.2) # Randomly sets 20% of the neurons to 0 during each forward pass\n",
    "output_layer = tf.keras.layers.Dense(5, activation='softmax')"
   ]
  },
  {
   "cell_type": "code",
   "execution_count": 8,
   "metadata": {},
   "outputs": [],
   "source": [
    "# Create the model\n",
    "model = tf.keras.models.Sequential([input_layer, \n",
    "                                    hidden_one,\n",
    "                                    hidden_two,\n",
    "                                    hidden_three,\n",
    "                                    hidden_four,\n",
    "                                    hidden_five,\n",
    "                                    dropout, \n",
    "                                    output_layer])"
   ]
  },
  {
   "cell_type": "code",
   "execution_count": 9,
   "metadata": {},
   "outputs": [],
   "source": [
    "# Define how the model should be trained\n",
    "model.compile(optimizer=tf.keras.optimizers.Adam(learning_rate=0.0001),\n",
    "              loss='sparse_categorical_crossentropy',\n",
    "              metrics=['accuracy'])"
   ]
  },
  {
   "cell_type": "code",
   "execution_count": 10,
   "metadata": {
    "scrolled": true
   },
   "outputs": [
    {
     "name": "stdout",
     "output_type": "stream",
     "text": [
      "Train on 37500 samples, validate on 12500 samples\n",
      "Epoch 1/15\n",
      "37500/37500 [==============================] - 5s 122us/sample - loss: 1.5165 - accuracy: 0.3237 - val_loss: 1.3116 - val_accuracy: 0.4866\n",
      "Epoch 2/15\n",
      "37500/37500 [==============================] - 4s 94us/sample - loss: 1.1642 - accuracy: 0.5121 - val_loss: 1.0552 - val_accuracy: 0.5488\n",
      "Epoch 3/15\n",
      "37500/37500 [==============================] - 3s 91us/sample - loss: 1.0784 - accuracy: 0.5385 - val_loss: 1.0281 - val_accuracy: 0.5563\n",
      "Epoch 4/15\n",
      "37500/37500 [==============================] - 3s 93us/sample - loss: 1.0557 - accuracy: 0.5499 - val_loss: 1.0152 - val_accuracy: 0.5609\n",
      "Epoch 5/15\n",
      "37500/37500 [==============================] - 4s 93us/sample - loss: 1.0408 - accuracy: 0.5535 - val_loss: 1.0088 - val_accuracy: 0.5626\n",
      "Epoch 6/15\n",
      "37500/37500 [==============================] - 3s 92us/sample - loss: 1.0310 - accuracy: 0.5605 - val_loss: 1.0041 - val_accuracy: 0.5657\n",
      "Epoch 7/15\n",
      "37500/37500 [==============================] - 3s 92us/sample - loss: 1.0254 - accuracy: 0.5624 - val_loss: 1.0049 - val_accuracy: 0.5646\n",
      "Epoch 8/15\n",
      "37500/37500 [==============================] - 4s 94us/sample - loss: 1.0173 - accuracy: 0.5655 - val_loss: 0.9979 - val_accuracy: 0.5695\n",
      "Epoch 9/15\n",
      "37500/37500 [==============================] - 3s 92us/sample - loss: 1.0150 - accuracy: 0.5662 - val_loss: 0.9960 - val_accuracy: 0.5699\n",
      "Epoch 10/15\n",
      "37500/37500 [==============================] - 3s 92us/sample - loss: 1.0086 - accuracy: 0.5699 - val_loss: 0.9953 - val_accuracy: 0.5714\n",
      "Epoch 11/15\n",
      "37500/37500 [==============================] - 4s 94us/sample - loss: 1.0055 - accuracy: 0.5703 - val_loss: 0.9933 - val_accuracy: 0.5706\n",
      "Epoch 12/15\n",
      "37500/37500 [==============================] - 3s 92us/sample - loss: 1.0000 - accuracy: 0.5735 - val_loss: 0.9935 - val_accuracy: 0.5721\n",
      "Epoch 13/15\n",
      "37500/37500 [==============================] - 3s 92us/sample - loss: 1.0013 - accuracy: 0.5755 - val_loss: 0.9906 - val_accuracy: 0.5759\n",
      "Epoch 14/15\n",
      "37500/37500 [==============================] - 3s 92us/sample - loss: 0.9969 - accuracy: 0.5761 - val_loss: 0.9896 - val_accuracy: 0.5738\n",
      "Epoch 15/15\n",
      "37500/37500 [==============================] - 3s 92us/sample - loss: 0.9939 - accuracy: 0.5750 - val_loss: 0.9905 - val_accuracy: 0.5713\n"
     ]
    }
   ],
   "source": [
    "# Train the model\n",
    "result = model.fit(X_train, y_train,\n",
    "                   validation_data=(X_test, y_test),\n",
    "                   epochs=15)"
   ]
  },
  {
   "cell_type": "code",
   "execution_count": 11,
   "metadata": {},
   "outputs": [
    {
     "name": "stdout",
     "output_type": "stream",
     "text": [
      "Train score: 0.58541334\n",
      "Test score: 0.57128\n"
     ]
    }
   ],
   "source": [
    "# Print the results\n",
    "print(\"Train score:\", model.evaluate(x=X_train, y=y_train, verbose=0)[1]);\n",
    "print(\"Test score:\", model.evaluate(x=X_test, y=y_test, verbose=0)[1]);"
   ]
  },
  {
   "cell_type": "code",
   "execution_count": 12,
   "metadata": {},
   "outputs": [
    {
     "data": {
      "image/png": "[encoded data removed]",
      "text/plain": [
       "<Figure size 432x288 with 1 Axes>"
      ]
     },
     "metadata": {
      "needs_background": "light"
     },
     "output_type": "display_data"
    }
   ],
   "source": [
    "# Plot the cost function at each itteration\n",
    "# Note: model.fit() returns an object that contains the history of the training process\n",
    "plt.plot(result.history['loss'], label='train_loss');\n",
    "plt.plot(result.history['val_loss'], label='val_loss');\n",
    "plt.legend();"
   ]
  },
  {
   "cell_type": "code",
   "execution_count": 13,
   "metadata": {},
   "outputs": [
    {
     "data": {
      "image/png": "[encoded data removed]",
      "text/plain": [
       "<Figure size 432x288 with 1 Axes>"
      ]
     },
     "metadata": {
      "needs_background": "light"
     },
     "output_type": "display_data"
    }
   ],
   "source": [
    "# Plot the cost function at each itteration\n",
    "# Note: model.fit() returns an object that contains the history of the training process\n",
    "plt.plot(result.history['accuracy'], label='train_accuracy');\n",
    "plt.plot(result.history['val_accuracy'], label='val_accuracy');\n",
    "plt.legend();"
   ]
  },
  {
   "cell_type": "code",
   "execution_count": null,
   "metadata": {},
   "outputs": [],
   "source": []
  },
  {
   "cell_type": "code",
   "execution_count": null,
   "metadata": {},
   "outputs": [],
   "source": []
  }
 ],
 "metadata": {
  "kernelspec": {
   "display_name": "Python 3",
   "language": "python",
   "name": "python3"
  },
  "language_info": {
   "codemirror_mode": {
    "name": "ipython",
    "version": 3
   },
   "file_extension": ".py",
   "mimetype": "text/x-python",
   "name": "python",
   "nbconvert_exporter": "python",
   "pygments_lexer": "ipython3",
   "version": "3.7.4"
  }
 },
 "nbformat": 4,
 "nbformat_minor": 2
}
