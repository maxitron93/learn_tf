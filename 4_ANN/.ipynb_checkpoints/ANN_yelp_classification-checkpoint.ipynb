{
 "cells": [
  {
   "cell_type": "code",
   "execution_count": 1,
   "metadata": {},
   "outputs": [],
   "source": [
    "# Import libraries\n",
    "import tensorflow as tf\n",
    "import pandas as pd\n",
    "import numpy as np\n",
    "from sklearn.model_selection import train_test_split\n",
    "import matplotlib.pyplot as plt"
   ]
  },
  {
   "cell_type": "code",
   "execution_count": 2,
   "metadata": {},
   "outputs": [],
   "source": [
    "# Load in the data\n",
    "X = pd.read_csv('../../representation_word2vec.csv').values\n",
    "y = np.array(pd.read_csv('../../labels.csv')['label'])"
   ]
  },
  {
   "cell_type": "code",
   "execution_count": 3,
   "metadata": {},
   "outputs": [
    {
     "data": {
      "text/plain": [
       "array([3, 2, 4, ..., 0, 3, 0], dtype=int64)"
      ]
     },
     "execution_count": 3,
     "metadata": {},
     "output_type": "execute_result"
    }
   ],
   "source": [
    "# Shift labels by 1 so the range becomes 0-4\n",
    "y = y - 1\n",
    "y"
   ]
  },
  {
   "cell_type": "code",
   "execution_count": 4,
   "metadata": {},
   "outputs": [
    {
     "data": {
      "text/plain": [
       "(50000, 200)"
      ]
     },
     "execution_count": 4,
     "metadata": {},
     "output_type": "execute_result"
    }
   ],
   "source": [
    "X.shape"
   ]
  },
  {
   "cell_type": "code",
   "execution_count": 5,
   "metadata": {},
   "outputs": [
    {
     "data": {
      "text/plain": [
       "(50000,)"
      ]
     },
     "execution_count": 5,
     "metadata": {},
     "output_type": "execute_result"
    }
   ],
   "source": [
    "y.shape"
   ]
  },
  {
   "cell_type": "code",
   "execution_count": 6,
   "metadata": {},
   "outputs": [],
   "source": [
    "# Create the train-test split\n",
    "X_train, X_test, y_train, y_test = train_test_split(X, y, test_size=0.25, random_state=100)"
   ]
  },
  {
   "cell_type": "code",
   "execution_count": 7,
   "metadata": {},
   "outputs": [],
   "source": [
    "# Define the layers\n",
    "input_layer = tf.keras.layers.Input(shape=(200,))\n",
    "hidden_one = tf.keras.layers.Dense(20, activation='relu') # The first hidden layer with 128 neurons\n",
    "hidden_two = tf.keras.layers.Dense(20, activation='relu') # The first hidden layer with 128 neurons\n",
    "hidden_three = tf.keras.layers.Dense(20, activation='relu') # The first hidden layer with 128 neurons\n",
    "hidden_four = tf.keras.layers.Dense(20, activation='relu') # The first hidden layer with 128 neurons\n",
    "hidden_five = tf.keras.layers.Dense(20, activation='relu') # The first hidden layer with 128 neurons\n",
    "dropout = tf.keras.layers.Dropout(0.2) # Randomly sets 20% of the neurons to 0 during each forward pass\n",
    "output_layer = tf.keras.layers.Dense(5, activation='softmax')"
   ]
  },
  {
   "cell_type": "code",
   "execution_count": 8,
   "metadata": {},
   "outputs": [],
   "source": [
    "# Create the model\n",
    "model = tf.keras.models.Sequential([input_layer, \n",
    "                                    hidden_one,\n",
    "                                    hidden_two,\n",
    "                                    hidden_three,\n",
    "                                    hidden_four,\n",
    "                                    hidden_five,\n",
    "                                    dropout, \n",
    "                                    output_layer])"
   ]
  },
  {
   "cell_type": "code",
   "execution_count": 9,
   "metadata": {},
   "outputs": [],
   "source": [
    "# Define how the model should be trained\n",
    "model.compile(optimizer=tf.keras.optimizers.Adam(learning_rate=0.0001),\n",
    "              loss='sparse_categorical_crossentropy',\n",
    "              metrics=['accuracy'])"
   ]
  },
  {
   "cell_type": "code",
   "execution_count": 10,
   "metadata": {
    "scrolled": true
   },
   "outputs": [
    {
     "name": "stdout",
     "output_type": "stream",
     "text": [
      "Train on 37500 samples, validate on 12500 samples\n",
      "Epoch 1/15\n",
      "37500/37500 [==============================] - 5s 134us/sample - loss: 1.4173 - accuracy: 0.3691 - val_loss: 1.1678 - val_accuracy: 0.5011\n",
      "Epoch 2/15\n",
      "37500/37500 [==============================] - 3s 90us/sample - loss: 1.1241 - accuracy: 0.5160 - val_loss: 1.0464 - val_accuracy: 0.5483\n",
      "Epoch 3/15\n",
      "37500/37500 [==============================] - 3s 86us/sample - loss: 1.0746 - accuracy: 0.5364 - val_loss: 1.0281 - val_accuracy: 0.5581\n",
      "Epoch 4/15\n",
      "37500/37500 [==============================] - 3s 86us/sample - loss: 1.0528 - accuracy: 0.5504 - val_loss: 1.0164 - val_accuracy: 0.5645\n",
      "Epoch 5/15\n",
      "37500/37500 [==============================] - 3s 87us/sample - loss: 1.0404 - accuracy: 0.5579 - val_loss: 1.0101 - val_accuracy: 0.5656\n",
      "Epoch 6/15\n",
      "37500/37500 [==============================] - 3s 86us/sample - loss: 1.0299 - accuracy: 0.5623 - val_loss: 1.0070 - val_accuracy: 0.5686\n",
      "Epoch 7/15\n",
      "37500/37500 [==============================] - 3s 88us/sample - loss: 1.0241 - accuracy: 0.5617 - val_loss: 1.0018 - val_accuracy: 0.5697\n",
      "Epoch 8/15\n",
      "37500/37500 [==============================] - 3s 88us/sample - loss: 1.0174 - accuracy: 0.5663 - val_loss: 1.0004 - val_accuracy: 0.5697\n",
      "Epoch 9/15\n",
      "37500/37500 [==============================] - 3s 89us/sample - loss: 1.0146 - accuracy: 0.5657 - val_loss: 0.9980 - val_accuracy: 0.5718\n",
      "Epoch 10/15\n",
      "37500/37500 [==============================] - 3s 86us/sample - loss: 1.0111 - accuracy: 0.5697 - val_loss: 0.9964 - val_accuracy: 0.5699\n",
      "Epoch 11/15\n",
      "37500/37500 [==============================] - 3s 89us/sample - loss: 1.0075 - accuracy: 0.5720 - val_loss: 0.9957 - val_accuracy: 0.5727\n",
      "Epoch 12/15\n",
      "37500/37500 [==============================] - 4s 119us/sample - loss: 1.0055 - accuracy: 0.5723 - val_loss: 0.9941 - val_accuracy: 0.5738\n",
      "Epoch 13/15\n",
      "37500/37500 [==============================] - 4s 115us/sample - loss: 1.0003 - accuracy: 0.5732 - val_loss: 0.9927 - val_accuracy: 0.5735\n",
      "Epoch 14/15\n",
      "37500/37500 [==============================] - 3s 86us/sample - loss: 0.9979 - accuracy: 0.5724 - val_loss: 0.9922 - val_accuracy: 0.5709\n",
      "Epoch 15/15\n",
      "37500/37500 [==============================] - 3s 88us/sample - loss: 0.9982 - accuracy: 0.5754 - val_loss: 0.9920 - val_accuracy: 0.5734\n"
     ]
    }
   ],
   "source": [
    "# Train the model\n",
    "result = model.fit(X_train, y_train,\n",
    "                   validation_data=(X_test, y_test),\n",
    "                   epochs=15)"
   ]
  },
  {
   "cell_type": "code",
   "execution_count": 11,
   "metadata": {},
   "outputs": [
    {
     "name": "stdout",
     "output_type": "stream",
     "text": [
      "Train score: 0.58536\n",
      "Test score: 0.57336\n"
     ]
    }
   ],
   "source": [
    "# Print the results\n",
    "print(\"Train score:\", model.evaluate(x=X_train, y=y_train, verbose=0)[1]);\n",
    "print(\"Test score:\", model.evaluate(x=X_test, y=y_test, verbose=0)[1]);"
   ]
  },
  {
   "cell_type": "code",
   "execution_count": 12,
   "metadata": {},
   "outputs": [
    {
     "data": {
      "image/png": "[encoded data removed]",
      "text/plain": [
       "<Figure size 432x288 with 1 Axes>"
      ]
     },
     "metadata": {
      "needs_background": "light"
     },
     "output_type": "display_data"
    }
   ],
   "source": [
    "# Plot the cost function at each itteration\n",
    "# Note: model.fit() returns an object that contains the history of the training process\n",
    "plt.plot(result.history['loss'], label='train_loss');\n",
    "plt.plot(result.history['val_loss'], label='val_loss');\n",
    "plt.legend();"
   ]
  },
  {
   "cell_type": "code",
   "execution_count": 13,
   "metadata": {},
   "outputs": [
    {
     "data": {
      "image/png": "[encoded data removed]",
      "text/plain": [
       "<Figure size 432x288 with 1 Axes>"
      ]
     },
     "metadata": {
      "needs_background": "light"
     },
     "output_type": "display_data"
    }
   ],
   "source": [
    "# Plot the cost function at each itteration\n",
    "# Note: model.fit() returns an object that contains the history of the training process\n",
    "plt.plot(result.history['accuracy'], label='train_accuracy');\n",
    "plt.plot(result.history['val_accuracy'], label='val_accuracy');\n",
    "plt.legend();"
   ]
  },
  {
   "cell_type": "code",
   "execution_count": 14,
   "metadata": {},
   "outputs": [
    {
     "name": "stdout",
     "output_type": "stream",
     "text": [
      "Confusion matrix, without Normalization\n",
      "[[1984  446   64   16   40]\n",
      " [ 696 1175  469   95   48]\n",
      " [ 183  570 1114  548   92]\n",
      " [  43  128  521 1253  525]\n",
      " [  65   54  102  628 1641]]\n"
     ]
    },
    {
     "data": {
      "image/png": "[encoded data removed]",
      "text/plain": [
       "<Figure size 432x288 with 2 Axes>"
      ]
     },
     "metadata": {
      "needs_background": "light"
     },
     "output_type": "display_data"
    }
   ],
   "source": [
    "# Plot confusion matrix\n",
    "from sklearn.metrics import confusion_matrix\n",
    "import itertools\n",
    "\n",
    "def plot_confusion_matrix(cm, classes, normalize=False,title='Confusion Matrix', cmap=plt.cm.Blues):\n",
    "    \"\"\"\n",
    "    This function prints and plots the confusion matrix.\n",
    "    Normazilation can be apploed by setting 'normalize=True'\n",
    "    \"\"\"\n",
    "    if normalize:\n",
    "        cm = cm.astype('float') / cm.sum(axis=1)[:, np.newaxis]\n",
    "        print('Normalized confusion matrix')\n",
    "    else:\n",
    "        print('Confusion matrix, without Normalization')\n",
    "    \n",
    "    print(cm)\n",
    "    \n",
    "    plt.imshow(cm, interpolation='nearest', cmap=cmap)\n",
    "    plt.title(title)\n",
    "    plt.colorbar()\n",
    "    tick_marks = np.arange(len(classes))\n",
    "    plt.xticks(tick_marks, classes, rotation=45)\n",
    "    plt.yticks(tick_marks, classes)\n",
    "    \n",
    "    fmt = '.2f' if normalize else 'd'\n",
    "    thresh = cm.max() / 2.0\n",
    "    for i, j in itertools.product(range(cm.shape[0]), range(cm.shape[1])):\n",
    "        plt.text(j, i, format(cm[i, j], fmt),\n",
    "                 horizontalalignment='center',\n",
    "                 color='white' if cm[i, j] > thresh else 'black')\n",
    "    \n",
    "    plt.tight_layout()\n",
    "    plt.ylabel('True label')\n",
    "    plt.xlabel('Predicted label')\n",
    "    plt.show()\n",
    "    \n",
    "p_test = model.predict(X_test).argmax(axis=1)\n",
    "cm = confusion_matrix(y_test, p_test)\n",
    "plot_confusion_matrix(cm, list(range(5)))"
   ]
  },
  {
   "cell_type": "code",
   "execution_count": null,
   "metadata": {},
   "outputs": [],
   "source": []
  }
 ],
 "metadata": {
  "kernelspec": {
   "display_name": "Python 3",
   "language": "python",
   "name": "python3"
  },
  "language_info": {
   "codemirror_mode": {
    "name": "ipython",
    "version": 3
   },
   "file_extension": ".py",
   "mimetype": "text/x-python",
   "name": "python",
   "nbconvert_exporter": "python",
   "pygments_lexer": "ipython3",
   "version": "3.7.4"
  }
 },
 "nbformat": 4,
 "nbformat_minor": 2
}
