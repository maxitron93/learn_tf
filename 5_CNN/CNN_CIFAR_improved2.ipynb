{
 "cells": [
  {
   "cell_type": "code",
   "execution_count": 1,
   "metadata": {},
   "outputs": [],
   "source": [
    "# Import libraries\n",
    "import tensorflow as tf\n",
    "import numpy as np\n",
    "import matplotlib.pyplot as plt\n",
    "from sklearn.metrics import confusion_matrix\n",
    "import itertools\n",
    "from tensorflow.keras.layers import Input, Conv2D, Dense, Flatten, Dropout, MaxPooling2D, BatchNormalization\n",
    "from tensorflow.keras.models import Model"
   ]
  },
  {
   "cell_type": "code",
   "execution_count": 2,
   "metadata": {},
   "outputs": [],
   "source": [
    "# Create function for confusion matrix\n",
    "def plot_confusion_matrix(cm, classes, normalize=False,title='Confusion Matrix', cmap=plt.cm.Blues):\n",
    "    \"\"\"\n",
    "    This function prints and plots the confusion matrix.\n",
    "    Normazilation can be apploed by setting 'normalize=True'\n",
    "    \"\"\"\n",
    "    if normalize:\n",
    "        cm = cm.astype('float') / cm.sum(axis=1)[:, np.newaxis]\n",
    "        print('Normalized confusion matrix')\n",
    "    else:\n",
    "        print('Confusion matrix, without Normalization')\n",
    "    \n",
    "    print(cm)\n",
    "    \n",
    "    plt.imshow(cm, interpolation='nearest', cmap=cmap)\n",
    "    plt.title(title)\n",
    "    plt.colorbar()\n",
    "    tick_marks = np.arange(len(classes))\n",
    "    plt.xticks(tick_marks, classes, rotation=45)\n",
    "    plt.yticks(tick_marks, classes)\n",
    "    \n",
    "    fmt = '.2f' if normalize else 'd'\n",
    "    thresh = cm.max() / 2.0\n",
    "    for i, j in itertools.product(range(cm.shape[0]), range(cm.shape[1])):\n",
    "        plt.text(j, i, format(cm[i, j], fmt),\n",
    "                 horizontalalignment='center',\n",
    "                 color='white' if cm[i, j] > thresh else 'black')\n",
    "    \n",
    "    plt.tight_layout()\n",
    "    plt.ylabel('True label')\n",
    "    plt.xlabel('Predicted label')\n",
    "    plt.show()"
   ]
  },
  {
   "cell_type": "code",
   "execution_count": 3,
   "metadata": {},
   "outputs": [],
   "source": [
    "# Load in the data\n",
    "data = tf.keras.datasets.cifar10\n",
    "(X_train_raw, y_train), (X_test_raw, y_test) = data.load_data()"
   ]
  },
  {
   "cell_type": "code",
   "execution_count": 4,
   "metadata": {},
   "outputs": [],
   "source": [
    "# Scale the data to 0-1\n",
    "X_train = X_train_raw / 255.0\n",
    "X_test = X_test_raw / 255.0"
   ]
  },
  {
   "cell_type": "code",
   "execution_count": 5,
   "metadata": {},
   "outputs": [],
   "source": [
    "# Flatten the labels (just to get it in the right format)\n",
    "y_train, y_test = y_train.flatten(), y_test.flatten()"
   ]
  },
  {
   "cell_type": "code",
   "execution_count": 6,
   "metadata": {},
   "outputs": [
    {
     "name": "stdout",
     "output_type": "stream",
     "text": [
      "(50000, 32, 32, 3)\n"
     ]
    }
   ],
   "source": [
    "print(X_train.shape)"
   ]
  },
  {
   "cell_type": "code",
   "execution_count": 7,
   "metadata": {},
   "outputs": [
    {
     "name": "stdout",
     "output_type": "stream",
     "text": [
      "(50000,)\n"
     ]
    }
   ],
   "source": [
    "print(y_train.shape)"
   ]
  },
  {
   "cell_type": "code",
   "execution_count": 8,
   "metadata": {},
   "outputs": [
    {
     "name": "stdout",
     "output_type": "stream",
     "text": [
      "Number of classes: 10\n"
     ]
    }
   ],
   "source": [
    "# Print the number of classes\n",
    "K = len(set(y_train))\n",
    "print('Number of classes:', K)"
   ]
  },
  {
   "cell_type": "code",
   "execution_count": 9,
   "metadata": {},
   "outputs": [],
   "source": [
    "# Define the layers - this architecture takes inspiration from the VGG architecture\n",
    "i = Input(shape=X_train[0].shape)\n",
    "\n",
    "x = Conv2D(32, (3,3), activation='relu', padding='same')(i)\n",
    "x = BatchNormalization()(x)\n",
    "x = Conv2D(32, (3,3), activation='relu', padding='same')(x)\n",
    "x = BatchNormalization()(x)\n",
    "x = MaxPooling2D((2,2))(x)\n",
    "\n",
    "x = Conv2D(64, (3,3), activation='relu')(x)\n",
    "x = BatchNormalization()(x)\n",
    "x = Conv2D(64, (3,3), activation='relu')(x)\n",
    "x = BatchNormalization()(x)\n",
    "x = MaxPooling2D((2,2))(x)\n",
    "\n",
    "x = Conv2D(128, (3,3), activation='relu')(x)\n",
    "x = BatchNormalization()(x)\n",
    "x = Conv2D(128, (3,3), activation='relu')(x)\n",
    "x = BatchNormalization()(x)\n",
    "x = MaxPooling2D((2,2))(x)\n",
    "\n",
    "x = Flatten()(x)\n",
    "x = Dropout(0.2)(x)\n",
    "x = Dense(1024, activation='relu')(x)\n",
    "x = Dropout(0.2)(x)\n",
    "x = Dense(K, activation='softmax')(x)"
   ]
  },
  {
   "cell_type": "code",
   "execution_count": 10,
   "metadata": {},
   "outputs": [],
   "source": [
    "# Create the model\n",
    "model = Model(i, x)"
   ]
  },
  {
   "cell_type": "code",
   "execution_count": 11,
   "metadata": {},
   "outputs": [],
   "source": [
    "# Define how the model should be trained\n",
    "model.compile(optimizer=tf.keras.optimizers.Adam(learning_rate=0.001),\n",
    "              loss='sparse_categorical_crossentropy',\n",
    "              metrics=['accuracy'])"
   ]
  },
  {
   "cell_type": "code",
   "execution_count": 12,
   "metadata": {},
   "outputs": [],
   "source": [
    "# Create a learning rate scheduler\n",
    "def schedule(epoch, lr):\n",
    "    print('Learning Rate:', lr)\n",
    "    return lr * 0.9\n",
    "    \n",
    "# Use the scheduler\n",
    "scheduler = tf.keras.callbacks.LearningRateScheduler(schedule)"
   ]
  },
  {
   "cell_type": "code",
   "execution_count": 13,
   "metadata": {
    "scrolled": true
   },
   "outputs": [
    {
     "name": "stdout",
     "output_type": "stream",
     "text": [
      "Train for 1562 steps, validate on 10000 samples\n",
      "Learning Rate: 0.0010000000474974513\n",
      "Epoch 1/30\n",
      "1562/1562 [==============================] - 29s 18ms/step - loss: 1.4248 - accuracy: 0.4869 - val_loss: 1.1872 - val_accuracy: 0.5898\n",
      "Learning Rate: 0.0009000000427477062\n",
      "Epoch 2/30\n",
      "1562/1562 [==============================] - 27s 17ms/step - loss: 1.0104 - accuracy: 0.6452 - val_loss: 0.7954 - val_accuracy: 0.7216\n",
      "Learning Rate: 0.0008100000559352338\n",
      "Epoch 3/30\n",
      "1562/1562 [==============================] - 27s 17ms/step - loss: 0.8583 - accuracy: 0.7032 - val_loss: 0.8430 - val_accuracy: 0.7100\n",
      "Learning Rate: 0.0007290000794455409\n",
      "Epoch 4/30\n",
      "1562/1562 [==============================] - 27s 17ms/step - loss: 0.7659 - accuracy: 0.7355 - val_loss: 0.7570 - val_accuracy: 0.7382\n",
      "Learning Rate: 0.0006561000482179224\n",
      "Epoch 5/30\n",
      "1562/1562 [==============================] - 26s 17ms/step - loss: 0.6953 - accuracy: 0.7592 - val_loss: 0.7178 - val_accuracy: 0.7631\n",
      "Learning Rate: 0.0005904900608584285\n",
      "Epoch 6/30\n",
      "1562/1562 [==============================] - 26s 17ms/step - loss: 0.6418 - accuracy: 0.7769 - val_loss: 0.6353 - val_accuracy: 0.7818\n",
      "Learning Rate: 0.0005314410664141178\n",
      "Epoch 7/30\n",
      "1562/1562 [==============================] - 26s 17ms/step - loss: 0.6019 - accuracy: 0.7916 - val_loss: 0.5571 - val_accuracy: 0.8065\n",
      "Learning Rate: 0.00047829694813117385\n",
      "Epoch 8/30\n",
      "1562/1562 [==============================] - 27s 17ms/step - loss: 0.5619 - accuracy: 0.8044 - val_loss: 0.5404 - val_accuracy: 0.8155\n",
      "Learning Rate: 0.00043046724749729037\n",
      "Epoch 9/30\n",
      "1562/1562 [==============================] - 27s 17ms/step - loss: 0.5338 - accuracy: 0.8160 - val_loss: 0.5246 - val_accuracy: 0.8200\n",
      "Learning Rate: 0.0003874205285683274\n",
      "Epoch 10/30\n",
      "1562/1562 [==============================] - 27s 17ms/step - loss: 0.5128 - accuracy: 0.8228 - val_loss: 0.5003 - val_accuracy: 0.8312\n",
      "Learning Rate: 0.0003486784698907286\n",
      "Epoch 11/30\n",
      "1562/1562 [==============================] - 27s 17ms/step - loss: 0.4845 - accuracy: 0.8333 - val_loss: 0.5038 - val_accuracy: 0.8290\n",
      "Learning Rate: 0.0003138106258120388\n",
      "Epoch 12/30\n",
      "1562/1562 [==============================] - 27s 17ms/step - loss: 0.4633 - accuracy: 0.8406 - val_loss: 0.5007 - val_accuracy: 0.8289\n",
      "Learning Rate: 0.00028242956614121795\n",
      "Epoch 13/30\n",
      "1562/1562 [==============================] - 27s 17ms/step - loss: 0.4438 - accuracy: 0.8479 - val_loss: 0.4734 - val_accuracy: 0.8411\n",
      "Learning Rate: 0.00025418659788556397\n",
      "Epoch 14/30\n",
      "1562/1562 [==============================] - 27s 17ms/step - loss: 0.4274 - accuracy: 0.8513 - val_loss: 0.4792 - val_accuracy: 0.8369\n",
      "Learning Rate: 0.00022876793809700757\n",
      "Epoch 15/30\n",
      "1562/1562 [==============================] - 27s 17ms/step - loss: 0.4096 - accuracy: 0.8568 - val_loss: 0.4871 - val_accuracy: 0.8393\n",
      "Learning Rate: 0.00020589114865288138\n",
      "Epoch 16/30\n",
      "1562/1562 [==============================] - 27s 17ms/step - loss: 0.3987 - accuracy: 0.8615 - val_loss: 0.4886 - val_accuracy: 0.8395\n",
      "Learning Rate: 0.0001853020366979763\n",
      "Epoch 17/30\n",
      "1562/1562 [==============================] - 27s 17ms/step - loss: 0.3919 - accuracy: 0.8627 - val_loss: 0.4787 - val_accuracy: 0.8391\n",
      "Learning Rate: 0.00016677183157298714\n",
      "Epoch 18/30\n",
      "1562/1562 [==============================] - 26s 17ms/step - loss: 0.3781 - accuracy: 0.8675 - val_loss: 0.4304 - val_accuracy: 0.8532\n",
      "Learning Rate: 0.000150094652781263\n",
      "Epoch 19/30\n",
      "1562/1562 [==============================] - 26s 17ms/step - loss: 0.3627 - accuracy: 0.8722 - val_loss: 0.4368 - val_accuracy: 0.8503\n",
      "Learning Rate: 0.0001350851816823706\n",
      "Epoch 20/30\n",
      "1562/1562 [==============================] - 27s 17ms/step - loss: 0.3535 - accuracy: 0.8754 - val_loss: 0.4395 - val_accuracy: 0.8535\n",
      "Learning Rate: 0.0001215766606037505\n",
      "Epoch 21/30\n",
      "1562/1562 [==============================] - 27s 17ms/step - loss: 0.3509 - accuracy: 0.8780 - val_loss: 0.4372 - val_accuracy: 0.8521\n",
      "Learning Rate: 0.00010941899381577969\n",
      "Epoch 22/30\n",
      "1562/1562 [==============================] - 27s 17ms/step - loss: 0.3392 - accuracy: 0.8817 - val_loss: 0.4293 - val_accuracy: 0.8556\n",
      "Learning Rate: 9.847709588939324e-05\n",
      "Epoch 23/30\n",
      "1562/1562 [==============================] - 27s 17ms/step - loss: 0.3367 - accuracy: 0.8826 - val_loss: 0.4348 - val_accuracy: 0.8559\n",
      "Learning Rate: 8.862938557285815e-05\n",
      "Epoch 24/30\n",
      "1562/1562 [==============================] - 26s 17ms/step - loss: 0.3309 - accuracy: 0.8860 - val_loss: 0.4172 - val_accuracy: 0.8632\n",
      "Learning Rate: 7.976644701557234e-05\n",
      "Epoch 25/30\n",
      "1562/1562 [==============================] - 26s 17ms/step - loss: 0.3239 - accuracy: 0.8860 - val_loss: 0.4226 - val_accuracy: 0.8568\n",
      "Learning Rate: 7.178980013122782e-05\n",
      "Epoch 26/30\n",
      "1562/1562 [==============================] - 27s 17ms/step - loss: 0.3208 - accuracy: 0.8878 - val_loss: 0.4238 - val_accuracy: 0.8599\n",
      "Learning Rate: 6.461082375608385e-05\n",
      "Epoch 27/30\n",
      "1562/1562 [==============================] - 27s 17ms/step - loss: 0.3109 - accuracy: 0.8917 - val_loss: 0.4360 - val_accuracy: 0.8572\n",
      "Learning Rate: 5.81497406528797e-05\n",
      "Epoch 28/30\n",
      "1562/1562 [==============================] - 27s 17ms/step - loss: 0.3095 - accuracy: 0.8922 - val_loss: 0.4336 - val_accuracy: 0.8570\n",
      "Learning Rate: 5.233476622379385e-05\n",
      "Epoch 29/30\n",
      "1562/1562 [==============================] - 27s 17ms/step - loss: 0.3064 - accuracy: 0.8928 - val_loss: 0.4301 - val_accuracy: 0.8585\n",
      "Learning Rate: 4.7101289965212345e-05\n",
      "Epoch 30/30\n",
      "1562/1562 [==============================] - 26s 17ms/step - loss: 0.3050 - accuracy: 0.8936 - val_loss: 0.4274 - val_accuracy: 0.8584\n"
     ]
    }
   ],
   "source": [
    "# Train the model with data augmentation\n",
    "# Create data generator\n",
    "batch_size = 32\n",
    "data_generator = tf.keras.preprocessing.image.ImageDataGenerator(width_shift_range=0.1, \n",
    "                                                                 height_shift_range=0.1, \n",
    "                                                                 horizontal_flip=True)\n",
    "train_generator = data_generator.flow(X_train, y_train, batch_size)\n",
    "steps_per_epoch = X_train.shape[0] // batch_size\n",
    "\n",
    "# Fit the model\n",
    "result = model.fit(train_generator,\n",
    "                   validation_data=(X_test, y_test),\n",
    "                   steps_per_epoch = steps_per_epoch,\n",
    "                   epochs=30, callbacks=[scheduler])"
   ]
  },
  {
   "cell_type": "code",
   "execution_count": 14,
   "metadata": {},
   "outputs": [
    {
     "name": "stdout",
     "output_type": "stream",
     "text": [
      "Train score: 0.91454\n",
      "Test score: 0.8584\n"
     ]
    }
   ],
   "source": [
    "# Print the results\n",
    "print(\"Train score:\", model.evaluate(x=X_train, y=y_train, verbose=0)[1]);\n",
    "print(\"Test score:\", model.evaluate(x=X_test, y=y_test, verbose=0)[1]);"
   ]
  },
  {
   "cell_type": "code",
   "execution_count": 15,
   "metadata": {},
   "outputs": [
    {
     "data": {
      "image/png": "[encoded data removed]",
      "text/plain": [
       "<Figure size 432x288 with 1 Axes>"
      ]
     },
     "metadata": {
      "needs_background": "light"
     },
     "output_type": "display_data"
    }
   ],
   "source": [
    "# Plot the cost function at each itteration\n",
    "# Note: model.fit() returns an object that contains the history of the training process\n",
    "plt.plot(result.history['loss'], label='loss');\n",
    "plt.plot(result.history['val_loss'], label='val_loss');\n",
    "plt.legend();"
   ]
  },
  {
   "cell_type": "code",
   "execution_count": 16,
   "metadata": {},
   "outputs": [
    {
     "data": {
      "image/png": "[encoded data removed]",
      "text/plain": [
       "<Figure size 432x288 with 1 Axes>"
      ]
     },
     "metadata": {
      "needs_background": "light"
     },
     "output_type": "display_data"
    }
   ],
   "source": [
    "# Plot the cost function at each itteration\n",
    "# Note: model.fit() returns an object that contains the history of the training process\n",
    "plt.plot(result.history['accuracy'], label='loss');\n",
    "plt.plot(result.history['val_accuracy'], label='val_loss');\n",
    "plt.legend();"
   ]
  },
  {
   "cell_type": "code",
   "execution_count": 17,
   "metadata": {},
   "outputs": [
    {
     "name": "stdout",
     "output_type": "stream",
     "text": [
      "Confusion matrix, without Normalization\n",
      "[[880  18  26   5   8   3   9   3  33  15]\n",
      " [  5 961   0   0   1   1   0   0   4  28]\n",
      " [ 40   6 789  21  37  33  52  13   4   5]\n",
      " [ 15   5  40 669  34 115  68  26  10  18]\n",
      " [  7   1  37  12 839  13  58  26   7   0]\n",
      " [  4   3  23  89  29 781  27  36   1   7]\n",
      " [  4   1  25  15   3   5 938   4   4   1]\n",
      " [ 10   2  14  14  36  23   3 890   3   5]\n",
      " [ 30  23   6   3   0   3   4   0 915  16]\n",
      " [  9  49   1   6   0   1   0   2  10 922]]\n"
     ]
    },
    {
     "data": {
      "image/png": "[encoded data removed]",
      "text/plain": [
       "<Figure size 432x288 with 2 Axes>"
      ]
     },
     "metadata": {
      "needs_background": "light"
     },
     "output_type": "display_data"
    }
   ],
   "source": [
    "# Plot confusion matrix\n",
    "p_test = model.predict(X_test).argmax(axis=1)\n",
    "cm = confusion_matrix(y_test, p_test)\n",
    "plot_confusion_matrix(cm, list(range(K)))"
   ]
  },
  {
   "cell_type": "code",
   "execution_count": 18,
   "metadata": {},
   "outputs": [
    {
     "name": "stdout",
     "output_type": "stream",
     "text": [
      "Model: \"model\"\n",
      "_________________________________________________________________\n",
      "Layer (type)                 Output Shape              Param #   \n",
      "=================================================================\n",
      "input_1 (InputLayer)         [(None, 32, 32, 3)]       0         \n",
      "_________________________________________________________________\n",
      "conv2d (Conv2D)              (None, 32, 32, 32)        896       \n",
      "_________________________________________________________________\n",
      "batch_normalization (BatchNo (None, 32, 32, 32)        128       \n",
      "_________________________________________________________________\n",
      "conv2d_1 (Conv2D)            (None, 32, 32, 32)        9248      \n",
      "_________________________________________________________________\n",
      "batch_normalization_1 (Batch (None, 32, 32, 32)        128       \n",
      "_________________________________________________________________\n",
      "max_pooling2d (MaxPooling2D) (None, 16, 16, 32)        0         \n",
      "_________________________________________________________________\n",
      "conv2d_2 (Conv2D)            (None, 14, 14, 64)        18496     \n",
      "_________________________________________________________________\n",
      "batch_normalization_2 (Batch (None, 14, 14, 64)        256       \n",
      "_________________________________________________________________\n",
      "conv2d_3 (Conv2D)            (None, 12, 12, 64)        36928     \n",
      "_________________________________________________________________\n",
      "batch_normalization_3 (Batch (None, 12, 12, 64)        256       \n",
      "_________________________________________________________________\n",
      "max_pooling2d_1 (MaxPooling2 (None, 6, 6, 64)          0         \n",
      "_________________________________________________________________\n",
      "conv2d_4 (Conv2D)            (None, 4, 4, 128)         73856     \n",
      "_________________________________________________________________\n",
      "batch_normalization_4 (Batch (None, 4, 4, 128)         512       \n",
      "_________________________________________________________________\n",
      "conv2d_5 (Conv2D)            (None, 2, 2, 128)         147584    \n",
      "_________________________________________________________________\n",
      "batch_normalization_5 (Batch (None, 2, 2, 128)         512       \n",
      "_________________________________________________________________\n",
      "max_pooling2d_2 (MaxPooling2 (None, 1, 1, 128)         0         \n",
      "_________________________________________________________________\n",
      "flatten (Flatten)            (None, 128)               0         \n",
      "_________________________________________________________________\n",
      "dropout (Dropout)            (None, 128)               0         \n",
      "_________________________________________________________________\n",
      "dense (Dense)                (None, 1024)              132096    \n",
      "_________________________________________________________________\n",
      "dropout_1 (Dropout)          (None, 1024)              0         \n",
      "_________________________________________________________________\n",
      "dense_1 (Dense)              (None, 10)                10250     \n",
      "=================================================================\n",
      "Total params: 431,146\n",
      "Trainable params: 430,250\n",
      "Non-trainable params: 896\n",
      "_________________________________________________________________\n"
     ]
    }
   ],
   "source": [
    "# Print summary of model\n",
    "model.summary()"
   ]
  },
  {
   "cell_type": "code",
   "execution_count": null,
   "metadata": {},
   "outputs": [],
   "source": []
  }
 ],
 "metadata": {
  "kernelspec": {
   "display_name": "Python 3",
   "language": "python",
   "name": "python3"
  },
  "language_info": {
   "codemirror_mode": {
    "name": "ipython",
    "version": 3
   },
   "file_extension": ".py",
   "mimetype": "text/x-python",
   "name": "python",
   "nbconvert_exporter": "python",
   "pygments_lexer": "ipython3",
   "version": "3.7.4"
  }
 },
 "nbformat": 4,
 "nbformat_minor": 2
}
