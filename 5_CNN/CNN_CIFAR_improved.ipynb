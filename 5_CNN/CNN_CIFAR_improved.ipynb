{
 "cells": [
  {
   "cell_type": "code",
   "execution_count": 1,
   "metadata": {},
   "outputs": [],
   "source": [
    "# Import libraries\n",
    "import tensorflow as tf\n",
    "import numpy as np\n",
    "import matplotlib.pyplot as plt\n",
    "from sklearn.metrics import confusion_matrix\n",
    "import itertools\n",
    "from tensorflow.keras.layers import Input, Conv2D, Dense, Flatten, Dropout, MaxPooling2D, BatchNormalization\n",
    "from tensorflow.keras.models import Model"
   ]
  },
  {
   "cell_type": "code",
   "execution_count": 2,
   "metadata": {},
   "outputs": [],
   "source": [
    "# Create function for confusion matrix\n",
    "def plot_confusion_matrix(cm, classes, normalize=False,title='Confusion Matrix', cmap=plt.cm.Blues):\n",
    "    \"\"\"\n",
    "    This function prints and plots the confusion matrix.\n",
    "    Normazilation can be apploed by setting 'normalize=True'\n",
    "    \"\"\"\n",
    "    if normalize:\n",
    "        cm = cm.astype('float') / cm.sum(axis=1)[:, np.newaxis]\n",
    "        print('Normalized confusion matrix')\n",
    "    else:\n",
    "        print('Confusion matrix, without Normalization')\n",
    "    \n",
    "    print(cm)\n",
    "    \n",
    "    plt.imshow(cm, interpolation='nearest', cmap=cmap)\n",
    "    plt.title(title)\n",
    "    plt.colorbar()\n",
    "    tick_marks = np.arange(len(classes))\n",
    "    plt.xticks(tick_marks, classes, rotation=45)\n",
    "    plt.yticks(tick_marks, classes)\n",
    "    \n",
    "    fmt = '.2f' if normalize else 'd'\n",
    "    thresh = cm.max() / 2.0\n",
    "    for i, j in itertools.product(range(cm.shape[0]), range(cm.shape[1])):\n",
    "        plt.text(j, i, format(cm[i, j], fmt),\n",
    "                 horizontalalignment='center',\n",
    "                 color='white' if cm[i, j] > thresh else 'black')\n",
    "    \n",
    "    plt.tight_layout()\n",
    "    plt.ylabel('True label')\n",
    "    plt.xlabel('Predicted label')\n",
    "    plt.show()"
   ]
  },
  {
   "cell_type": "code",
   "execution_count": 3,
   "metadata": {},
   "outputs": [],
   "source": [
    "# Load in the data\n",
    "data = tf.keras.datasets.cifar10\n",
    "(X_train_raw, y_train), (X_test_raw, y_test) = data.load_data()"
   ]
  },
  {
   "cell_type": "code",
   "execution_count": 4,
   "metadata": {},
   "outputs": [],
   "source": [
    "# Scale the data to 0-1\n",
    "X_train = X_train_raw / 255.0\n",
    "X_test = X_test_raw / 255.0"
   ]
  },
  {
   "cell_type": "code",
   "execution_count": 5,
   "metadata": {},
   "outputs": [],
   "source": [
    "# Flatten the labels (just to get it in the right format)\n",
    "y_train, y_test = y_train.flatten(), y_test.flatten()"
   ]
  },
  {
   "cell_type": "code",
   "execution_count": 6,
   "metadata": {},
   "outputs": [
    {
     "name": "stdout",
     "output_type": "stream",
     "text": [
      "(50000, 32, 32, 3)\n"
     ]
    }
   ],
   "source": [
    "print(X_train.shape)"
   ]
  },
  {
   "cell_type": "code",
   "execution_count": 7,
   "metadata": {},
   "outputs": [
    {
     "name": "stdout",
     "output_type": "stream",
     "text": [
      "(50000,)\n"
     ]
    }
   ],
   "source": [
    "print(y_train.shape)"
   ]
  },
  {
   "cell_type": "code",
   "execution_count": 8,
   "metadata": {},
   "outputs": [
    {
     "name": "stdout",
     "output_type": "stream",
     "text": [
      "Number of classes: 10\n"
     ]
    }
   ],
   "source": [
    "# Print the number of classes\n",
    "K = len(set(y_train))\n",
    "print('Number of classes:', K)"
   ]
  },
  {
   "cell_type": "code",
   "execution_count": 9,
   "metadata": {},
   "outputs": [],
   "source": [
    "# Define the layers - this architecture takes inspiration from the VGG architecture\n",
    "i = Input(shape=X_train[0].shape)\n",
    "\n",
    "x = Conv2D(32, (3,3), activation='relu', padding='same')(i)\n",
    "x = BatchNormalization()(x)\n",
    "x = Conv2D(32, (3,3), activation='relu', padding='same')(x)\n",
    "x = BatchNormalization()(x)\n",
    "x = MaxPooling2D((2,2))(x)\n",
    "\n",
    "x = Conv2D(64, (3,3), activation='relu')(x)\n",
    "x = BatchNormalization()(x)\n",
    "x = Conv2D(64, (3,3), activation='relu')(x)\n",
    "x = BatchNormalization()(x)\n",
    "x = MaxPooling2D((2,2))(x)\n",
    "\n",
    "x = Conv2D(128, (3,3), activation='relu')(x)\n",
    "x = BatchNormalization()(x)\n",
    "x = Conv2D(64, (3,3), activation='relu')(x)\n",
    "x = BatchNormalization()(x)\n",
    "x = MaxPooling2D((2,2))(x)\n",
    "\n",
    "x = Flatten()(x)\n",
    "x = Dropout(0.2)(x)\n",
    "x = Dense(1024, activation='relu')(x)\n",
    "x = Dropout(0.2)(x)\n",
    "x = Dense(K, activation='softmax')(x)"
   ]
  },
  {
   "cell_type": "code",
   "execution_count": 10,
   "metadata": {},
   "outputs": [],
   "source": [
    "# Create the model\n",
    "model = Model(i, x)"
   ]
  },
  {
   "cell_type": "code",
   "execution_count": 11,
   "metadata": {},
   "outputs": [],
   "source": [
    "# Define how the model should be trained\n",
    "model.compile(optimizer=tf.keras.optimizers.Adam(learning_rate=0.001),\n",
    "              loss='sparse_categorical_crossentropy',\n",
    "              metrics=['accuracy'])"
   ]
  },
  {
   "cell_type": "code",
   "execution_count": 12,
   "metadata": {},
   "outputs": [],
   "source": [
    "# Create a learning rate scheduler\n",
    "def schedule(epoch, lr):\n",
    "    print('Learning Rate:', lr)\n",
    "    return lr * 0.9\n",
    "    \n",
    "# Use the scheduler\n",
    "scheduler = tf.keras.callbacks.LearningRateScheduler(schedule)"
   ]
  },
  {
   "cell_type": "code",
   "execution_count": 13,
   "metadata": {
    "scrolled": true
   },
   "outputs": [
    {
     "name": "stdout",
     "output_type": "stream",
     "text": [
      "Train on 50000 samples, validate on 10000 samples\n",
      "Learning Rate: 0.0010000000474974513\n",
      "Epoch 1/15\n",
      "50000/50000 [==============================] - 30s 606us/sample - loss: 1.2668 - accuracy: 0.5448 - val_loss: 1.1203 - val_accuracy: 0.6048\n",
      "Learning Rate: 0.0009000000427477062\n",
      "Epoch 2/15\n",
      "50000/50000 [==============================] - 34s 689us/sample - loss: 0.8773 - accuracy: 0.6913 - val_loss: 0.8865 - val_accuracy: 0.6961\n",
      "Learning Rate: 0.0008100000559352338\n",
      "Epoch 3/15\n",
      "50000/50000 [==============================] - 43s 858us/sample - loss: 0.7285 - accuracy: 0.7483 - val_loss: 0.7073 - val_accuracy: 0.7564\n",
      "Learning Rate: 0.0007290000794455409\n",
      "Epoch 4/15\n",
      "50000/50000 [==============================] - 44s 887us/sample - loss: 0.6269 - accuracy: 0.7822 - val_loss: 0.7867 - val_accuracy: 0.7323\n",
      "Learning Rate: 0.0006561000482179224\n",
      "Epoch 5/15\n",
      "50000/50000 [==============================] - 44s 888us/sample - loss: 0.5384 - accuracy: 0.8139 - val_loss: 0.6494 - val_accuracy: 0.7767\n",
      "Learning Rate: 0.0005904900608584285\n",
      "Epoch 6/15\n",
      "50000/50000 [==============================] - 42s 837us/sample - loss: 0.4631 - accuracy: 0.8392 - val_loss: 0.6136 - val_accuracy: 0.7915\n",
      "Learning Rate: 0.0005314410664141178\n",
      "Epoch 7/15\n",
      "50000/50000 [==============================] - 35s 708us/sample - loss: 0.3992 - accuracy: 0.8608 - val_loss: 0.6398 - val_accuracy: 0.7882\n",
      "Learning Rate: 0.00047829694813117385\n",
      "Epoch 8/15\n",
      "50000/50000 [==============================] - 32s 641us/sample - loss: 0.3436 - accuracy: 0.8800 - val_loss: 0.6835 - val_accuracy: 0.7888\n",
      "Learning Rate: 0.00043046724749729037\n",
      "Epoch 9/15\n",
      "50000/50000 [==============================] - 32s 646us/sample - loss: 0.2917 - accuracy: 0.8978 - val_loss: 0.6247 - val_accuracy: 0.8098\n",
      "Learning Rate: 0.0003874205285683274\n",
      "Epoch 10/15\n",
      "50000/50000 [==============================] - 31s 624us/sample - loss: 0.2507 - accuracy: 0.9113 - val_loss: 0.6769 - val_accuracy: 0.8022\n",
      "Learning Rate: 0.0003486784698907286\n",
      "Epoch 11/15\n",
      "50000/50000 [==============================] - 32s 644us/sample - loss: 0.2123 - accuracy: 0.9252 - val_loss: 0.6837 - val_accuracy: 0.8099\n",
      "Learning Rate: 0.0003138106258120388\n",
      "Epoch 12/15\n",
      "50000/50000 [==============================] - 39s 775us/sample - loss: 0.1862 - accuracy: 0.9342 - val_loss: 0.7018 - val_accuracy: 0.8111\n",
      "Learning Rate: 0.00028242956614121795\n",
      "Epoch 13/15\n",
      "50000/50000 [==============================] - 39s 786us/sample - loss: 0.1588 - accuracy: 0.9436 - val_loss: 0.7147 - val_accuracy: 0.8128\n",
      "Learning Rate: 0.00025418659788556397\n",
      "Epoch 14/15\n",
      "50000/50000 [==============================] - 44s 886us/sample - loss: 0.1350 - accuracy: 0.9517 - val_loss: 0.7718 - val_accuracy: 0.8096\n",
      "Learning Rate: 0.00022876793809700757\n",
      "Epoch 15/15\n",
      "50000/50000 [==============================] - 43s 866us/sample - loss: 0.1161 - accuracy: 0.9586 - val_loss: 0.7865 - val_accuracy: 0.8143\n"
     ]
    }
   ],
   "source": [
    "# Train the model\n",
    "result = model.fit(X_train, y_train,\n",
    "                   validation_data=(X_test, y_test),\n",
    "                   epochs=15, callbacks=[scheduler])"
   ]
  },
  {
   "cell_type": "code",
   "execution_count": 14,
   "metadata": {},
   "outputs": [
    {
     "name": "stdout",
     "output_type": "stream",
     "text": [
      "Train score: 0.99188\n",
      "Test score: 0.8143\n"
     ]
    }
   ],
   "source": [
    "# Print the results\n",
    "print(\"Train score:\", model.evaluate(x=X_train, y=y_train, verbose=0)[1]);\n",
    "print(\"Test score:\", model.evaluate(x=X_test, y=y_test, verbose=0)[1]);"
   ]
  },
  {
   "cell_type": "code",
   "execution_count": 15,
   "metadata": {},
   "outputs": [
    {
     "data": {
      "image/png": "[encoded data removed]",
      "text/plain": [
       "<Figure size 432x288 with 1 Axes>"
      ]
     },
     "metadata": {
      "needs_background": "light"
     },
     "output_type": "display_data"
    }
   ],
   "source": [
    "# Plot the cost function at each itteration\n",
    "# Note: model.fit() returns an object that contains the history of the training process\n",
    "plt.plot(result.history['loss'], label='loss');\n",
    "plt.plot(result.history['val_loss'], label='val_loss');\n",
    "plt.legend();"
   ]
  },
  {
   "cell_type": "code",
   "execution_count": 16,
   "metadata": {},
   "outputs": [
    {
     "data": {
      "image/png": "[encoded data removed]",
      "text/plain": [
       "<Figure size 432x288 with 1 Axes>"
      ]
     },
     "metadata": {
      "needs_background": "light"
     },
     "output_type": "display_data"
    }
   ],
   "source": [
    "# Plot the cost function at each itteration\n",
    "# Note: model.fit() returns an object that contains the history of the training process\n",
    "plt.plot(result.history['accuracy'], label='loss');\n",
    "plt.plot(result.history['val_accuracy'], label='val_loss');\n",
    "plt.legend();"
   ]
  },
  {
   "cell_type": "code",
   "execution_count": 17,
   "metadata": {},
   "outputs": [
    {
     "name": "stdout",
     "output_type": "stream",
     "text": [
      "Confusion matrix, without Normalization\n",
      "[[852  12  38  14  16   3   9  11  33  12]\n",
      " [ 14 914   4   4   2   1   8   4  15  34]\n",
      " [ 43   1 714  53  71  41  48  22   5   2]\n",
      " [ 22   6  50 677  51 102  52  25   7   8]\n",
      " [  8   2  40  50 823  23  29  19   5   1]\n",
      " [  6   0  35 167  33 705  10  41   2   1]\n",
      " [  4   2  24  42  18  13 886   4   4   3]\n",
      " [ 13   0  20  31  60  44   2 823   2   5]\n",
      " [ 46  11  11   9   5   7   7   2 885  17]\n",
      " [ 23  57   3  16   3   4   3   7  20 864]]\n"
     ]
    },
    {
     "data": {
      "image/png": "[encoded data removed]",
      "text/plain": [
       "<Figure size 432x288 with 2 Axes>"
      ]
     },
     "metadata": {
      "needs_background": "light"
     },
     "output_type": "display_data"
    }
   ],
   "source": [
    "# Plot confusion matrix\n",
    "p_test = model.predict(X_test).argmax(axis=1)\n",
    "cm = confusion_matrix(y_test, p_test)\n",
    "plot_confusion_matrix(cm, list(range(K)))"
   ]
  },
  {
   "cell_type": "code",
   "execution_count": null,
   "metadata": {},
   "outputs": [],
   "source": []
  },
  {
   "cell_type": "code",
   "execution_count": null,
   "metadata": {},
   "outputs": [],
   "source": []
  }
 ],
 "metadata": {
  "kernelspec": {
   "display_name": "Python 3",
   "language": "python",
   "name": "python3"
  },
  "language_info": {
   "codemirror_mode": {
    "name": "ipython",
    "version": 3
   },
   "file_extension": ".py",
   "mimetype": "text/x-python",
   "name": "python",
   "nbconvert_exporter": "python",
   "pygments_lexer": "ipython3",
   "version": "3.7.4"
  }
 },
 "nbformat": 4,
 "nbformat_minor": 2
}
