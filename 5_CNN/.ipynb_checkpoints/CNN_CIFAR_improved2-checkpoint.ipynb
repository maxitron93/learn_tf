{
 "cells": [
  {
   "cell_type": "code",
   "execution_count": 1,
   "metadata": {},
   "outputs": [],
   "source": [
    "# Import libraries\n",
    "import tensorflow as tf\n",
    "import numpy as np\n",
    "import matplotlib.pyplot as plt\n",
    "from sklearn.metrics import confusion_matrix\n",
    "import itertools\n",
    "from tensorflow.keras.layers import Input, Conv2D, Dense, Flatten, Dropout, MaxPooling2D, BatchNormalization\n",
    "from tensorflow.keras.models import Model"
   ]
  },
  {
   "cell_type": "code",
   "execution_count": 2,
   "metadata": {},
   "outputs": [],
   "source": [
    "# Create function for confusion matrix\n",
    "def plot_confusion_matrix(cm, classes, normalize=False,title='Confusion Matrix', cmap=plt.cm.Blues):\n",
    "    \"\"\"\n",
    "    This function prints and plots the confusion matrix.\n",
    "    Normazilation can be apploed by setting 'normalize=True'\n",
    "    \"\"\"\n",
    "    if normalize:\n",
    "        cm = cm.astype('float') / cm.sum(axis=1)[:, np.newaxis]\n",
    "        print('Normalized confusion matrix')\n",
    "    else:\n",
    "        print('Confusion matrix, without Normalization')\n",
    "    \n",
    "    print(cm)\n",
    "    \n",
    "    plt.imshow(cm, interpolation='nearest', cmap=cmap)\n",
    "    plt.title(title)\n",
    "    plt.colorbar()\n",
    "    tick_marks = np.arange(len(classes))\n",
    "    plt.xticks(tick_marks, classes, rotation=45)\n",
    "    plt.yticks(tick_marks, classes)\n",
    "    \n",
    "    fmt = '.2f' if normalize else 'd'\n",
    "    thresh = cm.max() / 2.0\n",
    "    for i, j in itertools.product(range(cm.shape[0]), range(cm.shape[1])):\n",
    "        plt.text(j, i, format(cm[i, j], fmt),\n",
    "                 horizontalalignment='center',\n",
    "                 color='white' if cm[i, j] > thresh else 'black')\n",
    "    \n",
    "    plt.tight_layout()\n",
    "    plt.ylabel('True label')\n",
    "    plt.xlabel('Predicted label')\n",
    "    plt.show()"
   ]
  },
  {
   "cell_type": "code",
   "execution_count": 3,
   "metadata": {},
   "outputs": [],
   "source": [
    "# Load in the data\n",
    "data = tf.keras.datasets.cifar10\n",
    "(X_train_raw, y_train), (X_test_raw, y_test) = data.load_data()"
   ]
  },
  {
   "cell_type": "code",
   "execution_count": 4,
   "metadata": {},
   "outputs": [],
   "source": [
    "# Scale the data to 0-1\n",
    "X_train = X_train_raw / 255.0\n",
    "X_test = X_test_raw / 255.0"
   ]
  },
  {
   "cell_type": "code",
   "execution_count": 5,
   "metadata": {},
   "outputs": [],
   "source": [
    "# Flatten the labels (just to get it in the right format)\n",
    "y_train, y_test = y_train.flatten(), y_test.flatten()"
   ]
  },
  {
   "cell_type": "code",
   "execution_count": 6,
   "metadata": {},
   "outputs": [
    {
     "name": "stdout",
     "output_type": "stream",
     "text": [
      "(50000, 32, 32, 3)\n"
     ]
    }
   ],
   "source": [
    "print(X_train.shape)"
   ]
  },
  {
   "cell_type": "code",
   "execution_count": 7,
   "metadata": {},
   "outputs": [
    {
     "name": "stdout",
     "output_type": "stream",
     "text": [
      "(50000,)\n"
     ]
    }
   ],
   "source": [
    "print(y_train.shape)"
   ]
  },
  {
   "cell_type": "code",
   "execution_count": 8,
   "metadata": {},
   "outputs": [
    {
     "name": "stdout",
     "output_type": "stream",
     "text": [
      "Number of classes: 10\n"
     ]
    }
   ],
   "source": [
    "# Print the number of classes\n",
    "K = len(set(y_train))\n",
    "print('Number of classes:', K)"
   ]
  },
  {
   "cell_type": "code",
   "execution_count": 9,
   "metadata": {},
   "outputs": [],
   "source": [
    "# Define the layers - this architecture takes inspiration from the VGG architecture\n",
    "i = Input(shape=X_train[0].shape)\n",
    "\n",
    "x = Conv2D(32, (3,3), activation='relu', padding='same')(i)\n",
    "x = BatchNormalization()(x)\n",
    "x = Conv2D(32, (3,3), activation='relu', padding='same')(x)\n",
    "x = BatchNormalization()(x)\n",
    "x = MaxPooling2D((2,2))(x)\n",
    "\n",
    "x = Conv2D(64, (3,3), activation='relu')(x)\n",
    "x = BatchNormalization()(x)\n",
    "x = Conv2D(64, (3,3), activation='relu')(x)\n",
    "x = BatchNormalization()(x)\n",
    "x = MaxPooling2D((2,2))(x)\n",
    "\n",
    "x = Conv2D(128, (3,3), activation='relu')(x)\n",
    "x = BatchNormalization()(x)\n",
    "x = Conv2D(128, (3,3), activation='relu')(x)\n",
    "x = BatchNormalization()(x)\n",
    "x = MaxPooling2D((2,2))(x)\n",
    "\n",
    "x = Flatten()(x)\n",
    "x = Dropout(0.2)(x)\n",
    "x = Dense(1024, activation='relu')(x)\n",
    "x = Dropout(0.2)(x)\n",
    "x = Dense(K, activation='softmax')(x)"
   ]
  },
  {
   "cell_type": "code",
   "execution_count": 10,
   "metadata": {},
   "outputs": [],
   "source": [
    "# Create the model\n",
    "model = Model(i, x)"
   ]
  },
  {
   "cell_type": "code",
   "execution_count": 11,
   "metadata": {},
   "outputs": [],
   "source": [
    "# Define how the model should be trained\n",
    "model.compile(optimizer=tf.keras.optimizers.Adam(learning_rate=0.001),\n",
    "              loss='sparse_categorical_crossentropy',\n",
    "              metrics=['accuracy'])"
   ]
  },
  {
   "cell_type": "code",
   "execution_count": 12,
   "metadata": {},
   "outputs": [],
   "source": [
    "# Create a learning rate scheduler\n",
    "def schedule(epoch, lr):\n",
    "    print('Learning Rate:', lr)\n",
    "    return lr * 0.9\n",
    "    \n",
    "# Use the scheduler\n",
    "scheduler = tf.keras.callbacks.LearningRateScheduler(schedule)"
   ]
  },
  {
   "cell_type": "code",
   "execution_count": 13,
   "metadata": {
    "scrolled": true
   },
   "outputs": [
    {
     "name": "stdout",
     "output_type": "stream",
     "text": [
      "Train for 1562 steps, validate on 10000 samples\n",
      "Learning Rate: 0.0010000000474974513\n",
      "Epoch 1/20\n",
      "1562/1562 [==============================] - 27s 17ms/step - loss: 1.3912 - accuracy: 0.4995 - val_loss: 1.5704 - val_accuracy: 0.4885\n",
      "Learning Rate: 0.0009000000427477062\n",
      "Epoch 2/20\n",
      "1562/1562 [==============================] - 26s 16ms/step - loss: 0.9992 - accuracy: 0.6471 - val_loss: 0.9610 - val_accuracy: 0.6726\n",
      "Learning Rate: 0.0008100000559352338\n",
      "Epoch 3/20\n",
      "1562/1562 [==============================] - 25s 16ms/step - loss: 0.8494 - accuracy: 0.7059 - val_loss: 0.7551 - val_accuracy: 0.7398\n",
      "Learning Rate: 0.0007290000794455409\n",
      "Epoch 4/20\n",
      "1562/1562 [==============================] - 25s 16ms/step - loss: 0.7589 - accuracy: 0.7387 - val_loss: 0.7307 - val_accuracy: 0.7467\n",
      "Learning Rate: 0.0006561000482179224\n",
      "Epoch 5/20\n",
      "1562/1562 [==============================] - 25s 16ms/step - loss: 0.6848 - accuracy: 0.7644 - val_loss: 0.6846 - val_accuracy: 0.7709\n",
      "Learning Rate: 0.0005904900608584285\n",
      "Epoch 6/20\n",
      "1562/1562 [==============================] - 25s 16ms/step - loss: 0.6361 - accuracy: 0.7816 - val_loss: 0.6010 - val_accuracy: 0.7943\n",
      "Learning Rate: 0.0005314410664141178\n",
      "Epoch 7/20\n",
      "1562/1562 [==============================] - 24s 15ms/step - loss: 0.5928 - accuracy: 0.7952 - val_loss: 0.6324 - val_accuracy: 0.7822\n",
      "Learning Rate: 0.00047829694813117385\n",
      "Epoch 8/20\n",
      "1562/1562 [==============================] - 24s 15ms/step - loss: 0.5544 - accuracy: 0.8088 - val_loss: 0.5902 - val_accuracy: 0.8024\n",
      "Learning Rate: 0.00043046724749729037\n",
      "Epoch 9/20\n",
      "1562/1562 [==============================] - 24s 15ms/step - loss: 0.5251 - accuracy: 0.8194 - val_loss: 0.5337 - val_accuracy: 0.8198\n",
      "Learning Rate: 0.0003874205285683274\n",
      "Epoch 10/20\n",
      "1562/1562 [==============================] - 24s 16ms/step - loss: 0.4977 - accuracy: 0.8273 - val_loss: 0.5536 - val_accuracy: 0.8137\n",
      "Learning Rate: 0.0003486784698907286\n",
      "Epoch 11/20\n",
      "1562/1562 [==============================] - 25s 16ms/step - loss: 0.4761 - accuracy: 0.8355 - val_loss: 0.5031 - val_accuracy: 0.8291\n",
      "Learning Rate: 0.0003138106258120388\n",
      "Epoch 12/20\n",
      "1562/1562 [==============================] - 25s 16ms/step - loss: 0.4563 - accuracy: 0.8428 - val_loss: 0.5206 - val_accuracy: 0.8229\n",
      "Learning Rate: 0.00028242956614121795\n",
      "Epoch 13/20\n",
      "1562/1562 [==============================] - 26s 17ms/step - loss: 0.4359 - accuracy: 0.8502 - val_loss: 0.4709 - val_accuracy: 0.8404\n",
      "Learning Rate: 0.00025418659788556397\n",
      "Epoch 14/20\n",
      "1562/1562 [==============================] - 26s 17ms/step - loss: 0.4167 - accuracy: 0.8555 - val_loss: 0.4575 - val_accuracy: 0.8448\n",
      "Learning Rate: 0.00022876793809700757\n",
      "Epoch 15/20\n",
      "1562/1562 [==============================] - 26s 16ms/step - loss: 0.4053 - accuracy: 0.8599 - val_loss: 0.4535 - val_accuracy: 0.8478\n",
      "Learning Rate: 0.00020589114865288138\n",
      "Epoch 16/20\n",
      "1562/1562 [==============================] - 25s 16ms/step - loss: 0.3928 - accuracy: 0.8645 - val_loss: 0.4629 - val_accuracy: 0.8471\n",
      "Learning Rate: 0.0001853020366979763\n",
      "Epoch 17/20\n",
      "1562/1562 [==============================] - 25s 16ms/step - loss: 0.3813 - accuracy: 0.8685 - val_loss: 0.4521 - val_accuracy: 0.8491\n",
      "Learning Rate: 0.00016677183157298714\n",
      "Epoch 18/20\n",
      "1562/1562 [==============================] - 26s 16ms/step - loss: 0.3700 - accuracy: 0.8721 - val_loss: 0.4521 - val_accuracy: 0.8481\n",
      "Learning Rate: 0.000150094652781263\n",
      "Epoch 19/20\n",
      "1562/1562 [==============================] - 25s 16ms/step - loss: 0.3584 - accuracy: 0.8758 - val_loss: 0.4435 - val_accuracy: 0.8496\n",
      "Learning Rate: 0.0001350851816823706\n",
      "Epoch 20/20\n",
      "1562/1562 [==============================] - 25s 16ms/step - loss: 0.3521 - accuracy: 0.8777 - val_loss: 0.4410 - val_accuracy: 0.8554\n"
     ]
    }
   ],
   "source": [
    "# Train the model with data augmentation\n",
    "# Create data generator\n",
    "batch_size = 32\n",
    "data_generator = tf.keras.preprocessing.image.ImageDataGenerator(width_shift_range=0.1, \n",
    "                                                                 height_shift_range=0.1, \n",
    "                                                                 horizontal_flip=True)\n",
    "train_generator = data_generator.flow(X_train, y_train, batch_size)\n",
    "steps_per_epoch = X_train.shape[0] // batch_size\n",
    "\n",
    "# Fit the model\n",
    "result = model.fit(train_generator,\n",
    "                   validation_data=(X_test, y_test),\n",
    "                   steps_per_epoch = steps_per_epoch,\n",
    "                   epochs=20, callbacks=[scheduler])"
   ]
  },
  {
   "cell_type": "code",
   "execution_count": 14,
   "metadata": {},
   "outputs": [
    {
     "name": "stdout",
     "output_type": "stream",
     "text": [
      "Train score: 0.90392\n",
      "Test score: 0.8554\n"
     ]
    }
   ],
   "source": [
    "# Print the results\n",
    "print(\"Train score:\", model.evaluate(x=X_train, y=y_train, verbose=0)[1]);\n",
    "print(\"Test score:\", model.evaluate(x=X_test, y=y_test, verbose=0)[1]);"
   ]
  },
  {
   "cell_type": "code",
   "execution_count": 15,
   "metadata": {},
   "outputs": [
    {
     "data": {
      "image/png": "[encoded data removed]",
      "text/plain": [
       "<Figure size 432x288 with 1 Axes>"
      ]
     },
     "metadata": {
      "needs_background": "light"
     },
     "output_type": "display_data"
    }
   ],
   "source": [
    "# Plot the cost function at each itteration\n",
    "# Note: model.fit() returns an object that contains the history of the training process\n",
    "plt.plot(result.history['loss'], label='loss');\n",
    "plt.plot(result.history['val_loss'], label='val_loss');\n",
    "plt.legend();"
   ]
  },
  {
   "cell_type": "code",
   "execution_count": 16,
   "metadata": {},
   "outputs": [
    {
     "data": {
      "image/png": "[encoded data removed]",
      "text/plain": [
       "<Figure size 432x288 with 1 Axes>"
      ]
     },
     "metadata": {
      "needs_background": "light"
     },
     "output_type": "display_data"
    }
   ],
   "source": [
    "# Plot the cost function at each itteration\n",
    "# Note: model.fit() returns an object that contains the history of the training process\n",
    "plt.plot(result.history['accuracy'], label='loss');\n",
    "plt.plot(result.history['val_accuracy'], label='val_loss');\n",
    "plt.legend();"
   ]
  },
  {
   "cell_type": "code",
   "execution_count": 17,
   "metadata": {},
   "outputs": [
    {
     "name": "stdout",
     "output_type": "stream",
     "text": [
      "Confusion matrix, without Normalization\n",
      "[[886   9  18   3  11   2   9   5  35  22]\n",
      " [  6 951   0   1   2   1   0   0  10  29]\n",
      " [ 51   2 767  26  47  20  50  24   5   8]\n",
      " [ 17   8  36 670  55  89  77  27   7  14]\n",
      " [  6   2  30  15 881  10  30  25   1   0]\n",
      " [ 12   4  26  83  37 752  40  39   2   5]\n",
      " [  7   2  19  22   9   4 928   5   3   1]\n",
      " [ 12   2   7  15  36  22  11 884   0  11]\n",
      " [ 36  18   2   5   1   0   3   0 917  18]\n",
      " [ 21  47   0   1   1   0   2   1   9 918]]\n"
     ]
    },
    {
     "data": {
      "image/png": "[encoded data removed]",
      "text/plain": [
       "<Figure size 432x288 with 2 Axes>"
      ]
     },
     "metadata": {
      "needs_background": "light"
     },
     "output_type": "display_data"
    }
   ],
   "source": [
    "# Plot confusion matrix\n",
    "p_test = model.predict(X_test).argmax(axis=1)\n",
    "cm = confusion_matrix(y_test, p_test)\n",
    "plot_confusion_matrix(cm, list(range(K)))"
   ]
  },
  {
   "cell_type": "code",
   "execution_count": 18,
   "metadata": {},
   "outputs": [
    {
     "name": "stdout",
     "output_type": "stream",
     "text": [
      "Model: \"model\"\n",
      "_________________________________________________________________\n",
      "Layer (type)                 Output Shape              Param #   \n",
      "=================================================================\n",
      "input_1 (InputLayer)         [(None, 32, 32, 3)]       0         \n",
      "_________________________________________________________________\n",
      "conv2d (Conv2D)              (None, 32, 32, 32)        896       \n",
      "_________________________________________________________________\n",
      "batch_normalization (BatchNo (None, 32, 32, 32)        128       \n",
      "_________________________________________________________________\n",
      "conv2d_1 (Conv2D)            (None, 32, 32, 32)        9248      \n",
      "_________________________________________________________________\n",
      "batch_normalization_1 (Batch (None, 32, 32, 32)        128       \n",
      "_________________________________________________________________\n",
      "max_pooling2d (MaxPooling2D) (None, 16, 16, 32)        0         \n",
      "_________________________________________________________________\n",
      "conv2d_2 (Conv2D)            (None, 14, 14, 64)        18496     \n",
      "_________________________________________________________________\n",
      "batch_normalization_2 (Batch (None, 14, 14, 64)        256       \n",
      "_________________________________________________________________\n",
      "conv2d_3 (Conv2D)            (None, 12, 12, 64)        36928     \n",
      "_________________________________________________________________\n",
      "batch_normalization_3 (Batch (None, 12, 12, 64)        256       \n",
      "_________________________________________________________________\n",
      "max_pooling2d_1 (MaxPooling2 (None, 6, 6, 64)          0         \n",
      "_________________________________________________________________\n",
      "conv2d_4 (Conv2D)            (None, 4, 4, 128)         73856     \n",
      "_________________________________________________________________\n",
      "batch_normalization_4 (Batch (None, 4, 4, 128)         512       \n",
      "_________________________________________________________________\n",
      "conv2d_5 (Conv2D)            (None, 2, 2, 128)         147584    \n",
      "_________________________________________________________________\n",
      "batch_normalization_5 (Batch (None, 2, 2, 128)         512       \n",
      "_________________________________________________________________\n",
      "max_pooling2d_2 (MaxPooling2 (None, 1, 1, 128)         0         \n",
      "_________________________________________________________________\n",
      "flatten (Flatten)            (None, 128)               0         \n",
      "_________________________________________________________________\n",
      "dropout (Dropout)            (None, 128)               0         \n",
      "_________________________________________________________________\n",
      "dense (Dense)                (None, 1024)              132096    \n",
      "_________________________________________________________________\n",
      "dropout_1 (Dropout)          (None, 1024)              0         \n",
      "_________________________________________________________________\n",
      "dense_1 (Dense)              (None, 10)                10250     \n",
      "=================================================================\n",
      "Total params: 431,146\n",
      "Trainable params: 430,250\n",
      "Non-trainable params: 896\n",
      "_________________________________________________________________\n"
     ]
    }
   ],
   "source": [
    "# Print summary of model\n",
    "model.summary()"
   ]
  },
  {
   "cell_type": "code",
   "execution_count": null,
   "metadata": {},
   "outputs": [],
   "source": []
  }
 ],
 "metadata": {
  "kernelspec": {
   "display_name": "Python 3",
   "language": "python",
   "name": "python3"
  },
  "language_info": {
   "codemirror_mode": {
    "name": "ipython",
    "version": 3
   },
   "file_extension": ".py",
   "mimetype": "text/x-python",
   "name": "python",
   "nbconvert_exporter": "python",
   "pygments_lexer": "ipython3",
   "version": "3.7.4"
  }
 },
 "nbformat": 4,
 "nbformat_minor": 2
}
