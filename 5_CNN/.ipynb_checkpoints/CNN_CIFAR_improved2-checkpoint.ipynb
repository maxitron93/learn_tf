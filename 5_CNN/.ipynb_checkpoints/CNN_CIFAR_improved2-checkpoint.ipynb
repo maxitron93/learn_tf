{
 "cells": [
  {
   "cell_type": "code",
   "execution_count": 1,
   "metadata": {},
   "outputs": [],
   "source": [
    "# Import libraries\n",
    "import tensorflow as tf\n",
    "import numpy as np\n",
    "import matplotlib.pyplot as plt\n",
    "from sklearn.metrics import confusion_matrix\n",
    "import itertools\n",
    "from tensorflow.keras.layers import Input, Conv2D, Dense, Flatten, Dropout, MaxPooling2D, BatchNormalization\n",
    "from tensorflow.keras.models import Model"
   ]
  },
  {
   "cell_type": "code",
   "execution_count": 2,
   "metadata": {},
   "outputs": [],
   "source": [
    "# Create function for confusion matrix\n",
    "def plot_confusion_matrix(cm, classes, normalize=False,title='Confusion Matrix', cmap=plt.cm.Blues):\n",
    "    \"\"\"\n",
    "    This function prints and plots the confusion matrix.\n",
    "    Normazilation can be apploed by setting 'normalize=True'\n",
    "    \"\"\"\n",
    "    if normalize:\n",
    "        cm = cm.astype('float') / cm.sum(axis=1)[:, np.newaxis]\n",
    "        print('Normalized confusion matrix')\n",
    "    else:\n",
    "        print('Confusion matrix, without Normalization')\n",
    "    \n",
    "    print(cm)\n",
    "    \n",
    "    plt.imshow(cm, interpolation='nearest', cmap=cmap)\n",
    "    plt.title(title)\n",
    "    plt.colorbar()\n",
    "    tick_marks = np.arange(len(classes))\n",
    "    plt.xticks(tick_marks, classes, rotation=45)\n",
    "    plt.yticks(tick_marks, classes)\n",
    "    \n",
    "    fmt = '.2f' if normalize else 'd'\n",
    "    thresh = cm.max() / 2.0\n",
    "    for i, j in itertools.product(range(cm.shape[0]), range(cm.shape[1])):\n",
    "        plt.text(j, i, format(cm[i, j], fmt),\n",
    "                 horizontalalignment='center',\n",
    "                 color='white' if cm[i, j] > thresh else 'black')\n",
    "    \n",
    "    plt.tight_layout()\n",
    "    plt.ylabel('True label')\n",
    "    plt.xlabel('Predicted label')\n",
    "    plt.show()"
   ]
  },
  {
   "cell_type": "code",
   "execution_count": 3,
   "metadata": {},
   "outputs": [],
   "source": [
    "# Load in the data\n",
    "data = tf.keras.datasets.cifar10\n",
    "(X_train_raw, y_train), (X_test_raw, y_test) = data.load_data()"
   ]
  },
  {
   "cell_type": "code",
   "execution_count": 4,
   "metadata": {},
   "outputs": [],
   "source": [
    "# Scale the data to 0-1\n",
    "X_train = X_train_raw / 255.0\n",
    "X_test = X_test_raw / 255.0"
   ]
  },
  {
   "cell_type": "code",
   "execution_count": 5,
   "metadata": {},
   "outputs": [],
   "source": [
    "# Flatten the labels (just to get it in the right format)\n",
    "y_train, y_test = y_train.flatten(), y_test.flatten()"
   ]
  },
  {
   "cell_type": "code",
   "execution_count": 6,
   "metadata": {},
   "outputs": [
    {
     "name": "stdout",
     "output_type": "stream",
     "text": [
      "(50000, 32, 32, 3)\n"
     ]
    }
   ],
   "source": [
    "print(X_train.shape)"
   ]
  },
  {
   "cell_type": "code",
   "execution_count": 7,
   "metadata": {},
   "outputs": [
    {
     "name": "stdout",
     "output_type": "stream",
     "text": [
      "(50000,)\n"
     ]
    }
   ],
   "source": [
    "print(y_train.shape)"
   ]
  },
  {
   "cell_type": "code",
   "execution_count": 8,
   "metadata": {},
   "outputs": [
    {
     "name": "stdout",
     "output_type": "stream",
     "text": [
      "Number of classes: 10\n"
     ]
    }
   ],
   "source": [
    "# Print the number of classes\n",
    "K = len(set(y_train))\n",
    "print('Number of classes:', K)"
   ]
  },
  {
   "cell_type": "code",
   "execution_count": 9,
   "metadata": {},
   "outputs": [],
   "source": [
    "# Define the layers - this architecture takes inspiration from the VGG architecture\n",
    "i = Input(shape=X_train[0].shape)\n",
    "\n",
    "x = Conv2D(32, (3,3), activation='relu', padding='same')(i)\n",
    "x = BatchNormalization()(x)\n",
    "x = Conv2D(32, (3,3), activation='relu', padding='same')(x)\n",
    "x = BatchNormalization()(x)\n",
    "x = MaxPooling2D((2,2))(x)\n",
    "\n",
    "x = Conv2D(64, (3,3), activation='relu')(x)\n",
    "x = BatchNormalization()(x)\n",
    "x = Conv2D(64, (3,3), activation='relu')(x)\n",
    "x = BatchNormalization()(x)\n",
    "x = MaxPooling2D((2,2))(x)\n",
    "\n",
    "x = Conv2D(128, (3,3), activation='relu')(x)\n",
    "x = BatchNormalization()(x)\n",
    "x = Conv2D(64, (3,3), activation='relu')(x)\n",
    "x = BatchNormalization()(x)\n",
    "x = MaxPooling2D((2,2))(x)\n",
    "\n",
    "x = Flatten()(x)\n",
    "x = Dropout(0.2)(x)\n",
    "x = Dense(1024, activation='relu')(x)\n",
    "x = Dropout(0.2)(x)\n",
    "x = Dense(K, activation='softmax')(x)"
   ]
  },
  {
   "cell_type": "code",
   "execution_count": 10,
   "metadata": {},
   "outputs": [],
   "source": [
    "# Create the model\n",
    "model = Model(i, x)"
   ]
  },
  {
   "cell_type": "code",
   "execution_count": 11,
   "metadata": {},
   "outputs": [],
   "source": [
    "# Define how the model should be trained\n",
    "model.compile(optimizer=tf.keras.optimizers.Adam(learning_rate=0.001),\n",
    "              loss='sparse_categorical_crossentropy',\n",
    "              metrics=['accuracy'])"
   ]
  },
  {
   "cell_type": "code",
   "execution_count": 12,
   "metadata": {},
   "outputs": [],
   "source": [
    "# Create a learning rate scheduler\n",
    "def schedule(epoch, lr):\n",
    "    print('Learning Rate:', lr)\n",
    "    return lr * 0.9\n",
    "    \n",
    "# Use the scheduler\n",
    "scheduler = tf.keras.callbacks.LearningRateScheduler(schedule)"
   ]
  },
  {
   "cell_type": "code",
   "execution_count": 13,
   "metadata": {
    "scrolled": true
   },
   "outputs": [
    {
     "name": "stdout",
     "output_type": "stream",
     "text": [
      "Train for 1562 steps, validate on 10000 samples\n",
      "Learning Rate: 0.0010000000474974513\n",
      "Epoch 1/15\n",
      "1562/1562 [==============================] - 51s 32ms/step - loss: 1.4135 - accuracy: 0.4890 - val_loss: 1.4281 - val_accuracy: 0.5325\n",
      "Learning Rate: 0.0009000000427477062\n",
      "Epoch 2/15\n",
      "1562/1562 [==============================] - 112s 72ms/step - loss: 1.0131 - accuracy: 0.6447 - val_loss: 0.9262 - val_accuracy: 0.6795\n",
      "Learning Rate: 0.0008100000559352338\n",
      "Epoch 3/15\n",
      "1562/1562 [==============================] - 81s 52ms/step - loss: 0.8618 - accuracy: 0.7010 - val_loss: 0.7678 - val_accuracy: 0.7353\n",
      "Learning Rate: 0.0007290000794455409\n",
      "Epoch 4/15\n",
      "1562/1562 [==============================] - 74s 47ms/step - loss: 0.7719 - accuracy: 0.7338 - val_loss: 0.7343 - val_accuracy: 0.7459\n",
      "Learning Rate: 0.0006561000482179224\n",
      "Epoch 5/15\n",
      "1562/1562 [==============================] - 77s 49ms/step - loss: 0.7037 - accuracy: 0.7604 - val_loss: 0.6665 - val_accuracy: 0.7695\n",
      "Learning Rate: 0.0005904900608584285\n",
      "Epoch 6/15\n",
      "1562/1562 [==============================] - 71s 45ms/step - loss: 0.6581 - accuracy: 0.7731 - val_loss: 0.6274 - val_accuracy: 0.7815\n",
      "Learning Rate: 0.0005314410664141178\n",
      "Epoch 7/15\n",
      "1562/1562 [==============================] - 79s 51ms/step - loss: 0.6135 - accuracy: 0.7897 - val_loss: 0.6211 - val_accuracy: 0.7921\n",
      "Learning Rate: 0.00047829694813117385\n",
      "Epoch 8/15\n",
      "1562/1562 [==============================] - 81s 52ms/step - loss: 0.5742 - accuracy: 0.8020 - val_loss: 0.5975 - val_accuracy: 0.7982\n",
      "Learning Rate: 0.00043046724749729037\n",
      "Epoch 9/15\n",
      "1562/1562 [==============================] - 79s 51ms/step - loss: 0.5448 - accuracy: 0.8120 - val_loss: 0.5250 - val_accuracy: 0.8245\n",
      "Learning Rate: 0.0003874205285683274\n",
      "Epoch 10/15\n",
      "1562/1562 [==============================] - 82s 53ms/step - loss: 0.5268 - accuracy: 0.8188 - val_loss: 0.5484 - val_accuracy: 0.8159\n",
      "Learning Rate: 0.0003486784698907286\n",
      "Epoch 11/15\n",
      "1562/1562 [==============================] - 79s 51ms/step - loss: 0.4977 - accuracy: 0.8289 - val_loss: 0.5314 - val_accuracy: 0.8224\n",
      "Learning Rate: 0.0003138106258120388\n",
      "Epoch 12/15\n",
      "1562/1562 [==============================] - 80s 51ms/step - loss: 0.4821 - accuracy: 0.8359 - val_loss: 0.5329 - val_accuracy: 0.8218\n",
      "Learning Rate: 0.00028242956614121795\n",
      "Epoch 13/15\n",
      "1562/1562 [==============================] - 77s 49ms/step - loss: 0.4628 - accuracy: 0.8408 - val_loss: 0.5263 - val_accuracy: 0.8263\n",
      "Learning Rate: 0.00025418659788556397\n",
      "Epoch 14/15\n",
      "1562/1562 [==============================] - 82s 52ms/step - loss: 0.4481 - accuracy: 0.8454 - val_loss: 0.4865 - val_accuracy: 0.8367\n",
      "Learning Rate: 0.00022876793809700757\n",
      "Epoch 15/15\n",
      "1562/1562 [==============================] - 80s 51ms/step - loss: 0.4300 - accuracy: 0.8511 - val_loss: 0.4844 - val_accuracy: 0.8376\n"
     ]
    }
   ],
   "source": [
    "# Train the model with data augmentation\n",
    "# Create data generator\n",
    "batch_size = 32\n",
    "data_generator = tf.keras.preprocessing.image.ImageDataGenerator(width_shift_range=0.1, \n",
    "                                                                 height_shift_range=0.1, \n",
    "                                                                 horizontal_flip=True)\n",
    "train_generator = data_generator.flow(X_train, y_train, batch_size)\n",
    "steps_per_epoch = X_train.shape[0] // batch_size\n",
    "\n",
    "# Fit the model\n",
    "result = model.fit(train_generator,\n",
    "                   validation_data=(X_test, y_test),\n",
    "                   steps_per_epoch = steps_per_epoch,\n",
    "                   epochs=15, callbacks=[scheduler])"
   ]
  },
  {
   "cell_type": "code",
   "execution_count": 14,
   "metadata": {},
   "outputs": [
    {
     "name": "stdout",
     "output_type": "stream",
     "text": [
      "Train score: 0.87666\n",
      "Test score: 0.8376\n"
     ]
    }
   ],
   "source": [
    "# Print the results\n",
    "print(\"Train score:\", model.evaluate(x=X_train, y=y_train, verbose=0)[1]);\n",
    "print(\"Test score:\", model.evaluate(x=X_test, y=y_test, verbose=0)[1]);"
   ]
  },
  {
   "cell_type": "code",
   "execution_count": 15,
   "metadata": {},
   "outputs": [
    {
     "data": {
      "image/png": "[encoded data removed]",
      "text/plain": [
       "<Figure size 432x288 with 1 Axes>"
      ]
     },
     "metadata": {
      "needs_background": "light"
     },
     "output_type": "display_data"
    }
   ],
   "source": [
    "# Plot the cost function at each itteration\n",
    "# Note: model.fit() returns an object that contains the history of the training process\n",
    "plt.plot(result.history['loss'], label='loss');\n",
    "plt.plot(result.history['val_loss'], label='val_loss');\n",
    "plt.legend();"
   ]
  },
  {
   "cell_type": "code",
   "execution_count": 16,
   "metadata": {},
   "outputs": [
    {
     "data": {
      "image/png": "[encoded data removed]",
      "text/plain": [
       "<Figure size 432x288 with 1 Axes>"
      ]
     },
     "metadata": {
      "needs_background": "light"
     },
     "output_type": "display_data"
    }
   ],
   "source": [
    "# Plot the cost function at each itteration\n",
    "# Note: model.fit() returns an object that contains the history of the training process\n",
    "plt.plot(result.history['accuracy'], label='loss');\n",
    "plt.plot(result.history['val_accuracy'], label='val_loss');\n",
    "plt.legend();"
   ]
  },
  {
   "cell_type": "code",
   "execution_count": 17,
   "metadata": {},
   "outputs": [
    {
     "name": "stdout",
     "output_type": "stream",
     "text": [
      "Confusion matrix, without Normalization\n",
      "[[829  23  35  16  10   2   7   7  50  21]\n",
      " [  5 964   0   0   2   0   2   0   6  21]\n",
      " [ 37   2 750  33  45  34  65  26   3   5]\n",
      " [ 14   9  45 682  40  92  77  26   6   9]\n",
      " [  7   0  34  26 820   8  69  32   3   1]\n",
      " [  9   4  35 106  34 717  42  46   2   5]\n",
      " [  6   3  20  23   5   0 937   5   1   0]\n",
      " [ 12   3  11  15  21  23  13 892   3   7]\n",
      " [ 34  23   6   3   3   1   3   1 912  14]\n",
      " [ 15  84   4   4   1   1   4   3  11 873]]\n"
     ]
    },
    {
     "data": {
      "image/png": "[encoded data removed]",
      "text/plain": [
       "<Figure size 432x288 with 2 Axes>"
      ]
     },
     "metadata": {
      "needs_background": "light"
     },
     "output_type": "display_data"
    }
   ],
   "source": [
    "# Plot confusion matrix\n",
    "p_test = model.predict(X_test).argmax(axis=1)\n",
    "cm = confusion_matrix(y_test, p_test)\n",
    "plot_confusion_matrix(cm, list(range(K)))"
   ]
  },
  {
   "cell_type": "code",
   "execution_count": null,
   "metadata": {},
   "outputs": [],
   "source": []
  },
  {
   "cell_type": "code",
   "execution_count": null,
   "metadata": {},
   "outputs": [],
   "source": []
  }
 ],
 "metadata": {
  "kernelspec": {
   "display_name": "Python 3",
   "language": "python",
   "name": "python3"
  },
  "language_info": {
   "codemirror_mode": {
    "name": "ipython",
    "version": 3
   },
   "file_extension": ".py",
   "mimetype": "text/x-python",
   "name": "python",
   "nbconvert_exporter": "python",
   "pygments_lexer": "ipython3",
   "version": "3.7.4"
  }
 },
 "nbformat": 4,
 "nbformat_minor": 2
}
