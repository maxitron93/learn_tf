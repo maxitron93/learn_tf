{
 "cells": [
  {
   "cell_type": "code",
   "execution_count": 1,
   "metadata": {},
   "outputs": [],
   "source": [
    "# Import the libraries\n",
    "import tensorflow as tf\n",
    "import numpy as np\n",
    "import pandas as pd\n",
    "import matplotlib.pyplot as plt\n",
    "from tensorflow.keras.layers import Input, Dense\n",
    "from tensorflow.keras.models import Model\n",
    "from tensorflow.keras.optimizers import SGD, Adam"
   ]
  },
  {
   "cell_type": "code",
   "execution_count": 2,
   "metadata": {},
   "outputs": [
    {
     "data": {
      "image/png": "[encoded data removed]",
      "text/plain": [
       "<Figure size 432x288 with 1 Axes>"
      ]
     },
     "metadata": {
      "needs_background": "light"
     },
     "output_type": "display_data"
    }
   ],
   "source": [
    "# Create the synthetic dataset\n",
    "series = np.sin(0.1 * np.arange(200))\n",
    "series = series + np.random.randn(200) * 0.1 # add noise\n",
    "\n",
    "# plot ot\n",
    "plt.plot(series)\n",
    "plt.show();"
   ]
  },
  {
   "cell_type": "code",
   "execution_count": 3,
   "metadata": {},
   "outputs": [],
   "source": [
    "# Try to use the last T values to predict the next value\n",
    "T = 10\n",
    "X = []\n",
    "Y = []\n",
    "for t in range(len(series) - T):\n",
    "    x = series[t:t+T] # Get the set of T values\n",
    "    X.append(x) # append those values into the dataset X\n",
    "    y = series[t+T] # get the next value as the target\n",
    "    Y.append(y) # add the target value to Y"
   ]
  },
  {
   "cell_type": "code",
   "execution_count": 4,
   "metadata": {},
   "outputs": [
    {
     "name": "stdout",
     "output_type": "stream",
     "text": [
      "X_arr shape: (190, 10)\n",
      "y_arr shape: (190,)\n"
     ]
    }
   ],
   "source": [
    "# Cast the python lists into numpy arrays\n",
    "X_arr = np.array(X).reshape(-1, T)\n",
    "y_arr = np.array(Y)\n",
    "N = len(X_arr)\n",
    "print('X_arr shape:', X_arr.shape)\n",
    "print('y_arr shape:', y_arr.shape)"
   ]
  },
  {
   "cell_type": "code",
   "execution_count": 5,
   "metadata": {},
   "outputs": [],
   "source": [
    "# Split into train and test sets\n",
    "# Don't use train_test_split\n",
    "# Model needs to make predictions, to train set is the first half, and test set is the second half\n",
    "# Can use points in between the train set for the test set\n",
    "X_train = X_arr[:-N//2]\n",
    "y_train = y_arr[:-N//2]\n",
    "X_test = X_arr[-N//2:]\n",
    "y_test = y_arr[-N//2:]"
   ]
  },
  {
   "cell_type": "code",
   "execution_count": 6,
   "metadata": {},
   "outputs": [],
   "source": [
    "# Define the layers of the model\n",
    "# This is a simple autoregressive linear model\n",
    "i = Input(shape=(T,))\n",
    "x = Dense(1)(i)"
   ]
  },
  {
   "cell_type": "code",
   "execution_count": 7,
   "metadata": {},
   "outputs": [],
   "source": [
    "# Create the model\n",
    "model = Model(i, x)"
   ]
  },
  {
   "cell_type": "code",
   "execution_count": 8,
   "metadata": {},
   "outputs": [],
   "source": [
    "# Define how the model should be trained\n",
    "model.compile(optimizer=Adam(lr=0.1),\n",
    "              loss='mse')"
   ]
  },
  {
   "cell_type": "code",
   "execution_count": 9,
   "metadata": {
    "scrolled": true
   },
   "outputs": [
    {
     "name": "stdout",
     "output_type": "stream",
     "text": [
      "Train on 95 samples, validate on 95 samples\n",
      "Epoch 1/100\n",
      "95/95 [==============================] - 1s 7ms/sample - loss: 0.3853 - val_loss: 0.2673\n",
      "Epoch 2/100\n",
      "95/95 [==============================] - 0s 211us/sample - loss: 0.1722 - val_loss: 0.0656\n",
      "Epoch 3/100\n",
      "95/95 [==============================] - 0s 179us/sample - loss: 0.1270 - val_loss: 0.0685\n",
      "Epoch 4/100\n",
      "95/95 [==============================] - 0s 190us/sample - loss: 0.0673 - val_loss: 0.0655\n",
      "Epoch 5/100\n",
      "95/95 [==============================] - 0s 189us/sample - loss: 0.0874 - val_loss: 0.0486\n",
      "Epoch 6/100\n",
      "95/95 [==============================] - 0s 189us/sample - loss: 0.0517 - val_loss: 0.0555\n",
      "Epoch 7/100\n",
      "95/95 [==============================] - 0s 190us/sample - loss: 0.0690 - val_loss: 0.0433\n",
      "Epoch 8/100\n",
      "95/95 [==============================] - 0s 200us/sample - loss: 0.0506 - val_loss: 0.0399\n",
      "Epoch 9/100\n",
      "95/95 [==============================] - 0s 211us/sample - loss: 0.0499 - val_loss: 0.0264\n",
      "Epoch 10/100\n",
      "95/95 [==============================] - 0s 189us/sample - loss: 0.0381 - val_loss: 0.0305\n",
      "Epoch 11/100\n",
      "95/95 [==============================] - 0s 189us/sample - loss: 0.0390 - val_loss: 0.0242\n",
      "Epoch 12/100\n",
      "95/95 [==============================] - 0s 168us/sample - loss: 0.0343 - val_loss: 0.0263\n",
      "Epoch 13/100\n",
      "95/95 [==============================] - 0s 179us/sample - loss: 0.0330 - val_loss: 0.0243\n",
      "Epoch 14/100\n",
      "95/95 [==============================] - 0s 179us/sample - loss: 0.0337 - val_loss: 0.0235\n",
      "Epoch 15/100\n",
      "95/95 [==============================] - 0s 168us/sample - loss: 0.0299 - val_loss: 0.0242\n",
      "Epoch 16/100\n",
      "95/95 [==============================] - 0s 191us/sample - loss: 0.0307 - val_loss: 0.0225\n",
      "Epoch 17/100\n",
      "95/95 [==============================] - 0s 172us/sample - loss: 0.0290 - val_loss: 0.0221\n",
      "Epoch 18/100\n",
      "95/95 [==============================] - 0s 168us/sample - loss: 0.0293 - val_loss: 0.0211\n",
      "Epoch 19/100\n",
      "95/95 [==============================] - 0s 168us/sample - loss: 0.0274 - val_loss: 0.0198\n",
      "Epoch 20/100\n",
      "95/95 [==============================] - 0s 189us/sample - loss: 0.0263 - val_loss: 0.0202\n",
      "Epoch 21/100\n",
      "95/95 [==============================] - 0s 168us/sample - loss: 0.0260 - val_loss: 0.0194\n",
      "Epoch 22/100\n",
      "95/95 [==============================] - 0s 179us/sample - loss: 0.0246 - val_loss: 0.0195\n",
      "Epoch 23/100\n",
      "95/95 [==============================] - 0s 179us/sample - loss: 0.0242 - val_loss: 0.0190\n",
      "Epoch 24/100\n",
      "95/95 [==============================] - 0s 158us/sample - loss: 0.0239 - val_loss: 0.0189\n",
      "Epoch 25/100\n",
      "95/95 [==============================] - 0s 179us/sample - loss: 0.0229 - val_loss: 0.0185\n",
      "Epoch 26/100\n",
      "95/95 [==============================] - 0s 179us/sample - loss: 0.0233 - val_loss: 0.0181\n",
      "Epoch 27/100\n",
      "95/95 [==============================] - 0s 158us/sample - loss: 0.0227 - val_loss: 0.0182\n",
      "Epoch 28/100\n",
      "95/95 [==============================] - 0s 167us/sample - loss: 0.0221 - val_loss: 0.0183\n",
      "Epoch 29/100\n",
      "95/95 [==============================] - 0s 158us/sample - loss: 0.0224 - val_loss: 0.0177\n",
      "Epoch 30/100\n",
      "95/95 [==============================] - 0s 168us/sample - loss: 0.0222 - val_loss: 0.0181\n",
      "Epoch 31/100\n",
      "95/95 [==============================] - 0s 168us/sample - loss: 0.0202 - val_loss: 0.0189\n",
      "Epoch 32/100\n",
      "95/95 [==============================] - 0s 168us/sample - loss: 0.0223 - val_loss: 0.0173\n",
      "Epoch 33/100\n",
      "95/95 [==============================] - 0s 158us/sample - loss: 0.0204 - val_loss: 0.0173\n",
      "Epoch 34/100\n",
      "95/95 [==============================] - 0s 158us/sample - loss: 0.0191 - val_loss: 0.0191\n",
      "Epoch 35/100\n",
      "95/95 [==============================] - 0s 158us/sample - loss: 0.0198 - val_loss: 0.0173\n",
      "Epoch 36/100\n",
      "95/95 [==============================] - 0s 159us/sample - loss: 0.0194 - val_loss: 0.0170\n",
      "Epoch 37/100\n",
      "95/95 [==============================] - 0s 179us/sample - loss: 0.0186 - val_loss: 0.0173\n",
      "Epoch 38/100\n",
      "95/95 [==============================] - 0s 168us/sample - loss: 0.0184 - val_loss: 0.0171\n",
      "Epoch 39/100\n",
      "95/95 [==============================] - 0s 168us/sample - loss: 0.0183 - val_loss: 0.0174\n",
      "Epoch 40/100\n",
      "95/95 [==============================] - 0s 167us/sample - loss: 0.0180 - val_loss: 0.0172\n",
      "Epoch 41/100\n",
      "95/95 [==============================] - 0s 158us/sample - loss: 0.0182 - val_loss: 0.0169\n",
      "Epoch 42/100\n",
      "95/95 [==============================] - 0s 168us/sample - loss: 0.0178 - val_loss: 0.0171\n",
      "Epoch 43/100\n",
      "95/95 [==============================] - 0s 168us/sample - loss: 0.0186 - val_loss: 0.0179\n",
      "Epoch 44/100\n",
      "95/95 [==============================] - 0s 179us/sample - loss: 0.0188 - val_loss: 0.0173\n",
      "Epoch 45/100\n",
      "95/95 [==============================] - 0s 183us/sample - loss: 0.0178 - val_loss: 0.0176\n",
      "Epoch 46/100\n",
      "95/95 [==============================] - 0s 173us/sample - loss: 0.0180 - val_loss: 0.0175\n",
      "Epoch 47/100\n",
      "95/95 [==============================] - 0s 170us/sample - loss: 0.0171 - val_loss: 0.0189\n",
      "Epoch 48/100\n",
      "95/95 [==============================] - 0s 168us/sample - loss: 0.0174 - val_loss: 0.0178\n",
      "Epoch 49/100\n",
      "95/95 [==============================] - 0s 167us/sample - loss: 0.0170 - val_loss: 0.0178\n",
      "Epoch 50/100\n",
      "95/95 [==============================] - 0s 158us/sample - loss: 0.0171 - val_loss: 0.0189\n",
      "Epoch 51/100\n",
      "95/95 [==============================] - 0s 171us/sample - loss: 0.0171 - val_loss: 0.0178\n",
      "Epoch 52/100\n",
      "95/95 [==============================] - 0s 169us/sample - loss: 0.0176 - val_loss: 0.0182\n",
      "Epoch 53/100\n",
      "95/95 [==============================] - 0s 158us/sample - loss: 0.0163 - val_loss: 0.0179\n",
      "Epoch 54/100\n",
      "95/95 [==============================] - 0s 158us/sample - loss: 0.0166 - val_loss: 0.0183\n",
      "Epoch 55/100\n",
      "95/95 [==============================] - 0s 168us/sample - loss: 0.0170 - val_loss: 0.0182\n",
      "Epoch 56/100\n",
      "95/95 [==============================] - 0s 168us/sample - loss: 0.0202 - val_loss: 0.0181\n",
      "Epoch 57/100\n",
      "95/95 [==============================] - 0s 179us/sample - loss: 0.0179 - val_loss: 0.0214\n",
      "Epoch 58/100\n",
      "95/95 [==============================] - 0s 168us/sample - loss: 0.0243 - val_loss: 0.0193\n",
      "Epoch 59/100\n",
      "95/95 [==============================] - ETA: 0s - loss: 0.019 - 0s 168us/sample - loss: 0.0193 - val_loss: 0.0233\n",
      "Epoch 60/100\n",
      "95/95 [==============================] - 0s 166us/sample - loss: 0.0168 - val_loss: 0.0223\n",
      "Epoch 61/100\n",
      "95/95 [==============================] - 0s 179us/sample - loss: 0.0184 - val_loss: 0.0204\n",
      "Epoch 62/100\n",
      "95/95 [==============================] - 0s 168us/sample - loss: 0.0212 - val_loss: 0.0190\n",
      "Epoch 63/100\n",
      "95/95 [==============================] - 0s 179us/sample - loss: 0.0206 - val_loss: 0.0195\n",
      "Epoch 64/100\n",
      "95/95 [==============================] - 0s 179us/sample - loss: 0.0201 - val_loss: 0.0213\n",
      "Epoch 65/100\n",
      "95/95 [==============================] - 0s 161us/sample - loss: 0.0170 - val_loss: 0.0222\n",
      "Epoch 66/100\n",
      "95/95 [==============================] - 0s 170us/sample - loss: 0.0179 - val_loss: 0.0225\n",
      "Epoch 67/100\n",
      "95/95 [==============================] - 0s 166us/sample - loss: 0.0180 - val_loss: 0.0203\n",
      "Epoch 68/100\n",
      "95/95 [==============================] - 0s 168us/sample - loss: 0.0175 - val_loss: 0.0204\n",
      "Epoch 69/100\n",
      "95/95 [==============================] - 0s 166us/sample - loss: 0.0183 - val_loss: 0.0193\n",
      "Epoch 70/100\n",
      "95/95 [==============================] - 0s 158us/sample - loss: 0.0157 - val_loss: 0.0200\n",
      "Epoch 71/100\n",
      "95/95 [==============================] - 0s 163us/sample - loss: 0.0168 - val_loss: 0.0206\n",
      "Epoch 72/100\n",
      "95/95 [==============================] - 0s 174us/sample - loss: 0.0163 - val_loss: 0.0193\n",
      "Epoch 73/100\n",
      "95/95 [==============================] - 0s 165us/sample - loss: 0.0171 - val_loss: 0.0196\n",
      "Epoch 74/100\n",
      "95/95 [==============================] - 0s 158us/sample - loss: 0.0164 - val_loss: 0.0195\n",
      "Epoch 75/100\n",
      "95/95 [==============================] - 0s 158us/sample - loss: 0.0160 - val_loss: 0.0204\n",
      "Epoch 76/100\n",
      "95/95 [==============================] - 0s 179us/sample - loss: 0.0161 - val_loss: 0.0195\n",
      "Epoch 77/100\n",
      "95/95 [==============================] - 0s 179us/sample - loss: 0.0156 - val_loss: 0.0195\n",
      "Epoch 78/100\n",
      "95/95 [==============================] - 0s 168us/sample - loss: 0.0161 - val_loss: 0.0195\n",
      "Epoch 79/100\n"
     ]
    },
    {
     "name": "stdout",
     "output_type": "stream",
     "text": [
      "95/95 [==============================] - 0s 174us/sample - loss: 0.0155 - val_loss: 0.0197\n",
      "Epoch 80/100\n",
      "95/95 [==============================] - 0s 179us/sample - loss: 0.0156 - val_loss: 0.0201\n",
      "Epoch 81/100\n",
      "95/95 [==============================] - 0s 171us/sample - loss: 0.0159 - val_loss: 0.0199\n",
      "Epoch 82/100\n",
      "95/95 [==============================] - 0s 178us/sample - loss: 0.0161 - val_loss: 0.0197\n",
      "Epoch 83/100\n",
      "95/95 [==============================] - 0s 168us/sample - loss: 0.0160 - val_loss: 0.0199\n",
      "Epoch 84/100\n",
      "95/95 [==============================] - 0s 178us/sample - loss: 0.0158 - val_loss: 0.0204\n",
      "Epoch 85/100\n",
      "95/95 [==============================] - 0s 177us/sample - loss: 0.0159 - val_loss: 0.0206\n",
      "Epoch 86/100\n",
      "95/95 [==============================] - 0s 176us/sample - loss: 0.0161 - val_loss: 0.0199\n",
      "Epoch 87/100\n",
      "95/95 [==============================] - 0s 168us/sample - loss: 0.0155 - val_loss: 0.0202\n",
      "Epoch 88/100\n",
      "95/95 [==============================] - 0s 168us/sample - loss: 0.0159 - val_loss: 0.0201\n",
      "Epoch 89/100\n",
      "95/95 [==============================] - 0s 186us/sample - loss: 0.0160 - val_loss: 0.0207\n",
      "Epoch 90/100\n",
      "95/95 [==============================] - 0s 180us/sample - loss: 0.0158 - val_loss: 0.0200\n",
      "Epoch 91/100\n",
      "95/95 [==============================] - 0s 168us/sample - loss: 0.0165 - val_loss: 0.0203\n",
      "Epoch 92/100\n",
      "95/95 [==============================] - 0s 176us/sample - loss: 0.0168 - val_loss: 0.0202\n",
      "Epoch 93/100\n",
      "95/95 [==============================] - 0s 168us/sample - loss: 0.0154 - val_loss: 0.0204\n",
      "Epoch 94/100\n",
      "95/95 [==============================] - 0s 158us/sample - loss: 0.0157 - val_loss: 0.0210\n",
      "Epoch 95/100\n",
      "95/95 [==============================] - 0s 167us/sample - loss: 0.0160 - val_loss: 0.0204\n",
      "Epoch 96/100\n",
      "95/95 [==============================] - 0s 168us/sample - loss: 0.0156 - val_loss: 0.0208\n",
      "Epoch 97/100\n",
      "95/95 [==============================] - 0s 175us/sample - loss: 0.0160 - val_loss: 0.0202\n",
      "Epoch 98/100\n",
      "95/95 [==============================] - 0s 168us/sample - loss: 0.0163 - val_loss: 0.0203\n",
      "Epoch 99/100\n",
      "95/95 [==============================] - 0s 184us/sample - loss: 0.0159 - val_loss: 0.0205\n",
      "Epoch 100/100\n",
      "95/95 [==============================] - 0s 168us/sample - loss: 0.0186 - val_loss: 0.0204\n"
     ]
    }
   ],
   "source": [
    "# Train the mdoel\n",
    "result = model.fit(x=X_train, y=y_train, # train on the first half of the dataset (don't use train_test_split)\n",
    "                   epochs=100,\n",
    "                   validation_data=(X_test, y_test)) # test on the second half of the dataset "
   ]
  },
  {
   "cell_type": "code",
   "execution_count": 10,
   "metadata": {},
   "outputs": [
    {
     "name": "stdout",
     "output_type": "stream",
     "text": [
      "Train mse: 0.015436326084952606\n",
      "Test mse: 0.020397655371772617\n"
     ]
    }
   ],
   "source": [
    "# Print the results\n",
    "print(\"Train mse:\", model.evaluate(x=X_train, y=y_train, verbose=0));\n",
    "print(\"Test mse:\", model.evaluate(x=X_test, y=y_test, verbose=0));"
   ]
  },
  {
   "cell_type": "code",
   "execution_count": 11,
   "metadata": {},
   "outputs": [
    {
     "data": {
      "image/png": "[encoded data removed]",
      "text/plain": [
       "<Figure size 432x288 with 1 Axes>"
      ]
     },
     "metadata": {
      "needs_background": "light"
     },
     "output_type": "display_data"
    }
   ],
   "source": [
    "# Plot the cost function at each itteration\n",
    "# Note: model.fit() returns an object that contains the history of the training process\n",
    "plt.plot(result.history['loss'], label='train_mse');\n",
    "plt.plot(result.history['val_loss'], label='val_mse');\n",
    "plt.legend();"
   ]
  },
  {
   "cell_type": "code",
   "execution_count": 12,
   "metadata": {},
   "outputs": [
    {
     "name": "stdout",
     "output_type": "stream",
     "text": [
      "Model: \"model\"\n",
      "_________________________________________________________________\n",
      "Layer (type)                 Output Shape              Param #   \n",
      "=================================================================\n",
      "input_1 (InputLayer)         [(None, 10)]              0         \n",
      "_________________________________________________________________\n",
      "dense (Dense)                (None, 1)                 11        \n",
      "=================================================================\n",
      "Total params: 11\n",
      "Trainable params: 11\n",
      "Non-trainable params: 0\n",
      "_________________________________________________________________\n"
     ]
    }
   ],
   "source": [
    "# Have a look at the model\n",
    "model.summary()"
   ]
  },
  {
   "cell_type": "markdown",
   "metadata": {},
   "source": [
    "We can see this is just a simple linear regression (10 dependent variables and 1 target variable)"
   ]
  },
  {
   "cell_type": "markdown",
   "metadata": {},
   "source": [
    "### Wrong way to make forecasts\n",
    "The wrong way is to use only actual values to make predictions. This is incorrect because if we wanted to forecast 10-steps ahead in the real world, we wouldn't have all the data leadning up to the 10th day, like we do in this training situation."
   ]
  },
  {
   "cell_type": "code",
   "execution_count": 13,
   "metadata": {},
   "outputs": [],
   "source": [
    "# create lists\n",
    "validation_target = y_test\n",
    "validation_predictions = []\n",
    "\n",
    "# start index at 0\n",
    "i = 0\n",
    "\n",
    "# make predictions\n",
    "while len(validation_predictions) < len(validation_target):\n",
    "    # Every prediction is made using data that we have (test data). This is the wrong way to make predictions\n",
    "    # For example, the firecast for day 20 uses actual data from days 10-19. We wouldn't have this data in a real-world setting\n",
    "    prediction = model.predict(X_test[i].reshape(1, -1))[0,0] # need to reshape for to get it into the right format\n",
    "    i += 1\n",
    "    \n",
    "    # update the predictions list\n",
    "    validation_predictions.append(prediction)"
   ]
  },
  {
   "cell_type": "code",
   "execution_count": 14,
   "metadata": {},
   "outputs": [
    {
     "data": {
      "image/png": "[encoded data removed]",
      "text/plain": [
       "<Figure size 432x288 with 1 Axes>"
      ]
     },
     "metadata": {
      "needs_background": "light"
     },
     "output_type": "display_data"
    }
   ],
   "source": [
    "# plot predicted vs actual test data\n",
    "plt.plot(validation_target, label='forecast target')\n",
    "plt.plot(validation_predictions, label='forecast prediction')\n",
    "plt.legend();"
   ]
  },
  {
   "cell_type": "markdown",
   "metadata": {},
   "source": [
    "This looks very good, but is measlieading because it uses known data that we wouldn't have a real-world situation. i.e. In the real world, if we want to predict 20 steps ahead, we wouldn't have data from days 1-19. But the method of forecasting above uses actual data from days 10-19 to make predictions for day 20. \n",
    "\n",
    "Also, this doesn't make much sense since it's saying that the prediction for 100-days away is just as accurate as the prediction for tomorrow."
   ]
  },
  {
   "cell_type": "markdown",
   "metadata": {},
   "source": [
    "### Right way to make forecasts\n",
    "The right way is to use predicted data (instead of actual data) for multi-step forecasts."
   ]
  },
  {
   "cell_type": "code",
   "execution_count": 15,
   "metadata": {},
   "outputs": [],
   "source": [
    "# create the lists\n",
    "validation_target = y_test\n",
    "data_for_next_prediction = X_test[0]\n",
    "validation_predictions = []\n",
    "\n",
    "# start index at 0\n",
    "i = 0\n",
    "\n",
    "# make predictions\n",
    "while len(validation_predictions) < len(validation_target):\n",
    "    # Make prediction using available data (including predicted data)\n",
    "    prediction = model.predict(data_for_next_prediction.reshape(1,-1))[0,0] # need to reshape for to get it into the right format\n",
    "    \n",
    "    # Use the last 10 data points for the next prediction\n",
    "    data_for_next_prediction = np.roll(data_for_next_prediction, -1)\n",
    "    data_for_next_prediction[-1] = prediction\n",
    "    \n",
    "    # Add prediction to set of predictions\n",
    "    validation_predictions.append(prediction)"
   ]
  },
  {
   "cell_type": "code",
   "execution_count": 16,
   "metadata": {},
   "outputs": [
    {
     "data": {
      "image/png": "[encoded data removed]",
      "text/plain": [
       "<Figure size 432x288 with 1 Axes>"
      ]
     },
     "metadata": {
      "needs_background": "light"
     },
     "output_type": "display_data"
    }
   ],
   "source": [
    "# plot predicted vs actual test data\n",
    "plt.plot(validation_target, label='forecast target')\n",
    "plt.plot(validation_predictions, label='forecast prediction')\n",
    "plt.legend();"
   ]
  },
  {
   "cell_type": "markdown",
   "metadata": {},
   "source": [
    "This is less accurate, but makes more since since it shows that the prediction for 100-days away is less accurate than the prediction for the next 20 days.\n",
    "\n",
    "It also shows that the model was able to learn the underlying shape of the model used to create the data."
   ]
  },
  {
   "cell_type": "code",
   "execution_count": null,
   "metadata": {},
   "outputs": [],
   "source": []
  },
  {
   "cell_type": "code",
   "execution_count": null,
   "metadata": {},
   "outputs": [],
   "source": []
  },
  {
   "cell_type": "code",
   "execution_count": null,
   "metadata": {},
   "outputs": [],
   "source": []
  },
  {
   "cell_type": "code",
   "execution_count": null,
   "metadata": {},
   "outputs": [],
   "source": []
  },
  {
   "cell_type": "code",
   "execution_count": null,
   "metadata": {},
   "outputs": [],
   "source": []
  }
 ],
 "metadata": {
  "kernelspec": {
   "display_name": "Python 3",
   "language": "python",
   "name": "python3"
  },
  "language_info": {
   "codemirror_mode": {
    "name": "ipython",
    "version": 3
   },
   "file_extension": ".py",
   "mimetype": "text/x-python",
   "name": "python",
   "nbconvert_exporter": "python",
   "pygments_lexer": "ipython3",
   "version": "3.7.4"
  }
 },
 "nbformat": 4,
 "nbformat_minor": 2
}
