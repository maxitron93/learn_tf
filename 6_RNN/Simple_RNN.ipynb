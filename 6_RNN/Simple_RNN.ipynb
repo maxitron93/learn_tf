{
 "cells": [
  {
   "cell_type": "code",
   "execution_count": 1,
   "metadata": {},
   "outputs": [],
   "source": [
    "# Import the libraries\n",
    "import tensorflow as tf\n",
    "import numpy as np\n",
    "import pandas as pd\n",
    "import matplotlib.pyplot as plt\n",
    "from tensorflow.keras.layers import Input, SimpleRNN, Dense\n",
    "from tensorflow.keras.models import Model\n",
    "from tensorflow.keras.optimizers import SGD, Adam"
   ]
  },
  {
   "cell_type": "code",
   "execution_count": 2,
   "metadata": {},
   "outputs": [
    {
     "data": {
      "image/png": "[encoded data removed]",
      "text/plain": [
       "<Figure size 432x288 with 1 Axes>"
      ]
     },
     "metadata": {
      "needs_background": "light"
     },
     "output_type": "display_data"
    }
   ],
   "source": [
    "# Create the synthetic dataset\n",
    "series = np.sin(0.1 * np.arange(200))\n",
    "series = series + np.random.randn(200) * 0.1 # add noise\n",
    "\n",
    "# plot ot\n",
    "plt.plot(series)\n",
    "plt.show();"
   ]
  },
  {
   "cell_type": "code",
   "execution_count": 3,
   "metadata": {},
   "outputs": [],
   "source": [
    "# Try to use the last T values to predict the next value\n",
    "T = 10\n",
    "X = []\n",
    "Y = []\n",
    "for t in range(len(series) - T):\n",
    "    x = series[t:t+T] # Get the set of T values\n",
    "    X.append(x) # append those values into the dataset X\n",
    "    y = series[t+T] # get the next value as the target\n",
    "    Y.append(y) # add the target value to Y"
   ]
  },
  {
   "cell_type": "code",
   "execution_count": 4,
   "metadata": {},
   "outputs": [
    {
     "name": "stdout",
     "output_type": "stream",
     "text": [
      "X_arr shape: (190, 10, 1)\n",
      "y_arr shape: (190,)\n"
     ]
    }
   ],
   "source": [
    "# Make the arrays the correct shape (N x T x D)\n",
    "X_arr = np.array(X).reshape(-1, T, 1) # Now the data should be N x T x D\n",
    "y_arr = np.array(Y)\n",
    "N = len(X_arr)\n",
    "print('X_arr shape:', X_arr.shape)\n",
    "print('y_arr shape:', y_arr.shape)"
   ]
  },
  {
   "cell_type": "code",
   "execution_count": 5,
   "metadata": {},
   "outputs": [],
   "source": [
    "# Split into train and test sets\n",
    "# Don't use train_test_split\n",
    "# Model needs to make predictions, to train set is the first half, and test set is the second half\n",
    "# Can use points in between the train set for the test set\n",
    "X_train = X_arr[:-N//2]\n",
    "y_train = y_arr[:-N//2]\n",
    "X_test = X_arr[-N//2:]\n",
    "y_test = y_arr[-N//2:]"
   ]
  },
  {
   "cell_type": "code",
   "execution_count": 6,
   "metadata": {},
   "outputs": [],
   "source": [
    "# Define the layers of the model\n",
    "i = Input(shape=(T, 1))\n",
    "x = SimpleRNN(5, activation='tanh')(i) # Defailt activation is activation='tanh'\n",
    "x = Dense(1)(x)"
   ]
  },
  {
   "cell_type": "code",
   "execution_count": 7,
   "metadata": {},
   "outputs": [],
   "source": [
    "# Build the model\n",
    "model = Model(i, x)"
   ]
  },
  {
   "cell_type": "code",
   "execution_count": 8,
   "metadata": {},
   "outputs": [],
   "source": [
    "# Define how the model should be trained\n",
    "model.compile(optimizer=Adam(lr=0.1),\n",
    "              loss='mse')"
   ]
  },
  {
   "cell_type": "code",
   "execution_count": 9,
   "metadata": {
    "scrolled": true
   },
   "outputs": [
    {
     "name": "stdout",
     "output_type": "stream",
     "text": [
      "Train on 95 samples, validate on 95 samples\n",
      "Epoch 1/100\n",
      "95/95 [==============================] - 1s 11ms/sample - loss: 0.2374 - val_loss: 0.0814\n",
      "Epoch 2/100\n",
      "95/95 [==============================] - 0s 337us/sample - loss: 0.0578 - val_loss: 0.0373\n",
      "Epoch 3/100\n",
      "95/95 [==============================] - 0s 358us/sample - loss: 0.0441 - val_loss: 0.0581\n",
      "Epoch 4/100\n",
      "95/95 [==============================] - 0s 358us/sample - loss: 0.0421 - val_loss: 0.0351\n",
      "Epoch 5/100\n",
      "95/95 [==============================] - 0s 369us/sample - loss: 0.0376 - val_loss: 0.0349\n",
      "Epoch 6/100\n",
      "95/95 [==============================] - 0s 358us/sample - loss: 0.0319 - val_loss: 0.0329\n",
      "Epoch 7/100\n",
      "95/95 [==============================] - 0s 368us/sample - loss: 0.0276 - val_loss: 0.0306\n",
      "Epoch 8/100\n",
      "95/95 [==============================] - 0s 337us/sample - loss: 0.0241 - val_loss: 0.0257\n",
      "Epoch 9/100\n",
      "95/95 [==============================] - 0s 337us/sample - loss: 0.0261 - val_loss: 0.0257\n",
      "Epoch 10/100\n",
      "95/95 [==============================] - 0s 347us/sample - loss: 0.0240 - val_loss: 0.0260\n",
      "Epoch 11/100\n",
      "95/95 [==============================] - 0s 337us/sample - loss: 0.0217 - val_loss: 0.0301\n",
      "Epoch 12/100\n",
      "95/95 [==============================] - 0s 316us/sample - loss: 0.0243 - val_loss: 0.0253\n",
      "Epoch 13/100\n",
      "95/95 [==============================] - 0s 316us/sample - loss: 0.0221 - val_loss: 0.0237\n",
      "Epoch 14/100\n",
      "95/95 [==============================] - 0s 316us/sample - loss: 0.0218 - val_loss: 0.0250\n",
      "Epoch 15/100\n",
      "95/95 [==============================] - 0s 324us/sample - loss: 0.0219 - val_loss: 0.0267\n",
      "Epoch 16/100\n",
      "95/95 [==============================] - 0s 315us/sample - loss: 0.0231 - val_loss: 0.0241\n",
      "Epoch 17/100\n",
      "95/95 [==============================] - 0s 316us/sample - loss: 0.0213 - val_loss: 0.0242\n",
      "Epoch 18/100\n",
      "95/95 [==============================] - 0s 326us/sample - loss: 0.0207 - val_loss: 0.0247\n",
      "Epoch 19/100\n",
      "95/95 [==============================] - 0s 305us/sample - loss: 0.0207 - val_loss: 0.0262\n",
      "Epoch 20/100\n",
      "95/95 [==============================] - 0s 305us/sample - loss: 0.0207 - val_loss: 0.0233\n",
      "Epoch 21/100\n",
      "95/95 [==============================] - 0s 337us/sample - loss: 0.0197 - val_loss: 0.0230\n",
      "Epoch 22/100\n",
      "95/95 [==============================] - 0s 326us/sample - loss: 0.0186 - val_loss: 0.0233\n",
      "Epoch 23/100\n",
      "95/95 [==============================] - 0s 315us/sample - loss: 0.0194 - val_loss: 0.0219\n",
      "Epoch 24/100\n",
      "95/95 [==============================] - 0s 316us/sample - loss: 0.0187 - val_loss: 0.0217\n",
      "Epoch 25/100\n",
      "95/95 [==============================] - 0s 299us/sample - loss: 0.0183 - val_loss: 0.0225\n",
      "Epoch 26/100\n",
      "95/95 [==============================] - 0s 316us/sample - loss: 0.0184 - val_loss: 0.0207\n",
      "Epoch 27/100\n",
      "95/95 [==============================] - 0s 309us/sample - loss: 0.0182 - val_loss: 0.0225\n",
      "Epoch 28/100\n",
      "95/95 [==============================] - 0s 315us/sample - loss: 0.0188 - val_loss: 0.0196\n",
      "Epoch 29/100\n",
      "95/95 [==============================] - 0s 316us/sample - loss: 0.0145 - val_loss: 0.0233\n",
      "Epoch 30/100\n",
      "95/95 [==============================] - 0s 326us/sample - loss: 0.0175 - val_loss: 0.0277\n",
      "Epoch 31/100\n",
      "95/95 [==============================] - 0s 325us/sample - loss: 0.0211 - val_loss: 0.0259\n",
      "Epoch 32/100\n",
      "95/95 [==============================] - 0s 314us/sample - loss: 0.0245 - val_loss: 0.0230\n",
      "Epoch 33/100\n",
      "95/95 [==============================] - 0s 305us/sample - loss: 0.0290 - val_loss: 0.0217\n",
      "Epoch 34/100\n",
      "95/95 [==============================] - 0s 316us/sample - loss: 0.0263 - val_loss: 0.0250\n",
      "Epoch 35/100\n",
      "95/95 [==============================] - 0s 313us/sample - loss: 0.0182 - val_loss: 0.0294\n",
      "Epoch 36/100\n",
      "95/95 [==============================] - 0s 327us/sample - loss: 0.0202 - val_loss: 0.0268\n",
      "Epoch 37/100\n",
      "95/95 [==============================] - 0s 316us/sample - loss: 0.0231 - val_loss: 0.0233\n",
      "Epoch 38/100\n",
      "95/95 [==============================] - 0s 313us/sample - loss: 0.0215 - val_loss: 0.0279\n",
      "Epoch 39/100\n",
      "95/95 [==============================] - 0s 317us/sample - loss: 0.0228 - val_loss: 0.0240\n",
      "Epoch 40/100\n",
      "95/95 [==============================] - 0s 316us/sample - loss: 0.0200 - val_loss: 0.0247\n",
      "Epoch 41/100\n",
      "95/95 [==============================] - 0s 316us/sample - loss: 0.0225 - val_loss: 0.0257\n",
      "Epoch 42/100\n",
      "95/95 [==============================] - 0s 326us/sample - loss: 0.0212 - val_loss: 0.0269\n",
      "Epoch 43/100\n",
      "95/95 [==============================] - 0s 319us/sample - loss: 0.0222 - val_loss: 0.0273\n",
      "Epoch 44/100\n",
      "95/95 [==============================] - 0s 310us/sample - loss: 0.0206 - val_loss: 0.0252\n",
      "Epoch 45/100\n",
      "95/95 [==============================] - 0s 311us/sample - loss: 0.0216 - val_loss: 0.0243\n",
      "Epoch 46/100\n",
      "95/95 [==============================] - 0s 316us/sample - loss: 0.0192 - val_loss: 0.0248\n",
      "Epoch 47/100\n",
      "95/95 [==============================] - 0s 316us/sample - loss: 0.0189 - val_loss: 0.0240\n",
      "Epoch 48/100\n",
      "95/95 [==============================] - 0s 315us/sample - loss: 0.0175 - val_loss: 0.0213\n",
      "Epoch 49/100\n",
      "95/95 [==============================] - 0s 326us/sample - loss: 0.0158 - val_loss: 0.0213\n",
      "Epoch 50/100\n",
      "95/95 [==============================] - 0s 326us/sample - loss: 0.0165 - val_loss: 0.0245\n",
      "Epoch 51/100\n",
      "95/95 [==============================] - 0s 320us/sample - loss: 0.0152 - val_loss: 0.0214\n",
      "Epoch 52/100\n",
      "95/95 [==============================] - 0s 305us/sample - loss: 0.0161 - val_loss: 0.0216\n",
      "Epoch 53/100\n",
      "95/95 [==============================] - 0s 315us/sample - loss: 0.0151 - val_loss: 0.0211\n",
      "Epoch 54/100\n",
      "95/95 [==============================] - 0s 316us/sample - loss: 0.0134 - val_loss: 0.0247\n",
      "Epoch 55/100\n",
      "95/95 [==============================] - 0s 326us/sample - loss: 0.0146 - val_loss: 0.0240\n",
      "Epoch 56/100\n",
      "95/95 [==============================] - 0s 316us/sample - loss: 0.0159 - val_loss: 0.0208\n",
      "Epoch 57/100\n",
      "95/95 [==============================] - 0s 337us/sample - loss: 0.0144 - val_loss: 0.0213\n",
      "Epoch 58/100\n",
      "95/95 [==============================] - 0s 316us/sample - loss: 0.0160 - val_loss: 0.0213\n",
      "Epoch 59/100\n",
      "95/95 [==============================] - 0s 326us/sample - loss: 0.0183 - val_loss: 0.0238\n",
      "Epoch 60/100\n",
      "95/95 [==============================] - 0s 316us/sample - loss: 0.0194 - val_loss: 0.0219\n",
      "Epoch 61/100\n",
      "95/95 [==============================] - 0s 309us/sample - loss: 0.0157 - val_loss: 0.0215\n",
      "Epoch 62/100\n",
      "95/95 [==============================] - 0s 326us/sample - loss: 0.0141 - val_loss: 0.0236\n",
      "Epoch 63/100\n",
      "95/95 [==============================] - 0s 324us/sample - loss: 0.0145 - val_loss: 0.0204\n",
      "Epoch 64/100\n",
      "95/95 [==============================] - 0s 326us/sample - loss: 0.0121 - val_loss: 0.0207\n",
      "Epoch 65/100\n",
      "95/95 [==============================] - 0s 347us/sample - loss: 0.0147 - val_loss: 0.0203\n",
      "Epoch 66/100\n",
      "95/95 [==============================] - 0s 318us/sample - loss: 0.0129 - val_loss: 0.0225\n",
      "Epoch 67/100\n",
      "95/95 [==============================] - 0s 358us/sample - loss: 0.0131 - val_loss: 0.0203\n",
      "Epoch 68/100\n",
      "95/95 [==============================] - 0s 326us/sample - loss: 0.0127 - val_loss: 0.0217\n",
      "Epoch 69/100\n",
      "95/95 [==============================] - 0s 316us/sample - loss: 0.0142 - val_loss: 0.0198\n",
      "Epoch 70/100\n",
      "95/95 [==============================] - 0s 324us/sample - loss: 0.0127 - val_loss: 0.0200\n",
      "Epoch 71/100\n",
      "95/95 [==============================] - 0s 320us/sample - loss: 0.0133 - val_loss: 0.0213\n",
      "Epoch 72/100\n",
      "95/95 [==============================] - 0s 326us/sample - loss: 0.0130 - val_loss: 0.0202\n",
      "Epoch 73/100\n",
      "95/95 [==============================] - 0s 321us/sample - loss: 0.0134 - val_loss: 0.0201\n",
      "Epoch 74/100\n",
      "95/95 [==============================] - 0s 324us/sample - loss: 0.0117 - val_loss: 0.0217\n",
      "Epoch 75/100\n",
      "95/95 [==============================] - 0s 337us/sample - loss: 0.0140 - val_loss: 0.0194\n",
      "Epoch 76/100\n",
      "95/95 [==============================] - 0s 340us/sample - loss: 0.0137 - val_loss: 0.0208\n",
      "Epoch 77/100\n",
      "95/95 [==============================] - 0s 326us/sample - loss: 0.0141 - val_loss: 0.0207\n",
      "Epoch 78/100\n",
      "95/95 [==============================] - 0s 316us/sample - loss: 0.0125 - val_loss: 0.0192\n",
      "Epoch 79/100\n"
     ]
    },
    {
     "name": "stdout",
     "output_type": "stream",
     "text": [
      "95/95 [==============================] - 0s 315us/sample - loss: 0.0126 - val_loss: 0.0239\n",
      "Epoch 80/100\n",
      "95/95 [==============================] - 0s 312us/sample - loss: 0.0145 - val_loss: 0.0214\n",
      "Epoch 81/100\n",
      "95/95 [==============================] - 0s 334us/sample - loss: 0.0135 - val_loss: 0.0213\n",
      "Epoch 82/100\n",
      "95/95 [==============================] - 0s 331us/sample - loss: 0.0133 - val_loss: 0.0207\n",
      "Epoch 83/100\n",
      "95/95 [==============================] - 0s 321us/sample - loss: 0.0116 - val_loss: 0.0221\n",
      "Epoch 84/100\n",
      "95/95 [==============================] - 0s 322us/sample - loss: 0.0145 - val_loss: 0.0218\n",
      "Epoch 85/100\n",
      "95/95 [==============================] - 0s 329us/sample - loss: 0.0133 - val_loss: 0.0225\n",
      "Epoch 86/100\n",
      "95/95 [==============================] - 0s 324us/sample - loss: 0.0157 - val_loss: 0.0250\n",
      "Epoch 87/100\n",
      "95/95 [==============================] - 0s 320us/sample - loss: 0.0140 - val_loss: 0.0219\n",
      "Epoch 88/100\n",
      "95/95 [==============================] - 0s 337us/sample - loss: 0.0141 - val_loss: 0.0225\n",
      "Epoch 89/100\n",
      "95/95 [==============================] - 0s 319us/sample - loss: 0.0117 - val_loss: 0.0232\n",
      "Epoch 90/100\n",
      "95/95 [==============================] - 0s 330us/sample - loss: 0.0141 - val_loss: 0.0212\n",
      "Epoch 91/100\n",
      "95/95 [==============================] - 0s 305us/sample - loss: 0.0132 - val_loss: 0.0226\n",
      "Epoch 92/100\n",
      "95/95 [==============================] - 0s 316us/sample - loss: 0.0130 - val_loss: 0.0210\n",
      "Epoch 93/100\n",
      "95/95 [==============================] - 0s 326us/sample - loss: 0.0134 - val_loss: 0.0202\n",
      "Epoch 94/100\n",
      "95/95 [==============================] - 0s 330us/sample - loss: 0.0125 - val_loss: 0.0201\n",
      "Epoch 95/100\n",
      "95/95 [==============================] - 0s 337us/sample - loss: 0.0128 - val_loss: 0.0194\n",
      "Epoch 96/100\n",
      "95/95 [==============================] - 0s 316us/sample - loss: 0.0137 - val_loss: 0.0206\n",
      "Epoch 97/100\n",
      "95/95 [==============================] - 0s 400us/sample - loss: 0.0141 - val_loss: 0.0211\n",
      "Epoch 98/100\n",
      "95/95 [==============================] - 0s 379us/sample - loss: 0.0124 - val_loss: 0.0194\n",
      "Epoch 99/100\n",
      "95/95 [==============================] - 0s 368us/sample - loss: 0.0115 - val_loss: 0.0189\n",
      "Epoch 100/100\n",
      "95/95 [==============================] - 0s 378us/sample - loss: 0.0120 - val_loss: 0.0198\n"
     ]
    }
   ],
   "source": [
    "# Train the model\n",
    "# Train the mdoel\n",
    "result = model.fit(x=X_train, y=y_train, # train on the first half of the dataset (don't use train_test_split)\n",
    "                   epochs=100,\n",
    "                   validation_data=(X_test, y_test)) # test on the second half of the dataset "
   ]
  },
  {
   "cell_type": "code",
   "execution_count": 10,
   "metadata": {},
   "outputs": [
    {
     "name": "stdout",
     "output_type": "stream",
     "text": [
      "Train mse: 0.01043511060507674\n",
      "Test mse: 0.019824128186232165\n"
     ]
    }
   ],
   "source": [
    "# Print the results\n",
    "print(\"Train mse:\", model.evaluate(x=X_train, y=y_train, verbose=0));\n",
    "print(\"Test mse:\", model.evaluate(x=X_test, y=y_test, verbose=0));"
   ]
  },
  {
   "cell_type": "code",
   "execution_count": 11,
   "metadata": {},
   "outputs": [
    {
     "data": {
      "image/png": "[encoded data removed]",
      "text/plain": [
       "<Figure size 432x288 with 1 Axes>"
      ]
     },
     "metadata": {
      "needs_background": "light"
     },
     "output_type": "display_data"
    }
   ],
   "source": [
    "# Plot the cost function at each itteration\n",
    "# Note: model.fit() returns an object that contains the history of the training process\n",
    "plt.plot(result.history['loss'], label='train_mse');\n",
    "plt.plot(result.history['val_loss'], label='val_mse');\n",
    "plt.legend();"
   ]
  },
  {
   "cell_type": "markdown",
   "metadata": {},
   "source": [
    "### Make forecasts (using the right way)\n",
    "The right way is to use predicted data (instead of actual data) for multi-step forecasts."
   ]
  },
  {
   "cell_type": "code",
   "execution_count": 13,
   "metadata": {},
   "outputs": [],
   "source": [
    "# create the lists\n",
    "validation_target = y_test\n",
    "data_for_next_prediction = X_test[0]\n",
    "validation_predictions = []\n",
    "\n",
    "# start index at 0\n",
    "i = 0\n",
    "\n",
    "# make predictions\n",
    "while len(validation_predictions) < len(validation_target):\n",
    "    # Make prediction using available data (including predicted data)\n",
    "    prediction = model.predict(data_for_next_prediction.reshape(1,-1, 1))[0,0] # need to reshape for to get it into the right format\n",
    "    \n",
    "    # Use the last 10 data points for the next prediction\n",
    "    data_for_next_prediction = np.roll(data_for_next_prediction, -1)\n",
    "    data_for_next_prediction[-1] = prediction\n",
    "    \n",
    "    # Add prediction to set of predictions\n",
    "    validation_predictions.append(prediction)"
   ]
  },
  {
   "cell_type": "code",
   "execution_count": 14,
   "metadata": {},
   "outputs": [
    {
     "data": {
      "image/png": "[encoded data removed]",
      "text/plain": [
       "<Figure size 432x288 with 1 Axes>"
      ]
     },
     "metadata": {
      "needs_background": "light"
     },
     "output_type": "display_data"
    }
   ],
   "source": [
    "# plot predicted vs actual test data\n",
    "plt.plot(validation_target, label='forecast target')\n",
    "plt.plot(validation_predictions, label='forecast prediction')\n",
    "plt.legend();"
   ]
  },
  {
   "cell_type": "markdown",
   "metadata": {},
   "source": [
    "Doesn't perform as well as the Autoregressive linear model because this RNN is too flexible. It can be shown that a linear model can perfectly model a sign wave, so an autoregressive model actually works really well for that - especially of there is no noise. \n",
    "\n",
    "Using activation='relu' would make it even worse. It would result in a model where the prediction is just a copy of the previous value."
   ]
  },
  {
   "cell_type": "code",
   "execution_count": null,
   "metadata": {},
   "outputs": [],
   "source": []
  }
 ],
 "metadata": {
  "kernelspec": {
   "display_name": "Python 3",
   "language": "python",
   "name": "python3"
  },
  "language_info": {
   "codemirror_mode": {
    "name": "ipython",
    "version": 3
   },
   "file_extension": ".py",
   "mimetype": "text/x-python",
   "name": "python",
   "nbconvert_exporter": "python",
   "pygments_lexer": "ipython3",
   "version": "3.7.4"
  }
 },
 "nbformat": 4,
 "nbformat_minor": 2
}
