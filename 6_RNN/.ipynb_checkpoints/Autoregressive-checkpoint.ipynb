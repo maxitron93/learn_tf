{
 "cells": [
  {
   "cell_type": "code",
   "execution_count": 1,
   "metadata": {},
   "outputs": [],
   "source": [
    "# Import the libraries\n",
    "import tensorflow as tf\n",
    "import numpy as np\n",
    "import pandas as pd\n",
    "import matplotlib.pyplot as plt\n",
    "from tensorflow.keras.layers import Input, Dense\n",
    "from tensorflow.keras.models import Model\n",
    "from tensorflow.keras.optimizers import SGD, Adam"
   ]
  },
  {
   "cell_type": "code",
   "execution_count": 2,
   "metadata": {},
   "outputs": [
    {
     "data": {
      "image/png": "[encoded data removed]",
      "text/plain": [
       "<Figure size 432x288 with 1 Axes>"
      ]
     },
     "metadata": {
      "needs_background": "light"
     },
     "output_type": "display_data"
    }
   ],
   "source": [
    "# Create the synthetic dataset\n",
    "series = np.sin(0.1 * np.arange(200))\n",
    "series = series + np.random.randn(200) * 0.1 # add noise\n",
    "\n",
    "# plot ot\n",
    "plt.plot(series)\n",
    "plt.show();"
   ]
  },
  {
   "cell_type": "code",
   "execution_count": 3,
   "metadata": {},
   "outputs": [],
   "source": [
    "# Try to use the last T values to predict the next value\n",
    "T = 10\n",
    "X = []\n",
    "Y = []\n",
    "for t in range(len(series) - T):\n",
    "    x = series[t:t+T] # Get the set of T values\n",
    "    X.append(x) # append those values into the dataset X\n",
    "    y = series[t+T] # get the next value as the target\n",
    "    Y.append(y) # add the target value to Y"
   ]
  },
  {
   "cell_type": "code",
   "execution_count": 4,
   "metadata": {},
   "outputs": [
    {
     "name": "stdout",
     "output_type": "stream",
     "text": [
      "X_arr shape: (190, 10)\n",
      "y_arr shape: (190,)\n"
     ]
    }
   ],
   "source": [
    "# Cast the python lists into numpy arrays\n",
    "X_arr = np.array(X).reshape(-1, T)\n",
    "y_arr = np.array(Y)\n",
    "N = len(X_arr)\n",
    "print('X_arr shape:', X_arr.shape)\n",
    "print('y_arr shape:', y_arr.shape)"
   ]
  },
  {
   "cell_type": "code",
   "execution_count": 5,
   "metadata": {},
   "outputs": [],
   "source": [
    "# Split into train and test sets\n",
    "# Don't use train_test_split\n",
    "# Model needs to make predictions, to train set is the first half, and test set is the second half\n",
    "# Can use points in between the train set for the test set\n",
    "X_train = X_arr[:-N//2]\n",
    "y_train = y_arr[:-N//2]\n",
    "X_test = X_arr[-N//2:]\n",
    "y_test = y_arr[-N//2:]"
   ]
  },
  {
   "cell_type": "code",
   "execution_count": 6,
   "metadata": {},
   "outputs": [],
   "source": [
    "# Define the layers of the model\n",
    "i = Input(shape=(T,))\n",
    "x = Dense(1)(i)"
   ]
  },
  {
   "cell_type": "code",
   "execution_count": 7,
   "metadata": {},
   "outputs": [],
   "source": [
    "# Create the model\n",
    "model = Model(i, x)"
   ]
  },
  {
   "cell_type": "code",
   "execution_count": 8,
   "metadata": {},
   "outputs": [],
   "source": [
    "# Define how the model should be trained\n",
    "model.compile(optimizer=Adam(lr=0.1),\n",
    "              loss='mse')"
   ]
  },
  {
   "cell_type": "code",
   "execution_count": 9,
   "metadata": {
    "scrolled": true
   },
   "outputs": [
    {
     "name": "stdout",
     "output_type": "stream",
     "text": [
      "Train on 95 samples, validate on 95 samples\n",
      "Epoch 1/100\n",
      "95/95 [==============================] - 1s 6ms/sample - loss: 0.4319 - val_loss: 0.3706\n",
      "Epoch 2/100\n",
      "95/95 [==============================] - 0s 200us/sample - loss: 0.4487 - val_loss: 0.0997\n",
      "Epoch 3/100\n",
      "95/95 [==============================] - 0s 200us/sample - loss: 0.0758 - val_loss: 0.1737\n",
      "Epoch 4/100\n",
      "95/95 [==============================] - 0s 205us/sample - loss: 0.2533 - val_loss: 0.1060\n",
      "Epoch 5/100\n",
      "95/95 [==============================] - 0s 211us/sample - loss: 0.0697 - val_loss: 0.0592\n",
      "Epoch 6/100\n",
      "95/95 [==============================] - 0s 211us/sample - loss: 0.0987 - val_loss: 0.1224\n",
      "Epoch 7/100\n",
      "95/95 [==============================] - 0s 200us/sample - loss: 0.0899 - val_loss: 0.0229\n",
      "Epoch 8/100\n",
      "95/95 [==============================] - 0s 200us/sample - loss: 0.0461 - val_loss: 0.0824\n",
      "Epoch 9/100\n",
      "95/95 [==============================] - 0s 211us/sample - loss: 0.0747 - val_loss: 0.0358\n",
      "Epoch 10/100\n",
      "95/95 [==============================] - 0s 221us/sample - loss: 0.0256 - val_loss: 0.0387\n",
      "Epoch 11/100\n",
      "95/95 [==============================] - 0s 211us/sample - loss: 0.0517 - val_loss: 0.0389\n",
      "Epoch 12/100\n",
      "95/95 [==============================] - 0s 179us/sample - loss: 0.0315 - val_loss: 0.0246\n",
      "Epoch 13/100\n",
      "95/95 [==============================] - 0s 189us/sample - loss: 0.0317 - val_loss: 0.0313\n",
      "Epoch 14/100\n",
      "95/95 [==============================] - 0s 200us/sample - loss: 0.0299 - val_loss: 0.0211\n",
      "Epoch 15/100\n",
      "95/95 [==============================] - 0s 189us/sample - loss: 0.0268 - val_loss: 0.0273\n",
      "Epoch 16/100\n",
      "95/95 [==============================] - 0s 179us/sample - loss: 0.0247 - val_loss: 0.0202\n",
      "Epoch 17/100\n",
      "95/95 [==============================] - 0s 158us/sample - loss: 0.0222 - val_loss: 0.0241\n",
      "Epoch 18/100\n",
      "95/95 [==============================] - 0s 168us/sample - loss: 0.0234 - val_loss: 0.0197\n",
      "Epoch 19/100\n",
      "95/95 [==============================] - 0s 168us/sample - loss: 0.0210 - val_loss: 0.0212\n",
      "Epoch 20/100\n",
      "95/95 [==============================] - 0s 179us/sample - loss: 0.0214 - val_loss: 0.0193\n",
      "Epoch 21/100\n",
      "95/95 [==============================] - 0s 179us/sample - loss: 0.0197 - val_loss: 0.0196\n",
      "Epoch 22/100\n",
      "95/95 [==============================] - 0s 179us/sample - loss: 0.0204 - val_loss: 0.0189\n",
      "Epoch 23/100\n",
      "95/95 [==============================] - 0s 179us/sample - loss: 0.0202 - val_loss: 0.0196\n",
      "Epoch 24/100\n",
      "95/95 [==============================] - 0s 179us/sample - loss: 0.0196 - val_loss: 0.0186\n",
      "Epoch 25/100\n",
      "95/95 [==============================] - 0s 168us/sample - loss: 0.0195 - val_loss: 0.0187\n",
      "Epoch 26/100\n",
      "95/95 [==============================] - 0s 158us/sample - loss: 0.0193 - val_loss: 0.0183\n",
      "Epoch 27/100\n",
      "95/95 [==============================] - 0s 158us/sample - loss: 0.0189 - val_loss: 0.0180\n",
      "Epoch 28/100\n",
      "95/95 [==============================] - 0s 168us/sample - loss: 0.0184 - val_loss: 0.0179\n",
      "Epoch 29/100\n",
      "95/95 [==============================] - 0s 158us/sample - loss: 0.0192 - val_loss: 0.0177\n",
      "Epoch 30/100\n",
      "95/95 [==============================] - 0s 179us/sample - loss: 0.0178 - val_loss: 0.0179\n",
      "Epoch 31/100\n",
      "95/95 [==============================] - 0s 179us/sample - loss: 0.0182 - val_loss: 0.0173\n",
      "Epoch 32/100\n",
      "95/95 [==============================] - 0s 179us/sample - loss: 0.0178 - val_loss: 0.0176\n",
      "Epoch 33/100\n",
      "95/95 [==============================] - 0s 168us/sample - loss: 0.0177 - val_loss: 0.0172\n",
      "Epoch 34/100\n",
      "95/95 [==============================] - 0s 158us/sample - loss: 0.0172 - val_loss: 0.0169\n",
      "Epoch 35/100\n",
      "95/95 [==============================] - 0s 179us/sample - loss: 0.0167 - val_loss: 0.0167\n",
      "Epoch 36/100\n",
      "95/95 [==============================] - 0s 179us/sample - loss: 0.0176 - val_loss: 0.0167\n",
      "Epoch 37/100\n",
      "95/95 [==============================] - 0s 168us/sample - loss: 0.0162 - val_loss: 0.0168\n",
      "Epoch 38/100\n",
      "95/95 [==============================] - 0s 168us/sample - loss: 0.0169 - val_loss: 0.0162\n",
      "Epoch 39/100\n",
      "95/95 [==============================] - 0s 179us/sample - loss: 0.0164 - val_loss: 0.0161\n",
      "Epoch 40/100\n",
      "95/95 [==============================] - 0s 169us/sample - loss: 0.0160 - val_loss: 0.0161\n",
      "Epoch 41/100\n",
      "95/95 [==============================] - 0s 158us/sample - loss: 0.0158 - val_loss: 0.0158\n",
      "Epoch 42/100\n",
      "95/95 [==============================] - 0s 158us/sample - loss: 0.0157 - val_loss: 0.0156\n",
      "Epoch 43/100\n",
      "95/95 [==============================] - 0s 157us/sample - loss: 0.0159 - val_loss: 0.0156\n",
      "Epoch 44/100\n",
      "95/95 [==============================] - 0s 159us/sample - loss: 0.0154 - val_loss: 0.0159\n",
      "Epoch 45/100\n",
      "95/95 [==============================] - 0s 158us/sample - loss: 0.0157 - val_loss: 0.0153\n",
      "Epoch 46/100\n",
      "95/95 [==============================] - 0s 171us/sample - loss: 0.0150 - val_loss: 0.0152\n",
      "Epoch 47/100\n",
      "95/95 [==============================] - 0s 158us/sample - loss: 0.0149 - val_loss: 0.0151\n",
      "Epoch 48/100\n",
      "95/95 [==============================] - 0s 158us/sample - loss: 0.0148 - val_loss: 0.0150\n",
      "Epoch 49/100\n",
      "95/95 [==============================] - 0s 168us/sample - loss: 0.0148 - val_loss: 0.0149\n",
      "Epoch 50/100\n",
      "95/95 [==============================] - 0s 168us/sample - loss: 0.0145 - val_loss: 0.0149\n",
      "Epoch 51/100\n",
      "95/95 [==============================] - 0s 168us/sample - loss: 0.0148 - val_loss: 0.0148\n",
      "Epoch 52/100\n",
      "95/95 [==============================] - 0s 168us/sample - loss: 0.0146 - val_loss: 0.0151\n",
      "Epoch 53/100\n",
      "95/95 [==============================] - 0s 158us/sample - loss: 0.0143 - val_loss: 0.0146\n",
      "Epoch 54/100\n",
      "95/95 [==============================] - 0s 158us/sample - loss: 0.0150 - val_loss: 0.0148\n",
      "Epoch 55/100\n",
      "95/95 [==============================] - 0s 168us/sample - loss: 0.0142 - val_loss: 0.0150\n",
      "Epoch 56/100\n",
      "95/95 [==============================] - 0s 168us/sample - loss: 0.0141 - val_loss: 0.0144\n",
      "Epoch 57/100\n",
      "95/95 [==============================] - 0s 158us/sample - loss: 0.0143 - val_loss: 0.0146\n",
      "Epoch 58/100\n",
      "95/95 [==============================] - 0s 168us/sample - loss: 0.0139 - val_loss: 0.0145\n",
      "Epoch 59/100\n",
      "95/95 [==============================] - 0s 168us/sample - loss: 0.0139 - val_loss: 0.0142\n",
      "Epoch 60/100\n",
      "95/95 [==============================] - 0s 168us/sample - loss: 0.0140 - val_loss: 0.0148\n",
      "Epoch 61/100\n",
      "95/95 [==============================] - 0s 168us/sample - loss: 0.0137 - val_loss: 0.0145\n",
      "Epoch 62/100\n",
      "95/95 [==============================] - 0s 168us/sample - loss: 0.0142 - val_loss: 0.0141\n",
      "Epoch 63/100\n",
      "95/95 [==============================] - 0s 158us/sample - loss: 0.0133 - val_loss: 0.0144\n",
      "Epoch 64/100\n",
      "95/95 [==============================] - 0s 168us/sample - loss: 0.0137 - val_loss: 0.0140\n",
      "Epoch 65/100\n",
      "95/95 [==============================] - 0s 179us/sample - loss: 0.0134 - val_loss: 0.0142\n",
      "Epoch 66/100\n",
      "95/95 [==============================] - 0s 158us/sample - loss: 0.0135 - val_loss: 0.0138\n",
      "Epoch 67/100\n",
      "95/95 [==============================] - 0s 168us/sample - loss: 0.0132 - val_loss: 0.0140\n",
      "Epoch 68/100\n",
      "95/95 [==============================] - 0s 168us/sample - loss: 0.0128 - val_loss: 0.0141\n",
      "Epoch 69/100\n",
      "95/95 [==============================] - 0s 158us/sample - loss: 0.0130 - val_loss: 0.0138\n",
      "Epoch 70/100\n",
      "95/95 [==============================] - 0s 168us/sample - loss: 0.0131 - val_loss: 0.0137\n",
      "Epoch 71/100\n",
      "95/95 [==============================] - 0s 179us/sample - loss: 0.0132 - val_loss: 0.0139\n",
      "Epoch 72/100\n",
      "95/95 [==============================] - 0s 158us/sample - loss: 0.0131 - val_loss: 0.0139\n",
      "Epoch 73/100\n",
      "95/95 [==============================] - 0s 179us/sample - loss: 0.0128 - val_loss: 0.0136\n",
      "Epoch 74/100\n",
      "95/95 [==============================] - 0s 179us/sample - loss: 0.0136 - val_loss: 0.0136\n",
      "Epoch 75/100\n",
      "95/95 [==============================] - 0s 158us/sample - loss: 0.0135 - val_loss: 0.0138\n",
      "Epoch 76/100\n",
      "95/95 [==============================] - 0s 168us/sample - loss: 0.0127 - val_loss: 0.0142\n",
      "Epoch 77/100\n",
      "95/95 [==============================] - 0s 158us/sample - loss: 0.0129 - val_loss: 0.0137\n",
      "Epoch 78/100\n",
      "95/95 [==============================] - 0s 179us/sample - loss: 0.0126 - val_loss: 0.0134\n",
      "Epoch 79/100\n"
     ]
    },
    {
     "name": "stdout",
     "output_type": "stream",
     "text": [
      "95/95 [==============================] - 0s 168us/sample - loss: 0.0125 - val_loss: 0.0139\n",
      "Epoch 80/100\n",
      "95/95 [==============================] - 0s 158us/sample - loss: 0.0127 - val_loss: 0.0135\n",
      "Epoch 81/100\n",
      "95/95 [==============================] - 0s 168us/sample - loss: 0.0131 - val_loss: 0.0134\n",
      "Epoch 82/100\n",
      "95/95 [==============================] - 0s 179us/sample - loss: 0.0126 - val_loss: 0.0136\n",
      "Epoch 83/100\n",
      "95/95 [==============================] - 0s 179us/sample - loss: 0.0130 - val_loss: 0.0135\n",
      "Epoch 84/100\n",
      "95/95 [==============================] - 0s 164us/sample - loss: 0.0123 - val_loss: 0.0135\n",
      "Epoch 85/100\n",
      "95/95 [==============================] - 0s 158us/sample - loss: 0.0132 - val_loss: 0.0136\n",
      "Epoch 86/100\n",
      "95/95 [==============================] - 0s 168us/sample - loss: 0.0125 - val_loss: 0.0137\n",
      "Epoch 87/100\n",
      "95/95 [==============================] - 0s 168us/sample - loss: 0.0125 - val_loss: 0.0142\n",
      "Epoch 88/100\n",
      "95/95 [==============================] - 0s 168us/sample - loss: 0.0134 - val_loss: 0.0134\n",
      "Epoch 89/100\n",
      "95/95 [==============================] - 0s 168us/sample - loss: 0.0144 - val_loss: 0.0135\n",
      "Epoch 90/100\n",
      "95/95 [==============================] - 0s 168us/sample - loss: 0.0152 - val_loss: 0.0141\n",
      "Epoch 91/100\n",
      "95/95 [==============================] - 0s 168us/sample - loss: 0.0148 - val_loss: 0.0159\n",
      "Epoch 92/100\n",
      "95/95 [==============================] - 0s 168us/sample - loss: 0.0128 - val_loss: 0.0153\n",
      "Epoch 93/100\n",
      "95/95 [==============================] - 0s 168us/sample - loss: 0.0139 - val_loss: 0.0139\n",
      "Epoch 94/100\n",
      "95/95 [==============================] - 0s 158us/sample - loss: 0.0135 - val_loss: 0.0134\n",
      "Epoch 95/100\n",
      "95/95 [==============================] - 0s 168us/sample - loss: 0.0118 - val_loss: 0.0137\n",
      "Epoch 96/100\n",
      "95/95 [==============================] - 0s 179us/sample - loss: 0.0132 - val_loss: 0.0134\n",
      "Epoch 97/100\n",
      "95/95 [==============================] - 0s 168us/sample - loss: 0.0123 - val_loss: 0.0132\n",
      "Epoch 98/100\n",
      "95/95 [==============================] - 0s 168us/sample - loss: 0.0120 - val_loss: 0.0133\n",
      "Epoch 99/100\n",
      "95/95 [==============================] - 0s 168us/sample - loss: 0.0122 - val_loss: 0.0134\n",
      "Epoch 100/100\n",
      "95/95 [==============================] - 0s 168us/sample - loss: 0.0123 - val_loss: 0.0135\n"
     ]
    }
   ],
   "source": [
    "# Train the mdoel\n",
    "result = model.fit(x=X_train, y=y_train, # train on the first half of the dataset (don't use train_test_split)\n",
    "                   epochs=100,\n",
    "                   validation_data=(X_test, y_test)) # test on the second half of the dataset "
   ]
  },
  {
   "cell_type": "code",
   "execution_count": 10,
   "metadata": {},
   "outputs": [
    {
     "name": "stdout",
     "output_type": "stream",
     "text": [
      "Train mse: 0.011989573908871726\n",
      "Test mse: 0.013505924140152179\n"
     ]
    }
   ],
   "source": [
    "# Print the results\n",
    "print(\"Train mse:\", model.evaluate(x=X_train, y=y_train, verbose=0));\n",
    "print(\"Test mse:\", model.evaluate(x=X_test, y=y_test, verbose=0));"
   ]
  },
  {
   "cell_type": "code",
   "execution_count": 11,
   "metadata": {},
   "outputs": [
    {
     "data": {
      "image/png": "[encoded data removed]",
      "text/plain": [
       "<Figure size 432x288 with 1 Axes>"
      ]
     },
     "metadata": {
      "needs_background": "light"
     },
     "output_type": "display_data"
    }
   ],
   "source": [
    "# Plot the cost function at each itteration\n",
    "# Note: model.fit() returns an object that contains the history of the training process\n",
    "plt.plot(result.history['loss'], label='train_mse');\n",
    "plt.plot(result.history['val_loss'], label='val_mse');\n",
    "plt.legend();"
   ]
  },
  {
   "cell_type": "markdown",
   "metadata": {},
   "source": [
    "### Wrong way to make forecasts\n",
    "The wrong way is to use only actual values to make predictions. This is incorrect because if we wanted to forecast 10-steps ahead in the real world, we wouldn't have all the data leadning up to the 10th day, like we do in this training situation."
   ]
  },
  {
   "cell_type": "code",
   "execution_count": 12,
   "metadata": {},
   "outputs": [],
   "source": [
    "# create lists\n",
    "validation_target = y_test\n",
    "validation_predictions = []\n",
    "\n",
    "# start index at 0\n",
    "i = 0\n",
    "\n",
    "# make predictions\n",
    "while len(validation_predictions) < len(validation_target):\n",
    "    # Every prediction is made using data that we have (test data). This is the wrong way to make predictions\n",
    "    # For example, the firecast for day 20 uses actual data from days 10-19. We wouldn't have this data in a real-world setting\n",
    "    prediction = model.predict(X_test[i].reshape(1, -1))[0,0] # need to reshape for to get it into the right format\n",
    "    i += 1\n",
    "    \n",
    "    # update the predictions list\n",
    "    validation_predictions.append(prediction)"
   ]
  },
  {
   "cell_type": "code",
   "execution_count": 13,
   "metadata": {},
   "outputs": [
    {
     "data": {
      "image/png": "[encoded data removed]",
      "text/plain": [
       "<Figure size 432x288 with 1 Axes>"
      ]
     },
     "metadata": {
      "needs_background": "light"
     },
     "output_type": "display_data"
    }
   ],
   "source": [
    "# plot predicted vs actual test data\n",
    "plt.plot(validation_target, label='forecast target')\n",
    "plt.plot(validation_predictions, label='forecast prediction')\n",
    "plt.legend();"
   ]
  },
  {
   "cell_type": "markdown",
   "metadata": {},
   "source": [
    "This looks very good, but is measlieading because it uses known data that we wouldn't have a real-world situation. i.e. In the real world, if we want to predict 20 steps ahead, we wouldn't have data from days 1-19. But the method of forecasting above uses actual data from days 10-19 to make predictions for day 20. \n",
    "\n",
    "Also, this doesn't make much sense since it's saying that the prediction for 100-days away is just as accurate as the prediction for tomorrow."
   ]
  },
  {
   "cell_type": "markdown",
   "metadata": {},
   "source": [
    "### Right way to make forecasts\n",
    "The right way is to use predicted data (instead of actual data) for multi-step forecasts."
   ]
  },
  {
   "cell_type": "code",
   "execution_count": 14,
   "metadata": {},
   "outputs": [],
   "source": [
    "# create the lists\n",
    "validation_target = y_test\n",
    "data_for_next_prediction = X_test[0]\n",
    "validation_predictions = []\n",
    "\n",
    "# start index at 0\n",
    "i = 0\n",
    "\n",
    "# make predictions\n",
    "while len(validation_predictions) < len(validation_target):\n",
    "    # Make prediction using available data (including predicted data)\n",
    "    prediction = model.predict(data_for_next_prediction.reshape(1,-1))[0,0] # need to reshape for to get it into the right format\n",
    "    \n",
    "    # Add prediction to data for next prediction\n",
    "    data_for_next_prediction = np.append(data_for_next_prediction, prediction)\n",
    "    \n",
    "    # Take the last 10 data points (discard the first one)\n",
    "    data_for_next_prediction = data_for_next_prediction[-T:]\n",
    "    \n",
    "    # Add prediction to set of predictions\n",
    "    validation_predictions.append(prediction)"
   ]
  },
  {
   "cell_type": "code",
   "execution_count": 15,
   "metadata": {},
   "outputs": [
    {
     "data": {
      "image/png": "[encoded data removed]",
      "text/plain": [
       "<Figure size 432x288 with 1 Axes>"
      ]
     },
     "metadata": {
      "needs_background": "light"
     },
     "output_type": "display_data"
    }
   ],
   "source": [
    "# plot predicted vs actual test data\n",
    "plt.plot(validation_target, label='forecast target')\n",
    "plt.plot(validation_predictions, label='forecast prediction')\n",
    "plt.legend();"
   ]
  },
  {
   "cell_type": "markdown",
   "metadata": {},
   "source": [
    "This is less accurate, but makes more since since it shows that the prediction for 100-days away is less accurate than the prediction for the next 20 days.\n",
    "\n",
    "It also shows that the model was able to learn the underlying shape of the model used to create the data."
   ]
  },
  {
   "cell_type": "code",
   "execution_count": null,
   "metadata": {},
   "outputs": [],
   "source": []
  },
  {
   "cell_type": "code",
   "execution_count": null,
   "metadata": {},
   "outputs": [],
   "source": []
  },
  {
   "cell_type": "code",
   "execution_count": null,
   "metadata": {},
   "outputs": [],
   "source": []
  },
  {
   "cell_type": "code",
   "execution_count": null,
   "metadata": {},
   "outputs": [],
   "source": []
  },
  {
   "cell_type": "code",
   "execution_count": null,
   "metadata": {},
   "outputs": [],
   "source": []
  }
 ],
 "metadata": {
  "kernelspec": {
   "display_name": "Python 3",
   "language": "python",
   "name": "python3"
  },
  "language_info": {
   "codemirror_mode": {
    "name": "ipython",
    "version": 3
   },
   "file_extension": ".py",
   "mimetype": "text/x-python",
   "name": "python",
   "nbconvert_exporter": "python",
   "pygments_lexer": "ipython3",
   "version": "3.7.4"
  }
 },
 "nbformat": 4,
 "nbformat_minor": 2
}
